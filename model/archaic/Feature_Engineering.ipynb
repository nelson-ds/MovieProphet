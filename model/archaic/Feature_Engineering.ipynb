{
 "cells": [
  {
   "cell_type": "code",
   "execution_count": 1,
   "metadata": {
    "collapsed": false
   },
   "outputs": [],
   "source": [
    "# Load libraries and instatiate DB connection\n",
    "\n",
    "%matplotlib inline\n",
    "import pandas as pd\n",
    "import pymysql\n",
    "import numpy as np\n",
    "import time\n",
    "import matplotlib.pyplot as plt\n",
    "import sklearn\n",
    "import sys\n",
    "import pickle\n",
    "\n",
    "from sklearn.cluster import KMeans\n",
    "from sklearn.preprocessing import LabelEncoder\n",
    "from scipy.spatial import distance\n",
    "\n",
    "pd.set_option('display.max_rows', 500)\n",
    "pd.set_option('display.max_colwidth', 100)\n",
    "pd.set_option('display.max_columns', 500)\n",
    "pd.set_option('display.width', 1000)\n",
    "pd.options.display.max_seq_items = 2000"
   ]
  },
  {
   "cell_type": "markdown",
   "metadata": {},
   "source": [
    "##### Check Versions"
   ]
  },
  {
   "cell_type": "code",
   "execution_count": 2,
   "metadata": {
    "collapsed": false
   },
   "outputs": [
    {
     "name": "stdout",
     "output_type": "stream",
     "text": [
      "3.6.0 |Anaconda custom (64-bit)| (default, Dec 23 2016, 12:22:00) \n",
      "[GCC 4.4.7 20120313 (Red Hat 4.4.7-1)]\n",
      "0.18.1\n",
      "1.12.1\n"
     ]
    }
   ],
   "source": [
    "print(sys.version)\n",
    "print(sklearn.__version__)\n",
    "print(np.version.version)"
   ]
  },
  {
   "cell_type": "markdown",
   "metadata": {},
   "source": [
    "##### Reading data from db"
   ]
  },
  {
   "cell_type": "code",
   "execution_count": 3,
   "metadata": {
    "collapsed": false
   },
   "outputs": [],
   "source": [
    "# Connect to the database\n",
    "with open('../mysql_cred') as f:\n",
    "    credentials = [x.strip().split(':') for x in f.readlines()]\n",
    "connection = pymysql.connect(host=credentials[0][0], user=credentials[0][1], password=credentials[0][2], db='movies')\n",
    "\n",
    "# Pull table from database\n",
    "cur = connection.cursor()\n",
    "\n",
    "\n",
    "cur.execute(\"select * FROM bom\")\n",
    "bom_sql = []\n",
    "for row in cur: bom_sql.append(list(row))\n",
    "\n",
    "cur.execute(\"select movie_id,genre FROM omdb_movie_genre a join omdb_genres b on a.genre_id=b.genre_id\")\n",
    "omdb_genre_learning_data = []\n",
    "for row in cur: omdb_genre_learning_data.append(list(row))\n",
    "\n",
    "cur.execute(\"select a.key_bom,a.key_omdb,b.movie_id FROM movies_final a join omdb b on a.key_omdb=b.key_omdb\")\n",
    "omdb_bom_combine = []\n",
    "for row in cur: omdb_bom_combine.append(list(row))\n",
    "\n",
    "cur.close()\n",
    "connection.close()"
   ]
  },
  {
   "cell_type": "code",
   "execution_count": 4,
   "metadata": {
    "collapsed": false
   },
   "outputs": [
    {
     "name": "stdout",
     "output_type": "stream",
     "text": [
      "Total movies from Box Office Mojo: 16826\n"
     ]
    },
    {
     "data": {
      "text/html": [
       "<div>\n",
       "<style>\n",
       "    .dataframe thead tr:only-child th {\n",
       "        text-align: right;\n",
       "    }\n",
       "\n",
       "    .dataframe thead th {\n",
       "        text-align: left;\n",
       "    }\n",
       "\n",
       "    .dataframe tbody tr th {\n",
       "        vertical-align: top;\n",
       "    }\n",
       "</style>\n",
       "<table border=\"1\" class=\"dataframe\">\n",
       "  <thead>\n",
       "    <tr style=\"text-align: right;\">\n",
       "      <th></th>\n",
       "      <th>bom_title</th>\n",
       "      <th>bom_link</th>\n",
       "      <th>key_bom</th>\n",
       "      <th>bom_date</th>\n",
       "      <th>bom_year</th>\n",
       "      <th>bom_name</th>\n",
       "      <th>bom_budget</th>\n",
       "      <th>bom_domestic_gross</th>\n",
       "      <th>bom_lifetime_gross</th>\n",
       "      <th>bom_release_date</th>\n",
       "      <th>bom_runtime</th>\n",
       "      <th>bom_distributor</th>\n",
       "      <th>bom_genre</th>\n",
       "      <th>bom_rating</th>\n",
       "      <th>bom_awards</th>\n",
       "      <th>bom_actor</th>\n",
       "      <th>bom_assoc_producer</th>\n",
       "      <th>bom_cinematographer</th>\n",
       "      <th>bom_composer</th>\n",
       "      <th>bom_director</th>\n",
       "      <th>bom_exec_producer</th>\n",
       "      <th>bom_line_producer</th>\n",
       "      <th>bom_players</th>\n",
       "      <th>bom_producer</th>\n",
       "      <th>bom_writer</th>\n",
       "      <th>bom_close_date</th>\n",
       "      <th>bom_domestic_summary</th>\n",
       "      <th>bom_in_release</th>\n",
       "      <th>bom_limited_opening_weekend</th>\n",
       "      <th>bom_opening_weekend</th>\n",
       "      <th>bom_wide_opening_weekend</th>\n",
       "      <th>bom_widest_release</th>\n",
       "      <th>bom_domestic_revenue</th>\n",
       "      <th>bom_foreign_revenue</th>\n",
       "      <th>bom_worldwide_revenue</th>\n",
       "      <th>bom_total_lifetime_gross</th>\n",
       "    </tr>\n",
       "  </thead>\n",
       "  <tbody>\n",
       "    <tr>\n",
       "      <th>0</th>\n",
       "      <td>#horror</td>\n",
       "      <td>http://www.boxofficemojo.com/movies/?id=horrorifc.htm</td>\n",
       "      <td>b0</td>\n",
       "      <td>20-Nov-15</td>\n",
       "      <td>2015\\r</td>\n",
       "      <td>#Horror</td>\n",
       "      <td>N/A</td>\n",
       "      <td></td>\n",
       "      <td></td>\n",
       "      <td>20-Nov-15</td>\n",
       "      <td>1 hrs. 30 min.</td>\n",
       "      <td>IFC</td>\n",
       "      <td>Horror</td>\n",
       "      <td>Unknown</td>\n",
       "      <td>No Academy Awards Information\\r</td>\n",
       "      <td>\"['Balthazar Getty', 'Timothy Hutton', 'Natasha Lyonne', 'Taryn Manning', 'Chloe Sevigny']\"</td>\n",
       "      <td></td>\n",
       "      <td></td>\n",
       "      <td></td>\n",
       "      <td></td>\n",
       "      <td></td>\n",
       "      <td></td>\n",
       "      <td></td>\n",
       "      <td></td>\n",
       "      <td>\\r</td>\n",
       "      <td></td>\n",
       "      <td>No Domestic Summary Information</td>\n",
       "      <td></td>\n",
       "      <td></td>\n",
       "      <td></td>\n",
       "      <td></td>\n",
       "      <td>\\r</td>\n",
       "      <td></td>\n",
       "      <td></td>\n",
       "      <td></td>\n",
       "      <td>No Total Lifetime Gross Information\\r</td>\n",
       "    </tr>\n",
       "  </tbody>\n",
       "</table>\n",
       "</div>"
      ],
      "text/plain": [
       "  bom_title                                               bom_link key_bom   bom_date bom_year bom_name bom_budget bom_domestic_gross bom_lifetime_gross bom_release_date     bom_runtime bom_distributor bom_genre bom_rating                       bom_awards                                                                                    bom_actor bom_assoc_producer bom_cinematographer bom_composer bom_director bom_exec_producer bom_line_producer bom_players bom_producer bom_writer bom_close_date             bom_domestic_summary bom_in_release bom_limited_opening_weekend bom_opening_weekend bom_wide_opening_weekend bom_widest_release bom_domestic_revenue bom_foreign_revenue bom_worldwide_revenue               bom_total_lifetime_gross\n",
       "0   #horror  http://www.boxofficemojo.com/movies/?id=horrorifc.htm      b0  20-Nov-15   2015\\r  #Horror        N/A                                              20-Nov-15  1 hrs. 30 min.             IFC    Horror    Unknown  No Academy Awards Information\\r  \"['Balthazar Getty', 'Timothy Hutton', 'Natasha Lyonne', 'Taryn Manning', 'Chloe Sevigny']\"                                                                                                                                       \\r                 No Domestic Summary Information                                                                                                         \\r                                                                 No Total Lifetime Gross Information\\r"
      ]
     },
     "execution_count": 4,
     "metadata": {},
     "output_type": "execute_result"
    }
   ],
   "source": [
    "# Store bom table information in DataFrame\n",
    "\n",
    "bom_columns =         ['bom_title', 'bom_link', 'key_bom', 'bom_date', 'bom_year', 'bom_name', 'bom_budget',\n",
    "                       'bom_domestic_gross', 'bom_lifetime_gross', 'bom_release_date', 'bom_runtime', 'bom_distributor',\n",
    "                       'bom_genre', 'bom_rating', 'bom_awards', 'bom_actor', 'bom_assoc_producer', 'bom_cinematographer',\n",
    "                       'bom_composer', 'bom_director', 'bom_exec_producer', 'bom_line_producer', 'bom_players', 'bom_producer',\n",
    "                       'bom_writer', 'bom_close_date', 'bom_domestic_summary', 'bom_in_release', 'bom_limited_opening_weekend',\n",
    "                       'bom_opening_weekend', 'bom_wide_opening_weekend', 'bom_widest_release', 'bom_domestic_revenue',\n",
    "                       'bom_foreign_revenue', 'bom_worldwide_revenue', 'bom_total_lifetime_gross']\n",
    "\n",
    "bom = pd.DataFrame(bom_sql, columns=bom_columns)\n",
    "#bom.to_csv('bom.csv')\n",
    "print('Total movies from Box Office Mojo:', len(bom))\n",
    "bom.head(1)"
   ]
  },
  {
   "cell_type": "markdown",
   "metadata": {},
   "source": [
    "###### Filtering for movies with budgter and gross"
   ]
  },
  {
   "cell_type": "code",
   "execution_count": 5,
   "metadata": {
    "collapsed": false
   },
   "outputs": [
    {
     "name": "stdout",
     "output_type": "stream",
     "text": [
      "no:of movies in bom where budget and bom_worldwide_revenue is not null:\n",
      "(2530, 36)\n",
      "Bom movies with budget/gross (worldwide) info:  (2530, 4)\n"
     ]
    }
   ],
   "source": [
    "print(\"no:of movies in bom where budget and bom_worldwide_revenue is not null:\")\n",
    "g = bom.bom_worldwide_revenue\n",
    "print(bom[(bom.bom_budget!=\"\") & (bom.bom_budget!=\"N/A\") & (g!=\"\")].shape)\n",
    "\n",
    "bom_f = bom[(bom.bom_budget!=\"\") & (bom.bom_budget!=\"N/A\") & (g!=\"\")]\n",
    "bom_f= bom_f[[\"key_bom\",\"bom_title\",\"bom_budget\",\"bom_worldwide_revenue\"]]\n",
    "print(\"Bom movies with budget/gross (worldwide) info: \", bom_f.shape)"
   ]
  },
  {
   "cell_type": "markdown",
   "metadata": {},
   "source": [
    "###### Cleaning budget, gross column"
   ]
  },
  {
   "cell_type": "code",
   "execution_count": 6,
   "metadata": {
    "collapsed": false
   },
   "outputs": [],
   "source": [
    "bom_f.reset_index(inplace=True,drop=True)\n",
    "movie_df = bom_f\n",
    "# Cleaning bom budget and revenue\n",
    "movie_df.loc[movie_df.bom_budget == \"\",'bom_budget']= movie_df.loc[movie_df.bom_budget==\"\",'bom_budget'].apply(lambda x: float(x.replace('', '0.0')))\n",
    "movie_df.loc[movie_df.bom_worldwide_revenue == \"\",'bom_worldwide_revenue'] = movie_df.loc[movie_df.bom_worldwide_revenue==\"\",'bom_worldwide_revenue'].apply(lambda x: float(x.replace('', '0.0')))\n",
    "\n",
    "import warnings\n",
    "warnings.filterwarnings('ignore')\n",
    "\n",
    "movie_df['bom_budget'] = movie_df['bom_budget'].str.replace('$','')\n",
    "movie_df['bom_budget'] = movie_df['bom_budget'].str.replace('\"','')\n",
    "movie_df['bom_budget'] = movie_df['bom_budget'].str.replace(',','')\n",
    "\n",
    "for r in range(0,movie_df.shape[0]):\n",
    "    s = str(movie_df.loc[r,'bom_budget'])\n",
    "    if(\"million\" in s):\n",
    "        movie_df.loc[r,'bom_budget'] = movie_df.loc[r,'bom_budget'].replace(\"million\",\"\")\n",
    "        movie_df.loc[r,'bom_budget'] = float(movie_df.loc[r,'bom_budget'])*1000000\n",
    "    else:\n",
    "        movie_df.loc[r,'bom_budget'] = float(movie_df.loc[r,'bom_budget'])\n",
    "movie_df['bom_worldwide_revenue'] = movie_df['bom_worldwide_revenue'].str.replace('$','')\n",
    "movie_df['bom_worldwide_revenue'] = movie_df['bom_worldwide_revenue'].str.replace('\"','')\n",
    "movie_df['bom_worldwide_revenue'] = movie_df['bom_worldwide_revenue'].str.replace(',','')\n",
    "movie_df['bom_worldwide_revenue'] = movie_df['bom_worldwide_revenue'].str.replace('n/a','')\n",
    "\n",
    "movie_df.loc[movie_df.bom_worldwide_revenue == \"\",'bom_worldwide_revenue'] = movie_df.loc[movie_df.bom_worldwide_revenue==\"\",'bom_worldwide_revenue'].apply(lambda x: float(x.replace('', '0.0')))\n",
    "\n",
    "\n",
    "for r in range(0,movie_df.shape[0]):\n",
    "    #print(movie_df.loc[r,'bom_worldwide_revenue'])\n",
    "    movie_df.loc[r,'bom_worldwide_revenue'] = float(movie_df.loc[r,'bom_worldwide_revenue'])"
   ]
  },
  {
   "cell_type": "code",
   "execution_count": 7,
   "metadata": {
    "collapsed": false
   },
   "outputs": [
    {
     "data": {
      "text/html": [
       "<div>\n",
       "<style>\n",
       "    .dataframe thead tr:only-child th {\n",
       "        text-align: right;\n",
       "    }\n",
       "\n",
       "    .dataframe thead th {\n",
       "        text-align: left;\n",
       "    }\n",
       "\n",
       "    .dataframe tbody tr th {\n",
       "        vertical-align: top;\n",
       "    }\n",
       "</style>\n",
       "<table border=\"1\" class=\"dataframe\">\n",
       "  <thead>\n",
       "    <tr style=\"text-align: right;\">\n",
       "      <th></th>\n",
       "      <th>key_bom</th>\n",
       "      <th>bom_title</th>\n",
       "      <th>bom_budget</th>\n",
       "      <th>bom_worldwide_revenue</th>\n",
       "    </tr>\n",
       "  </thead>\n",
       "  <tbody>\n",
       "    <tr>\n",
       "      <th>0</th>\n",
       "      <td>b10</td>\n",
       "      <td>(500) days of summer</td>\n",
       "      <td>7.5e+06</td>\n",
       "      <td>6.07227e+07</td>\n",
       "    </tr>\n",
       "    <tr>\n",
       "      <th>1</th>\n",
       "      <td>b24</td>\n",
       "      <td>10 things i hate about you</td>\n",
       "      <td>3e+07</td>\n",
       "      <td>5.34782e+07</td>\n",
       "    </tr>\n",
       "  </tbody>\n",
       "</table>\n",
       "</div>"
      ],
      "text/plain": [
       "  key_bom                   bom_title bom_budget bom_worldwide_revenue\n",
       "0     b10        (500) days of summer    7.5e+06           6.07227e+07\n",
       "1     b24  10 things i hate about you      3e+07           5.34782e+07"
      ]
     },
     "execution_count": 7,
     "metadata": {},
     "output_type": "execute_result"
    }
   ],
   "source": [
    "movie_df.head(2)"
   ]
  },
  {
   "cell_type": "code",
   "execution_count": 8,
   "metadata": {
    "collapsed": false
   },
   "outputs": [
    {
     "name": "stdout",
     "output_type": "stream",
     "text": [
      "(2530, 4)\n",
      "(2527, 4)\n"
     ]
    }
   ],
   "source": [
    "print(movie_df.shape)\n",
    "movie_df = movie_df[(movie_df['bom_budget']!=0.0)&(movie_df['bom_worldwide_revenue']!=0.0)]\n",
    "movie_df.reset_index(inplace=True,drop=True)\n",
    "print(movie_df.shape)"
   ]
  },
  {
   "cell_type": "markdown",
   "metadata": {},
   "source": [
    "###### Filtering budget, gross > 10,000"
   ]
  },
  {
   "cell_type": "code",
   "execution_count": 9,
   "metadata": {
    "collapsed": false
   },
   "outputs": [
    {
     "name": "stdout",
     "output_type": "stream",
     "text": [
      "(2520, 4)\n"
     ]
    }
   ],
   "source": [
    "movie_df = movie_df[(movie_df['bom_budget']>10000) & (movie_df['bom_worldwide_revenue']>10000)]\n",
    "movie_df.reset_index(inplace=True,drop=True)\n",
    "print(movie_df.shape)"
   ]
  },
  {
   "cell_type": "code",
   "execution_count": 10,
   "metadata": {
    "collapsed": false
   },
   "outputs": [
    {
     "data": {
      "text/html": [
       "<div>\n",
       "<style>\n",
       "    .dataframe thead tr:only-child th {\n",
       "        text-align: right;\n",
       "    }\n",
       "\n",
       "    .dataframe thead th {\n",
       "        text-align: left;\n",
       "    }\n",
       "\n",
       "    .dataframe tbody tr th {\n",
       "        vertical-align: top;\n",
       "    }\n",
       "</style>\n",
       "<table border=\"1\" class=\"dataframe\">\n",
       "  <thead>\n",
       "    <tr style=\"text-align: right;\">\n",
       "      <th></th>\n",
       "      <th>key_bom</th>\n",
       "      <th>bom_title</th>\n",
       "      <th>bom_budget</th>\n",
       "      <th>bom_worldwide_revenue</th>\n",
       "      <th>revenue</th>\n",
       "    </tr>\n",
       "  </thead>\n",
       "  <tbody>\n",
       "    <tr>\n",
       "      <th>0</th>\n",
       "      <td>b10</td>\n",
       "      <td>(500) days of summer</td>\n",
       "      <td>7.5e+06</td>\n",
       "      <td>6.07227e+07</td>\n",
       "      <td>7.09636</td>\n",
       "    </tr>\n",
       "    <tr>\n",
       "      <th>1</th>\n",
       "      <td>b24</td>\n",
       "      <td>10 things i hate about you</td>\n",
       "      <td>3e+07</td>\n",
       "      <td>5.34782e+07</td>\n",
       "      <td>0.782606</td>\n",
       "    </tr>\n",
       "  </tbody>\n",
       "</table>\n",
       "</div>"
      ],
      "text/plain": [
       "  key_bom                   bom_title bom_budget bom_worldwide_revenue   revenue\n",
       "0     b10        (500) days of summer    7.5e+06           6.07227e+07   7.09636\n",
       "1     b24  10 things i hate about you      3e+07           5.34782e+07  0.782606"
      ]
     },
     "execution_count": 10,
     "metadata": {},
     "output_type": "execute_result"
    }
   ],
   "source": [
    "movie_df['revenue'] = (movie_df['bom_worldwide_revenue'] - movie_df['bom_budget']) / movie_df['bom_budget']\n",
    "movie_df.head(2)"
   ]
  },
  {
   "cell_type": "code",
   "execution_count": 11,
   "metadata": {
    "collapsed": false
   },
   "outputs": [
    {
     "data": {
      "text/plain": [
       "(1100, 5)"
      ]
     },
     "execution_count": 11,
     "metadata": {},
     "output_type": "execute_result"
    }
   ],
   "source": [
    "movie_df[movie_df['revenue']<1].shape"
   ]
  },
  {
   "cell_type": "code",
   "execution_count": 12,
   "metadata": {
    "collapsed": true
   },
   "outputs": [],
   "source": [
    "movie_df.to_csv(\"data/temp-data/bom_1.csv\",index=None)"
   ]
  },
  {
   "cell_type": "code",
   "execution_count": 13,
   "metadata": {
    "collapsed": false
   },
   "outputs": [
    {
     "data": {
      "text/plain": [
       "(147, 5)"
      ]
     },
     "execution_count": 13,
     "metadata": {},
     "output_type": "execute_result"
    }
   ],
   "source": [
    "movie_df[movie_df['revenue']>10].shape"
   ]
  },
  {
   "cell_type": "markdown",
   "metadata": {},
   "source": [
    "##### Filtering revenue < 10"
   ]
  },
  {
   "cell_type": "code",
   "execution_count": 14,
   "metadata": {
    "collapsed": false
   },
   "outputs": [
    {
     "data": {
      "text/plain": [
       "(2373, 5)"
      ]
     },
     "execution_count": 14,
     "metadata": {},
     "output_type": "execute_result"
    }
   ],
   "source": [
    "movie_df = movie_df[movie_df['revenue']<10]\n",
    "movie_df.reset_index(inplace=True,drop=True)\n",
    "movie_df.shape"
   ]
  },
  {
   "cell_type": "markdown",
   "metadata": {},
   "source": [
    "###### Features related to release date"
   ]
  },
  {
   "cell_type": "code",
   "execution_count": 15,
   "metadata": {
    "collapsed": false
   },
   "outputs": [
    {
     "data": {
      "text/plain": [
       "(2373, 6)"
      ]
     },
     "execution_count": 15,
     "metadata": {},
     "output_type": "execute_result"
    }
   ],
   "source": [
    "movie_df = movie_df.merge(bom[['bom_release_date',\"key_bom\"]],on=\"key_bom\",how=\"left\",)\n",
    "movie_df.shape"
   ]
  },
  {
   "cell_type": "code",
   "execution_count": 16,
   "metadata": {
    "collapsed": false
   },
   "outputs": [
    {
     "data": {
      "text/html": [
       "<div>\n",
       "<style>\n",
       "    .dataframe thead tr:only-child th {\n",
       "        text-align: right;\n",
       "    }\n",
       "\n",
       "    .dataframe thead th {\n",
       "        text-align: left;\n",
       "    }\n",
       "\n",
       "    .dataframe tbody tr th {\n",
       "        vertical-align: top;\n",
       "    }\n",
       "</style>\n",
       "<table border=\"1\" class=\"dataframe\">\n",
       "  <thead>\n",
       "    <tr style=\"text-align: right;\">\n",
       "      <th></th>\n",
       "      <th>key_bom</th>\n",
       "      <th>bom_title</th>\n",
       "      <th>bom_budget</th>\n",
       "      <th>bom_worldwide_revenue</th>\n",
       "      <th>revenue</th>\n",
       "      <th>bom_release_date</th>\n",
       "    </tr>\n",
       "  </thead>\n",
       "  <tbody>\n",
       "    <tr>\n",
       "      <th>0</th>\n",
       "      <td>b10</td>\n",
       "      <td>(500) days of summer</td>\n",
       "      <td>7.5e+06</td>\n",
       "      <td>6.07227e+07</td>\n",
       "      <td>7.09636</td>\n",
       "      <td>17-Jul-09</td>\n",
       "    </tr>\n",
       "    <tr>\n",
       "      <th>1</th>\n",
       "      <td>b24</td>\n",
       "      <td>10 things i hate about you</td>\n",
       "      <td>3e+07</td>\n",
       "      <td>5.34782e+07</td>\n",
       "      <td>0.782606</td>\n",
       "      <td>31-Mar-99</td>\n",
       "    </tr>\n",
       "    <tr>\n",
       "      <th>2</th>\n",
       "      <td>b27</td>\n",
       "      <td>\"10,000 b.c.\"</td>\n",
       "      <td>1.05e+08</td>\n",
       "      <td>2.69784e+08</td>\n",
       "      <td>1.56937</td>\n",
       "      <td>7-Mar-08</td>\n",
       "    </tr>\n",
       "    <tr>\n",
       "      <th>3</th>\n",
       "      <td>b38</td>\n",
       "      <td>102 dalmatians</td>\n",
       "      <td>8.5e+07</td>\n",
       "      <td>1.83612e+08</td>\n",
       "      <td>1.16014</td>\n",
       "      <td>22-Nov-00</td>\n",
       "    </tr>\n",
       "    <tr>\n",
       "      <th>4</th>\n",
       "      <td>b39</td>\n",
       "      <td>10th &amp;amp; wolf</td>\n",
       "      <td>8e+06</td>\n",
       "      <td>143451</td>\n",
       "      <td>-0.982069</td>\n",
       "      <td>18-Aug-06</td>\n",
       "    </tr>\n",
       "  </tbody>\n",
       "</table>\n",
       "</div>"
      ],
      "text/plain": [
       "  key_bom                   bom_title bom_budget bom_worldwide_revenue   revenue bom_release_date\n",
       "0     b10        (500) days of summer    7.5e+06           6.07227e+07   7.09636        17-Jul-09\n",
       "1     b24  10 things i hate about you      3e+07           5.34782e+07  0.782606        31-Mar-99\n",
       "2     b27               \"10,000 b.c.\"   1.05e+08           2.69784e+08   1.56937         7-Mar-08\n",
       "3     b38              102 dalmatians    8.5e+07           1.83612e+08   1.16014        22-Nov-00\n",
       "4     b39             10th &amp; wolf      8e+06                143451 -0.982069        18-Aug-06"
      ]
     },
     "execution_count": 16,
     "metadata": {},
     "output_type": "execute_result"
    }
   ],
   "source": [
    "movie_df.head()"
   ]
  },
  {
   "cell_type": "code",
   "execution_count": 17,
   "metadata": {
    "collapsed": false
   },
   "outputs": [
    {
     "data": {
      "text/html": [
       "<div>\n",
       "<style>\n",
       "    .dataframe thead tr:only-child th {\n",
       "        text-align: right;\n",
       "    }\n",
       "\n",
       "    .dataframe thead th {\n",
       "        text-align: left;\n",
       "    }\n",
       "\n",
       "    .dataframe tbody tr th {\n",
       "        vertical-align: top;\n",
       "    }\n",
       "</style>\n",
       "<table border=\"1\" class=\"dataframe\">\n",
       "  <thead>\n",
       "    <tr style=\"text-align: right;\">\n",
       "      <th></th>\n",
       "      <th>key_bom</th>\n",
       "      <th>bom_title</th>\n",
       "      <th>bom_budget</th>\n",
       "      <th>bom_worldwide_revenue</th>\n",
       "      <th>revenue</th>\n",
       "      <th>bom_release_date</th>\n",
       "    </tr>\n",
       "  </thead>\n",
       "  <tbody>\n",
       "    <tr>\n",
       "      <th>0</th>\n",
       "      <td>b10</td>\n",
       "      <td>(500) days of summer</td>\n",
       "      <td>7.5e+06</td>\n",
       "      <td>6.07227e+07</td>\n",
       "      <td>7.09636</td>\n",
       "      <td>2009-07-17 00:00:00</td>\n",
       "    </tr>\n",
       "    <tr>\n",
       "      <th>1</th>\n",
       "      <td>b24</td>\n",
       "      <td>10 things i hate about you</td>\n",
       "      <td>3e+07</td>\n",
       "      <td>5.34782e+07</td>\n",
       "      <td>0.782606</td>\n",
       "      <td>1999-03-31 00:00:00</td>\n",
       "    </tr>\n",
       "    <tr>\n",
       "      <th>2</th>\n",
       "      <td>b27</td>\n",
       "      <td>\"10,000 b.c.\"</td>\n",
       "      <td>1.05e+08</td>\n",
       "      <td>2.69784e+08</td>\n",
       "      <td>1.56937</td>\n",
       "      <td>2008-03-07 00:00:00</td>\n",
       "    </tr>\n",
       "    <tr>\n",
       "      <th>3</th>\n",
       "      <td>b38</td>\n",
       "      <td>102 dalmatians</td>\n",
       "      <td>8.5e+07</td>\n",
       "      <td>1.83612e+08</td>\n",
       "      <td>1.16014</td>\n",
       "      <td>2000-11-22 00:00:00</td>\n",
       "    </tr>\n",
       "    <tr>\n",
       "      <th>4</th>\n",
       "      <td>b39</td>\n",
       "      <td>10th &amp;amp; wolf</td>\n",
       "      <td>8e+06</td>\n",
       "      <td>143451</td>\n",
       "      <td>-0.982069</td>\n",
       "      <td>2006-08-18 00:00:00</td>\n",
       "    </tr>\n",
       "  </tbody>\n",
       "</table>\n",
       "</div>"
      ],
      "text/plain": [
       "  key_bom                   bom_title bom_budget bom_worldwide_revenue   revenue     bom_release_date\n",
       "0     b10        (500) days of summer    7.5e+06           6.07227e+07   7.09636  2009-07-17 00:00:00\n",
       "1     b24  10 things i hate about you      3e+07           5.34782e+07  0.782606  1999-03-31 00:00:00\n",
       "2     b27               \"10,000 b.c.\"   1.05e+08           2.69784e+08   1.56937  2008-03-07 00:00:00\n",
       "3     b38              102 dalmatians    8.5e+07           1.83612e+08   1.16014  2000-11-22 00:00:00\n",
       "4     b39             10th &amp; wolf      8e+06                143451 -0.982069  2006-08-18 00:00:00"
      ]
     },
     "execution_count": 17,
     "metadata": {},
     "output_type": "execute_result"
    }
   ],
   "source": [
    "import datetime as dt\n",
    "\n",
    "for r in range(0,movie_df.shape[0]):\n",
    "    if(len(movie_df.loc[r,'bom_release_date'])>=8):   \n",
    "        movie_df.loc[r,'bom_release_date'] = pd.to_datetime(movie_df.loc[r,'bom_release_date'], format='%d-%b-%y')\n",
    "    else:\n",
    "        movie_df.loc[r,'bom_release_date'] = \"\"\n",
    "\n",
    "movie_df.head()"
   ]
  },
  {
   "cell_type": "code",
   "execution_count": 18,
   "metadata": {
    "collapsed": false
   },
   "outputs": [
    {
     "name": "stdout",
     "output_type": "stream",
     "text": [
      "(2373, 11)\n"
     ]
    },
    {
     "data": {
      "text/html": [
       "<div>\n",
       "<style>\n",
       "    .dataframe thead tr:only-child th {\n",
       "        text-align: right;\n",
       "    }\n",
       "\n",
       "    .dataframe thead th {\n",
       "        text-align: left;\n",
       "    }\n",
       "\n",
       "    .dataframe tbody tr th {\n",
       "        vertical-align: top;\n",
       "    }\n",
       "</style>\n",
       "<table border=\"1\" class=\"dataframe\">\n",
       "  <thead>\n",
       "    <tr style=\"text-align: right;\">\n",
       "      <th></th>\n",
       "      <th>key_bom</th>\n",
       "      <th>bom_title</th>\n",
       "      <th>bom_budget</th>\n",
       "      <th>bom_worldwide_revenue</th>\n",
       "      <th>revenue</th>\n",
       "      <th>bom_release_date</th>\n",
       "      <th>release_month</th>\n",
       "      <th>release_quarter</th>\n",
       "      <th>release_day_of_the_year</th>\n",
       "      <th>release_week_of_the_year</th>\n",
       "      <th>release_year</th>\n",
       "    </tr>\n",
       "  </thead>\n",
       "  <tbody>\n",
       "    <tr>\n",
       "      <th>0</th>\n",
       "      <td>b10</td>\n",
       "      <td>(500) days of summer</td>\n",
       "      <td>7.5e+06</td>\n",
       "      <td>6.07227e+07</td>\n",
       "      <td>7.09636</td>\n",
       "      <td>2009-07-17 00:00:00</td>\n",
       "      <td>07</td>\n",
       "      <td>3</td>\n",
       "      <td>198</td>\n",
       "      <td>28</td>\n",
       "      <td>2009</td>\n",
       "    </tr>\n",
       "    <tr>\n",
       "      <th>1</th>\n",
       "      <td>b24</td>\n",
       "      <td>10 things i hate about you</td>\n",
       "      <td>3e+07</td>\n",
       "      <td>5.34782e+07</td>\n",
       "      <td>0.782606</td>\n",
       "      <td>1999-03-31 00:00:00</td>\n",
       "      <td>03</td>\n",
       "      <td>1</td>\n",
       "      <td>90</td>\n",
       "      <td>13</td>\n",
       "      <td>1999</td>\n",
       "    </tr>\n",
       "    <tr>\n",
       "      <th>2</th>\n",
       "      <td>b27</td>\n",
       "      <td>\"10,000 b.c.\"</td>\n",
       "      <td>1.05e+08</td>\n",
       "      <td>2.69784e+08</td>\n",
       "      <td>1.56937</td>\n",
       "      <td>2008-03-07 00:00:00</td>\n",
       "      <td>03</td>\n",
       "      <td>1</td>\n",
       "      <td>67</td>\n",
       "      <td>9</td>\n",
       "      <td>2008</td>\n",
       "    </tr>\n",
       "    <tr>\n",
       "      <th>3</th>\n",
       "      <td>b38</td>\n",
       "      <td>102 dalmatians</td>\n",
       "      <td>8.5e+07</td>\n",
       "      <td>1.83612e+08</td>\n",
       "      <td>1.16014</td>\n",
       "      <td>2000-11-22 00:00:00</td>\n",
       "      <td>11</td>\n",
       "      <td>4</td>\n",
       "      <td>327</td>\n",
       "      <td>47</td>\n",
       "      <td>2000</td>\n",
       "    </tr>\n",
       "    <tr>\n",
       "      <th>4</th>\n",
       "      <td>b39</td>\n",
       "      <td>10th &amp;amp; wolf</td>\n",
       "      <td>8e+06</td>\n",
       "      <td>143451</td>\n",
       "      <td>-0.982069</td>\n",
       "      <td>2006-08-18 00:00:00</td>\n",
       "      <td>08</td>\n",
       "      <td>3</td>\n",
       "      <td>230</td>\n",
       "      <td>33</td>\n",
       "      <td>2006</td>\n",
       "    </tr>\n",
       "  </tbody>\n",
       "</table>\n",
       "</div>"
      ],
      "text/plain": [
       "  key_bom                   bom_title bom_budget bom_worldwide_revenue   revenue     bom_release_date release_month release_quarter release_day_of_the_year release_week_of_the_year release_year\n",
       "0     b10        (500) days of summer    7.5e+06           6.07227e+07   7.09636  2009-07-17 00:00:00            07               3                     198                       28         2009\n",
       "1     b24  10 things i hate about you      3e+07           5.34782e+07  0.782606  1999-03-31 00:00:00            03               1                      90                       13         1999\n",
       "2     b27               \"10,000 b.c.\"   1.05e+08           2.69784e+08   1.56937  2008-03-07 00:00:00            03               1                      67                        9         2008\n",
       "3     b38              102 dalmatians    8.5e+07           1.83612e+08   1.16014  2000-11-22 00:00:00            11               4                     327                       47         2000\n",
       "4     b39             10th &amp; wolf      8e+06                143451 -0.982069  2006-08-18 00:00:00            08               3                     230                       33         2006"
      ]
     },
     "execution_count": 18,
     "metadata": {},
     "output_type": "execute_result"
    }
   ],
   "source": [
    "movie_df_3 = movie_df\n",
    "# Get the month as a feature\n",
    "from datetime import datetime \n",
    "for r in range(0,movie_df_3.shape[0]):\n",
    "    if(movie_df_3.loc[r,'bom_release_date']!=\"\"):\n",
    "        movie_df_3.loc[r,'release_month'] = datetime.strftime(movie_df_3.loc[r,'bom_release_date'],\"%m\")\n",
    "    else:\n",
    "        movie_df_3.loc[r,'release_month'] = \"\"\n",
    "        \n",
    "# Get the quarter\n",
    "for r in range(0,movie_df_3.shape[0]):\n",
    "    if(movie_df_3.loc[r,'bom_release_date']!=\"\"):\n",
    "        movie_df_3.loc[r,'release_quarter'] = movie_df_3.loc[r,'bom_release_date'].quarter\n",
    "    else:\n",
    "        movie_df_3.loc[r,'release_quarter'] = \"\"\n",
    "        \n",
    "# Get the day of the year\n",
    "for r in range(0,movie_df_3.shape[0]):\n",
    "    if(movie_df_3.loc[r,'bom_release_date']!=\"\"):\n",
    "        movie_df_3.loc[r,'release_day_of_the_year'] = datetime.strftime(movie_df_3.loc[r,'bom_release_date'],\"%j\").lstrip(\"0\")\n",
    "    else:\n",
    "        movie_df_3.loc[r,'release_day_of_the_year'] = \"\"\n",
    "\n",
    "# get the week of the year\n",
    "for r in range(0,movie_df_3.shape[0]):\n",
    "    if(movie_df_3.loc[r,'bom_release_date']!=\"\"):\n",
    "        movie_df_3.loc[r,'release_week_of_the_year'] = datetime.strftime(movie_df_3.loc[r,'bom_release_date'],\"%U\").lstrip(\"0\")\n",
    "    else:\n",
    "        movie_df_3.loc[r,'release_week_of_the_year'] = \"\"\n",
    "\n",
    "# get the year\n",
    "for r in range(0,movie_df_3.shape[0]):\n",
    "    if(movie_df_3.loc[r,'bom_release_date']!=\"\"):\n",
    "        movie_df_3.loc[r,'release_year'] = datetime.strftime(movie_df_3.loc[r,'bom_release_date'],\"%Y\")\n",
    "    else:\n",
    "        movie_df_3.loc[r,'release_year'] = \"\"\n",
    "\n",
    "\n",
    "movie_df = movie_df_3\n",
    "print(movie_df.shape)\n",
    "movie_df.head()"
   ]
  },
  {
   "cell_type": "markdown",
   "metadata": {},
   "source": [
    "##### Runtime"
   ]
  },
  {
   "cell_type": "code",
   "execution_count": 19,
   "metadata": {
    "collapsed": false
   },
   "outputs": [
    {
     "data": {
      "text/plain": [
       "(2373, 12)"
      ]
     },
     "execution_count": 19,
     "metadata": {},
     "output_type": "execute_result"
    }
   ],
   "source": [
    "movie_df = movie_df.merge(bom[['bom_runtime',\"key_bom\"]],on=\"key_bom\",how=\"left\")\n",
    "movie_df.shape"
   ]
  },
  {
   "cell_type": "code",
   "execution_count": 20,
   "metadata": {
    "collapsed": true
   },
   "outputs": [],
   "source": [
    "movie_df['bom_runtime'] = [str(v).lstrip() for v in movie_df['bom_runtime']]\n",
    "movie_df['bom_runtime']= [str(v).rstrip() for v in movie_df['bom_runtime']]\n",
    "movie_df['bom_runtime']= [v.replace('N/A',\"\") for v in movie_df['bom_runtime']]\n",
    "\n",
    "for r in range(0,movie_df.shape[0]):\n",
    "    if(movie_df.loc[r,'bom_runtime']!=\"\"):\n",
    "        a = movie_df.loc[r,'bom_runtime'].replace(\" \",\"\")\n",
    "        a = a.split('hrs.')\n",
    "        if (len(a)>1):\n",
    "            m = a[1].split('min.')[0]\n",
    "        else:\n",
    "            m = 0\n",
    "        movie_df.loc[r,'runtime'] = float(a[0])*60+float(m)\n",
    "    else:\n",
    "        movie_df.loc[r,'runtime'] = \"\""
   ]
  },
  {
   "cell_type": "code",
   "execution_count": 21,
   "metadata": {
    "collapsed": false
   },
   "outputs": [
    {
     "data": {
      "text/html": [
       "<div>\n",
       "<style>\n",
       "    .dataframe thead tr:only-child th {\n",
       "        text-align: right;\n",
       "    }\n",
       "\n",
       "    .dataframe thead th {\n",
       "        text-align: left;\n",
       "    }\n",
       "\n",
       "    .dataframe tbody tr th {\n",
       "        vertical-align: top;\n",
       "    }\n",
       "</style>\n",
       "<table border=\"1\" class=\"dataframe\">\n",
       "  <thead>\n",
       "    <tr style=\"text-align: right;\">\n",
       "      <th></th>\n",
       "      <th>key_bom</th>\n",
       "      <th>bom_title</th>\n",
       "      <th>bom_budget</th>\n",
       "      <th>bom_worldwide_revenue</th>\n",
       "      <th>revenue</th>\n",
       "      <th>bom_release_date</th>\n",
       "      <th>release_month</th>\n",
       "      <th>release_quarter</th>\n",
       "      <th>release_day_of_the_year</th>\n",
       "      <th>release_week_of_the_year</th>\n",
       "      <th>release_year</th>\n",
       "      <th>bom_runtime</th>\n",
       "      <th>runtime</th>\n",
       "    </tr>\n",
       "  </thead>\n",
       "  <tbody>\n",
       "    <tr>\n",
       "      <th>0</th>\n",
       "      <td>b10</td>\n",
       "      <td>(500) days of summer</td>\n",
       "      <td>7.5e+06</td>\n",
       "      <td>6.07227e+07</td>\n",
       "      <td>7.09636</td>\n",
       "      <td>2009-07-17 00:00:00</td>\n",
       "      <td>07</td>\n",
       "      <td>3</td>\n",
       "      <td>198</td>\n",
       "      <td>28</td>\n",
       "      <td>2009</td>\n",
       "      <td>1 hrs. 35 min.</td>\n",
       "      <td>95</td>\n",
       "    </tr>\n",
       "    <tr>\n",
       "      <th>1</th>\n",
       "      <td>b24</td>\n",
       "      <td>10 things i hate about you</td>\n",
       "      <td>3e+07</td>\n",
       "      <td>5.34782e+07</td>\n",
       "      <td>0.782606</td>\n",
       "      <td>1999-03-31 00:00:00</td>\n",
       "      <td>03</td>\n",
       "      <td>1</td>\n",
       "      <td>90</td>\n",
       "      <td>13</td>\n",
       "      <td>1999</td>\n",
       "      <td>1 hrs. 37 min.</td>\n",
       "      <td>97</td>\n",
       "    </tr>\n",
       "    <tr>\n",
       "      <th>2</th>\n",
       "      <td>b27</td>\n",
       "      <td>\"10,000 b.c.\"</td>\n",
       "      <td>1.05e+08</td>\n",
       "      <td>2.69784e+08</td>\n",
       "      <td>1.56937</td>\n",
       "      <td>2008-03-07 00:00:00</td>\n",
       "      <td>03</td>\n",
       "      <td>1</td>\n",
       "      <td>67</td>\n",
       "      <td>9</td>\n",
       "      <td>2008</td>\n",
       "      <td>1 hrs. 49 min.</td>\n",
       "      <td>109</td>\n",
       "    </tr>\n",
       "    <tr>\n",
       "      <th>3</th>\n",
       "      <td>b38</td>\n",
       "      <td>102 dalmatians</td>\n",
       "      <td>8.5e+07</td>\n",
       "      <td>1.83612e+08</td>\n",
       "      <td>1.16014</td>\n",
       "      <td>2000-11-22 00:00:00</td>\n",
       "      <td>11</td>\n",
       "      <td>4</td>\n",
       "      <td>327</td>\n",
       "      <td>47</td>\n",
       "      <td>2000</td>\n",
       "      <td>1 hrs. 44 min.</td>\n",
       "      <td>104</td>\n",
       "    </tr>\n",
       "    <tr>\n",
       "      <th>4</th>\n",
       "      <td>b39</td>\n",
       "      <td>10th &amp;amp; wolf</td>\n",
       "      <td>8e+06</td>\n",
       "      <td>143451</td>\n",
       "      <td>-0.982069</td>\n",
       "      <td>2006-08-18 00:00:00</td>\n",
       "      <td>08</td>\n",
       "      <td>3</td>\n",
       "      <td>230</td>\n",
       "      <td>33</td>\n",
       "      <td>2006</td>\n",
       "      <td>1 hrs. 50 min.</td>\n",
       "      <td>110</td>\n",
       "    </tr>\n",
       "  </tbody>\n",
       "</table>\n",
       "</div>"
      ],
      "text/plain": [
       "  key_bom                   bom_title bom_budget bom_worldwide_revenue   revenue     bom_release_date release_month release_quarter release_day_of_the_year release_week_of_the_year release_year     bom_runtime runtime\n",
       "0     b10        (500) days of summer    7.5e+06           6.07227e+07   7.09636  2009-07-17 00:00:00            07               3                     198                       28         2009  1 hrs. 35 min.      95\n",
       "1     b24  10 things i hate about you      3e+07           5.34782e+07  0.782606  1999-03-31 00:00:00            03               1                      90                       13         1999  1 hrs. 37 min.      97\n",
       "2     b27               \"10,000 b.c.\"   1.05e+08           2.69784e+08   1.56937  2008-03-07 00:00:00            03               1                      67                        9         2008  1 hrs. 49 min.     109\n",
       "3     b38              102 dalmatians    8.5e+07           1.83612e+08   1.16014  2000-11-22 00:00:00            11               4                     327                       47         2000  1 hrs. 44 min.     104\n",
       "4     b39             10th &amp; wolf      8e+06                143451 -0.982069  2006-08-18 00:00:00            08               3                     230                       33         2006  1 hrs. 50 min.     110"
      ]
     },
     "execution_count": 21,
     "metadata": {},
     "output_type": "execute_result"
    }
   ],
   "source": [
    "movie_df.head()"
   ]
  },
  {
   "cell_type": "code",
   "execution_count": 22,
   "metadata": {
    "collapsed": false
   },
   "outputs": [
    {
     "data": {
      "text/plain": [
       "(2373, 13)"
      ]
     },
     "execution_count": 22,
     "metadata": {},
     "output_type": "execute_result"
    }
   ],
   "source": [
    "movie_df.loc[movie_df.runtime == \"\",'runtime']= movie_df.loc[movie_df.runtime==\"\",'runtime'].apply(lambda x: float(x.replace('', '0.0')))\n",
    "movie_df['runtime'] = movie_df['runtime'].astype(float)\n",
    "movie_df.shape"
   ]
  },
  {
   "cell_type": "code",
   "execution_count": 23,
   "metadata": {
    "collapsed": true
   },
   "outputs": [],
   "source": [
    "movie_df.to_csv(\"data/temp-data/bom_2.csv\",index=None)"
   ]
  },
  {
   "cell_type": "markdown",
   "metadata": {},
   "source": [
    "###### Awards"
   ]
  },
  {
   "cell_type": "code",
   "execution_count": 24,
   "metadata": {
    "collapsed": false
   },
   "outputs": [
    {
     "name": "stdout",
     "output_type": "stream",
     "text": [
      "Shape of finalized table (2373, 15)\n"
     ]
    },
    {
     "data": {
      "text/html": [
       "<div>\n",
       "<style>\n",
       "    .dataframe thead tr:only-child th {\n",
       "        text-align: right;\n",
       "    }\n",
       "\n",
       "    .dataframe thead th {\n",
       "        text-align: left;\n",
       "    }\n",
       "\n",
       "    .dataframe tbody tr th {\n",
       "        vertical-align: top;\n",
       "    }\n",
       "</style>\n",
       "<table border=\"1\" class=\"dataframe\">\n",
       "  <thead>\n",
       "    <tr style=\"text-align: right;\">\n",
       "      <th></th>\n",
       "      <th>key_bom</th>\n",
       "      <th>bom_title</th>\n",
       "      <th>bom_budget</th>\n",
       "      <th>bom_worldwide_revenue</th>\n",
       "      <th>revenue</th>\n",
       "      <th>bom_release_date</th>\n",
       "      <th>release_month</th>\n",
       "      <th>release_quarter</th>\n",
       "      <th>release_day_of_the_year</th>\n",
       "      <th>release_week_of_the_year</th>\n",
       "      <th>release_year</th>\n",
       "      <th>bom_runtime</th>\n",
       "      <th>runtime</th>\n",
       "      <th>bom_awards</th>\n",
       "      <th>bom_awards_scr</th>\n",
       "    </tr>\n",
       "  </thead>\n",
       "  <tbody>\n",
       "    <tr>\n",
       "      <th>0</th>\n",
       "      <td>b10</td>\n",
       "      <td>(500) days of summer</td>\n",
       "      <td>7.5e+06</td>\n",
       "      <td>6.07227e+07</td>\n",
       "      <td>7.09636</td>\n",
       "      <td>2009-07-17 00:00:00</td>\n",
       "      <td>07</td>\n",
       "      <td>3</td>\n",
       "      <td>198</td>\n",
       "      <td>28</td>\n",
       "      <td>2009</td>\n",
       "      <td>1 hrs. 35 min.</td>\n",
       "      <td>95.0</td>\n",
       "      <td>NaN</td>\n",
       "      <td>0.0</td>\n",
       "    </tr>\n",
       "    <tr>\n",
       "      <th>1</th>\n",
       "      <td>b24</td>\n",
       "      <td>10 things i hate about you</td>\n",
       "      <td>3e+07</td>\n",
       "      <td>5.34782e+07</td>\n",
       "      <td>0.782606</td>\n",
       "      <td>1999-03-31 00:00:00</td>\n",
       "      <td>03</td>\n",
       "      <td>1</td>\n",
       "      <td>90</td>\n",
       "      <td>13</td>\n",
       "      <td>1999</td>\n",
       "      <td>1 hrs. 37 min.</td>\n",
       "      <td>97.0</td>\n",
       "      <td>NaN</td>\n",
       "      <td>0.0</td>\n",
       "    </tr>\n",
       "    <tr>\n",
       "      <th>2</th>\n",
       "      <td>b27</td>\n",
       "      <td>\"10,000 b.c.\"</td>\n",
       "      <td>1.05e+08</td>\n",
       "      <td>2.69784e+08</td>\n",
       "      <td>1.56937</td>\n",
       "      <td>2008-03-07 00:00:00</td>\n",
       "      <td>03</td>\n",
       "      <td>1</td>\n",
       "      <td>67</td>\n",
       "      <td>9</td>\n",
       "      <td>2008</td>\n",
       "      <td>1 hrs. 49 min.</td>\n",
       "      <td>109.0</td>\n",
       "      <td>NaN</td>\n",
       "      <td>0.0</td>\n",
       "    </tr>\n",
       "  </tbody>\n",
       "</table>\n",
       "</div>"
      ],
      "text/plain": [
       "  key_bom                   bom_title bom_budget bom_worldwide_revenue   revenue     bom_release_date release_month release_quarter release_day_of_the_year release_week_of_the_year release_year     bom_runtime  runtime bom_awards  bom_awards_scr\n",
       "0     b10        (500) days of summer    7.5e+06           6.07227e+07   7.09636  2009-07-17 00:00:00            07               3                     198                       28         2009  1 hrs. 35 min.     95.0        NaN             0.0\n",
       "1     b24  10 things i hate about you      3e+07           5.34782e+07  0.782606  1999-03-31 00:00:00            03               1                      90                       13         1999  1 hrs. 37 min.     97.0        NaN             0.0\n",
       "2     b27               \"10,000 b.c.\"   1.05e+08           2.69784e+08   1.56937  2008-03-07 00:00:00            03               1                      67                        9         2008  1 hrs. 49 min.    109.0        NaN             0.0"
      ]
     },
     "execution_count": 24,
     "metadata": {},
     "output_type": "execute_result"
    }
   ],
   "source": [
    "# Create a score for awards and add it to the table\n",
    "award_win_factor = 5\n",
    "bom_awa = bom[~bom['bom_awards'].str.contains('No Academy Awards Information')][['key_bom','bom_awards']].copy()\n",
    "bom_awa['bom_awards_num'] = bom_awa['bom_awards'].str.replace('\\r','')\n",
    "bom_awa['bom_awards_num'] = bom_awa['bom_awards_num'].str.replace('Nominated for ','')\n",
    "bom_awa['bom_awards_num'] = bom_awa['bom_awards_num'].str.replace(' Oscars','')\n",
    "bom_awa['bom_awards_num'] = bom_awa['bom_awards_num'].str.replace(' Oscar','')\n",
    "bom_awa['bom_awards_num'] = bom_awa['bom_awards_num'].str.replace(', Including','')\n",
    "bom_awa['bom_awards_num'] = bom_awa['bom_awards_num'].str.replace(' Win.','')\n",
    "bom_awa['bom_awards_num'] = bom_awa['bom_awards_num'].str.replace('.','')\n",
    "bom_awa['bom_awards_num'] = bom_awa['bom_awards_num'].str.replace('\"','')\n",
    "\n",
    "alpha_to_num = {'One':1, 'Two':2, 'Three':3, 'Four':4, 'Five':5, 'Six':6, 'Seven':7, 'Eight':8, 'Nine':9, \n",
    "                'Ten':10, 'Eleven':11, 'Twelve':12, 'Thirteen':13, 'Fourteen':14}\n",
    "bom_awa['bom_awards_num'] = bom_awa['bom_awards_num'].apply(lambda x: x.split(' '))\n",
    "bom_awa['bom_awards_num'] = bom_awa['bom_awards_num'].apply(lambda x: [alpha_to_num[val] for val in x ])\n",
    "bom_awa['bom_awards_scr'] = bom_awa['bom_awards_num'].apply(lambda x: x[0]+x[1]*award_win_factor if len(x)>1 else x[0] )\n",
    "\n",
    "movie_df = pd.merge(movie_df,bom_awa[['key_bom', 'bom_awards', 'bom_awards_scr']],on = \"key_bom\",how=\"left\")\n",
    "movie_df['bom_awards_scr'].fillna(0, inplace=True)\n",
    "\n",
    "print('Shape of finalized table', movie_df.shape)\n",
    "movie_df.head(3)"
   ]
  },
  {
   "cell_type": "code",
   "execution_count": 25,
   "metadata": {
    "collapsed": false
   },
   "outputs": [
    {
     "data": {
      "text/plain": [
       "(1927, 15)"
      ]
     },
     "execution_count": 25,
     "metadata": {},
     "output_type": "execute_result"
    }
   ],
   "source": [
    "movie_df[movie_df['bom_awards'].isnull()].shape"
   ]
  },
  {
   "cell_type": "code",
   "execution_count": 26,
   "metadata": {
    "collapsed": false
   },
   "outputs": [
    {
     "data": {
      "text/html": [
       "<div>\n",
       "<style>\n",
       "    .dataframe thead tr:only-child th {\n",
       "        text-align: right;\n",
       "    }\n",
       "\n",
       "    .dataframe thead th {\n",
       "        text-align: left;\n",
       "    }\n",
       "\n",
       "    .dataframe tbody tr th {\n",
       "        vertical-align: top;\n",
       "    }\n",
       "</style>\n",
       "<table border=\"1\" class=\"dataframe\">\n",
       "  <thead>\n",
       "    <tr style=\"text-align: right;\">\n",
       "      <th></th>\n",
       "      <th>key_bom</th>\n",
       "      <th>bom_title</th>\n",
       "      <th>bom_budget</th>\n",
       "      <th>bom_worldwide_revenue</th>\n",
       "      <th>revenue</th>\n",
       "      <th>bom_release_date</th>\n",
       "      <th>release_month</th>\n",
       "      <th>release_quarter</th>\n",
       "      <th>release_day_of_the_year</th>\n",
       "      <th>release_week_of_the_year</th>\n",
       "      <th>release_year</th>\n",
       "      <th>bom_runtime</th>\n",
       "      <th>runtime</th>\n",
       "      <th>bom_awards</th>\n",
       "      <th>bom_awards_scr</th>\n",
       "    </tr>\n",
       "  </thead>\n",
       "  <tbody>\n",
       "    <tr>\n",
       "      <th>3</th>\n",
       "      <td>b38</td>\n",
       "      <td>102 dalmatians</td>\n",
       "      <td>8.5e+07</td>\n",
       "      <td>1.83612e+08</td>\n",
       "      <td>1.16014</td>\n",
       "      <td>2000-11-22 00:00:00</td>\n",
       "      <td>11</td>\n",
       "      <td>4</td>\n",
       "      <td>327</td>\n",
       "      <td>47</td>\n",
       "      <td>2000</td>\n",
       "      <td>1 hrs. 44 min.</td>\n",
       "      <td>104.0</td>\n",
       "      <td>Nominated for One Oscar.\\r</td>\n",
       "      <td>1.0</td>\n",
       "    </tr>\n",
       "    <tr>\n",
       "      <th>5</th>\n",
       "      <td>b48</td>\n",
       "      <td>12 years a slave</td>\n",
       "      <td>2e+07</td>\n",
       "      <td>1.87733e+08</td>\n",
       "      <td>8.38666</td>\n",
       "      <td>2013-10-18 00:00:00</td>\n",
       "      <td>10</td>\n",
       "      <td>4</td>\n",
       "      <td>291</td>\n",
       "      <td>41</td>\n",
       "      <td>2013</td>\n",
       "      <td>2 hrs. 13 min.</td>\n",
       "      <td>133.0</td>\n",
       "      <td>\"Nominated for Nine Oscars, Including Three Wins.\"\\r</td>\n",
       "      <td>24.0</td>\n",
       "    </tr>\n",
       "    <tr>\n",
       "      <th>6</th>\n",
       "      <td>b50</td>\n",
       "      <td>127 hours</td>\n",
       "      <td>1.8e+07</td>\n",
       "      <td>6.07388e+07</td>\n",
       "      <td>2.37438</td>\n",
       "      <td>2010-11-05 00:00:00</td>\n",
       "      <td>11</td>\n",
       "      <td>4</td>\n",
       "      <td>309</td>\n",
       "      <td>44</td>\n",
       "      <td>2010</td>\n",
       "      <td>1 hrs. 33 min.</td>\n",
       "      <td>93.0</td>\n",
       "      <td>Nominated for Six Oscars.\\r</td>\n",
       "      <td>6.0</td>\n",
       "    </tr>\n",
       "    <tr>\n",
       "      <th>8</th>\n",
       "      <td>b55</td>\n",
       "      <td>13 hours: the secret soldiers of benghazi</td>\n",
       "      <td>5e+07</td>\n",
       "      <td>6.94114e+07</td>\n",
       "      <td>0.388227</td>\n",
       "      <td>2016-01-15 00:00:00</td>\n",
       "      <td>01</td>\n",
       "      <td>1</td>\n",
       "      <td>15</td>\n",
       "      <td>2</td>\n",
       "      <td>2016</td>\n",
       "      <td>2 hrs. 24 min.</td>\n",
       "      <td>144.0</td>\n",
       "      <td>Nominated for One Oscar.\\r</td>\n",
       "      <td>1.0</td>\n",
       "    </tr>\n",
       "    <tr>\n",
       "      <th>11</th>\n",
       "      <td>b80</td>\n",
       "      <td>1941</td>\n",
       "      <td>3.5e+07</td>\n",
       "      <td>9.24557e+07</td>\n",
       "      <td>1.64159</td>\n",
       "      <td>1979-12-14 00:00:00</td>\n",
       "      <td>12</td>\n",
       "      <td>4</td>\n",
       "      <td>348</td>\n",
       "      <td>49</td>\n",
       "      <td>1979</td>\n",
       "      <td>1 hrs. 58 min.</td>\n",
       "      <td>118.0</td>\n",
       "      <td>Nominated for Three Oscars.\\r</td>\n",
       "      <td>3.0</td>\n",
       "    </tr>\n",
       "  </tbody>\n",
       "</table>\n",
       "</div>"
      ],
      "text/plain": [
       "   key_bom                                  bom_title bom_budget bom_worldwide_revenue   revenue     bom_release_date release_month release_quarter release_day_of_the_year release_week_of_the_year release_year     bom_runtime  runtime                                            bom_awards  bom_awards_scr\n",
       "3      b38                             102 dalmatians    8.5e+07           1.83612e+08   1.16014  2000-11-22 00:00:00            11               4                     327                       47         2000  1 hrs. 44 min.    104.0                            Nominated for One Oscar.\\r             1.0\n",
       "5      b48                           12 years a slave      2e+07           1.87733e+08   8.38666  2013-10-18 00:00:00            10               4                     291                       41         2013  2 hrs. 13 min.    133.0  \"Nominated for Nine Oscars, Including Three Wins.\"\\r            24.0\n",
       "6      b50                                  127 hours    1.8e+07           6.07388e+07   2.37438  2010-11-05 00:00:00            11               4                     309                       44         2010  1 hrs. 33 min.     93.0                           Nominated for Six Oscars.\\r             6.0\n",
       "8      b55  13 hours: the secret soldiers of benghazi      5e+07           6.94114e+07  0.388227  2016-01-15 00:00:00            01               1                      15                        2         2016  2 hrs. 24 min.    144.0                            Nominated for One Oscar.\\r             1.0\n",
       "11     b80                                       1941    3.5e+07           9.24557e+07   1.64159  1979-12-14 00:00:00            12               4                     348                       49         1979  1 hrs. 58 min.    118.0                         Nominated for Three Oscars.\\r             3.0"
      ]
     },
     "execution_count": 26,
     "metadata": {},
     "output_type": "execute_result"
    }
   ],
   "source": [
    "movie_df[~movie_df['bom_awards'].isnull()].head()"
   ]
  },
  {
   "cell_type": "markdown",
   "metadata": {},
   "source": [
    "###### Holiday season"
   ]
  },
  {
   "cell_type": "code",
   "execution_count": 27,
   "metadata": {
    "collapsed": false
   },
   "outputs": [
    {
     "name": "stdout",
     "output_type": "stream",
     "text": [
      "1094\n",
      "16410\n"
     ]
    }
   ],
   "source": [
    "from pandas.tseries.holiday import USFederalHolidayCalendar\n",
    "import datetime\n",
    "from datetime import timedelta\n",
    "\n",
    "cal = USFederalHolidayCalendar()\n",
    "holidays = cal.holidays(start='1900-01-01', end='2017-12-31').to_pydatetime()\n",
    "\n",
    "holidays_new = list(holidays)\n",
    "print(len(holidays_new))\n",
    "\n",
    "for h in holidays:\n",
    "    holidays_new.append(h + datetime.timedelta(days=7))\n",
    "    holidays_new.append(h + datetime.timedelta(days=6))\n",
    "    holidays_new.append(h + datetime.timedelta(days=5))\n",
    "    holidays_new.append(h + datetime.timedelta(days=4))\n",
    "    holidays_new.append(h + datetime.timedelta(days=3))\n",
    "    holidays_new.append(h + datetime.timedelta(days=2))\n",
    "    holidays_new.append(h + datetime.timedelta(days=1))\n",
    "    \n",
    "    holidays_new.append(h - datetime.timedelta(days=7))\n",
    "    holidays_new.append(h - datetime.timedelta(days=6))\n",
    "    holidays_new.append(h - datetime.timedelta(days=5))\n",
    "    holidays_new.append(h - datetime.timedelta(days=4))\n",
    "    holidays_new.append(h - datetime.timedelta(days=3))\n",
    "    holidays_new.append(h - datetime.timedelta(days=2))\n",
    "    holidays_new.append(h - datetime.timedelta(days=1))\n",
    "    \n",
    "print(len(holidays_new))"
   ]
  },
  {
   "cell_type": "code",
   "execution_count": 28,
   "metadata": {
    "collapsed": false
   },
   "outputs": [
    {
     "name": "stdout",
     "output_type": "stream",
     "text": [
      "(2373, 16)\n"
     ]
    },
    {
     "data": {
      "text/html": [
       "<div>\n",
       "<style>\n",
       "    .dataframe thead tr:only-child th {\n",
       "        text-align: right;\n",
       "    }\n",
       "\n",
       "    .dataframe thead th {\n",
       "        text-align: left;\n",
       "    }\n",
       "\n",
       "    .dataframe tbody tr th {\n",
       "        vertical-align: top;\n",
       "    }\n",
       "</style>\n",
       "<table border=\"1\" class=\"dataframe\">\n",
       "  <thead>\n",
       "    <tr style=\"text-align: right;\">\n",
       "      <th></th>\n",
       "      <th>key_bom</th>\n",
       "      <th>bom_title</th>\n",
       "      <th>bom_budget</th>\n",
       "      <th>bom_worldwide_revenue</th>\n",
       "      <th>revenue</th>\n",
       "      <th>bom_release_date</th>\n",
       "      <th>release_month</th>\n",
       "      <th>release_quarter</th>\n",
       "      <th>release_day_of_the_year</th>\n",
       "      <th>release_week_of_the_year</th>\n",
       "      <th>release_year</th>\n",
       "      <th>bom_runtime</th>\n",
       "      <th>runtime</th>\n",
       "      <th>bom_awards</th>\n",
       "      <th>bom_awards_scr</th>\n",
       "      <th>holiday_season</th>\n",
       "    </tr>\n",
       "  </thead>\n",
       "  <tbody>\n",
       "    <tr>\n",
       "      <th>0</th>\n",
       "      <td>b10</td>\n",
       "      <td>(500) days of summer</td>\n",
       "      <td>7500000.0</td>\n",
       "      <td>60722734.0</td>\n",
       "      <td>7.096365</td>\n",
       "      <td>2009-07-17 00:00:00</td>\n",
       "      <td>07</td>\n",
       "      <td>3</td>\n",
       "      <td>198</td>\n",
       "      <td>28</td>\n",
       "      <td>2009</td>\n",
       "      <td>1 hrs. 35 min.</td>\n",
       "      <td>95.0</td>\n",
       "      <td></td>\n",
       "      <td>0.0</td>\n",
       "      <td>0</td>\n",
       "    </tr>\n",
       "    <tr>\n",
       "      <th>1</th>\n",
       "      <td>b24</td>\n",
       "      <td>10 things i hate about you</td>\n",
       "      <td>30000000.0</td>\n",
       "      <td>53478166.0</td>\n",
       "      <td>0.782606</td>\n",
       "      <td>1999-03-31 00:00:00</td>\n",
       "      <td>03</td>\n",
       "      <td>1</td>\n",
       "      <td>90</td>\n",
       "      <td>13</td>\n",
       "      <td>1999</td>\n",
       "      <td>1 hrs. 37 min.</td>\n",
       "      <td>97.0</td>\n",
       "      <td></td>\n",
       "      <td>0.0</td>\n",
       "      <td>0</td>\n",
       "    </tr>\n",
       "    <tr>\n",
       "      <th>2</th>\n",
       "      <td>b27</td>\n",
       "      <td>\"10,000 b.c.\"</td>\n",
       "      <td>105000000.0</td>\n",
       "      <td>269784201.0</td>\n",
       "      <td>1.569373</td>\n",
       "      <td>2008-03-07 00:00:00</td>\n",
       "      <td>03</td>\n",
       "      <td>1</td>\n",
       "      <td>67</td>\n",
       "      <td>9</td>\n",
       "      <td>2008</td>\n",
       "      <td>1 hrs. 49 min.</td>\n",
       "      <td>109.0</td>\n",
       "      <td></td>\n",
       "      <td>0.0</td>\n",
       "      <td>0</td>\n",
       "    </tr>\n",
       "  </tbody>\n",
       "</table>\n",
       "</div>"
      ],
      "text/plain": [
       "  key_bom                   bom_title   bom_budget  bom_worldwide_revenue   revenue     bom_release_date release_month release_quarter release_day_of_the_year release_week_of_the_year release_year     bom_runtime  runtime bom_awards  bom_awards_scr holiday_season\n",
       "0     b10        (500) days of summer    7500000.0             60722734.0  7.096365  2009-07-17 00:00:00            07               3                     198                       28         2009  1 hrs. 35 min.     95.0                        0.0              0\n",
       "1     b24  10 things i hate about you   30000000.0             53478166.0  0.782606  1999-03-31 00:00:00            03               1                      90                       13         1999  1 hrs. 37 min.     97.0                        0.0              0\n",
       "2     b27               \"10,000 b.c.\"  105000000.0            269784201.0  1.569373  2008-03-07 00:00:00            03               1                      67                        9         2008  1 hrs. 49 min.    109.0                        0.0              0"
      ]
     },
     "execution_count": 28,
     "metadata": {},
     "output_type": "execute_result"
    }
   ],
   "source": [
    "movie_df = movie_df.fillna(\"\")\n",
    "\n",
    "for r in range(0,movie_df.shape[0]):\n",
    "    if(movie_df.loc[r,'bom_release_date']!=\"\"):\n",
    "        if movie_df.loc[r,'bom_release_date'] in holidays_new:\n",
    "            movie_df.loc[r,'holiday_season'] = 1\n",
    "        else:\n",
    "            movie_df.loc[r,'holiday_season'] = 0\n",
    "    else:\n",
    "        movie_df.loc[r,'holiday_season'] = \"\"\n",
    "        \n",
    "print(movie_df.shape)\n",
    "movie_df.head(3)"
   ]
  },
  {
   "cell_type": "markdown",
   "metadata": {},
   "source": [
    "##### MPAA rating\n",
    "\n",
    "Categories 1 to 7 as listed below\n",
    "\n",
    "* G\n",
    "* PG/M/GP\n",
    "* PG-13\n",
    "* R\n",
    "* NC-17/X\n",
    "* Unrated/Not Rated/ Not Yet rated\n",
    "* Unknown"
   ]
  },
  {
   "cell_type": "code",
   "execution_count": 29,
   "metadata": {
    "collapsed": false
   },
   "outputs": [
    {
     "name": "stdout",
     "output_type": "stream",
     "text": [
      "No: of unique rating from bom (12,)\n"
     ]
    },
    {
     "data": {
      "text/plain": [
       "['UNKNOWN',\n",
       " 'R',\n",
       " 'UNRATED',\n",
       " 'PG-13',\n",
       " 'PG',\n",
       " 'NOT YET RATED',\n",
       " 'G',\n",
       " 'NC-17',\n",
       " 'M',\n",
       " 'GP',\n",
       " 'M/PG',\n",
       " 'X']"
      ]
     },
     "execution_count": 29,
     "metadata": {},
     "output_type": "execute_result"
    }
   ],
   "source": [
    "bom['bom_rating'] = [v.upper() for k,v in bom['bom_rating'].iteritems()]\n",
    "print(\"No: of unique rating from bom\",bom['bom_rating'].unique().shape)\n",
    "bom['bom_rating'].unique().tolist()"
   ]
  },
  {
   "cell_type": "code",
   "execution_count": 30,
   "metadata": {
    "collapsed": false
   },
   "outputs": [
    {
     "name": "stdout",
     "output_type": "stream",
     "text": [
      "(2373, 16)\n",
      "(2373, 17)\n"
     ]
    }
   ],
   "source": [
    "# Merging the movies_df to bom omdb to fetch MPAA rating\n",
    "print(movie_df.shape)\n",
    "movie_df = movie_df.fillna(\"\")\n",
    "movie_df = pd.merge(movie_df,bom[[\"key_bom\",\"bom_rating\"]],on=\"key_bom\",how=\"left\")\n",
    "print(movie_df.shape)"
   ]
  },
  {
   "cell_type": "code",
   "execution_count": 31,
   "metadata": {
    "collapsed": false
   },
   "outputs": [
    {
     "name": "stdout",
     "output_type": "stream",
     "text": [
      "(2373, 18)\n"
     ]
    },
    {
     "data": {
      "text/html": [
       "<div>\n",
       "<style>\n",
       "    .dataframe thead tr:only-child th {\n",
       "        text-align: right;\n",
       "    }\n",
       "\n",
       "    .dataframe thead th {\n",
       "        text-align: left;\n",
       "    }\n",
       "\n",
       "    .dataframe tbody tr th {\n",
       "        vertical-align: top;\n",
       "    }\n",
       "</style>\n",
       "<table border=\"1\" class=\"dataframe\">\n",
       "  <thead>\n",
       "    <tr style=\"text-align: right;\">\n",
       "      <th></th>\n",
       "      <th>key_bom</th>\n",
       "      <th>bom_title</th>\n",
       "      <th>bom_budget</th>\n",
       "      <th>bom_worldwide_revenue</th>\n",
       "      <th>revenue</th>\n",
       "      <th>bom_release_date</th>\n",
       "      <th>release_month</th>\n",
       "      <th>release_quarter</th>\n",
       "      <th>release_day_of_the_year</th>\n",
       "      <th>release_week_of_the_year</th>\n",
       "      <th>release_year</th>\n",
       "      <th>bom_runtime</th>\n",
       "      <th>runtime</th>\n",
       "      <th>bom_awards</th>\n",
       "      <th>bom_awards_scr</th>\n",
       "      <th>holiday_season</th>\n",
       "      <th>bom_rating</th>\n",
       "      <th>mpaa_rating</th>\n",
       "    </tr>\n",
       "  </thead>\n",
       "  <tbody>\n",
       "    <tr>\n",
       "      <th>0</th>\n",
       "      <td>b10</td>\n",
       "      <td>(500) days of summer</td>\n",
       "      <td>7500000.0</td>\n",
       "      <td>60722734.0</td>\n",
       "      <td>7.096365</td>\n",
       "      <td>2009-07-17 00:00:00</td>\n",
       "      <td>07</td>\n",
       "      <td>3</td>\n",
       "      <td>198</td>\n",
       "      <td>28</td>\n",
       "      <td>2009</td>\n",
       "      <td>1 hrs. 35 min.</td>\n",
       "      <td>95.0</td>\n",
       "      <td></td>\n",
       "      <td>0.0</td>\n",
       "      <td>0</td>\n",
       "      <td>PG-13</td>\n",
       "      <td>3</td>\n",
       "    </tr>\n",
       "    <tr>\n",
       "      <th>1</th>\n",
       "      <td>b24</td>\n",
       "      <td>10 things i hate about you</td>\n",
       "      <td>30000000.0</td>\n",
       "      <td>53478166.0</td>\n",
       "      <td>0.782606</td>\n",
       "      <td>1999-03-31 00:00:00</td>\n",
       "      <td>03</td>\n",
       "      <td>1</td>\n",
       "      <td>90</td>\n",
       "      <td>13</td>\n",
       "      <td>1999</td>\n",
       "      <td>1 hrs. 37 min.</td>\n",
       "      <td>97.0</td>\n",
       "      <td></td>\n",
       "      <td>0.0</td>\n",
       "      <td>0</td>\n",
       "      <td>PG-13</td>\n",
       "      <td>3</td>\n",
       "    </tr>\n",
       "    <tr>\n",
       "      <th>2</th>\n",
       "      <td>b27</td>\n",
       "      <td>\"10,000 b.c.\"</td>\n",
       "      <td>105000000.0</td>\n",
       "      <td>269784201.0</td>\n",
       "      <td>1.569373</td>\n",
       "      <td>2008-03-07 00:00:00</td>\n",
       "      <td>03</td>\n",
       "      <td>1</td>\n",
       "      <td>67</td>\n",
       "      <td>9</td>\n",
       "      <td>2008</td>\n",
       "      <td>1 hrs. 49 min.</td>\n",
       "      <td>109.0</td>\n",
       "      <td></td>\n",
       "      <td>0.0</td>\n",
       "      <td>0</td>\n",
       "      <td>PG-13</td>\n",
       "      <td>3</td>\n",
       "    </tr>\n",
       "  </tbody>\n",
       "</table>\n",
       "</div>"
      ],
      "text/plain": [
       "  key_bom                   bom_title   bom_budget  bom_worldwide_revenue   revenue     bom_release_date release_month release_quarter release_day_of_the_year release_week_of_the_year release_year     bom_runtime  runtime bom_awards  bom_awards_scr holiday_season bom_rating mpaa_rating\n",
       "0     b10        (500) days of summer    7500000.0             60722734.0  7.096365  2009-07-17 00:00:00            07               3                     198                       28         2009  1 hrs. 35 min.     95.0                        0.0              0      PG-13           3\n",
       "1     b24  10 things i hate about you   30000000.0             53478166.0  0.782606  1999-03-31 00:00:00            03               1                      90                       13         1999  1 hrs. 37 min.     97.0                        0.0              0      PG-13           3\n",
       "2     b27               \"10,000 b.c.\"  105000000.0            269784201.0  1.569373  2008-03-07 00:00:00            03               1                      67                        9         2008  1 hrs. 49 min.    109.0                        0.0              0      PG-13           3"
      ]
     },
     "execution_count": 31,
     "metadata": {},
     "output_type": "execute_result"
    }
   ],
   "source": [
    "for r in range(0,movie_df.shape[0]):\n",
    "    if(movie_df.loc[r,'bom_rating']==\"G\"):\n",
    "        movie_df.loc[r,'mpaa_rating'] = 1\n",
    "    elif(movie_df.loc[r,'bom_rating']==\"PG\" or movie_df.loc[r,'bom_rating']==\"M\" or movie_df.loc[r,'bom_rating']==\"GP\"):\n",
    "        movie_df.loc[r,'mpaa_rating'] = 2\n",
    "    elif(movie_df.loc[r,'bom_rating']==\"PG-13\"):\n",
    "        movie_df.loc[r,'mpaa_rating'] = 3\n",
    "    elif(movie_df.loc[r,'bom_rating']==\"R\"):\n",
    "        movie_df.loc[r,'mpaa_rating'] = 4\n",
    "    elif(movie_df.loc[r,'bom_rating']==\"NC-17\" or movie_df.loc[r,'bom_rating']==\"X\"):\n",
    "        movie_df.loc[r,'bom_rating'] = 5\n",
    "    elif(movie_df.loc[r,'bom_rating']==\"UNRATED\" or movie_df.loc[r,'bom_rating']==\"NOT RATED\" or movie_df.loc[r,'bom_rating']==\"NOT YET RATED\"):\n",
    "        movie_df.loc[r,'mpaa_rating'] = 6\n",
    "    else:\n",
    "        movie_df.loc[r,'mpaa_rating'] = 7\n",
    "\n",
    "movie_df['mpaa_rating'] = movie_df['mpaa_rating'].astype(object)\n",
    "print(movie_df.shape)\n",
    "movie_df.head(3)"
   ]
  },
  {
   "cell_type": "markdown",
   "metadata": {},
   "source": [
    "##### Genre"
   ]
  },
  {
   "cell_type": "code",
   "execution_count": 32,
   "metadata": {
    "collapsed": true
   },
   "outputs": [],
   "source": [
    "def compute_bic(kmeans,X):\n",
    "    \"\"\"\n",
    "    Computes the BIC metric for a given clusters\n",
    "\n",
    "    Parameters:\n",
    "    -----------------------------------------\n",
    "    kmeans:  List of clustering object from scikit learn\n",
    "\n",
    "    X     :  multidimension np array of data points\n",
    "\n",
    "    Returns:\n",
    "    -----------------------------------------\n",
    "    BIC value\n",
    "    \"\"\"\n",
    "    # assign centers and labels\n",
    "    centers = [kmeans.cluster_centers_]\n",
    "    labels  = kmeans.labels_\n",
    "    #number of clusters\n",
    "    m = kmeans.n_clusters\n",
    "    # size of the clusters\n",
    "    n = np.bincount(labels)\n",
    "    #size of data set\n",
    "    N, d = X.shape\n",
    "\n",
    "    #compute variance for all clusters beforehand\n",
    "    cl_var = (1.0 / (N - m) / d) * sum([sum(distance.cdist(X[np.where(labels == i)], [centers[0][i]], \n",
    "             'euclidean')**2) for i in range(m)])\n",
    "\n",
    "    const_term = 0.5 * m * np.log(N) * (d+1)\n",
    "\n",
    "    BIC = np.sum([n[i] * np.log(n[i]) -\n",
    "               n[i] * np.log(N) -\n",
    "             ((n[i] * d) / 2) * np.log(2*np.pi*cl_var) -\n",
    "             ((n[i] - 1) * d/ 2) for i in range(m)]) - const_term\n",
    "\n",
    "    return(BIC)"
   ]
  },
  {
   "cell_type": "code",
   "execution_count": 33,
   "metadata": {
    "collapsed": false
   },
   "outputs": [],
   "source": [
    "# Data containing genre information\n",
    "omdb_genre_learning_df = pd.DataFrame(omdb_genre_learning_data, columns=[\"omdb_movie_id\", \"omdb_genres\"])\n",
    "# One hot encoding\n",
    "omdb_genre_learning_df['values'] = 1\n",
    "omdb_genre_learning_table = omdb_genre_learning_df.pivot(index='omdb_movie_id', columns='omdb_genres', values='values')\n",
    "omdb_genre_learning_table = omdb_genre_learning_table.fillna(0)"
   ]
  },
  {
   "cell_type": "code",
   "execution_count": 34,
   "metadata": {
    "collapsed": false
   },
   "outputs": [
    {
     "data": {
      "text/html": [
       "<div>\n",
       "<style>\n",
       "    .dataframe thead tr:only-child th {\n",
       "        text-align: right;\n",
       "    }\n",
       "\n",
       "    .dataframe thead th {\n",
       "        text-align: left;\n",
       "    }\n",
       "\n",
       "    .dataframe tbody tr th {\n",
       "        vertical-align: top;\n",
       "    }\n",
       "</style>\n",
       "<table border=\"1\" class=\"dataframe\">\n",
       "  <thead>\n",
       "    <tr style=\"text-align: right;\">\n",
       "      <th>omdb_genres</th>\n",
       "      <th>Action</th>\n",
       "      <th>Adult</th>\n",
       "      <th>Adventure</th>\n",
       "      <th>Animation</th>\n",
       "      <th>Biography</th>\n",
       "      <th>Comedy</th>\n",
       "      <th>Crime</th>\n",
       "      <th>Documentary</th>\n",
       "      <th>Drama</th>\n",
       "      <th>Family</th>\n",
       "      <th>Fantasy</th>\n",
       "      <th>Film-Noir</th>\n",
       "      <th>History</th>\n",
       "      <th>Horror</th>\n",
       "      <th>Music</th>\n",
       "      <th>Musical</th>\n",
       "      <th>Mystery</th>\n",
       "      <th>N/A</th>\n",
       "      <th>News</th>\n",
       "      <th>Romance</th>\n",
       "      <th>Sci-Fi</th>\n",
       "      <th>Short</th>\n",
       "      <th>Sport</th>\n",
       "      <th>Thriller</th>\n",
       "      <th>War</th>\n",
       "      <th>Western</th>\n",
       "    </tr>\n",
       "    <tr>\n",
       "      <th>omdb_movie_id</th>\n",
       "      <th></th>\n",
       "      <th></th>\n",
       "      <th></th>\n",
       "      <th></th>\n",
       "      <th></th>\n",
       "      <th></th>\n",
       "      <th></th>\n",
       "      <th></th>\n",
       "      <th></th>\n",
       "      <th></th>\n",
       "      <th></th>\n",
       "      <th></th>\n",
       "      <th></th>\n",
       "      <th></th>\n",
       "      <th></th>\n",
       "      <th></th>\n",
       "      <th></th>\n",
       "      <th></th>\n",
       "      <th></th>\n",
       "      <th></th>\n",
       "      <th></th>\n",
       "      <th></th>\n",
       "      <th></th>\n",
       "      <th></th>\n",
       "      <th></th>\n",
       "      <th></th>\n",
       "    </tr>\n",
       "  </thead>\n",
       "  <tbody>\n",
       "    <tr>\n",
       "      <th>1</th>\n",
       "      <td>0.0</td>\n",
       "      <td>0.0</td>\n",
       "      <td>0.0</td>\n",
       "      <td>0.0</td>\n",
       "      <td>0.0</td>\n",
       "      <td>1.0</td>\n",
       "      <td>0.0</td>\n",
       "      <td>0.0</td>\n",
       "      <td>0.0</td>\n",
       "      <td>0.0</td>\n",
       "      <td>0.0</td>\n",
       "      <td>0.0</td>\n",
       "      <td>0.0</td>\n",
       "      <td>0.0</td>\n",
       "      <td>0.0</td>\n",
       "      <td>1.0</td>\n",
       "      <td>0.0</td>\n",
       "      <td>0.0</td>\n",
       "      <td>0.0</td>\n",
       "      <td>1.0</td>\n",
       "      <td>0.0</td>\n",
       "      <td>0.0</td>\n",
       "      <td>0.0</td>\n",
       "      <td>0.0</td>\n",
       "      <td>0.0</td>\n",
       "      <td>0.0</td>\n",
       "    </tr>\n",
       "  </tbody>\n",
       "</table>\n",
       "</div>"
      ],
      "text/plain": [
       "omdb_genres    Action  Adult  Adventure  Animation  Biography  Comedy  Crime  Documentary  Drama  Family  Fantasy  Film-Noir  History  Horror  Music  Musical  Mystery  N/A  News  Romance  Sci-Fi  Short  Sport  Thriller  War  Western\n",
       "omdb_movie_id                                                                                                                                                                                                                           \n",
       "1                 0.0    0.0        0.0        0.0        0.0     1.0    0.0          0.0    0.0     0.0      0.0        0.0      0.0     0.0    0.0      1.0      0.0  0.0   0.0      1.0     0.0    0.0    0.0       0.0  0.0      0.0"
      ]
     },
     "execution_count": 34,
     "metadata": {},
     "output_type": "execute_result"
    }
   ],
   "source": [
    "omdb_genre_learning_table = omdb_genre_learning_table.loc[omdb_genre_learning_table['Reality-TV'] != 1]\n",
    "del omdb_genre_learning_table['Reality-TV']\n",
    "omdb_genre_learning_table.head(1)"
   ]
  },
  {
   "cell_type": "code",
   "execution_count": 35,
   "metadata": {
    "collapsed": false
   },
   "outputs": [
    {
     "data": {
      "image/png": "[encoded data removed]",
      "text/plain": [
       "<matplotlib.figure.Figure at 0x7f6476cbde48>"
      ]
     },
     "metadata": {},
     "output_type": "display_data"
    }
   ],
   "source": [
    "X = np.array(omdb_genre_learning_table)\n",
    "Ks = range(1, 27)\n",
    "genre_models = [KMeans(n_clusters = i, init=\"k-means++\", random_state=0).fit(X) for i in Ks]\n",
    "# now run for each cluster the BIC computation\n",
    "BIC = [compute_bic(kmeansi,X) for kmeansi in genre_models]\n",
    "plt.figure(figsize=(12, 6))\n",
    "plt.subplot(1, 1, 1)\n",
    "plt.plot(Ks,BIC)\n",
    "plt.show()"
   ]
  },
  {
   "cell_type": "code",
   "execution_count": 36,
   "metadata": {
    "collapsed": false
   },
   "outputs": [],
   "source": [
    "final_genre_model = genre_models[9]\n",
    "omdb_genre_learning_clusters = omdb_genre_learning_table.copy()\n",
    "omdb_genre_learning_clusters['genre_cluster'] = final_genre_model.labels_\n",
    "omdb_genre_learning_clusters_df = omdb_genre_learning_clusters.reset_index()"
   ]
  },
  {
   "cell_type": "code",
   "execution_count": 37,
   "metadata": {
    "collapsed": false
   },
   "outputs": [],
   "source": [
    "omdb_bom_combine_df = pd.DataFrame(omdb_bom_combine, columns=[\"key_bom\", \"key_omdb\", \"omdb_movie_id\"])\n",
    "omdb_bom_cluster_df = pd.merge(omdb_bom_combine_df, omdb_genre_learning_clusters_df,  how='inner', on=['omdb_movie_id'])"
   ]
  },
  {
   "cell_type": "code",
   "execution_count": 38,
   "metadata": {
    "collapsed": false
   },
   "outputs": [
    {
     "name": "stdout",
     "output_type": "stream",
     "text": [
      "(2373, 18)\n",
      "(2373, 19)\n"
     ]
    }
   ],
   "source": [
    "print(movie_df.shape)\n",
    "movie_df1 = movie_df.merge(omdb_bom_cluster_df[[\"key_bom\", \"genre_cluster\"]],how=\"left\",on=\"key_bom\")\n",
    "print(movie_df1.shape)"
   ]
  },
  {
   "cell_type": "code",
   "execution_count": 39,
   "metadata": {
    "collapsed": false
   },
   "outputs": [
    {
     "name": "stdout",
     "output_type": "stream",
     "text": [
      "(2373, 20)\n"
     ]
    }
   ],
   "source": [
    "movie_df2 = movie_df1.merge(bom[[\"key_bom\",\"bom_genre\"]],how=\"left\",on=\"key_bom\")\n",
    "print(movie_df2.shape)"
   ]
  },
  {
   "cell_type": "code",
   "execution_count": 40,
   "metadata": {
    "collapsed": true
   },
   "outputs": [],
   "source": [
    "bom_genre_coding = [('Action', 5), ('Action / Adventure', 5), ('Action / Crime', 5),('Action Comedy',1),\n",
    "                    ('Action Drama',5),('Action Fantasy',5),('Action Horror',7),('Action Thriller',5),('Adventure',5),\n",
    "                    ('Adventure Comedy',1),('Animation',2),('Comedy',3),('Comedy / Drama',3),('Comedy Thriller',1),\n",
    "                    ('Concert',4),('Crime',5),('Crime Comedy',1),('Crime Drama',0),('Crime Thriller',5),\n",
    "                    ('Documentary',4),('Drama',0),('Drama / Thriller',0),('Family',2),('Family Adventure',2),\n",
    "                    ('Family Comedy',3),('Fantasy',5),('Fantasy Comedy',1),('Fantasy Drama',0),('Historical Drama',0),\n",
    "                    ('Historical Epic',0),('Horror',7),('Horror Comedy',1),('Horror Thriller',7),('Music Drama',0),\n",
    "                    ('Musical',0),('Period Action',5),('Period Adventure',5),('Period Drama',0),('Period Horror',7),\n",
    "                    ('Romance',9),('Romantic Comedy',6),('Romantic Thriller',9),('Sci-Fi',7),('Sci-Fi Action',5),\n",
    "                    ('Sci-Fi Adventure',5),('Sci-Fi Comedy',1),('Sci-Fi Fantasy',5),('Sci-Fi Horror',7),\n",
    "                    ('Sci-Fi Thriller',7),('Sports Comedy',1),('Sports Drama',0),('Thriller',7),('Unknown',4),\n",
    "                    ('War',0),('War Drama',0),('Western',8),('Western Comedy',8),('Period Comedy',1),('Foreign',4),\n",
    "                    ('Foreign / Action',5),('War Romance',9),('IMAX',4),('Romantic Adventure',9),\n",
    "                    ('Foreign / Horror',7),('Sports Action',5)]\n",
    "bom_genre_coding_dict = dict(bom_genre_coding)"
   ]
  },
  {
   "cell_type": "code",
   "execution_count": 41,
   "metadata": {
    "collapsed": false
   },
   "outputs": [],
   "source": [
    "import math\n",
    "for index, row in movie_df2.iterrows():\n",
    "    if math.isnan(row['genre_cluster']):\n",
    "        movie_df2.set_value(index,'genre_cluster',bom_genre_coding_dict[row['bom_genre']])\n",
    "movie_df2['genre_cluster'] = movie_df2['genre_cluster'] + 1\n",
    "\n",
    "temp = movie_df2[[\"key_bom\",\"genre_cluster\",\"bom_genre\"]]\n",
    "temp.to_csv(\"data/temp-data/temp.csv\",index=None)"
   ]
  },
  {
   "cell_type": "code",
   "execution_count": 42,
   "metadata": {
    "collapsed": true
   },
   "outputs": [],
   "source": [
    "movie_df = movie_df2"
   ]
  },
  {
   "cell_type": "markdown",
   "metadata": {},
   "source": [
    "###### Player score"
   ]
  },
  {
   "cell_type": "code",
   "execution_count": 43,
   "metadata": {
    "collapsed": true
   },
   "outputs": [],
   "source": [
    "bom_f = bom[['key_bom','bom_actor','bom_director','bom_writer','bom_distributor','bom_composer','bom_cinematographer',\n",
    "            \"bom_producer\"]]"
   ]
  },
  {
   "cell_type": "code",
   "execution_count": 44,
   "metadata": {
    "collapsed": false
   },
   "outputs": [
    {
     "name": "stdout",
     "output_type": "stream",
     "text": [
      "(2373, 28)\n"
     ]
    },
    {
     "data": {
      "text/html": [
       "<div>\n",
       "<style>\n",
       "    .dataframe thead tr:only-child th {\n",
       "        text-align: right;\n",
       "    }\n",
       "\n",
       "    .dataframe thead th {\n",
       "        text-align: left;\n",
       "    }\n",
       "\n",
       "    .dataframe tbody tr th {\n",
       "        vertical-align: top;\n",
       "    }\n",
       "</style>\n",
       "<table border=\"1\" class=\"dataframe\">\n",
       "  <thead>\n",
       "    <tr style=\"text-align: right;\">\n",
       "      <th></th>\n",
       "      <th>index</th>\n",
       "      <th>key_bom</th>\n",
       "      <th>bom_title</th>\n",
       "      <th>bom_budget</th>\n",
       "      <th>bom_worldwide_revenue</th>\n",
       "      <th>revenue</th>\n",
       "      <th>bom_release_date</th>\n",
       "      <th>release_month</th>\n",
       "      <th>release_quarter</th>\n",
       "      <th>release_day_of_the_year</th>\n",
       "      <th>release_week_of_the_year</th>\n",
       "      <th>release_year</th>\n",
       "      <th>bom_runtime</th>\n",
       "      <th>runtime</th>\n",
       "      <th>bom_awards</th>\n",
       "      <th>bom_awards_scr</th>\n",
       "      <th>holiday_season</th>\n",
       "      <th>bom_rating</th>\n",
       "      <th>mpaa_rating</th>\n",
       "      <th>genre_cluster</th>\n",
       "      <th>bom_genre</th>\n",
       "      <th>bom_actor</th>\n",
       "      <th>bom_director</th>\n",
       "      <th>bom_writer</th>\n",
       "      <th>bom_distributor</th>\n",
       "      <th>bom_composer</th>\n",
       "      <th>bom_cinematographer</th>\n",
       "      <th>bom_producer</th>\n",
       "    </tr>\n",
       "  </thead>\n",
       "  <tbody>\n",
       "    <tr>\n",
       "      <th>0</th>\n",
       "      <td>0</td>\n",
       "      <td>b10</td>\n",
       "      <td>(500) days of summer</td>\n",
       "      <td>7500000.0</td>\n",
       "      <td>60722734.0</td>\n",
       "      <td>7.096365</td>\n",
       "      <td>2009-07-17 00:00:00</td>\n",
       "      <td>07</td>\n",
       "      <td>3</td>\n",
       "      <td>198</td>\n",
       "      <td>28</td>\n",
       "      <td>2009</td>\n",
       "      <td>1 hrs. 35 min.</td>\n",
       "      <td>95.0</td>\n",
       "      <td></td>\n",
       "      <td>0.0</td>\n",
       "      <td>0</td>\n",
       "      <td>PG-13</td>\n",
       "      <td>3</td>\n",
       "      <td>10.0</td>\n",
       "      <td>Romance</td>\n",
       "      <td>\"['Zooey Deschanel', 'Geoffrey Arend', 'Chloe Moretz', 'Clark Gregg', 'Minka Kelly*']\"</td>\n",
       "      <td>['Marc Webb']</td>\n",
       "      <td>\"['Scott Neustadter', 'Michael H. Weber']\"\\r</td>\n",
       "      <td>Fox Searchlight</td>\n",
       "      <td>\"['Mychael Danna', 'Rob Simonsen']\"</td>\n",
       "      <td></td>\n",
       "      <td>\"['Mason Novick', 'Mark S. Waters']\"</td>\n",
       "    </tr>\n",
       "    <tr>\n",
       "      <th>1</th>\n",
       "      <td>1</td>\n",
       "      <td>b24</td>\n",
       "      <td>10 things i hate about you</td>\n",
       "      <td>30000000.0</td>\n",
       "      <td>53478166.0</td>\n",
       "      <td>0.782606</td>\n",
       "      <td>1999-03-31 00:00:00</td>\n",
       "      <td>03</td>\n",
       "      <td>1</td>\n",
       "      <td>90</td>\n",
       "      <td>13</td>\n",
       "      <td>1999</td>\n",
       "      <td>1 hrs. 37 min.</td>\n",
       "      <td>97.0</td>\n",
       "      <td></td>\n",
       "      <td>0.0</td>\n",
       "      <td>0</td>\n",
       "      <td>PG-13</td>\n",
       "      <td>3</td>\n",
       "      <td>7.0</td>\n",
       "      <td>Romantic Comedy</td>\n",
       "      <td>\"['Julia Stiles', 'Heath Ledger']\"</td>\n",
       "      <td></td>\n",
       "      <td>\"['Karen McCullah Lutz', 'Kirsten Smith']\"\\r</td>\n",
       "      <td>Buena Vista</td>\n",
       "      <td></td>\n",
       "      <td></td>\n",
       "      <td>\"['Jeffrey Chernov', 'Andrew Lazar']\"</td>\n",
       "    </tr>\n",
       "    <tr>\n",
       "      <th>2</th>\n",
       "      <td>2</td>\n",
       "      <td>b27</td>\n",
       "      <td>\"10,000 b.c.\"</td>\n",
       "      <td>105000000.0</td>\n",
       "      <td>269784201.0</td>\n",
       "      <td>1.569373</td>\n",
       "      <td>2008-03-07 00:00:00</td>\n",
       "      <td>03</td>\n",
       "      <td>1</td>\n",
       "      <td>67</td>\n",
       "      <td>9</td>\n",
       "      <td>2008</td>\n",
       "      <td>1 hrs. 49 min.</td>\n",
       "      <td>109.0</td>\n",
       "      <td></td>\n",
       "      <td>0.0</td>\n",
       "      <td>0</td>\n",
       "      <td>PG-13</td>\n",
       "      <td>3</td>\n",
       "      <td>6.0</td>\n",
       "      <td>Period Adventure</td>\n",
       "      <td>\"['Steven Strait', 'Camilla Belle']\"</td>\n",
       "      <td>['Roland Emmerich']</td>\n",
       "      <td>\"['Roland Emmerich', 'Harald Kloser']\"\\r</td>\n",
       "      <td>Warner Bros.</td>\n",
       "      <td>\"['Harald Kloser', 'Thomas Wander']\"</td>\n",
       "      <td></td>\n",
       "      <td>\"['Mark Gordon', 'Harald Kloser', 'Scott Mednick', 'Thomas Tull']\"</td>\n",
       "    </tr>\n",
       "  </tbody>\n",
       "</table>\n",
       "</div>"
      ],
      "text/plain": [
       "   index key_bom                   bom_title   bom_budget  bom_worldwide_revenue   revenue     bom_release_date release_month release_quarter release_day_of_the_year release_week_of_the_year release_year     bom_runtime  runtime bom_awards  bom_awards_scr holiday_season bom_rating mpaa_rating  genre_cluster         bom_genre                                                                               bom_actor         bom_director                                    bom_writer  bom_distributor                          bom_composer bom_cinematographer                                                        bom_producer\n",
       "0      0     b10        (500) days of summer    7500000.0             60722734.0  7.096365  2009-07-17 00:00:00            07               3                     198                       28         2009  1 hrs. 35 min.     95.0                        0.0              0      PG-13           3           10.0           Romance  \"['Zooey Deschanel', 'Geoffrey Arend', 'Chloe Moretz', 'Clark Gregg', 'Minka Kelly*']\"        ['Marc Webb']  \"['Scott Neustadter', 'Michael H. Weber']\"\\r  Fox Searchlight   \"['Mychael Danna', 'Rob Simonsen']\"                                                    \"['Mason Novick', 'Mark S. Waters']\"\n",
       "1      1     b24  10 things i hate about you   30000000.0             53478166.0  0.782606  1999-03-31 00:00:00            03               1                      90                       13         1999  1 hrs. 37 min.     97.0                        0.0              0      PG-13           3            7.0   Romantic Comedy                                                      \"['Julia Stiles', 'Heath Ledger']\"                       \"['Karen McCullah Lutz', 'Kirsten Smith']\"\\r      Buena Vista                                                                                         \"['Jeffrey Chernov', 'Andrew Lazar']\"\n",
       "2      2     b27               \"10,000 b.c.\"  105000000.0            269784201.0  1.569373  2008-03-07 00:00:00            03               1                      67                        9         2008  1 hrs. 49 min.    109.0                        0.0              0      PG-13           3            6.0  Period Adventure                                                    \"['Steven Strait', 'Camilla Belle']\"  ['Roland Emmerich']      \"['Roland Emmerich', 'Harald Kloser']\"\\r     Warner Bros.  \"['Harald Kloser', 'Thomas Wander']\"                      \"['Mark Gordon', 'Harald Kloser', 'Scott Mednick', 'Thomas Tull']\""
      ]
     },
     "execution_count": 44,
     "metadata": {},
     "output_type": "execute_result"
    }
   ],
   "source": [
    "movie_df = pd.merge(movie_df,bom_f,on=\"key_bom\",how=\"left\")\n",
    "movie_df = movie_df.reset_index()\n",
    "print(movie_df.shape)\n",
    "movie_df.head(3)"
   ]
  },
  {
   "cell_type": "code",
   "execution_count": 45,
   "metadata": {
    "collapsed": true
   },
   "outputs": [],
   "source": [
    "def clean_people(movie_data, ind, peeps):\n",
    "    \"\"\"\n",
    "    Function to clean people associated with movies\n",
    "    \"\"\"\n",
    "    peeps_clean = peeps+'_clean'\n",
    "    bom_ftr = movie_data[[ind, peeps]].copy()\n",
    "    bom_ftr[peeps_clean] = bom_ftr[peeps].str.replace('[','')\n",
    "    bom_ftr[peeps_clean] = bom_ftr[peeps_clean].str.replace(']','')\n",
    "    bom_ftr[peeps_clean] = bom_ftr[peeps_clean].str.replace('\"','')\n",
    "    bom_ftr[peeps_clean] = bom_ftr[peeps_clean].str.replace(\"'\",'')\n",
    "    bom_ftr[peeps_clean] = bom_ftr[peeps_clean].str.replace(\"*\",'')\n",
    "    bom_ftr[peeps_clean] = bom_ftr[peeps_clean].str.replace(\"|\",',')\n",
    "    bom_ftr[peeps_clean] = bom_ftr[peeps_clean].str.replace(\", \",',')\n",
    "    bom_ftr[peeps_clean] = bom_ftr[peeps_clean].replace(np.nan, '', regex=True)\n",
    "    bom_ftr[peeps_clean] = bom_ftr[peeps_clean].apply(lambda x: x.split(','))\n",
    "    print('Cleaned', peeps)\n",
    "    clean_movie_data = pd.merge(movie_data, bom_ftr[[ind, peeps_clean]], on = \"index\")\n",
    "    return clean_movie_data"
   ]
  },
  {
   "cell_type": "code",
   "execution_count": 46,
   "metadata": {
    "collapsed": false
   },
   "outputs": [
    {
     "name": "stdout",
     "output_type": "stream",
     "text": [
      "Cleaned bom_actor\n",
      "Cleaned bom_director\n",
      "Cleaned bom_writer\n",
      "Cleaned bom_distributor\n",
      "Cleaned bom_composer\n",
      "Cleaned bom_cinematographer\n",
      "Cleaned bom_producer\n"
     ]
    }
   ],
   "source": [
    "movies_f = movie_df\n",
    "movies_f = clean_people(movies_f, 'index', 'bom_actor')\n",
    "movies_f = clean_people(movies_f, 'index', 'bom_director')\n",
    "movies_f = clean_people(movies_f, 'index', 'bom_writer')\n",
    "movies_f = clean_people(movies_f, 'index', 'bom_distributor')\n",
    "movies_f = clean_people(movies_f, 'index', 'bom_composer')\n",
    "movies_f = clean_people(movies_f, 'index', 'bom_cinematographer')\n",
    "movies_f = clean_people(movies_f, 'index', 'bom_producer')"
   ]
  },
  {
   "cell_type": "code",
   "execution_count": 47,
   "metadata": {
    "collapsed": false
   },
   "outputs": [
    {
     "name": "stdout",
     "output_type": "stream",
     "text": [
      "(2373, 35)\n",
      "(2373, 28)\n",
      "Index(['index', 'key_bom', 'bom_title', 'bom_budget', 'bom_worldwide_revenue', 'revenue', 'bom_release_date', 'release_month', 'release_quarter', 'release_day_of_the_year', 'release_week_of_the_year', 'release_year', 'bom_runtime', 'runtime', 'bom_awards', 'bom_awards_scr', 'holiday_season', 'bom_rating', 'mpaa_rating', 'genre_cluster', 'bom_genre', 'bom_actor_clean', 'bom_director_clean', 'bom_writer_clean', 'bom_distributor_clean', 'bom_composer_clean', 'bom_cinematographer_clean', 'bom_producer_clean'], dtype='object')\n"
     ]
    }
   ],
   "source": [
    "print(movies_f.shape)\n",
    "#Removing redinant columns\n",
    "movies_f = movies_f.drop('bom_actor',axis = 1)\n",
    "movies_f = movies_f.drop('bom_director',axis = 1)\n",
    "movies_f = movies_f.drop('bom_writer',axis = 1)\n",
    "movies_f = movies_f.drop('bom_distributor',axis = 1)\n",
    "movies_f = movies_f.drop('bom_composer',axis = 1)\n",
    "movies_f = movies_f.drop('bom_cinematographer',axis = 1)\n",
    "movies_f = movies_f.drop('bom_producer',axis = 1)\n",
    "print(movies_f.shape)\n",
    "print(movies_f.columns)"
   ]
  },
  {
   "cell_type": "code",
   "execution_count": 48,
   "metadata": {
    "collapsed": true
   },
   "outputs": [],
   "source": [
    "def people_score(movie_data, peeps, rev, awa):\n",
    "    \"\"\"\n",
    "    Getting unique actors\n",
    "    \"\"\"\n",
    "    start_time = time.time()\n",
    "    peep_unq = list(movie_data[peeps])\n",
    "    peep_unq = list(set(sum(peep_unq, [])))\n",
    "    peep_unq = [e for e in peep_unq if e not in ('', ' ')]\n",
    "    peep_cnt = dict((ky,0) for ky in peep_unq)\n",
    "    peep_awa = dict((ky,0) for ky in peep_unq)\n",
    "    peep_acn = dict((ky,0) for ky in peep_unq)\n",
    "    peep_unq = dict((ky,0) for ky in peep_unq)\n",
    "    print('Unique', peeps, ': ', len(peep_unq))\n",
    "\n",
    "    # For each actor, assigning score based on revenue of their movie\n",
    "    mov_peeps = list(movie_data[peeps])\n",
    "    mov_peeps = [[actor for actor in mov if actor not in ('', ' ')] for mov in mov_peeps]\n",
    "    ind = 0\n",
    "    for actors in mov_peeps:\n",
    "        for actor in actors:\n",
    "            peep_unq[actor] += float(movie_data.loc[ind, [rev]])\n",
    "            peep_cnt[actor] += 1\n",
    "            peep_awa[actor] += int(movie_data.loc[ind, [awa]])\n",
    "            if int(movie_data.loc[ind, [awa]]) != 0: peep_acn[actor] += 1\n",
    "        ind+=1\n",
    "    print(\"Time taken: \" + str(round(time.time() - start_time,2)) + \" seconds\\n\")\n",
    "    return (peep_unq, peep_cnt, peep_awa, peep_acn)"
   ]
  },
  {
   "cell_type": "code",
   "execution_count": 49,
   "metadata": {
    "collapsed": true
   },
   "outputs": [],
   "source": [
    "import warnings\n",
    "warnings.filterwarnings('ignore')\n",
    "\n",
    "# Normalizing revenue and bom award score\n",
    "from sklearn import preprocessing\n",
    "min_max_scaler = preprocessing.MinMaxScaler()\n",
    "movies_f['revenue_norm'] = min_max_scaler.fit_transform(movies_f['revenue'])\n",
    "movies_f['bom_awards_scr_norm'] = min_max_scaler.fit_transform(movies_f['bom_awards_scr'])"
   ]
  },
  {
   "cell_type": "code",
   "execution_count": 50,
   "metadata": {
    "collapsed": false
   },
   "outputs": [
    {
     "name": "stdout",
     "output_type": "stream",
     "text": [
      "Unique bom_director_clean :  730\n",
      "Time taken: 4.68 seconds\n",
      "\n",
      "Unique bom_actor_clean :  1975\n",
      "Time taken: 26.28 seconds\n",
      "\n",
      "Unique bom_writer_clean :  1083\n",
      "Time taken: 7.61 seconds\n",
      "\n",
      "Unique bom_distributor_clean :  115\n",
      "Time taken: 5.83 seconds\n",
      "\n",
      "Unique bom_composer_clean :  145\n",
      "Time taken: 3.81 seconds\n",
      "\n",
      "Unique bom_cinematographer_clean :  77\n",
      "Time taken: 0.98 seconds\n",
      "\n",
      "Unique bom_producer_clean :  767\n",
      "Time taken: 10.0 seconds\n",
      "\n"
     ]
    }
   ],
   "source": [
    "# Storing people scores\n",
    "unq_dir, cnt_dir, awa_dir, acn_dir = people_score(movies_f, 'bom_director_clean', 'revenue_norm', 'bom_awards_scr_norm')\n",
    "unq_act, cnt_act, awa_act, acn_act = people_score(movies_f, 'bom_actor_clean', 'revenue_norm', 'bom_awards_scr_norm')\n",
    "unq_wri, cnt_wri, awa_wri, acn_wri = people_score(movies_f, 'bom_writer_clean', 'revenue_norm', 'bom_awards_scr_norm')\n",
    "unq_dis, cnt_dis, awa_dis, acn_dis = people_score(movies_f, 'bom_distributor_clean', 'revenue_norm', 'bom_awards_scr_norm')\n",
    "unq_com, cnt_com, awa_com, acn_com = people_score(movies_f, 'bom_composer_clean', 'revenue_norm', 'bom_awards_scr_norm')\n",
    "unq_cin, cnt_cin, awa_cin, acn_cin = people_score(movies_f, 'bom_cinematographer_clean', 'revenue_norm', 'bom_awards_scr_norm')\n",
    "unq_pro, cnt_pro, awa_pro, acn_pro = people_score(movies_f, 'bom_producer_clean', 'revenue_norm', 'bom_awards_scr_norm')"
   ]
  },
  {
   "cell_type": "code",
   "execution_count": 51,
   "metadata": {
    "collapsed": true
   },
   "outputs": [],
   "source": [
    "def mean_awards(awa, acn):\n",
    "    \"\"\"\n",
    "    Getting mean of awards\n",
    "    \"\"\"\n",
    "    awa_mea = {}\n",
    "    for k in awa.keys():\n",
    "        if awa[k] != 0:\n",
    "            awa_mea[k] = awa[k]/acn[k]\n",
    "        else:\n",
    "            awa_mea[k] = awa[k]\n",
    "    return awa_mea"
   ]
  },
  {
   "cell_type": "code",
   "execution_count": 52,
   "metadata": {
    "collapsed": true
   },
   "outputs": [],
   "source": [
    "# Storing mean of awards in variable\n",
    "awa_mea_act = mean_awards(awa_act, acn_act)\n",
    "awa_mea_dir = mean_awards(awa_dir, acn_dir)\n",
    "awa_mea_wri = mean_awards(awa_wri, acn_wri)\n",
    "awa_mea_dis = mean_awards(awa_dis, acn_dis)\n",
    "awa_mea_com = mean_awards(awa_com, acn_com)\n",
    "awa_mea_cin = mean_awards(awa_cin, acn_cin)\n",
    "awa_mea_pro = mean_awards(awa_pro, acn_pro)"
   ]
  },
  {
   "cell_type": "code",
   "execution_count": 53,
   "metadata": {
    "collapsed": true
   },
   "outputs": [],
   "source": [
    "# Calculating the mean of the score for the people\n",
    "w = 1\n",
    "mean_act = {k: (unq_act[k]/cnt_act[k])+ (w*(awa_mea_act[k])) for k in unq_act.keys()}\n",
    "mean_dir = {k: (unq_dir[k]/cnt_dir[k])+(w*(awa_mea_dir[k])) for k in unq_dir.keys()}\n",
    "mean_wri = {k: (unq_wri[k]/cnt_wri[k])+(w*(awa_mea_wri[k])) for k in unq_wri.keys()}\n",
    "mean_dis = {k: (unq_dis[k]/cnt_dis[k])+(w*(awa_mea_dis[k])) for k in unq_dis.keys()}\n",
    "mean_com = {k: (unq_com[k]/cnt_com[k])+(w*(awa_mea_com[k])) for k in unq_com.keys()}\n",
    "mean_cin = {k: (unq_cin[k]/cnt_cin[k])+(w*(awa_mea_cin[k])) for k in unq_cin.keys()}\n",
    "mean_pro = {k: (unq_pro[k]/cnt_pro[k])+(w*(awa_mea_pro[k])) for k in unq_pro.keys()}"
   ]
  },
  {
   "cell_type": "code",
   "execution_count": 54,
   "metadata": {
    "collapsed": false
   },
   "outputs": [
    {
     "name": "stdout",
     "output_type": "stream",
     "text": [
      "5.1009905888914036 19 0 0 0 0.2684731888890212\n",
      "2.833793850537397 8 0 0 0 0.3542242313171746\n"
     ]
    }
   ],
   "source": [
    "actor='Meryl Streep'\n",
    "dirtr = 'Christopher Nolan'\n",
    "print(unq_act[actor], cnt_act[actor], awa_act[actor], acn_act[actor], awa_mea_act[actor], mean_act[actor])\n",
    "print(unq_dir[dirtr], cnt_dir[dirtr], awa_dir[dirtr], acn_dir[dirtr], awa_mea_dir[dirtr], mean_dir[dirtr])"
   ]
  },
  {
   "cell_type": "code",
   "execution_count": 55,
   "metadata": {
    "collapsed": true
   },
   "outputs": [],
   "source": [
    "def movie_people_score(movie_data, peeps, peeps_score):\n",
    "    \"\"\"\n",
    "    For each movie, assigning player score\n",
    "    \"\"\"\n",
    "    mov_peeps = list(movie_data[peeps])\n",
    "    mov_peeps = [[actor for actor in mov if actor not in ('', ' ')] for mov in mov_peeps]\n",
    "    ind = 0\n",
    "    mov_score = []\n",
    "    for actors in mov_peeps:\n",
    "        agg_actor_score = 0\n",
    "        for actor in actors:\n",
    "            agg_actor_score += peeps_score[actor]\n",
    "        mov_score.append(agg_actor_score)\n",
    "        ind+=1\n",
    "    return mov_score"
   ]
  },
  {
   "cell_type": "code",
   "execution_count": 56,
   "metadata": {
    "collapsed": true
   },
   "outputs": [],
   "source": [
    "# Creating new columns for player scores\n",
    "movies_f[\"actor_score\"] = movie_people_score(movies_f, 'bom_actor_clean', mean_act)\n",
    "movies_f[\"director_score\"] = movie_people_score(movies_f, 'bom_director_clean', mean_dir)\n",
    "movies_f[\"writer_score\"] = movie_people_score(movies_f, 'bom_writer_clean', mean_wri)\n",
    "movies_f[\"distributor_score\"] = movie_people_score(movies_f, 'bom_distributor_clean', mean_dis)\n",
    "movies_f[\"composer_score\"] = movie_people_score(movies_f, 'bom_composer_clean', mean_com)\n",
    "movies_f[\"cinematographer_score\"] = movie_people_score(movies_f, 'bom_cinematographer_clean', mean_cin)\n",
    "movies_f[\"producer_score\"] = movie_people_score(movies_f, 'bom_producer_clean', mean_pro)"
   ]
  },
  {
   "cell_type": "code",
   "execution_count": 57,
   "metadata": {
    "collapsed": false
   },
   "outputs": [
    {
     "name": "stdout",
     "output_type": "stream",
     "text": [
      "(2373, 37)\n"
     ]
    },
    {
     "data": {
      "text/html": [
       "<div>\n",
       "<style>\n",
       "    .dataframe thead tr:only-child th {\n",
       "        text-align: right;\n",
       "    }\n",
       "\n",
       "    .dataframe thead th {\n",
       "        text-align: left;\n",
       "    }\n",
       "\n",
       "    .dataframe tbody tr th {\n",
       "        vertical-align: top;\n",
       "    }\n",
       "</style>\n",
       "<table border=\"1\" class=\"dataframe\">\n",
       "  <thead>\n",
       "    <tr style=\"text-align: right;\">\n",
       "      <th></th>\n",
       "      <th>index</th>\n",
       "      <th>key_bom</th>\n",
       "      <th>bom_title</th>\n",
       "      <th>bom_budget</th>\n",
       "      <th>bom_worldwide_revenue</th>\n",
       "      <th>revenue</th>\n",
       "      <th>bom_release_date</th>\n",
       "      <th>release_month</th>\n",
       "      <th>release_quarter</th>\n",
       "      <th>release_day_of_the_year</th>\n",
       "      <th>release_week_of_the_year</th>\n",
       "      <th>release_year</th>\n",
       "      <th>bom_runtime</th>\n",
       "      <th>runtime</th>\n",
       "      <th>bom_awards</th>\n",
       "      <th>bom_awards_scr</th>\n",
       "      <th>holiday_season</th>\n",
       "      <th>bom_rating</th>\n",
       "      <th>mpaa_rating</th>\n",
       "      <th>genre_cluster</th>\n",
       "      <th>bom_genre</th>\n",
       "      <th>bom_actor_clean</th>\n",
       "      <th>bom_director_clean</th>\n",
       "      <th>bom_writer_clean</th>\n",
       "      <th>bom_distributor_clean</th>\n",
       "      <th>bom_composer_clean</th>\n",
       "      <th>bom_cinematographer_clean</th>\n",
       "      <th>bom_producer_clean</th>\n",
       "      <th>revenue_norm</th>\n",
       "      <th>bom_awards_scr_norm</th>\n",
       "      <th>actor_score</th>\n",
       "      <th>director_score</th>\n",
       "      <th>writer_score</th>\n",
       "      <th>distributor_score</th>\n",
       "      <th>composer_score</th>\n",
       "      <th>cinematographer_score</th>\n",
       "      <th>producer_score</th>\n",
       "    </tr>\n",
       "  </thead>\n",
       "  <tbody>\n",
       "    <tr>\n",
       "      <th>0</th>\n",
       "      <td>0</td>\n",
       "      <td>b10</td>\n",
       "      <td>(500) days of summer</td>\n",
       "      <td>7500000.0</td>\n",
       "      <td>60722734.0</td>\n",
       "      <td>7.096365</td>\n",
       "      <td>2009-07-17 00:00:00</td>\n",
       "      <td>07</td>\n",
       "      <td>3</td>\n",
       "      <td>198</td>\n",
       "      <td>28</td>\n",
       "      <td>2009</td>\n",
       "      <td>1 hrs. 35 min.</td>\n",
       "      <td>95.0</td>\n",
       "      <td></td>\n",
       "      <td>0.0</td>\n",
       "      <td>0</td>\n",
       "      <td>PG-13</td>\n",
       "      <td>3</td>\n",
       "      <td>10.0</td>\n",
       "      <td>Romance</td>\n",
       "      <td>[Zooey Deschanel, Geoffrey Arend, Chloe Moretz, Clark Gregg, Minka Kelly]</td>\n",
       "      <td>[Marc Webb]</td>\n",
       "      <td>[Scott Neustadter, Michael H. Weber\\r]</td>\n",
       "      <td>[Fox Searchlight]</td>\n",
       "      <td>[Mychael Danna, Rob Simonsen]</td>\n",
       "      <td>[]</td>\n",
       "      <td>[Mason Novick, Mark S. Waters]</td>\n",
       "      <td>0.736845</td>\n",
       "      <td>0.0</td>\n",
       "      <td>2.011784</td>\n",
       "      <td>0.518337</td>\n",
       "      <td>0.989326</td>\n",
       "      <td>0.314074</td>\n",
       "      <td>0.618026</td>\n",
       "      <td>0.0</td>\n",
       "      <td>1.063533</td>\n",
       "    </tr>\n",
       "  </tbody>\n",
       "</table>\n",
       "</div>"
      ],
      "text/plain": [
       "   index key_bom             bom_title  bom_budget  bom_worldwide_revenue   revenue     bom_release_date release_month release_quarter release_day_of_the_year release_week_of_the_year release_year     bom_runtime  runtime bom_awards  bom_awards_scr holiday_season bom_rating mpaa_rating  genre_cluster bom_genre                                                            bom_actor_clean bom_director_clean                        bom_writer_clean bom_distributor_clean             bom_composer_clean bom_cinematographer_clean              bom_producer_clean  revenue_norm  bom_awards_scr_norm  actor_score  director_score  writer_score  distributor_score  composer_score  cinematographer_score  producer_score\n",
       "0      0     b10  (500) days of summer   7500000.0             60722734.0  7.096365  2009-07-17 00:00:00            07               3                     198                       28         2009  1 hrs. 35 min.     95.0                        0.0              0      PG-13           3           10.0   Romance  [Zooey Deschanel, Geoffrey Arend, Chloe Moretz, Clark Gregg, Minka Kelly]        [Marc Webb]  [Scott Neustadter, Michael H. Weber\\r]     [Fox Searchlight]  [Mychael Danna, Rob Simonsen]                        []  [Mason Novick, Mark S. Waters]      0.736845                  0.0     2.011784        0.518337      0.989326           0.314074        0.618026                    0.0        1.063533"
      ]
     },
     "execution_count": 57,
     "metadata": {},
     "output_type": "execute_result"
    }
   ],
   "source": [
    "movie_df = movies_f\n",
    "print(movie_df.shape)\n",
    "movie_df.head(1)"
   ]
  },
  {
   "cell_type": "code",
   "execution_count": 58,
   "metadata": {
    "collapsed": true
   },
   "outputs": [],
   "source": [
    "# Entering scores into database\n",
    "def insert_scores_db(tab, peeps_scores):\n",
    "    peeps_scores['Unknown'] = min(peeps_scores.values())\n",
    "    \n",
    "    vals = ''\n",
    "    for key, value in peeps_scores.items(): vals += \"('\" + key + \"',\" + str(value) + '), '\n",
    "    vals = vals[:-2]\n",
    "    \n",
    "    with open('../mysql_cred') as f:\n",
    "        credentials = [x.strip().split(':') for x in f.readlines()]\n",
    "    connection = pymysql.connect(host=credentials[0][0], user=credentials[0][1], password=credentials[0][2], db='movies')\n",
    "    \n",
    "    cur = connection.cursor()\n",
    "    cur.execute(\"drop table if exists %s;\" %(tab))\n",
    "    cur.execute(\"create table %s(name varchar(100), score float);\" %(tab))\n",
    "    cur.execute(\"INSERT INTO %s (name, score) VALUES %s;\" %(tab, vals))\n",
    "    cur.execute('commit;')\n",
    "    print('Inserted', len(peeps_scores), 'values into table:', tab)\n",
    "    cur.close()\n",
    "    connection.close()"
   ]
  },
  {
   "cell_type": "code",
   "execution_count": 59,
   "metadata": {
    "collapsed": false
   },
   "outputs": [
    {
     "name": "stdout",
     "output_type": "stream",
     "text": [
      "Inserted 1976 values into table: scores_act\n",
      "Inserted 731 values into table: scores_dir\n",
      "Inserted 1084 values into table: scores_wri\n",
      "Inserted 115 values into table: scores_dis\n",
      "Inserted 146 values into table: scores_com\n",
      "Inserted 78 values into table: scores_cin\n",
      "Inserted 768 values into table: scores_pro\n"
     ]
    }
   ],
   "source": [
    "insert_scores_db('scores_act', mean_act)\n",
    "insert_scores_db('scores_dir', mean_dir)\n",
    "insert_scores_db('scores_wri', mean_wri)\n",
    "insert_scores_db('scores_dis', mean_dis)\n",
    "insert_scores_db('scores_com', mean_com)\n",
    "insert_scores_db('scores_cin', mean_cin)\n",
    "insert_scores_db('scores_pro', mean_pro)"
   ]
  },
  {
   "cell_type": "markdown",
   "metadata": {},
   "source": [
    "###### Genre Based Best People"
   ]
  },
  {
   "cell_type": "code",
   "execution_count": 60,
   "metadata": {
    "collapsed": true
   },
   "outputs": [],
   "source": [
    "def getGenreBasedPeeps(genre,peeps,n,mean_dict):\n",
    "    genre_cluster_movie = movies_f.loc[movies_f['genre_cluster']==genre]\n",
    "    peep_unq = list(genre_cluster_movie[peeps])\n",
    "    peep_unq = list(set(sum(peep_unq, [])))\n",
    "    peep_unq = [e for e in peep_unq if e not in ('', ' ')]\n",
    "    \n",
    "    score_list = [mean_dict[x] for x in peep_unq]\n",
    "    sorted_idx = [i[0] for i in sorted(enumerate(score_list), key=lambda x:x[1], reverse=True)]\n",
    "    return list(np.array(peep_unq)[sorted_idx][:n])"
   ]
  },
  {
   "cell_type": "code",
   "execution_count": 82,
   "metadata": {
    "collapsed": true
   },
   "outputs": [],
   "source": [
    "# Entering scores into database\n",
    "def insert_genre_peeps_db(tab, peeps_scores):\n",
    "    vals = ''\n",
    "    for item in peeps_scores:\n",
    "        vals += \"('\" + item[0] + \"',\" + str(item[1]) + \",\" + str(item[2]) + \",'\" + item[3] + \"'), \"\n",
    "    vals = vals[:-2]\n",
    "    \n",
    "    with open('../mysql_cred') as f:\n",
    "        credentials = [x.strip().split(':') for x in f.readlines()]\n",
    "    connection = pymysql.connect(host=credentials[0][0], user=credentials[0][1], password=credentials[0][2], db='movies')\n",
    "    \n",
    "    cur = connection.cursor()\n",
    "    cur.execute(\"drop table if exists %s;\" %(tab))\n",
    "    cur.execute(\"create table %s(name varchar(100), score float, cluster int, genre varchar(100));\" %(tab))\n",
    "    cur.execute(\"INSERT INTO %s (name, score, cluster, genre) VALUES %s;\" %(tab, vals))\n",
    "    cur.execute('commit;')\n",
    "    print('Inserted', len(peeps_scores), 'values into table:', tab)\n",
    "    cur.close()\n",
    "    connection.close()"
   ]
  },
  {
   "cell_type": "code",
   "execution_count": 83,
   "metadata": {
    "collapsed": false
   },
   "outputs": [
    {
     "name": "stdout",
     "output_type": "stream",
     "text": [
      "Inserted 100 values into table: best_genre_actors\n",
      "Inserted 100 values into table: best_genre_directors\n",
      "Inserted 100 values into table: best_genre_writers\n"
     ]
    }
   ],
   "source": [
    "genre_desc = ['Drama','Parody','Animation','Comedy','Documentary','Action','Romantic Comedy',\n",
    "              'Thriller','Western','Romantic']\n",
    "act_genre_data = []\n",
    "dir_genre_data = []\n",
    "wri_genre_data = []\n",
    "\n",
    "for i in range(1,11):\n",
    "    act_genre = getGenreBasedPeeps(i,'bom_actor_clean',10,mean_act)\n",
    "    dir_genre = getGenreBasedPeeps(i,'bom_director_clean',10,mean_dir)\n",
    "    wri_genre = getGenreBasedPeeps(i,'bom_writer_clean',10,mean_wri)\n",
    "    for actor in act_genre:\n",
    "        act_genre_data.append((actor.strip(),mean_act[actor],i,genre_desc[i-1]))\n",
    "    for director in dir_genre:\n",
    "        dir_genre_data.append((director.strip(),mean_dir[director],i,genre_desc[i-1]))\n",
    "    for writer in wri_genre:\n",
    "        wri_genre_data.append((writer.strip(),mean_wri[writer],i,genre_desc[i-1]))\n",
    "\n",
    "        \n",
    "insert_genre_peeps_db('best_genre_actors',act_genre_data)\n",
    "insert_genre_peeps_db('best_genre_directors',dir_genre_data)\n",
    "insert_genre_peeps_db('best_genre_writers',wri_genre_data)"
   ]
  },
  {
   "cell_type": "code",
   "execution_count": 63,
   "metadata": {
    "collapsed": true
   },
   "outputs": [],
   "source": [
    "movie_df.to_csv(\"data/bom_final.csv\",index=None)"
   ]
  },
  {
   "cell_type": "markdown",
   "metadata": {},
   "source": [
    "###### Segregate Data"
   ]
  },
  {
   "cell_type": "code",
   "execution_count": 64,
   "metadata": {
    "collapsed": true
   },
   "outputs": [],
   "source": [
    "X_budget = np.array(movie_df['bom_budget'])\n",
    "Ks = range(1, 10)\n",
    "kmeans_budget = [KMeans(n_clusters=i, random_state=0) for i in Ks]\n",
    "score_budget = [kmeans_budget[i].fit(X_budget.reshape(-1,1)).score(X_budget.reshape(-1,1)) for i in range(len(kmeans_budget))]"
   ]
  },
  {
   "cell_type": "code",
   "execution_count": 65,
   "metadata": {
    "collapsed": false
   },
   "outputs": [
    {
     "data": {
      "text/plain": [
       "[-5.2201349105642926e+18, -1.6732074932553871e+18]"
      ]
     },
     "execution_count": 65,
     "metadata": {},
     "output_type": "execute_result"
    }
   ],
   "source": [
    "score_budget[:2]"
   ]
  },
  {
   "cell_type": "code",
   "execution_count": 66,
   "metadata": {
    "collapsed": false
   },
   "outputs": [
    {
     "data": {
      "image/png": "[encoded data removed]",
      "text/plain": [
       "<matplotlib.figure.Figure at 0x7f6476bdd0f0>"
      ]
     },
     "metadata": {},
     "output_type": "display_data"
    }
   ],
   "source": [
    "plt.figure(figsize=(12, 6))\n",
    "plt.plot(Ks,score_budget)\n",
    "plt.xlabel('No of Clusters')\n",
    "plt.ylabel('Fit Score')\n",
    "plt.title('Determining Budget Clusters')\n",
    "plt.plot(Ks, score_budget, 'ro')\n",
    "plt.show()"
   ]
  },
  {
   "cell_type": "code",
   "execution_count": 67,
   "metadata": {
    "collapsed": false
   },
   "outputs": [
    {
     "data": {
      "text/plain": [
       "array([0, 0, 1, ..., 0, 0, 1], dtype=int32)"
      ]
     },
     "execution_count": 67,
     "metadata": {},
     "output_type": "execute_result"
    }
   ],
   "source": [
    "kmeans_budget[2].fit(X_budget.reshape(-1,1)).labels_"
   ]
  },
  {
   "cell_type": "code",
   "execution_count": 68,
   "metadata": {
    "collapsed": true
   },
   "outputs": [],
   "source": [
    "movie_df_1 = movie_df\n",
    "movie_df_1['budget_cluster'] = kmeans_budget[2].labels_\n",
    "movie_df_2 = movie_df_1.reset_index()"
   ]
  },
  {
   "cell_type": "code",
   "execution_count": 69,
   "metadata": {
    "collapsed": true
   },
   "outputs": [],
   "source": [
    "low_budget_df = movie_df_2.loc[movie_df_2['budget_cluster'] == 0]\n",
    "mid_budget_df = movie_df_2.loc[movie_df_2['budget_cluster'] == 1]\n",
    "high_budget_df = movie_df_2.loc[movie_df_2['budget_cluster'] == 2]"
   ]
  },
  {
   "cell_type": "markdown",
   "metadata": {},
   "source": [
    "###### Data Build up for Modeling"
   ]
  },
  {
   "cell_type": "code",
   "execution_count": 70,
   "metadata": {
    "collapsed": true
   },
   "outputs": [],
   "source": [
    "#Normalizing the features\n",
    "def standardize(raw_data):\n",
    "    return ((raw_data - np.mean(raw_data, axis = 0)) / np.std(raw_data, axis = 0))\n",
    "\n",
    "def standardize_features(t):\n",
    "    cols = ['bom_budget',\"bom_awards_scr\",\"actor_score\",\"director_score\",\"writer_score\",\n",
    "                           \"distributor_score\", \"composer_score\", \"cinematographer_score\", \"producer_score\"]\n",
    "    # Normalizing the features\n",
    "    for c in cols:\n",
    "        t[c]=standardize(t[c])\n",
    "    return t"
   ]
  },
  {
   "cell_type": "code",
   "execution_count": 71,
   "metadata": {
    "collapsed": true
   },
   "outputs": [],
   "source": [
    "def lable_encode(t):\n",
    "    cat = t[[\"release_month\",\"release_week_of_the_year\",\"release_quarter\",\"release_day_of_the_year\",\n",
    "        \"mpaa_rating\",\"holiday_season\",\"genre_cluster\"]]\n",
    "    \n",
    "    le=LabelEncoder()\n",
    "    # Iterating over all the common columns in train and test\n",
    "    for col in cat.columns.values:\n",
    "        # Encoding only categorical variables\n",
    "        if t[col].dtypes==\"object\":\n",
    "        # Using whole data to form an exhaustive list of levels\n",
    "            data=t[col]\n",
    "            le.fit(data.values)\n",
    "            t[col]=le.transform(t[col])\n",
    "    return t"
   ]
  },
  {
   "cell_type": "code",
   "execution_count": 72,
   "metadata": {
    "collapsed": true
   },
   "outputs": [],
   "source": [
    "def clean_up_low_budget(t):\n",
    "    t = t.fillna(\"\")\n",
    "    t.loc[t.release_quarter == \"\",'release_quarter']= t.loc[t.release_quarter==\"\",'release_quarter'].apply(\n",
    "        lambda x: float(x.replace('', '0')))\n",
    "    t.loc[t.mpaa_rating == \"\",'mpaa_rating']= t.loc[t.mpaa_rating==\"\",'mpaa_rating'].apply(lambda x: float(\n",
    "            x.replace('', '7')))\n",
    "    t.loc[t.holiday_season == \"\",'holiday_season']= t.loc[t.holiday_season==\"\",'holiday_season'].apply(\n",
    "        lambda x: float(x.replace('', '0')))\n",
    "    return t"
   ]
  },
  {
   "cell_type": "code",
   "execution_count": 73,
   "metadata": {
    "collapsed": true
   },
   "outputs": [],
   "source": [
    "def data_build_up(t):\n",
    "    t = t.reset_index(drop=True)\n",
    "    t['bom_budget'] = t['bom_budget'].astype(float)\n",
    "    t['bom_worldwide_revenue'] = t['bom_worldwide_revenue'].astype(float)\n",
    "    t['revenue'] = t['revenue'].astype(float)\n",
    "    if(t['budget_cluster'].all() == 0):\n",
    "        t = clean_up_low_budget(t)\n",
    "    t = lable_encode(t)\n",
    "    t = standardize_features(t)\n",
    "    return t"
   ]
  },
  {
   "cell_type": "code",
   "execution_count": 74,
   "metadata": {
    "collapsed": true
   },
   "outputs": [],
   "source": [
    "low_budget_df = data_build_up(low_budget_df)\n",
    "mid_budget_df = data_build_up(mid_budget_df)\n",
    "high_budget_df = data_build_up(high_budget_df)"
   ]
  },
  {
   "cell_type": "code",
   "execution_count": 75,
   "metadata": {
    "collapsed": false
   },
   "outputs": [
    {
     "data": {
      "text/plain": [
       "level_0                        int64\n",
       "index                          int64\n",
       "key_bom                       object\n",
       "bom_title                     object\n",
       "bom_budget                   float64\n",
       "bom_worldwide_revenue        float64\n",
       "revenue                      float64\n",
       "bom_release_date              object\n",
       "release_month                  int64\n",
       "release_quarter                int64\n",
       "release_day_of_the_year        int64\n",
       "release_week_of_the_year       int64\n",
       "release_year                  object\n",
       "bom_runtime                   object\n",
       "runtime                      float64\n",
       "bom_awards                    object\n",
       "bom_awards_scr               float64\n",
       "holiday_season                 int64\n",
       "bom_rating                    object\n",
       "mpaa_rating                    int64\n",
       "genre_cluster                float64\n",
       "bom_genre                     object\n",
       "bom_actor_clean               object\n",
       "bom_director_clean            object\n",
       "bom_writer_clean              object\n",
       "bom_distributor_clean         object\n",
       "bom_composer_clean            object\n",
       "bom_cinematographer_clean     object\n",
       "bom_producer_clean            object\n",
       "revenue_norm                 float64\n",
       "bom_awards_scr_norm          float64\n",
       "actor_score                  float64\n",
       "director_score               float64\n",
       "writer_score                 float64\n",
       "distributor_score            float64\n",
       "composer_score               float64\n",
       "cinematographer_score        float64\n",
       "producer_score               float64\n",
       "budget_cluster                 int32\n",
       "dtype: object"
      ]
     },
     "execution_count": 75,
     "metadata": {},
     "output_type": "execute_result"
    }
   ],
   "source": [
    "low_budget_df.dtypes"
   ]
  },
  {
   "cell_type": "markdown",
   "metadata": {},
   "source": [
    "##### Serialize the data"
   ]
  },
  {
   "cell_type": "code",
   "execution_count": 76,
   "metadata": {
    "collapsed": true
   },
   "outputs": [],
   "source": [
    "pickle.dump(final_genre_model, open('model/genre.mprophet','wb'), protocol=0)\n",
    "pickle.dump(omdb_genre_learning_table[0:0], open('data/genre_df.mprophetdata','wb'), protocol=0)"
   ]
  },
  {
   "cell_type": "code",
   "execution_count": 77,
   "metadata": {
    "collapsed": true
   },
   "outputs": [],
   "source": [
    "pickle.dump(low_budget_df, open('data/low_budget.mprophetdata','wb'), protocol=0)"
   ]
  },
  {
   "cell_type": "code",
   "execution_count": 78,
   "metadata": {
    "collapsed": true
   },
   "outputs": [],
   "source": [
    "pickle.dump(mid_budget_df, open('data/mid_budget.mprophetdata','wb'), protocol=0)"
   ]
  },
  {
   "cell_type": "code",
   "execution_count": 79,
   "metadata": {
    "collapsed": true
   },
   "outputs": [],
   "source": [
    "pickle.dump(high_budget_df, open('data/high_budget.mprophetdata','wb'), protocol=0)"
   ]
  }
 ],
 "metadata": {
  "kernelspec": {
   "display_name": "Python 3",
   "language": "python",
   "name": "python3"
  },
  "language_info": {
   "codemirror_mode": {
    "name": "ipython",
    "version": 3
   },
   "file_extension": ".py",
   "mimetype": "text/x-python",
   "name": "python",
   "nbconvert_exporter": "python",
   "pygments_lexer": "ipython3",
   "version": "3.6.0"
  }
 },
 "nbformat": 4,
 "nbformat_minor": 1
}
