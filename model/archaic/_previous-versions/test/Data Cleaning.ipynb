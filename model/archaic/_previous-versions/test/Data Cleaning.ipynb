{
 "cells": [
  {
   "cell_type": "markdown",
   "metadata": {},
   "source": [
    "#### DATA CLEANING\n",
    "\n",
    "Code to perform data wrangling. The code reads data from mysql, namely the bom, wiki, omdb and comb_index (the output file from jaro-winkler) tables. \n",
    "\n",
    "Outputfile: Movies that contain budget and gross information\n",
    "\n",
    "Note: The movie should be present in two sources. The movies with budget/gross information that are missed in this section are added before the data analysis.\n",
    "\n",
    "Authors: nelsonds@uw.edu, gmaria@uw.edu, sseth12@uw.edu"
   ]
  },
  {
   "cell_type": "code",
   "execution_count": 1,
   "metadata": {
    "collapsed": true
   },
   "outputs": [],
   "source": [
    "# Load libraries and instatiate DB connection\n",
    "\n",
    "%matplotlib inline\n",
    "import pandas as pd\n",
    "import pymysql\n",
    "import numpy as np\n",
    "import time\n",
    "import matplotlib.pyplot as plt\n",
    "\n",
    "pd.set_option('display.max_rows', 500)\n",
    "pd.set_option('display.max_colwidth', 100)\n",
    "pd.set_option('display.max_columns', 500)\n",
    "pd.set_option('display.width', 1000)\n",
    "pd.options.display.max_seq_items = 2000"
   ]
  },
  {
   "cell_type": "code",
   "execution_count": 2,
   "metadata": {
    "collapsed": true
   },
   "outputs": [],
   "source": [
    "# Connect to the database\n",
    "connection = pymysql.connect(host='localhost', user='root', password='mprophet', db='movies')\n",
    "\n",
    "# Pull table from database\n",
    "cur = connection.cursor()\n",
    "\n",
    "cur.execute(\"select * FROM bom\")\n",
    "bom_sql = []\n",
    "for row in cur: bom_sql.append(list(row))\n",
    "\n",
    "cur.execute(\"select * FROM wiki\")\n",
    "wiki_sql = []\n",
    "for row in cur: wiki_sql.append(list(row))\n",
    "    \n",
    "cur.execute(\"select * FROM omdb\")\n",
    "omdb_sql = []\n",
    "for row in cur: omdb_sql.append(list(row))\n",
    "    \n",
    "cur.execute(\"select * FROM comb_index\")\n",
    "comb_sql = []\n",
    "for row in cur: comb_sql.append(list(row))\n",
    "    \n",
    "#cur.execute(\"select * FROM movies_final\")\n",
    "#movie_sql = []\n",
    "#for row in cur: movie_sql.append(list(row))\n",
    "    \n",
    "cur.close()\n",
    "connection.close()"
   ]
  },
  {
   "cell_type": "markdown",
   "metadata": {},
   "source": [
    "##### Reading data from db"
   ]
  },
  {
   "cell_type": "code",
   "execution_count": 3,
   "metadata": {
    "collapsed": false
   },
   "outputs": [
    {
     "name": "stdout",
     "output_type": "stream",
     "text": [
      "Total movies from Box Office Mojo: 16826\n"
     ]
    },
    {
     "data": {
      "text/html": [
       "<div>\n",
       "<table border=\"1\" class=\"dataframe\">\n",
       "  <thead>\n",
       "    <tr style=\"text-align: right;\">\n",
       "      <th></th>\n",
       "      <th>bom_title</th>\n",
       "      <th>bom_link</th>\n",
       "      <th>key_bom</th>\n",
       "      <th>bom_date</th>\n",
       "      <th>bom_year</th>\n",
       "      <th>bom_name</th>\n",
       "      <th>bom_budget</th>\n",
       "      <th>bom_domestic_gross</th>\n",
       "      <th>bom_lifetime_gross</th>\n",
       "      <th>bom_release_date</th>\n",
       "      <th>bom_runtime</th>\n",
       "      <th>bom_distributor</th>\n",
       "      <th>bom_genre</th>\n",
       "      <th>bom_rating</th>\n",
       "      <th>bom_awards</th>\n",
       "      <th>bom_actor</th>\n",
       "      <th>bom_assoc_producer</th>\n",
       "      <th>bom_cinematographer</th>\n",
       "      <th>bom_composer</th>\n",
       "      <th>bom_director</th>\n",
       "      <th>bom_exec_producer</th>\n",
       "      <th>bom_line_producer</th>\n",
       "      <th>bom_players</th>\n",
       "      <th>bom_producer</th>\n",
       "      <th>bom_writer</th>\n",
       "      <th>bom_close_date</th>\n",
       "      <th>bom_domestic_summary</th>\n",
       "      <th>bom_in_release</th>\n",
       "      <th>bom_limited_opening_weekend</th>\n",
       "      <th>bom_opening_weekend</th>\n",
       "      <th>bom_wide_opening_weekend</th>\n",
       "      <th>bom_widest_release</th>\n",
       "      <th>bom_domestic_revenue</th>\n",
       "      <th>bom_foreign_revenue</th>\n",
       "      <th>bom_worldwide_revenue</th>\n",
       "      <th>bom_total_lifetime_gross</th>\n",
       "    </tr>\n",
       "  </thead>\n",
       "  <tbody>\n",
       "    <tr>\n",
       "      <th>0</th>\n",
       "      <td>#horror</td>\n",
       "      <td>http://www.boxofficemojo.com/movies/?id=horrorifc.htm</td>\n",
       "      <td>b0</td>\n",
       "      <td>20-Nov-15</td>\n",
       "      <td>2015\\r</td>\n",
       "      <td>#Horror</td>\n",
       "      <td>N/A</td>\n",
       "      <td></td>\n",
       "      <td></td>\n",
       "      <td>20-Nov-15</td>\n",
       "      <td>1 hrs. 30 min.</td>\n",
       "      <td>IFC</td>\n",
       "      <td>Horror</td>\n",
       "      <td>Unknown</td>\n",
       "      <td>No Academy Awards Information\\r</td>\n",
       "      <td>\"['Balthazar Getty', 'Timothy Hutton', 'Natasha Lyonne', 'Taryn Manning', 'Chloe Sevigny']\"</td>\n",
       "      <td></td>\n",
       "      <td></td>\n",
       "      <td></td>\n",
       "      <td></td>\n",
       "      <td></td>\n",
       "      <td></td>\n",
       "      <td></td>\n",
       "      <td></td>\n",
       "      <td>\\r</td>\n",
       "      <td></td>\n",
       "      <td>No Domestic Summary Information</td>\n",
       "      <td></td>\n",
       "      <td></td>\n",
       "      <td></td>\n",
       "      <td></td>\n",
       "      <td>\\r</td>\n",
       "      <td></td>\n",
       "      <td></td>\n",
       "      <td></td>\n",
       "      <td>No Total Lifetime Gross Information\\r</td>\n",
       "    </tr>\n",
       "  </tbody>\n",
       "</table>\n",
       "</div>"
      ],
      "text/plain": [
       "  bom_title                                               bom_link key_bom   bom_date bom_year bom_name bom_budget bom_domestic_gross bom_lifetime_gross bom_release_date     bom_runtime bom_distributor bom_genre bom_rating                       bom_awards                                                                                    bom_actor bom_assoc_producer bom_cinematographer bom_composer bom_director bom_exec_producer bom_line_producer bom_players bom_producer bom_writer bom_close_date             bom_domestic_summary bom_in_release bom_limited_opening_weekend bom_opening_weekend bom_wide_opening_weekend bom_widest_release bom_domestic_revenue bom_foreign_revenue bom_worldwide_revenue               bom_total_lifetime_gross\n",
       "0   #horror  http://www.boxofficemojo.com/movies/?id=horrorifc.htm      b0  20-Nov-15   2015\\r  #Horror        N/A                                              20-Nov-15  1 hrs. 30 min.             IFC    Horror    Unknown  No Academy Awards Information\\r  \"['Balthazar Getty', 'Timothy Hutton', 'Natasha Lyonne', 'Taryn Manning', 'Chloe Sevigny']\"                                                                                                                                       \\r                 No Domestic Summary Information                                                                                                         \\r                                                                 No Total Lifetime Gross Information\\r"
      ]
     },
     "execution_count": 3,
     "metadata": {},
     "output_type": "execute_result"
    }
   ],
   "source": [
    "# Store bom table information in DataFrame\n",
    "\n",
    "bom_columns =         ['bom_title', 'bom_link', 'key_bom', 'bom_date', 'bom_year', 'bom_name', 'bom_budget',\n",
    "                       'bom_domestic_gross', 'bom_lifetime_gross', 'bom_release_date', 'bom_runtime', 'bom_distributor',\n",
    "                       'bom_genre', 'bom_rating', 'bom_awards', 'bom_actor', 'bom_assoc_producer', 'bom_cinematographer',\n",
    "                       'bom_composer', 'bom_director', 'bom_exec_producer', 'bom_line_producer', 'bom_players', 'bom_producer',\n",
    "                       'bom_writer', 'bom_close_date', 'bom_domestic_summary', 'bom_in_release', 'bom_limited_opening_weekend',\n",
    "                       'bom_opening_weekend', 'bom_wide_opening_weekend', 'bom_widest_release', 'bom_domestic_revenue',\n",
    "                       'bom_foreign_revenue', 'bom_worldwide_revenue', 'bom_total_lifetime_gross']\n",
    "\n",
    "bom = pd.DataFrame(bom_sql, columns=bom_columns)\n",
    "#bom.to_csv('bom.csv')\n",
    "print('Total movies from Box Office Mojo:', len(bom))\n",
    "bom.head(1)"
   ]
  },
  {
   "cell_type": "code",
   "execution_count": 4,
   "metadata": {
    "collapsed": false
   },
   "outputs": [
    {
     "name": "stdout",
     "output_type": "stream",
     "text": [
      "Total movies from Wikipedia: 40981\n"
     ]
    },
    {
     "data": {
      "text/html": [
       "<div>\n",
       "<table border=\"1\" class=\"dataframe\">\n",
       "  <thead>\n",
       "    <tr style=\"text-align: right;\">\n",
       "      <th></th>\n",
       "      <th>wiki_budget</th>\n",
       "      <th>wiki_cinematography</th>\n",
       "      <th>wiki_director</th>\n",
       "      <th>wiki_distributor</th>\n",
       "      <th>wiki_editing</th>\n",
       "      <th>wiki_gross</th>\n",
       "      <th>wiki_music</th>\n",
       "      <th>wiki_pageid</th>\n",
       "      <th>wiki_producer</th>\n",
       "      <th>wiki_released</th>\n",
       "      <th>wiki_runtime</th>\n",
       "      <th>wiki_screenplay</th>\n",
       "      <th>wiki_starring</th>\n",
       "      <th>wiki_studio</th>\n",
       "      <th>wiki_title</th>\n",
       "      <th>key_wiki</th>\n",
       "      <th>year_wiki</th>\n",
       "      <th>year_wiki_format</th>\n",
       "    </tr>\n",
       "  </thead>\n",
       "  <tbody>\n",
       "    <tr>\n",
       "      <th>0</th>\n",
       "      <td></td>\n",
       "      <td>\"[Gilbert Salas, Heather Rae]\"</td>\n",
       "      <td>[Heather Rae]</td>\n",
       "      <td>[]</td>\n",
       "      <td>\"[Gregory Bayne, Heather Rae]\"</td>\n",
       "      <td></td>\n",
       "      <td>[John Trudell &amp; Bad Dog]</td>\n",
       "      <td>5975700</td>\n",
       "      <td>\"[Heather Rae, Elyse Katz]\"</td>\n",
       "      <td>\"[2005, 01, 20, Sundance Film Festival, 2006, 02, 24, United States]\"</td>\n",
       "      <td>[80 minutes]</td>\n",
       "      <td></td>\n",
       "      <td>[]</td>\n",
       "      <td></td>\n",
       "      <td>trudell</td>\n",
       "      <td>w39443</td>\n",
       "      <td>None</td>\n",
       "      <td>None</td>\n",
       "    </tr>\n",
       "  </tbody>\n",
       "</table>\n",
       "</div>"
      ],
      "text/plain": [
       "  wiki_budget             wiki_cinematography  wiki_director wiki_distributor                    wiki_editing wiki_gross                wiki_music wiki_pageid                wiki_producer                                                          wiki_released  wiki_runtime wiki_screenplay wiki_starring wiki_studio wiki_title key_wiki year_wiki year_wiki_format\n",
       "0              \"[Gilbert Salas, Heather Rae]\"  [Heather Rae]               []  \"[Gregory Bayne, Heather Rae]\"             [John Trudell & Bad Dog]     5975700  \"[Heather Rae, Elyse Katz]\"  \"[2005, 01, 20, Sundance Film Festival, 2006, 02, 24, United States]\"  [80 minutes]                            []                trudell   w39443      None             None"
      ]
     },
     "execution_count": 4,
     "metadata": {},
     "output_type": "execute_result"
    }
   ],
   "source": [
    "wiki_columns = ['wiki_budget',\n",
    "                \"wiki_cinematography\",\"wiki_director\",\"wiki_distributor\", \n",
    "                \"wiki_editing\", \"wiki_gross\" , \"wiki_music\", \n",
    "                \"wiki_pageid\", \"wiki_producer\", \"wiki_released\", \n",
    "                \"wiki_runtime\", \"wiki_screenplay\", \"wiki_starring\", \n",
    "                \"wiki_studio\",\"wiki_title\", \"key_wiki\", \"year_wiki\",\n",
    "                \"year_wiki_format\"];\n",
    "\n",
    "wiki = pd.DataFrame(wiki_sql, columns=wiki_columns)\n",
    "#bom.to_csv('bom.csv')\n",
    "print('Total movies from Wikipedia:', len(wiki))\n",
    "\n",
    "wiki['key_wiki'] = [str(v).lstrip() for v in wiki['key_wiki']]\n",
    "wiki['key_wiki']= [str(v).rstrip() for v in wiki['key_wiki']]\n",
    "\n",
    "wiki.head(1)"
   ]
  },
  {
   "cell_type": "code",
   "execution_count": 5,
   "metadata": {
    "collapsed": false
   },
   "outputs": [
    {
     "name": "stdout",
     "output_type": "stream",
     "text": [
      "Total movies from Omdb: 23254\n"
     ]
    },
    {
     "data": {
      "text/html": [
       "<div>\n",
       "<table border=\"1\" class=\"dataframe\">\n",
       "  <thead>\n",
       "    <tr style=\"text-align: right;\">\n",
       "      <th></th>\n",
       "      <th>omdb_movie_id</th>\n",
       "      <th>omdb_movie_year</th>\n",
       "      <th>omdb_title</th>\n",
       "      <th>omdb_rated</th>\n",
       "      <th>omdb_response</th>\n",
       "      <th>omdb_language</th>\n",
       "      <th>omdb_country</th>\n",
       "      <th>omdb_metascore</th>\n",
       "      <th>omdb_imdbrating</th>\n",
       "      <th>omdb_released</th>\n",
       "      <th>omdb_runtime</th>\n",
       "      <th>omdb_type</th>\n",
       "      <th>omdb_poster</th>\n",
       "      <th>omdb_imdbvotes</th>\n",
       "      <th>omdb_awards</th>\n",
       "      <th>omdb_genres</th>\n",
       "      <th>omdb_actors</th>\n",
       "      <th>omdb_directors</th>\n",
       "      <th>omdb_writers</th>\n",
       "      <th>omdb_plot</th>\n",
       "      <th>key_omdb</th>\n",
       "    </tr>\n",
       "  </thead>\n",
       "  <tbody>\n",
       "    <tr>\n",
       "      <th>0</th>\n",
       "      <td>1</td>\n",
       "      <td>1933</td>\n",
       "      <td>A Bedtime Story</td>\n",
       "      <td>N/A</td>\n",
       "      <td>None</td>\n",
       "      <td>English, French</td>\n",
       "      <td>USA</td>\n",
       "      <td>N/A</td>\n",
       "      <td>None</td>\n",
       "      <td>22 Apr 1933</td>\n",
       "      <td>87 min</td>\n",
       "      <td>movie</td>\n",
       "      <td>https://images-na.ssl-images-amazon.com/images/M/MV5BODhjZWY3ZjQtN2RjNy00ZTE4LTgzMmQtYmEyMzc0N2M...</td>\n",
       "      <td>None</td>\n",
       "      <td>N/A</td>\n",
       "      <td>Musical|Romance|Comedy</td>\n",
       "      <td>Maurice Chevalier|Helen Twelvetrees|Edward Everett Horton|Adrienne Ames</td>\n",
       "      <td>Norman Taurog</td>\n",
       "      <td>Roy Horniman (novel)|Benjamin Glazer (adaptation)|Nunnally Johnson (screenplay)|Waldemar Young (...</td>\n",
       "      <td>Parisian playboy plays father to an abandoned baby who interferes with his womanizing.</td>\n",
       "      <td>o0</td>\n",
       "    </tr>\n",
       "  </tbody>\n",
       "</table>\n",
       "</div>"
      ],
      "text/plain": [
       "   omdb_movie_id  omdb_movie_year       omdb_title omdb_rated omdb_response    omdb_language omdb_country omdb_metascore omdb_imdbrating omdb_released omdb_runtime omdb_type                                                                                          omdb_poster omdb_imdbvotes omdb_awards             omdb_genres                                                              omdb_actors omdb_directors                                                                                         omdb_writers                                                                               omdb_plot key_omdb\n",
       "0              1             1933  A Bedtime Story        N/A          None  English, French          USA            N/A            None   22 Apr 1933       87 min     movie  https://images-na.ssl-images-amazon.com/images/M/MV5BODhjZWY3ZjQtN2RjNy00ZTE4LTgzMmQtYmEyMzc0N2M...           None         N/A  Musical|Romance|Comedy  Maurice Chevalier|Helen Twelvetrees|Edward Everett Horton|Adrienne Ames  Norman Taurog  Roy Horniman (novel)|Benjamin Glazer (adaptation)|Nunnally Johnson (screenplay)|Waldemar Young (...  Parisian playboy plays father to an abandoned baby who interferes with his womanizing.       o0"
      ]
     },
     "execution_count": 5,
     "metadata": {},
     "output_type": "execute_result"
    }
   ],
   "source": [
    "omdb_columns = [\"omdb_movie_id\", \"omdb_movie_year\", \"omdb_title\", \"omdb_rated\", \"omdb_response\", \n",
    "                 \"omdb_language\" , \"omdb_country\", \"omdb_metascore\", \"omdb_imdbrating\", \"omdb_released\",\n",
    "                 \"omdb_runtime\", \"omdb_type\", \"omdb_poster\", \"omdb_imdbvotes\", \"omdb_awards\", \"omdb_genres\",\n",
    "                 \"omdb_actors\", \"omdb_directors\",\"omdb_writers\",\"omdb_plot\",\"key_omdb\"]\n",
    "\n",
    "omdb = pd.DataFrame(omdb_sql, columns=omdb_columns)\n",
    "#bom.to_csv('bom.csv')\n",
    "print('Total movies from Omdb:', len(omdb))\n",
    "\n",
    "omdb.head(1)"
   ]
  },
  {
   "cell_type": "code",
   "execution_count": 6,
   "metadata": {
    "collapsed": false
   },
   "outputs": [
    {
     "name": "stdout",
     "output_type": "stream",
     "text": [
      "Total movies in combined file: 24665\n"
     ]
    },
    {
     "data": {
      "text/html": [
       "<div>\n",
       "<table border=\"1\" class=\"dataframe\">\n",
       "  <thead>\n",
       "    <tr style=\"text-align: right;\">\n",
       "      <th></th>\n",
       "      <th>key_bom</th>\n",
       "      <th>key_wiki</th>\n",
       "      <th>key_omdb</th>\n",
       "      <th>bom_title</th>\n",
       "      <th>wiki_title</th>\n",
       "      <th>omdb_title</th>\n",
       "      <th>year_bom</th>\n",
       "      <th>year_bom_format</th>\n",
       "      <th>year_wiki</th>\n",
       "      <th>year_wiki_format</th>\n",
       "      <th>year_omdb</th>\n",
       "      <th>year_omdb_format</th>\n",
       "      <th>score</th>\n",
       "    </tr>\n",
       "  </thead>\n",
       "  <tbody>\n",
       "    <tr>\n",
       "      <th>0</th>\n",
       "      <td>b15584</td>\n",
       "      <td>w39443</td>\n",
       "      <td>o18495</td>\n",
       "      <td>trudell</td>\n",
       "      <td>trudell</td>\n",
       "      <td>trudell</td>\n",
       "      <td>3-Feb-06</td>\n",
       "      <td>2006</td>\n",
       "      <td>2005</td>\n",
       "      <td>2005</td>\n",
       "      <td>20-Jan-05</td>\n",
       "      <td>2005</td>\n",
       "      <td>1\\r</td>\n",
       "    </tr>\n",
       "    <tr>\n",
       "      <th>1</th>\n",
       "      <td>b14216</td>\n",
       "      <td>w28904</td>\n",
       "      <td>o12944</td>\n",
       "      <td>the party at kitty and stud's</td>\n",
       "      <td>the party at kitty and stud's</td>\n",
       "      <td>the party at kitty and stud's</td>\n",
       "      <td>6-Jul-76</td>\n",
       "      <td>1976</td>\n",
       "      <td>1970</td>\n",
       "      <td>1970</td>\n",
       "      <td>10-Feb-70</td>\n",
       "      <td>1970</td>\n",
       "      <td>1\\r</td>\n",
       "    </tr>\n",
       "    <tr>\n",
       "      <th>2</th>\n",
       "      <td></td>\n",
       "      <td>w4957</td>\n",
       "      <td>o17832</td>\n",
       "      <td></td>\n",
       "      <td>borrowed wives</td>\n",
       "      <td>borrowed wives</td>\n",
       "      <td></td>\n",
       "      <td></td>\n",
       "      <td>20-Aug</td>\n",
       "      <td>20-Aug</td>\n",
       "      <td>20-Aug-30</td>\n",
       "      <td>1930</td>\n",
       "      <td>1\\r</td>\n",
       "    </tr>\n",
       "    <tr>\n",
       "      <th>3</th>\n",
       "      <td></td>\n",
       "      <td>w40302</td>\n",
       "      <td>o15689</td>\n",
       "      <td></td>\n",
       "      <td>the vagabond trail</td>\n",
       "      <td>the vagabond trail</td>\n",
       "      <td></td>\n",
       "      <td></td>\n",
       "      <td>9-Mar</td>\n",
       "      <td>9-Mar</td>\n",
       "      <td>9-Mar-24</td>\n",
       "      <td>1924</td>\n",
       "      <td>1\\r</td>\n",
       "    </tr>\n",
       "    <tr>\n",
       "      <th>4</th>\n",
       "      <td></td>\n",
       "      <td>w11443</td>\n",
       "      <td>o9690</td>\n",
       "      <td></td>\n",
       "      <td>eddie's million dollar cook-off</td>\n",
       "      <td>eddie's million dollar cook-off</td>\n",
       "      <td></td>\n",
       "      <td></td>\n",
       "      <td>2003</td>\n",
       "      <td>2003</td>\n",
       "      <td>18-Jul-03</td>\n",
       "      <td>2003</td>\n",
       "      <td>1\\r</td>\n",
       "    </tr>\n",
       "  </tbody>\n",
       "</table>\n",
       "</div>"
      ],
      "text/plain": [
       "  key_bom key_wiki key_omdb                      bom_title                       wiki_title                       omdb_title  year_bom year_bom_format year_wiki year_wiki_format  year_omdb year_omdb_format score\n",
       "0  b15584   w39443   o18495                        trudell                          trudell                          trudell  3-Feb-06            2006      2005             2005  20-Jan-05             2005   1\\r\n",
       "1  b14216   w28904   o12944  the party at kitty and stud's    the party at kitty and stud's    the party at kitty and stud's  6-Jul-76            1976      1970             1970  10-Feb-70             1970   1\\r\n",
       "2            w4957   o17832                                                  borrowed wives                   borrowed wives                              20-Aug           20-Aug  20-Aug-30             1930   1\\r\n",
       "3           w40302   o15689                                              the vagabond trail               the vagabond trail                               9-Mar            9-Mar   9-Mar-24             1924   1\\r\n",
       "4           w11443    o9690                                 eddie's million dollar cook-off  eddie's million dollar cook-off                                2003             2003  18-Jul-03             2003   1\\r"
      ]
     },
     "execution_count": 6,
     "metadata": {},
     "output_type": "execute_result"
    }
   ],
   "source": [
    "comb_columns = [\"key_bom\",\"key_wiki\",\"key_omdb\",\"bom_title\",\"wiki_title\",\"omdb_title\",\"year_bom\",\n",
    "               \"year_bom_format\",\"year_wiki\", \"year_wiki_format\", \"year_omdb\", \"year_omdb_format\",\"score\"]\n",
    "comb_index = pd.DataFrame(comb_sql, columns=comb_columns)\n",
    "#bom.to_csv('bom.csv')\n",
    "print('Total movies in combined file:', len(comb_index))\n",
    "comb_index.head()"
   ]
  },
  {
   "cell_type": "markdown",
   "metadata": {},
   "source": [
    "##### Creating the combined data (to be loaded into the table movies_final)\n",
    "\n",
    "* Remove duplicate rows from wiki\n",
    "* Remove duplicate indexes frim comb_index\n",
    "* Fetching movies with only budget and gross information\n",
    "      > For bom, fetch movie if either bom_domestic_gross or bom_worldwide_revenue information is available"
   ]
  },
  {
   "cell_type": "code",
   "execution_count": 7,
   "metadata": {
    "collapsed": false
   },
   "outputs": [
    {
     "name": "stdout",
     "output_type": "stream",
     "text": [
      "(40746,)\n",
      "(40981, 18)\n",
      "(40746, 18)\n"
     ]
    }
   ],
   "source": [
    "# Removing duplicate rows from wiki\n",
    "wiki = wiki.fillna(\"\")\n",
    "print(wiki['key_wiki'].unique().shape)\n",
    "print(wiki.shape)\n",
    "wiki = wiki.drop_duplicates(['key_wiki'],keep ='last')\n",
    "print(wiki.shape)"
   ]
  },
  {
   "cell_type": "code",
   "execution_count": 8,
   "metadata": {
    "collapsed": false
   },
   "outputs": [
    {
     "name": "stdout",
     "output_type": "stream",
     "text": [
      "(24665, 13)\n",
      "bom unique keys (7096,)\n",
      "bom not null (7112, 13)\n",
      "Shape, combined_index after dropping bom duplicates (24647, 13)\n"
     ]
    }
   ],
   "source": [
    "# CLEANING COMB_INDEX FOR DUPLICATES\n",
    "print(comb_index.shape)\n",
    "\n",
    "print('bom unique keys',comb_index['key_bom'].unique().shape)\n",
    "a = comb_index[comb_index['key_bom']!=\"\"]\n",
    "print('bom not null',a.shape)\n",
    "\n",
    "# print the rows with where bom ky is duplicated\n",
    "k = a[a.duplicated(['key_bom'])]['key_bom'].tolist()\n",
    "#comb_index[comb_index['key_bom'].isin(k)]\n",
    "\n",
    "# deleting duplicate rows\n",
    "comb_index = comb_index.drop(comb_index.index[[7626,16978,22685,23066,23068,23155,23975,24029,24036,24054,24093,\n",
    "                                              24103,24120,24123,24174,24257,24268,24269]])\n",
    "\n",
    "comb_index.reset_index(inplace = True,drop =True)\n",
    "print('Shape, combined_index after dropping bom duplicates',comb_index.shape)"
   ]
  },
  {
   "cell_type": "code",
   "execution_count": 9,
   "metadata": {
    "collapsed": false
   },
   "outputs": [
    {
     "name": "stdout",
     "output_type": "stream",
     "text": [
      "omdb unique keys (21893,)\n",
      "omdb not null (21894, 13)\n",
      "Shape, combined_index after dropping omdb duplicates (24645, 13)\n"
     ]
    }
   ],
   "source": [
    "print('omdb unique keys',comb_index['key_omdb'].unique().shape)\n",
    "a = comb_index[comb_index['key_omdb']!=\"\"]\n",
    "print('omdb not null',a.shape)\n",
    "\n",
    "# print the rows with where bom ky is duplicated\n",
    "k = a[a.duplicated(['key_omdb'])]['key_omdb'].tolist()\n",
    "comb_index[comb_index['key_omdb'].isin(k)]\n",
    "\n",
    "# deleting duplicate rows\n",
    "comb_index = comb_index.drop(comb_index.index[[15696,21655]])\n",
    "\n",
    "comb_index.reset_index(inplace = True,drop =True)\n",
    "print('Shape, combined_index after dropping omdb duplicates',comb_index.shape)"
   ]
  },
  {
   "cell_type": "code",
   "execution_count": 10,
   "metadata": {
    "collapsed": false
   },
   "outputs": [
    {
     "name": "stdout",
     "output_type": "stream",
     "text": [
      "wiki unique keys (24621,)\n",
      "wiki not null (24645, 13)\n",
      "Shape, combined_index after dropping wiki duplicates (24619, 13)\n"
     ]
    }
   ],
   "source": [
    "print('wiki unique keys',comb_index['key_wiki'].unique().shape)\n",
    "a = comb_index[comb_index['key_wiki']!=\"\"]\n",
    "print('wiki not null',a.shape)\n",
    "\n",
    "# print the rows with where bom ky is duplicated\n",
    "k = a[a.duplicated(['key_wiki'])]['key_wiki'].tolist()\n",
    "comb_index[comb_index['key_wiki'].isin(k)]\n",
    "\n",
    "# deleting duplicate rows\n",
    "comb_index = comb_index.drop(comb_index.index[[1895,22386,22420,23060,23091,23854,23901,23944,24000,24006,\n",
    "                                              24016,24022,24025,24066,24090,24094,24171,24264,24299,24383,24402,\n",
    "                                              24454,24619,24643,24289,24401]])\n",
    "\n",
    "comb_index.reset_index(inplace = True,drop =True)\n",
    "print('Shape, combined_index after dropping wiki duplicates',comb_index.shape)"
   ]
  },
  {
   "cell_type": "code",
   "execution_count": 11,
   "metadata": {
    "collapsed": false
   },
   "outputs": [
    {
     "name": "stdout",
     "output_type": "stream",
     "text": [
      "(7070,)\n",
      "(24619,)\n",
      "(21892,)\n",
      "(24619, 10)\n",
      "COMBINED INDEX AFTER REMOVING DUPLICATE KEYS:  (24619, 13)\n"
     ]
    }
   ],
   "source": [
    "print(comb_index['key_bom'].unique().shape)\n",
    "print(comb_index['key_wiki'].unique().shape)\n",
    "print(comb_index['key_omdb'].unique().shape)\n",
    "\n",
    "print(comb_index.groupby(['key_omdb','key_bom','key_wiki']).count().shape)\n",
    "\n",
    "comb_index = comb_index.drop_duplicates(['key_omdb','key_bom','key_wiki'],keep='last')\n",
    "print(\"COMBINED INDEX AFTER REMOVING DUPLICATE KEYS: \", comb_index.shape)"
   ]
  },
  {
   "cell_type": "code",
   "execution_count": 12,
   "metadata": {
    "collapsed": false
   },
   "outputs": [
    {
     "name": "stdout",
     "output_type": "stream",
     "text": [
      "no:of movies in bom where budget is not null:\n",
      "(3114, 36)\n",
      "no:of movies in bom where budget and bom_domestic_gross is not null:\n",
      "(3066, 36)\n",
      "no:of movies in bom where budget and bom_worldwide_revenue is not null:\n",
      "(2530, 36)\n",
      "Bom movies with budget/gross (domestic or worldwide) info:  (3076, 5)\n"
     ]
    },
    {
     "name": "stderr",
     "output_type": "stream",
     "text": [
      "/home/ubuntu/anaconda3/lib/python3.5/site-packages/pandas/core/frame.py:1997: UserWarning: Boolean Series key will be reindexed to match DataFrame index.\n",
      "  \"DataFrame index.\", UserWarning)\n"
     ]
    }
   ],
   "source": [
    "# Filtering wiki for data for which wiki_budget and wiki_gross exists\n",
    "print(\"no:of movies in bom where budget is not null:\")\n",
    "print(bom[(bom.bom_budget!=\"\") & (bom.bom_budget!=\"N/A\")].shape)\n",
    "bom['bom_budget'] = [str(v).lstrip() for v in bom['bom_budget']]\n",
    "bom['bom_budget']= [str(v).rstrip() for v in bom['bom_budget']]\n",
    "\n",
    "print(\"no:of movies in bom where budget and bom_domestic_gross is not null:\")\n",
    "f = bom.bom_domestic_gross\n",
    "print(bom[(bom.bom_budget!=\"\") & (bom.bom_budget!=\"N/A\") & (f!=\"\")].shape)\n",
    "\n",
    "print(\"no:of movies in bom where budget and bom_worldwide_revenue is not null:\")\n",
    "g = bom.bom_worldwide_revenue\n",
    "print(bom[(bom.bom_budget!=\"\") & (bom.bom_budget!=\"N/A\") & (g!=\"\")].shape)\n",
    "\n",
    "bom_f = bom[(bom.bom_budget!=\"\") & (bom.bom_budget!=\"N/A\")]\n",
    "bom_f1 = bom_f[(f!=\"\")|(g!=\"\")]\n",
    "bom_f1.reset_index()\n",
    "\n",
    "bom_f1= bom_f1[[\"key_bom\",\"bom_title\",\"bom_budget\",\"bom_domestic_gross\",\"bom_worldwide_revenue\"]]\n",
    "print(\"Bom movies with budget/gross (domestic or worldwide) info: \", bom_f1.shape)"
   ]
  },
  {
   "cell_type": "code",
   "execution_count": 13,
   "metadata": {
    "collapsed": false
   },
   "outputs": [
    {
     "name": "stdout",
     "output_type": "stream",
     "text": [
      "no:of movies in wiki where budget and gross revenue is not null:\n",
      "(6935, 18)\n",
      "Wiki movies with budget gross information (6935, 4)\n"
     ]
    }
   ],
   "source": [
    "# Filtering the rows and intersted columns\n",
    "print(\"no:of movies in wiki where budget and gross revenue is not null:\")\n",
    "print(wiki[(wiki.wiki_budget!=\"\") & (wiki.wiki_gross!=\"\")].shape)\n",
    "\n",
    "wiki_f = wiki[(wiki.wiki_budget!=\"\") & (wiki.wiki_gross!=\"\")]\n",
    "wiki_f = wiki_f[[\"key_wiki\",\"wiki_title\",\"wiki_budget\",\"wiki_gross\"]]\n",
    "print(\"Wiki movies with budget gross information\", wiki_f.shape)\n"
   ]
  },
  {
   "cell_type": "code",
   "execution_count": 14,
   "metadata": {
    "collapsed": false
   },
   "outputs": [
    {
     "name": "stdout",
     "output_type": "stream",
     "text": [
      "(6935, 10)\n"
     ]
    },
    {
     "data": {
      "text/html": [
       "<div>\n",
       "<table border=\"1\" class=\"dataframe\">\n",
       "  <thead>\n",
       "    <tr style=\"text-align: right;\">\n",
       "      <th></th>\n",
       "      <th>key_wiki</th>\n",
       "      <th>wiki_title</th>\n",
       "      <th>wiki_budget</th>\n",
       "      <th>wiki_gross</th>\n",
       "      <th>key_bom</th>\n",
       "      <th>key_omdb</th>\n",
       "      <th>omdb_title</th>\n",
       "      <th>year_bom_format</th>\n",
       "      <th>year_wiki_format</th>\n",
       "      <th>year_omdb_format</th>\n",
       "    </tr>\n",
       "  </thead>\n",
       "  <tbody>\n",
       "    <tr>\n",
       "      <th>0</th>\n",
       "      <td>w25445</td>\n",
       "      <td>the mod squad</td>\n",
       "      <td>[$50 million]</td>\n",
       "      <td>\"[$15,415,361]\"</td>\n",
       "      <td>b13998</td>\n",
       "      <td></td>\n",
       "      <td></td>\n",
       "      <td>1999</td>\n",
       "      <td>1999</td>\n",
       "      <td></td>\n",
       "    </tr>\n",
       "    <tr>\n",
       "      <th>1</th>\n",
       "      <td>w24917</td>\n",
       "      <td>mickey (2004 film)</td>\n",
       "      <td>[$6 million]</td>\n",
       "      <td>\"[$294,758]\"</td>\n",
       "      <td>NaN</td>\n",
       "      <td>NaN</td>\n",
       "      <td>NaN</td>\n",
       "      <td>NaN</td>\n",
       "      <td>NaN</td>\n",
       "      <td>NaN</td>\n",
       "    </tr>\n",
       "    <tr>\n",
       "      <th>2</th>\n",
       "      <td>w7258</td>\n",
       "      <td>a christmas story</td>\n",
       "      <td>[$3.2 million]</td>\n",
       "      <td>[$19.3 million]</td>\n",
       "      <td>b274</td>\n",
       "      <td>o22363</td>\n",
       "      <td>a christmas story</td>\n",
       "      <td>1983</td>\n",
       "      <td>1983</td>\n",
       "      <td>1983</td>\n",
       "    </tr>\n",
       "    <tr>\n",
       "      <th>3</th>\n",
       "      <td>w40380</td>\n",
       "      <td>the vanishing (1993 film)</td>\n",
       "      <td>[$23 million]</td>\n",
       "      <td>\"[$14,543,394]\"</td>\n",
       "      <td>NaN</td>\n",
       "      <td>NaN</td>\n",
       "      <td>NaN</td>\n",
       "      <td>NaN</td>\n",
       "      <td>NaN</td>\n",
       "      <td>NaN</td>\n",
       "    </tr>\n",
       "    <tr>\n",
       "      <th>4</th>\n",
       "      <td>w21140</td>\n",
       "      <td>kundun</td>\n",
       "      <td>[$28]</td>\n",
       "      <td>[$5.7]</td>\n",
       "      <td>b7039</td>\n",
       "      <td>o6452</td>\n",
       "      <td>kundun</td>\n",
       "      <td>1997</td>\n",
       "      <td>1997</td>\n",
       "      <td>1997</td>\n",
       "    </tr>\n",
       "  </tbody>\n",
       "</table>\n",
       "</div>"
      ],
      "text/plain": [
       "  key_wiki                 wiki_title     wiki_budget       wiki_gross key_bom key_omdb         omdb_title year_bom_format year_wiki_format year_omdb_format\n",
       "0   w25445             the mod squad    [$50 million]  \"[$15,415,361]\"  b13998                                        1999             1999                 \n",
       "1   w24917         mickey (2004 film)    [$6 million]     \"[$294,758]\"     NaN      NaN                NaN             NaN              NaN              NaN\n",
       "2    w7258          a christmas story  [$3.2 million]  [$19.3 million]    b274   o22363  a christmas story            1983             1983             1983\n",
       "3   w40380  the vanishing (1993 film)   [$23 million]  \"[$14,543,394]\"     NaN      NaN                NaN             NaN              NaN              NaN\n",
       "4   w21140                     kundun           [$28]           [$5.7]   b7039    o6452             kundun            1997             1997             1997"
      ]
     },
     "execution_count": 14,
     "metadata": {},
     "output_type": "execute_result"
    }
   ],
   "source": [
    "#FETCHING KEYS FROM COMB_INDEX DF\n",
    "comb_index_f = comb_index[[\"key_bom\",\"key_wiki\",\"key_omdb\",\"omdb_title\",\"year_bom_format\",\n",
    "                           \"year_wiki_format\",\"year_omdb_format\"]]\n",
    "\n",
    "wiki_f_comb = pd.merge(wiki_f,comb_index_f,on = \"key_wiki\",how=\"left\")\n",
    "print(wiki_f_comb.shape)\n",
    "wiki_f_comb.head()"
   ]
  },
  {
   "cell_type": "code",
   "execution_count": 15,
   "metadata": {
    "collapsed": false
   },
   "outputs": [
    {
     "name": "stdout",
     "output_type": "stream",
     "text": [
      "(8029, 45)\n"
     ]
    },
    {
     "data": {
      "text/html": [
       "<div>\n",
       "<table border=\"1\" class=\"dataframe\">\n",
       "  <thead>\n",
       "    <tr style=\"text-align: right;\">\n",
       "      <th></th>\n",
       "      <th>bom_title</th>\n",
       "      <th>bom_link</th>\n",
       "      <th>key_bom</th>\n",
       "      <th>bom_date</th>\n",
       "      <th>bom_year</th>\n",
       "      <th>bom_name</th>\n",
       "      <th>bom_budget</th>\n",
       "      <th>bom_domestic_gross</th>\n",
       "      <th>bom_lifetime_gross</th>\n",
       "      <th>bom_release_date</th>\n",
       "      <th>bom_runtime</th>\n",
       "      <th>bom_distributor</th>\n",
       "      <th>bom_genre</th>\n",
       "      <th>bom_rating</th>\n",
       "      <th>bom_awards</th>\n",
       "      <th>bom_actor</th>\n",
       "      <th>bom_assoc_producer</th>\n",
       "      <th>bom_cinematographer</th>\n",
       "      <th>bom_composer</th>\n",
       "      <th>bom_director</th>\n",
       "      <th>bom_exec_producer</th>\n",
       "      <th>bom_line_producer</th>\n",
       "      <th>bom_players</th>\n",
       "      <th>bom_producer</th>\n",
       "      <th>bom_writer</th>\n",
       "      <th>bom_close_date</th>\n",
       "      <th>bom_domestic_summary</th>\n",
       "      <th>bom_in_release</th>\n",
       "      <th>bom_limited_opening_weekend</th>\n",
       "      <th>bom_opening_weekend</th>\n",
       "      <th>bom_wide_opening_weekend</th>\n",
       "      <th>bom_widest_release</th>\n",
       "      <th>bom_domestic_revenue</th>\n",
       "      <th>bom_foreign_revenue</th>\n",
       "      <th>bom_worldwide_revenue</th>\n",
       "      <th>bom_total_lifetime_gross</th>\n",
       "      <th>key_wiki</th>\n",
       "      <th>wiki_title</th>\n",
       "      <th>wiki_budget</th>\n",
       "      <th>wiki_gross</th>\n",
       "      <th>key_omdb</th>\n",
       "      <th>omdb_title</th>\n",
       "      <th>year_bom_format</th>\n",
       "      <th>year_wiki_format</th>\n",
       "      <th>year_omdb_format</th>\n",
       "    </tr>\n",
       "  </thead>\n",
       "  <tbody>\n",
       "    <tr>\n",
       "      <th>0</th>\n",
       "      <td>(500) days of summer</td>\n",
       "      <td>http://www.boxofficemojo.com/movies/?id=500daysofsummer.htm</td>\n",
       "      <td>b10</td>\n",
       "      <td>17-Jul-09</td>\n",
       "      <td>2009\\r</td>\n",
       "      <td>(500) Days of Summer</td>\n",
       "      <td>$7.5 million</td>\n",
       "      <td>32391374</td>\n",
       "      <td></td>\n",
       "      <td>17-Jul-09</td>\n",
       "      <td>1 hrs. 35 min.</td>\n",
       "      <td>Fox Searchlight</td>\n",
       "      <td>Romance</td>\n",
       "      <td>PG-13</td>\n",
       "      <td>No Academy Awards Information\\r</td>\n",
       "      <td>\"['Zooey Deschanel', 'Geoffrey Arend', 'Chloe Moretz', 'Clark Gregg', 'Minka Kelly*']\"</td>\n",
       "      <td></td>\n",
       "      <td></td>\n",
       "      <td>\"['Mychael Danna', 'Rob Simonsen']\"</td>\n",
       "      <td>['Marc Webb']</td>\n",
       "      <td></td>\n",
       "      <td></td>\n",
       "      <td></td>\n",
       "      <td>\"['Mason Novick', 'Mark S. Waters']\"</td>\n",
       "      <td>\"['Scott Neustadter', 'Michael H. Weber']\"\\r</td>\n",
       "      <td>\" November 22, 2009\"</td>\n",
       "      <td></td>\n",
       "      <td>133 days / 19 weeks</td>\n",
       "      <td>\"&lt;b&gt; $834,501&lt;/b&gt;\"</td>\n",
       "      <td></td>\n",
       "      <td>\"$3,739,702 \"</td>\n",
       "      <td>\" 1,048 theaters\"\\r</td>\n",
       "      <td>\"$32,391,374 \"</td>\n",
       "      <td>\"$28,331,360 \"</td>\n",
       "      <td>\"$60,722,734 \"</td>\n",
       "      <td>\\r</td>\n",
       "      <td></td>\n",
       "      <td></td>\n",
       "      <td></td>\n",
       "      <td></td>\n",
       "      <td></td>\n",
       "      <td></td>\n",
       "      <td></td>\n",
       "      <td></td>\n",
       "      <td></td>\n",
       "    </tr>\n",
       "    <tr>\n",
       "      <th>1</th>\n",
       "      <td>10 things i hate about you</td>\n",
       "      <td>http://www.boxofficemojo.com/movies/?id=10thingsihateaboutyou.htm</td>\n",
       "      <td>b24</td>\n",
       "      <td>31-Mar-99</td>\n",
       "      <td>1999\\r</td>\n",
       "      <td>10 Things I Hate About You</td>\n",
       "      <td>$30 million</td>\n",
       "      <td>38178166</td>\n",
       "      <td></td>\n",
       "      <td>31-Mar-99</td>\n",
       "      <td>1 hrs. 37 min.</td>\n",
       "      <td>Buena Vista</td>\n",
       "      <td>Romantic Comedy</td>\n",
       "      <td>PG-13</td>\n",
       "      <td>No Academy Awards Information\\r</td>\n",
       "      <td>\"['Julia Stiles', 'Heath Ledger']\"</td>\n",
       "      <td></td>\n",
       "      <td></td>\n",
       "      <td></td>\n",
       "      <td></td>\n",
       "      <td></td>\n",
       "      <td></td>\n",
       "      <td></td>\n",
       "      <td>\"['Jeffrey Chernov', 'Andrew Lazar']\"</td>\n",
       "      <td>\"['Karen McCullah Lutz', 'Kirsten Smith']\"\\r</td>\n",
       "      <td></td>\n",
       "      <td></td>\n",
       "      <td></td>\n",
       "      <td></td>\n",
       "      <td>\"$8,330,681 \"</td>\n",
       "      <td></td>\n",
       "      <td>\" 2,311 theaters\"\\r</td>\n",
       "      <td>\"$38,178,166 \"</td>\n",
       "      <td>\"$15,300,000 \"</td>\n",
       "      <td>\"$53,478,166 \"</td>\n",
       "      <td>\\r</td>\n",
       "      <td></td>\n",
       "      <td></td>\n",
       "      <td></td>\n",
       "      <td></td>\n",
       "      <td></td>\n",
       "      <td></td>\n",
       "      <td></td>\n",
       "      <td></td>\n",
       "      <td></td>\n",
       "    </tr>\n",
       "    <tr>\n",
       "      <th>2</th>\n",
       "      <td>\"10,000 b.c.\"</td>\n",
       "      <td>http://www.boxofficemojo.com/movies/?id=10000bc.htm</td>\n",
       "      <td>b27</td>\n",
       "      <td>7-Mar-08</td>\n",
       "      <td>2008\\r</td>\n",
       "      <td>\"10,000 B.C.\"</td>\n",
       "      <td>$105 million</td>\n",
       "      <td>94784201</td>\n",
       "      <td></td>\n",
       "      <td>7-Mar-08</td>\n",
       "      <td>1 hrs. 49 min.</td>\n",
       "      <td>Warner Bros.</td>\n",
       "      <td>Period Adventure</td>\n",
       "      <td>PG-13</td>\n",
       "      <td>No Academy Awards Information\\r</td>\n",
       "      <td>\"['Steven Strait', 'Camilla Belle']\"</td>\n",
       "      <td></td>\n",
       "      <td></td>\n",
       "      <td>\"['Harald Kloser', 'Thomas Wander']\"</td>\n",
       "      <td>['Roland Emmerich']</td>\n",
       "      <td></td>\n",
       "      <td></td>\n",
       "      <td></td>\n",
       "      <td>\"['Mark Gordon', 'Harald Kloser', 'Scott Mednick', 'Thomas Tull']\"</td>\n",
       "      <td>\"['Roland Emmerich', 'Harald Kloser']\"\\r</td>\n",
       "      <td>\" June 19, 2008\"</td>\n",
       "      <td></td>\n",
       "      <td>105 days / 15 weeks</td>\n",
       "      <td></td>\n",
       "      <td>\"$35,867,488 \"</td>\n",
       "      <td></td>\n",
       "      <td>\" 3,454 theaters\"\\r</td>\n",
       "      <td>\"$94,784,201 \"</td>\n",
       "      <td>\"$175,000,000 \"</td>\n",
       "      <td>\"$269,784,201 \"</td>\n",
       "      <td>\\r</td>\n",
       "      <td>w123</td>\n",
       "      <td>\"10,000 bc \"</td>\n",
       "      <td>[$105 million]</td>\n",
       "      <td>[$269.8 million]</td>\n",
       "      <td></td>\n",
       "      <td></td>\n",
       "      <td>2008</td>\n",
       "      <td>2008</td>\n",
       "      <td></td>\n",
       "    </tr>\n",
       "    <tr>\n",
       "      <th>3</th>\n",
       "      <td>102 dalmatians</td>\n",
       "      <td>http://www.boxofficemojo.com/movies/?id=102dalmatians.htm</td>\n",
       "      <td>b38</td>\n",
       "      <td>22-Nov-00</td>\n",
       "      <td>2000\\r</td>\n",
       "      <td>102 Dalmatians</td>\n",
       "      <td>$85 million</td>\n",
       "      <td>66957026</td>\n",
       "      <td></td>\n",
       "      <td>22-Nov-00</td>\n",
       "      <td>1 hrs. 44 min.</td>\n",
       "      <td>Buena Vista</td>\n",
       "      <td>Family Comedy</td>\n",
       "      <td>G</td>\n",
       "      <td>Nominated for One Oscar.\\r</td>\n",
       "      <td>\"['Glenn Close', 'Gerard Depardieu', 'Ioan Gruffudd']\"</td>\n",
       "      <td></td>\n",
       "      <td></td>\n",
       "      <td></td>\n",
       "      <td></td>\n",
       "      <td></td>\n",
       "      <td></td>\n",
       "      <td></td>\n",
       "      <td></td>\n",
       "      <td>\\r</td>\n",
       "      <td></td>\n",
       "      <td></td>\n",
       "      <td></td>\n",
       "      <td></td>\n",
       "      <td>\"$19,883,351 \"</td>\n",
       "      <td></td>\n",
       "      <td>\" 2,704 theaters\"\\r</td>\n",
       "      <td>\"$66,957,026 \"</td>\n",
       "      <td>\"$116,654,745 \"</td>\n",
       "      <td>\"$183,611,771 \"</td>\n",
       "      <td>\\r</td>\n",
       "      <td>w299</td>\n",
       "      <td>102 dalmatians</td>\n",
       "      <td>[$85 million]</td>\n",
       "      <td>[$183.6 million]</td>\n",
       "      <td>o10558</td>\n",
       "      <td>102 dalmatians</td>\n",
       "      <td>2000</td>\n",
       "      <td>2000</td>\n",
       "      <td>2000</td>\n",
       "    </tr>\n",
       "    <tr>\n",
       "      <th>4</th>\n",
       "      <td>10th &amp;amp; wolf</td>\n",
       "      <td>http://www.boxofficemojo.com/movies/?id=10thandwolf.htm</td>\n",
       "      <td>b39</td>\n",
       "      <td>18-Aug-06</td>\n",
       "      <td>2006\\r</td>\n",
       "      <td>10th &amp;amp; Wolf</td>\n",
       "      <td>$8 million</td>\n",
       "      <td>54702</td>\n",
       "      <td></td>\n",
       "      <td>18-Aug-06</td>\n",
       "      <td>1 hrs. 50 min.</td>\n",
       "      <td>ThinkFilm</td>\n",
       "      <td>Crime Drama</td>\n",
       "      <td>R</td>\n",
       "      <td>No Academy Awards Information\\r</td>\n",
       "      <td>\"['James Marsden', 'Giovanni Ribisi', 'Brad Renfro', 'Piper Perabo', 'Dennis Hopper', 'Lesley An...</td>\n",
       "      <td></td>\n",
       "      <td></td>\n",
       "      <td>['Aaron Zigman']</td>\n",
       "      <td></td>\n",
       "      <td></td>\n",
       "      <td></td>\n",
       "      <td></td>\n",
       "      <td></td>\n",
       "      <td>\\r</td>\n",
       "      <td>\" September 14, 2006\"</td>\n",
       "      <td></td>\n",
       "      <td>28 days / 4 weeks</td>\n",
       "      <td></td>\n",
       "      <td>\"$20,774 \"</td>\n",
       "      <td></td>\n",
       "      <td>6 theaters\\r</td>\n",
       "      <td>\"$54,702 \"</td>\n",
       "      <td>\"$88,749 \"</td>\n",
       "      <td>\"$143,451 \"</td>\n",
       "      <td>\\r</td>\n",
       "      <td></td>\n",
       "      <td></td>\n",
       "      <td></td>\n",
       "      <td></td>\n",
       "      <td></td>\n",
       "      <td></td>\n",
       "      <td></td>\n",
       "      <td></td>\n",
       "      <td></td>\n",
       "    </tr>\n",
       "  </tbody>\n",
       "</table>\n",
       "</div>"
      ],
      "text/plain": [
       "                    bom_title                                                           bom_link key_bom   bom_date bom_year                    bom_name    bom_budget bom_domestic_gross bom_lifetime_gross bom_release_date     bom_runtime  bom_distributor         bom_genre bom_rating                       bom_awards                                                                                            bom_actor bom_assoc_producer bom_cinematographer                          bom_composer         bom_director bom_exec_producer bom_line_producer bom_players                                                        bom_producer                                    bom_writer         bom_close_date bom_domestic_summary        bom_in_release bom_limited_opening_weekend bom_opening_weekend bom_wide_opening_weekend   bom_widest_release bom_domestic_revenue bom_foreign_revenue bom_worldwide_revenue bom_total_lifetime_gross key_wiki      wiki_title     wiki_budget        wiki_gross key_omdb  \\\n",
       "0        (500) days of summer        http://www.boxofficemojo.com/movies/?id=500daysofsummer.htm     b10  17-Jul-09   2009\\r        (500) Days of Summer  $7.5 million           32391374                           17-Jul-09  1 hrs. 35 min.  Fox Searchlight           Romance      PG-13  No Academy Awards Information\\r               \"['Zooey Deschanel', 'Geoffrey Arend', 'Chloe Moretz', 'Clark Gregg', 'Minka Kelly*']\"                                          \"['Mychael Danna', 'Rob Simonsen']\"        ['Marc Webb']                                                                                \"['Mason Novick', 'Mark S. Waters']\"  \"['Scott Neustadter', 'Michael H. Weber']\"\\r   \" November 22, 2009\"                        133 days / 19 weeks          \"<b> $834,501</b>\"                                \"$3,739,702 \"  \" 1,048 theaters\"\\r       \"$32,391,374 \"      \"$28,331,360 \"        \"$60,722,734 \"                       \\r                                                                       \n",
       "1  10 things i hate about you  http://www.boxofficemojo.com/movies/?id=10thingsihateaboutyou.htm     b24  31-Mar-99   1999\\r  10 Things I Hate About You   $30 million           38178166                           31-Mar-99  1 hrs. 37 min.      Buena Vista   Romantic Comedy      PG-13  No Academy Awards Information\\r                                                                   \"['Julia Stiles', 'Heath Ledger']\"                                                                                                                                                                                 \"['Jeffrey Chernov', 'Andrew Lazar']\"  \"['Karen McCullah Lutz', 'Kirsten Smith']\"\\r                                                                                                     \"$8,330,681 \"                           \" 2,311 theaters\"\\r       \"$38,178,166 \"      \"$15,300,000 \"        \"$53,478,166 \"                       \\r                                                                       \n",
       "2               \"10,000 b.c.\"                http://www.boxofficemojo.com/movies/?id=10000bc.htm     b27   7-Mar-08   2008\\r               \"10,000 B.C.\"  $105 million           94784201                            7-Mar-08  1 hrs. 49 min.     Warner Bros.  Period Adventure      PG-13  No Academy Awards Information\\r                                                                 \"['Steven Strait', 'Camilla Belle']\"                                         \"['Harald Kloser', 'Thomas Wander']\"  ['Roland Emmerich']                                                  \"['Mark Gordon', 'Harald Kloser', 'Scott Mednick', 'Thomas Tull']\"      \"['Roland Emmerich', 'Harald Kloser']\"\\r       \" June 19, 2008\"                        105 days / 15 weeks                                  \"$35,867,488 \"                           \" 3,454 theaters\"\\r       \"$94,784,201 \"     \"$175,000,000 \"       \"$269,784,201 \"                       \\r     w123    \"10,000 bc \"  [$105 million]  [$269.8 million]            \n",
       "3              102 dalmatians          http://www.boxofficemojo.com/movies/?id=102dalmatians.htm     b38  22-Nov-00   2000\\r              102 Dalmatians   $85 million           66957026                           22-Nov-00  1 hrs. 44 min.      Buena Vista     Family Comedy          G       Nominated for One Oscar.\\r                                               \"['Glenn Close', 'Gerard Depardieu', 'Ioan Gruffudd']\"                                                                                                                                                                                                                                                                  \\r                                                                                                    \"$19,883,351 \"                           \" 2,704 theaters\"\\r       \"$66,957,026 \"     \"$116,654,745 \"       \"$183,611,771 \"                       \\r     w299  102 dalmatians   [$85 million]  [$183.6 million]   o10558   \n",
       "4             10th &amp; wolf            http://www.boxofficemojo.com/movies/?id=10thandwolf.htm     b39  18-Aug-06   2006\\r             10th &amp; Wolf    $8 million              54702                           18-Aug-06  1 hrs. 50 min.        ThinkFilm       Crime Drama          R  No Academy Awards Information\\r  \"['James Marsden', 'Giovanni Ribisi', 'Brad Renfro', 'Piper Perabo', 'Dennis Hopper', 'Lesley An...                                                             ['Aaron Zigman']                                                                                                                                                                                     \\r  \" September 14, 2006\"                          28 days / 4 weeks                                      \"$20,774 \"                                  6 theaters\\r           \"$54,702 \"          \"$88,749 \"           \"$143,451 \"                       \\r                                                                       \n",
       "\n",
       "       omdb_title year_bom_format year_wiki_format year_omdb_format  \n",
       "0                                                                    \n",
       "1                                                                    \n",
       "2                            2008             2008                   \n",
       "3  102 dalmatians            2000             2000             2000  \n",
       "4                                                                    "
      ]
     },
     "execution_count": 15,
     "metadata": {},
     "output_type": "execute_result"
    }
   ],
   "source": [
    "wiki_bom_f_comb = pd.merge(bom_f,wiki_f_comb,on = \"key_bom\",how=\"outer\")\n",
    "print(wiki_bom_f_comb.shape)\n",
    "wiki_bom_f_comb = wiki_bom_f_comb.fillna(\"\")\n",
    "wiki_bom_f_comb.head()"
   ]
  },
  {
   "cell_type": "code",
   "execution_count": 16,
   "metadata": {
    "collapsed": false
   },
   "outputs": [
    {
     "name": "stdout",
     "output_type": "stream",
     "text": [
      "wiki unique keys (6936,)\n",
      "wiki not null (6935, 45)\n",
      "(8029, 42)\n"
     ]
    }
   ],
   "source": [
    "# Checking one last time for duplicate rows\n",
    "print('wiki unique keys',wiki_bom_f_comb['key_wiki'].unique().shape)\n",
    "a = wiki_bom_f_comb[wiki_bom_f_comb['key_wiki']!=\"\"]\n",
    "print('wiki not null',a.shape)\n",
    "\n",
    "# print the rows with where bom ky is duplicated\n",
    "k = a[a.duplicated(['key_wiki'])]['key_wiki'].tolist()\n",
    "wiki_bom_f_comb[wiki_bom_f_comb['key_wiki'].isin(k)]\n",
    "\n",
    "print(wiki_bom_f_comb.groupby(['key_omdb','key_bom','key_wiki']).count().shape)"
   ]
  },
  {
   "cell_type": "code",
   "execution_count": 17,
   "metadata": {
    "collapsed": false
   },
   "outputs": [
    {
     "name": "stdout",
     "output_type": "stream",
     "text": [
      "(6843, 14)\n"
     ]
    }
   ],
   "source": [
    "# Writing to CSV\n",
    "wiki_bom_f_comb = wiki_bom_f_comb[[\"key_bom\",\"key_wiki\",\"key_omdb\",\"bom_title\",\"wiki_title\",\"omdb_title\",\n",
    "                                  \"year_bom_format\",\"year_wiki_format\",\"year_omdb_format\",\n",
    "                                  \"wiki_budget\",\"wiki_gross\",\"bom_budget\",\"bom_domestic_gross\",\"bom_worldwide_revenue\"]]\n",
    "wiki_bom_f_comb = wiki_bom_f_comb[wiki_bom_f_comb['key_wiki'].str.startswith('w')]\n",
    "wiki_bom_f_comb = wiki_bom_f_comb[wiki_bom_f_comb['key_wiki']!=\"what now\"]\n",
    "wiki_bom_f_comb = wiki_bom_f_comb[wiki_bom_f_comb['key_wiki']!=\"winter of frozen dreams\"]\n",
    "wiki_bom_f_comb.reset_index(inplace=True,drop=True)\n",
    "print(wiki_bom_f_comb.shape)\n",
    "wiki_bom_f_comb.to_csv(\"CombinedFilev2.csv\",index = None)\n",
    "wiki_bom_f_comb.to_csv(\"combinedfilev2.txt\",sep=\"\\t\",index = None)"
   ]
  },
  {
   "cell_type": "code",
   "execution_count": 18,
   "metadata": {
    "collapsed": false
   },
   "outputs": [
    {
     "data": {
      "text/plain": [
       "(6843, 14)"
      ]
     },
     "execution_count": 18,
     "metadata": {},
     "output_type": "execute_result"
    }
   ],
   "source": [
    "wiki_bom_f_comb.shape"
   ]
  },
  {
   "cell_type": "markdown",
   "metadata": {},
   "source": [
    "CombinedFilev2.csv was uploaded into mysql. Table name: movies_final. This table acts as the base data file on which the data analysis is performed"
   ]
  }
 ],
 "metadata": {
  "kernelspec": {
   "display_name": "Python 3",
   "language": "python",
   "name": "python3"
  },
  "language_info": {
   "codemirror_mode": {
    "name": "ipython",
    "version": 3
   },
   "file_extension": ".py",
   "mimetype": "text/x-python",
   "name": "python",
   "nbconvert_exporter": "python",
   "pygments_lexer": "ipython3",
   "version": "3.5.3"
  }
 },
 "nbformat": 4,
 "nbformat_minor": 0
}
