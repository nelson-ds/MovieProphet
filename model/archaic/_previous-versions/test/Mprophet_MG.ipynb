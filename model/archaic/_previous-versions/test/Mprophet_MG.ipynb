{
 "cells": [
  {
   "cell_type": "code",
   "execution_count": 1,
   "metadata": {
    "collapsed": true
   },
   "outputs": [],
   "source": [
    "# Load libraries and instatiate DB connection\n",
    "\n",
    "%matplotlib inline\n",
    "import pandas as pd\n",
    "import pymysql\n",
    "import numpy as np\n",
    "import time\n",
    "import matplotlib.pyplot as plt\n",
    "\n",
    "pd.set_option('display.max_rows', 500)\n",
    "pd.set_option('display.max_colwidth', 100)\n",
    "pd.set_option('display.max_columns', 500)\n",
    "pd.set_option('display.width', 1000)\n",
    "pd.options.display.max_seq_items = 2000"
   ]
  },
  {
   "cell_type": "code",
   "execution_count": 2,
   "metadata": {
    "collapsed": true
   },
   "outputs": [],
   "source": [
    "# Connect to the database\n",
    "connection = pymysql.connect(host='localhost', user='root', password='mprophet', db='movies')\n",
    "\n",
    "# Pull table from database\n",
    "cur = connection.cursor()\n",
    "\n",
    "cur.execute(\"select * FROM bom\")\n",
    "bom_sql = []\n",
    "for row in cur: bom_sql.append(list(row))\n",
    "\n",
    "cur.execute(\"select * FROM wiki\")\n",
    "wiki_sql = []\n",
    "for row in cur: wiki_sql.append(list(row))\n",
    "    \n",
    "cur.execute(\"select * FROM omdb\")\n",
    "omdb_sql = []\n",
    "for row in cur: omdb_sql.append(list(row))\n",
    "    \n",
    "cur.execute(\"select * FROM comb_index\")\n",
    "comb_sql = []\n",
    "for row in cur: comb_sql.append(list(row))\n",
    "    \n",
    "#cur.execute(\"select * FROM movies_final\")\n",
    "#movie_sql = []\n",
    "#for row in cur: movie_sql.append(list(row))\n",
    "    \n",
    "cur.close()\n",
    "connection.close()"
   ]
  },
  {
   "cell_type": "code",
   "execution_count": 3,
   "metadata": {
    "collapsed": false
   },
   "outputs": [
    {
     "name": "stdout",
     "output_type": "stream",
     "text": [
      "Total movies from Box Office Mojo: 16826\n"
     ]
    },
    {
     "data": {
      "text/html": [
       "<div>\n",
       "<table border=\"1\" class=\"dataframe\">\n",
       "  <thead>\n",
       "    <tr style=\"text-align: right;\">\n",
       "      <th></th>\n",
       "      <th>bom_title</th>\n",
       "      <th>bom_link</th>\n",
       "      <th>key_bom</th>\n",
       "      <th>bom_date</th>\n",
       "      <th>bom_year</th>\n",
       "      <th>bom_name</th>\n",
       "      <th>bom_budget</th>\n",
       "      <th>bom_domestic_gross</th>\n",
       "      <th>bom_lifetime_gross</th>\n",
       "      <th>bom_release_date</th>\n",
       "      <th>bom_runtime</th>\n",
       "      <th>bom_distributor</th>\n",
       "      <th>bom_genre</th>\n",
       "      <th>bom_rating</th>\n",
       "      <th>bom_awards</th>\n",
       "      <th>bom_actor</th>\n",
       "      <th>bom_assoc_producer</th>\n",
       "      <th>bom_cinematographer</th>\n",
       "      <th>bom_composer</th>\n",
       "      <th>bom_director</th>\n",
       "      <th>bom_exec_producer</th>\n",
       "      <th>bom_line_producer</th>\n",
       "      <th>bom_players</th>\n",
       "      <th>bom_producer</th>\n",
       "      <th>bom_writer</th>\n",
       "      <th>bom_close_date</th>\n",
       "      <th>bom_domestic_summary</th>\n",
       "      <th>bom_in_release</th>\n",
       "      <th>bom_limited_opening_weekend</th>\n",
       "      <th>bom_opening_weekend</th>\n",
       "      <th>bom_wide_opening_weekend</th>\n",
       "      <th>bom_widest_release</th>\n",
       "      <th>bom_domestic_revenue</th>\n",
       "      <th>bom_foreign_revenue</th>\n",
       "      <th>bom_worldwide_revenue</th>\n",
       "      <th>bom_total_lifetime_gross</th>\n",
       "    </tr>\n",
       "  </thead>\n",
       "  <tbody>\n",
       "    <tr>\n",
       "      <th>0</th>\n",
       "      <td>#horror</td>\n",
       "      <td>http://www.boxofficemojo.com/movies/?id=horrorifc.htm</td>\n",
       "      <td>b0</td>\n",
       "      <td>20-Nov-15</td>\n",
       "      <td>2015\\r</td>\n",
       "      <td>#Horror</td>\n",
       "      <td>N/A</td>\n",
       "      <td></td>\n",
       "      <td></td>\n",
       "      <td>20-Nov-15</td>\n",
       "      <td>1 hrs. 30 min.</td>\n",
       "      <td>IFC</td>\n",
       "      <td>Horror</td>\n",
       "      <td>Unknown</td>\n",
       "      <td>No Academy Awards Information\\r</td>\n",
       "      <td>\"['Balthazar Getty', 'Timothy Hutton', 'Natasha Lyonne', 'Taryn Manning', 'Chloe Sevigny']\"</td>\n",
       "      <td></td>\n",
       "      <td></td>\n",
       "      <td></td>\n",
       "      <td></td>\n",
       "      <td></td>\n",
       "      <td></td>\n",
       "      <td></td>\n",
       "      <td></td>\n",
       "      <td>\\r</td>\n",
       "      <td></td>\n",
       "      <td>No Domestic Summary Information</td>\n",
       "      <td></td>\n",
       "      <td></td>\n",
       "      <td></td>\n",
       "      <td></td>\n",
       "      <td>\\r</td>\n",
       "      <td></td>\n",
       "      <td></td>\n",
       "      <td></td>\n",
       "      <td>No Total Lifetime Gross Information\\r</td>\n",
       "    </tr>\n",
       "  </tbody>\n",
       "</table>\n",
       "</div>"
      ],
      "text/plain": [
       "  bom_title                                               bom_link key_bom   bom_date bom_year bom_name bom_budget bom_domestic_gross bom_lifetime_gross bom_release_date     bom_runtime bom_distributor bom_genre bom_rating                       bom_awards                                                                                    bom_actor bom_assoc_producer bom_cinematographer bom_composer bom_director bom_exec_producer bom_line_producer bom_players bom_producer bom_writer bom_close_date             bom_domestic_summary bom_in_release bom_limited_opening_weekend bom_opening_weekend bom_wide_opening_weekend bom_widest_release bom_domestic_revenue bom_foreign_revenue bom_worldwide_revenue               bom_total_lifetime_gross\n",
       "0   #horror  http://www.boxofficemojo.com/movies/?id=horrorifc.htm      b0  20-Nov-15   2015\\r  #Horror        N/A                                              20-Nov-15  1 hrs. 30 min.             IFC    Horror    Unknown  No Academy Awards Information\\r  \"['Balthazar Getty', 'Timothy Hutton', 'Natasha Lyonne', 'Taryn Manning', 'Chloe Sevigny']\"                                                                                                                                       \\r                 No Domestic Summary Information                                                                                                         \\r                                                                 No Total Lifetime Gross Information\\r"
      ]
     },
     "execution_count": 3,
     "metadata": {},
     "output_type": "execute_result"
    }
   ],
   "source": [
    "# Store bom table information in DataFrame\n",
    "\n",
    "bom_columns =         ['bom_title', 'bom_link', 'key_bom', 'bom_date', 'bom_year', 'bom_name', 'bom_budget',\n",
    "                       'bom_domestic_gross', 'bom_lifetime_gross', 'bom_release_date', 'bom_runtime', 'bom_distributor',\n",
    "                       'bom_genre', 'bom_rating', 'bom_awards', 'bom_actor', 'bom_assoc_producer', 'bom_cinematographer',\n",
    "                       'bom_composer', 'bom_director', 'bom_exec_producer', 'bom_line_producer', 'bom_players', 'bom_producer',\n",
    "                       'bom_writer', 'bom_close_date', 'bom_domestic_summary', 'bom_in_release', 'bom_limited_opening_weekend',\n",
    "                       'bom_opening_weekend', 'bom_wide_opening_weekend', 'bom_widest_release', 'bom_domestic_revenue',\n",
    "                       'bom_foreign_revenue', 'bom_worldwide_revenue', 'bom_total_lifetime_gross']\n",
    "\n",
    "bom = pd.DataFrame(bom_sql, columns=bom_columns)\n",
    "#bom.to_csv('bom.csv')\n",
    "print('Total movies from Box Office Mojo:', len(bom))\n",
    "bom.head(1)"
   ]
  },
  {
   "cell_type": "code",
   "execution_count": 4,
   "metadata": {
    "collapsed": false
   },
   "outputs": [
    {
     "name": "stdout",
     "output_type": "stream",
     "text": [
      "Total movies from Wikipedia: 40981\n"
     ]
    },
    {
     "data": {
      "text/html": [
       "<div>\n",
       "<table border=\"1\" class=\"dataframe\">\n",
       "  <thead>\n",
       "    <tr style=\"text-align: right;\">\n",
       "      <th></th>\n",
       "      <th>wiki_budget</th>\n",
       "      <th>wiki_cinematography</th>\n",
       "      <th>wiki_director</th>\n",
       "      <th>wiki_distributor</th>\n",
       "      <th>wiki_editing</th>\n",
       "      <th>wiki_gross</th>\n",
       "      <th>wiki_music</th>\n",
       "      <th>wiki_pageid</th>\n",
       "      <th>wiki_producer</th>\n",
       "      <th>wiki_released</th>\n",
       "      <th>wiki_runtime</th>\n",
       "      <th>wiki_screenplay</th>\n",
       "      <th>wiki_starring</th>\n",
       "      <th>wiki_studio</th>\n",
       "      <th>wiki_title</th>\n",
       "      <th>key_wiki</th>\n",
       "      <th>year_wiki</th>\n",
       "      <th>year_wiki_format</th>\n",
       "    </tr>\n",
       "  </thead>\n",
       "  <tbody>\n",
       "    <tr>\n",
       "      <th>0</th>\n",
       "      <td></td>\n",
       "      <td>\"[Gilbert Salas, Heather Rae]\"</td>\n",
       "      <td>[Heather Rae]</td>\n",
       "      <td>[]</td>\n",
       "      <td>\"[Gregory Bayne, Heather Rae]\"</td>\n",
       "      <td></td>\n",
       "      <td>[John Trudell &amp; Bad Dog]</td>\n",
       "      <td>5975700</td>\n",
       "      <td>\"[Heather Rae, Elyse Katz]\"</td>\n",
       "      <td>\"[2005, 01, 20, Sundance Film Festival, 2006, 02, 24, United States]\"</td>\n",
       "      <td>[80 minutes]</td>\n",
       "      <td></td>\n",
       "      <td>[]</td>\n",
       "      <td></td>\n",
       "      <td>trudell</td>\n",
       "      <td>w39443</td>\n",
       "      <td>None</td>\n",
       "      <td>None</td>\n",
       "    </tr>\n",
       "  </tbody>\n",
       "</table>\n",
       "</div>"
      ],
      "text/plain": [
       "  wiki_budget             wiki_cinematography  wiki_director wiki_distributor                    wiki_editing wiki_gross                wiki_music wiki_pageid                wiki_producer                                                          wiki_released  wiki_runtime wiki_screenplay wiki_starring wiki_studio wiki_title key_wiki year_wiki year_wiki_format\n",
       "0              \"[Gilbert Salas, Heather Rae]\"  [Heather Rae]               []  \"[Gregory Bayne, Heather Rae]\"             [John Trudell & Bad Dog]     5975700  \"[Heather Rae, Elyse Katz]\"  \"[2005, 01, 20, Sundance Film Festival, 2006, 02, 24, United States]\"  [80 minutes]                            []                trudell   w39443      None             None"
      ]
     },
     "execution_count": 4,
     "metadata": {},
     "output_type": "execute_result"
    }
   ],
   "source": [
    "wiki_columns = ['wiki_budget',\n",
    "                \"wiki_cinematography\",\"wiki_director\",\"wiki_distributor\", \n",
    "                \"wiki_editing\", \"wiki_gross\" , \"wiki_music\", \n",
    "                \"wiki_pageid\", \"wiki_producer\", \"wiki_released\", \n",
    "                \"wiki_runtime\", \"wiki_screenplay\", \"wiki_starring\", \n",
    "                \"wiki_studio\",\"wiki_title\", \"key_wiki\", \"year_wiki\",\n",
    "                \"year_wiki_format\"];\n",
    "\n",
    "wiki = pd.DataFrame(wiki_sql, columns=wiki_columns)\n",
    "#bom.to_csv('bom.csv')\n",
    "print('Total movies from Wikipedia:', len(wiki))\n",
    "\n",
    "wiki['key_wiki'] = [str(v).lstrip() for v in wiki['key_wiki']]\n",
    "wiki['key_wiki']= [str(v).rstrip() for v in wiki['key_wiki']]\n",
    "\n",
    "wiki.head(1)"
   ]
  },
  {
   "cell_type": "code",
   "execution_count": 5,
   "metadata": {
    "collapsed": false
   },
   "outputs": [
    {
     "name": "stdout",
     "output_type": "stream",
     "text": [
      "Total movies from Omdb: 23254\n"
     ]
    },
    {
     "data": {
      "text/html": [
       "<div>\n",
       "<table border=\"1\" class=\"dataframe\">\n",
       "  <thead>\n",
       "    <tr style=\"text-align: right;\">\n",
       "      <th></th>\n",
       "      <th>omdb_movie_id</th>\n",
       "      <th>omdb_movie_year</th>\n",
       "      <th>omdb_title</th>\n",
       "      <th>omdb_rated</th>\n",
       "      <th>omdb_response</th>\n",
       "      <th>omdb_language</th>\n",
       "      <th>omdb_country</th>\n",
       "      <th>omdb_metascore</th>\n",
       "      <th>omdb_imdbrating</th>\n",
       "      <th>omdb_released</th>\n",
       "      <th>omdb_runtime</th>\n",
       "      <th>omdb_type</th>\n",
       "      <th>omdb_poster</th>\n",
       "      <th>omdb_imdbvotes</th>\n",
       "      <th>omdb_awards</th>\n",
       "      <th>omdb_genres</th>\n",
       "      <th>omdb_actors</th>\n",
       "      <th>omdb_directors</th>\n",
       "      <th>omdb_writers</th>\n",
       "      <th>omdb_plot</th>\n",
       "      <th>key_omdb</th>\n",
       "    </tr>\n",
       "  </thead>\n",
       "  <tbody>\n",
       "    <tr>\n",
       "      <th>0</th>\n",
       "      <td>1</td>\n",
       "      <td>1933</td>\n",
       "      <td>A Bedtime Story</td>\n",
       "      <td>N/A</td>\n",
       "      <td>None</td>\n",
       "      <td>English, French</td>\n",
       "      <td>USA</td>\n",
       "      <td>N/A</td>\n",
       "      <td>None</td>\n",
       "      <td>22 Apr 1933</td>\n",
       "      <td>87 min</td>\n",
       "      <td>movie</td>\n",
       "      <td>https://images-na.ssl-images-amazon.com/images/M/MV5BODhjZWY3ZjQtN2RjNy00ZTE4LTgzMmQtYmEyMzc0N2M...</td>\n",
       "      <td>None</td>\n",
       "      <td>N/A</td>\n",
       "      <td>Musical|Romance|Comedy</td>\n",
       "      <td>Maurice Chevalier|Helen Twelvetrees|Edward Everett Horton|Adrienne Ames</td>\n",
       "      <td>Norman Taurog</td>\n",
       "      <td>Roy Horniman (novel)|Benjamin Glazer (adaptation)|Nunnally Johnson (screenplay)|Waldemar Young (...</td>\n",
       "      <td>Parisian playboy plays father to an abandoned baby who interferes with his womanizing.</td>\n",
       "      <td>o0</td>\n",
       "    </tr>\n",
       "  </tbody>\n",
       "</table>\n",
       "</div>"
      ],
      "text/plain": [
       "   omdb_movie_id  omdb_movie_year       omdb_title omdb_rated omdb_response    omdb_language omdb_country omdb_metascore omdb_imdbrating omdb_released omdb_runtime omdb_type                                                                                          omdb_poster omdb_imdbvotes omdb_awards             omdb_genres                                                              omdb_actors omdb_directors                                                                                         omdb_writers                                                                               omdb_plot key_omdb\n",
       "0              1             1933  A Bedtime Story        N/A          None  English, French          USA            N/A            None   22 Apr 1933       87 min     movie  https://images-na.ssl-images-amazon.com/images/M/MV5BODhjZWY3ZjQtN2RjNy00ZTE4LTgzMmQtYmEyMzc0N2M...           None         N/A  Musical|Romance|Comedy  Maurice Chevalier|Helen Twelvetrees|Edward Everett Horton|Adrienne Ames  Norman Taurog  Roy Horniman (novel)|Benjamin Glazer (adaptation)|Nunnally Johnson (screenplay)|Waldemar Young (...  Parisian playboy plays father to an abandoned baby who interferes with his womanizing.       o0"
      ]
     },
     "execution_count": 5,
     "metadata": {},
     "output_type": "execute_result"
    }
   ],
   "source": [
    "omdb_columns = [\"omdb_movie_id\", \"omdb_movie_year\", \"omdb_title\", \"omdb_rated\", \"omdb_response\", \n",
    "                 \"omdb_language\" , \"omdb_country\", \"omdb_metascore\", \"omdb_imdbrating\", \"omdb_released\",\n",
    "                 \"omdb_runtime\", \"omdb_type\", \"omdb_poster\", \"omdb_imdbvotes\", \"omdb_awards\", \"omdb_genres\",\n",
    "                 \"omdb_actors\", \"omdb_directors\",\"omdb_writers\",\"omdb_plot\",\"key_omdb\"]\n",
    "\n",
    "omdb = pd.DataFrame(omdb_sql, columns=omdb_columns)\n",
    "#bom.to_csv('bom.csv')\n",
    "print('Total movies from Omdb:', len(omdb))\n",
    "\n",
    "omdb.head(1)"
   ]
  },
  {
   "cell_type": "code",
   "execution_count": 6,
   "metadata": {
    "collapsed": false
   },
   "outputs": [
    {
     "name": "stdout",
     "output_type": "stream",
     "text": [
      "Total movies in combined file: 24665\n"
     ]
    },
    {
     "data": {
      "text/html": [
       "<div>\n",
       "<table border=\"1\" class=\"dataframe\">\n",
       "  <thead>\n",
       "    <tr style=\"text-align: right;\">\n",
       "      <th></th>\n",
       "      <th>key_bom</th>\n",
       "      <th>key_wiki</th>\n",
       "      <th>key_omdb</th>\n",
       "      <th>bom_title</th>\n",
       "      <th>wiki_title</th>\n",
       "      <th>omdb_title</th>\n",
       "      <th>year_bom</th>\n",
       "      <th>year_bom_format</th>\n",
       "      <th>year_wiki</th>\n",
       "      <th>year_wiki_format</th>\n",
       "      <th>year_omdb</th>\n",
       "      <th>year_omdb_format</th>\n",
       "      <th>score</th>\n",
       "    </tr>\n",
       "  </thead>\n",
       "  <tbody>\n",
       "    <tr>\n",
       "      <th>0</th>\n",
       "      <td>b15584</td>\n",
       "      <td>w39443</td>\n",
       "      <td>o18495</td>\n",
       "      <td>trudell</td>\n",
       "      <td>trudell</td>\n",
       "      <td>trudell</td>\n",
       "      <td>3-Feb-06</td>\n",
       "      <td>2006</td>\n",
       "      <td>2005</td>\n",
       "      <td>2005</td>\n",
       "      <td>20-Jan-05</td>\n",
       "      <td>2005</td>\n",
       "      <td>1\\r</td>\n",
       "    </tr>\n",
       "    <tr>\n",
       "      <th>1</th>\n",
       "      <td>b14216</td>\n",
       "      <td>w28904</td>\n",
       "      <td>o12944</td>\n",
       "      <td>the party at kitty and stud's</td>\n",
       "      <td>the party at kitty and stud's</td>\n",
       "      <td>the party at kitty and stud's</td>\n",
       "      <td>6-Jul-76</td>\n",
       "      <td>1976</td>\n",
       "      <td>1970</td>\n",
       "      <td>1970</td>\n",
       "      <td>10-Feb-70</td>\n",
       "      <td>1970</td>\n",
       "      <td>1\\r</td>\n",
       "    </tr>\n",
       "    <tr>\n",
       "      <th>2</th>\n",
       "      <td></td>\n",
       "      <td>w4957</td>\n",
       "      <td>o17832</td>\n",
       "      <td></td>\n",
       "      <td>borrowed wives</td>\n",
       "      <td>borrowed wives</td>\n",
       "      <td></td>\n",
       "      <td></td>\n",
       "      <td>20-Aug</td>\n",
       "      <td>20-Aug</td>\n",
       "      <td>20-Aug-30</td>\n",
       "      <td>1930</td>\n",
       "      <td>1\\r</td>\n",
       "    </tr>\n",
       "    <tr>\n",
       "      <th>3</th>\n",
       "      <td></td>\n",
       "      <td>w40302</td>\n",
       "      <td>o15689</td>\n",
       "      <td></td>\n",
       "      <td>the vagabond trail</td>\n",
       "      <td>the vagabond trail</td>\n",
       "      <td></td>\n",
       "      <td></td>\n",
       "      <td>9-Mar</td>\n",
       "      <td>9-Mar</td>\n",
       "      <td>9-Mar-24</td>\n",
       "      <td>1924</td>\n",
       "      <td>1\\r</td>\n",
       "    </tr>\n",
       "    <tr>\n",
       "      <th>4</th>\n",
       "      <td></td>\n",
       "      <td>w11443</td>\n",
       "      <td>o9690</td>\n",
       "      <td></td>\n",
       "      <td>eddie's million dollar cook-off</td>\n",
       "      <td>eddie's million dollar cook-off</td>\n",
       "      <td></td>\n",
       "      <td></td>\n",
       "      <td>2003</td>\n",
       "      <td>2003</td>\n",
       "      <td>18-Jul-03</td>\n",
       "      <td>2003</td>\n",
       "      <td>1\\r</td>\n",
       "    </tr>\n",
       "  </tbody>\n",
       "</table>\n",
       "</div>"
      ],
      "text/plain": [
       "  key_bom key_wiki key_omdb                      bom_title                       wiki_title                       omdb_title  year_bom year_bom_format year_wiki year_wiki_format  year_omdb year_omdb_format score\n",
       "0  b15584   w39443   o18495                        trudell                          trudell                          trudell  3-Feb-06            2006      2005             2005  20-Jan-05             2005   1\\r\n",
       "1  b14216   w28904   o12944  the party at kitty and stud's    the party at kitty and stud's    the party at kitty and stud's  6-Jul-76            1976      1970             1970  10-Feb-70             1970   1\\r\n",
       "2            w4957   o17832                                                  borrowed wives                   borrowed wives                              20-Aug           20-Aug  20-Aug-30             1930   1\\r\n",
       "3           w40302   o15689                                              the vagabond trail               the vagabond trail                               9-Mar            9-Mar   9-Mar-24             1924   1\\r\n",
       "4           w11443    o9690                                 eddie's million dollar cook-off  eddie's million dollar cook-off                                2003             2003  18-Jul-03             2003   1\\r"
      ]
     },
     "execution_count": 6,
     "metadata": {},
     "output_type": "execute_result"
    }
   ],
   "source": [
    "comb_columns = [\"key_bom\",\"key_wiki\",\"key_omdb\",\"bom_title\",\"wiki_title\",\"omdb_title\",\"year_bom\",\n",
    "               \"year_bom_format\",\"year_wiki\", \"year_wiki_format\", \"year_omdb\", \"year_omdb_format\",\"score\"]\n",
    "comb_index = pd.DataFrame(comb_sql, columns=comb_columns)\n",
    "#bom.to_csv('bom.csv')\n",
    "print('Total movies in combined file:', len(comb_index))\n",
    "comb_index.head()"
   ]
  },
  {
   "cell_type": "markdown",
   "metadata": {},
   "source": [
    "##### Creating the combined data (to be loaded into the table movies_final)\n",
    "\n",
    "* Remove duplicate rows from wiki\n",
    "* Remove duplicate indexes frim comb_index\n",
    "* Fetching movies with only budget and gross information\n",
    "      > For bom, fetch movie if either bom_domestic_gross or bom_worldwide_revenue information is available"
   ]
  },
  {
   "cell_type": "code",
   "execution_count": 7,
   "metadata": {
    "collapsed": false
   },
   "outputs": [
    {
     "name": "stdout",
     "output_type": "stream",
     "text": [
      "(40746,)\n",
      "(40981, 18)\n",
      "(40746, 18)\n"
     ]
    }
   ],
   "source": [
    "# Removing duplicate rows from wiki\n",
    "wiki = wiki.fillna(\"\")\n",
    "print(wiki['key_wiki'].unique().shape)\n",
    "print(wiki.shape)\n",
    "wiki = wiki.drop_duplicates(['key_wiki'],keep ='last')\n",
    "print(wiki.shape)"
   ]
  },
  {
   "cell_type": "code",
   "execution_count": 8,
   "metadata": {
    "collapsed": false
   },
   "outputs": [
    {
     "name": "stdout",
     "output_type": "stream",
     "text": [
      "(24665, 13)\n",
      "bom unique keys (7096,)\n",
      "bom not null (7112, 13)\n",
      "Shape, combined_index after dropping bom duplicates (24647, 13)\n"
     ]
    }
   ],
   "source": [
    "# CLEANING COMB_INDEX FOR DUPLICATES\n",
    "print(comb_index.shape)\n",
    "\n",
    "print('bom unique keys',comb_index['key_bom'].unique().shape)\n",
    "a = comb_index[comb_index['key_bom']!=\"\"]\n",
    "print('bom not null',a.shape)\n",
    "\n",
    "# print the rows with where bom ky is duplicated\n",
    "k = a[a.duplicated(['key_bom'])]['key_bom'].tolist()\n",
    "#comb_index[comb_index['key_bom'].isin(k)]\n",
    "\n",
    "# deleting duplicate rows\n",
    "comb_index = comb_index.drop(comb_index.index[[7626,16978,22685,23066,23068,23155,23975,24029,24036,24054,24093,\n",
    "                                              24103,24120,24123,24174,24257,24268,24269]])\n",
    "\n",
    "comb_index.reset_index(inplace = True,drop =True)\n",
    "print('Shape, combined_index after dropping bom duplicates',comb_index.shape)"
   ]
  },
  {
   "cell_type": "code",
   "execution_count": 9,
   "metadata": {
    "collapsed": false
   },
   "outputs": [
    {
     "name": "stdout",
     "output_type": "stream",
     "text": [
      "omdb unique keys (21893,)\n",
      "omdb not null (21894, 13)\n",
      "Shape, combined_index after dropping omdb duplicates (24645, 13)\n"
     ]
    }
   ],
   "source": [
    "print('omdb unique keys',comb_index['key_omdb'].unique().shape)\n",
    "a = comb_index[comb_index['key_omdb']!=\"\"]\n",
    "print('omdb not null',a.shape)\n",
    "\n",
    "# print the rows with where bom ky is duplicated\n",
    "k = a[a.duplicated(['key_omdb'])]['key_omdb'].tolist()\n",
    "comb_index[comb_index['key_omdb'].isin(k)]\n",
    "\n",
    "# deleting duplicate rows\n",
    "comb_index = comb_index.drop(comb_index.index[[15696,21655]])\n",
    "\n",
    "comb_index.reset_index(inplace = True,drop =True)\n",
    "print('Shape, combined_index after dropping omdb duplicates',comb_index.shape)"
   ]
  },
  {
   "cell_type": "code",
   "execution_count": 10,
   "metadata": {
    "collapsed": false
   },
   "outputs": [
    {
     "name": "stdout",
     "output_type": "stream",
     "text": [
      "wiki unique keys (24621,)\n",
      "wiki not null (24645, 13)\n",
      "Shape, combined_index after dropping wiki duplicates (24619, 13)\n"
     ]
    }
   ],
   "source": [
    "print('wiki unique keys',comb_index['key_wiki'].unique().shape)\n",
    "a = comb_index[comb_index['key_wiki']!=\"\"]\n",
    "print('wiki not null',a.shape)\n",
    "\n",
    "# print the rows with where bom ky is duplicated\n",
    "k = a[a.duplicated(['key_wiki'])]['key_wiki'].tolist()\n",
    "comb_index[comb_index['key_wiki'].isin(k)]\n",
    "\n",
    "# deleting duplicate rows\n",
    "comb_index = comb_index.drop(comb_index.index[[1895,22386,22420,23060,23091,23854,23901,23944,24000,24006,\n",
    "                                              24016,24022,24025,24066,24090,24094,24171,24264,24299,24383,24402,\n",
    "                                              24454,24619,24643,24289,24401]])\n",
    "\n",
    "comb_index.reset_index(inplace = True,drop =True)\n",
    "print('Shape, combined_index after dropping wiki duplicates',comb_index.shape)"
   ]
  },
  {
   "cell_type": "code",
   "execution_count": 11,
   "metadata": {
    "collapsed": false
   },
   "outputs": [
    {
     "name": "stdout",
     "output_type": "stream",
     "text": [
      "(7070,)\n",
      "(24619,)\n",
      "(21892,)\n",
      "(24619, 10)\n",
      "COMBINED INDEX AFTER REMOVING DUPLICATE KEYS:  (24619, 13)\n"
     ]
    }
   ],
   "source": [
    "print(comb_index['key_bom'].unique().shape)\n",
    "print(comb_index['key_wiki'].unique().shape)\n",
    "print(comb_index['key_omdb'].unique().shape)\n",
    "\n",
    "print(comb_index.groupby(['key_omdb','key_bom','key_wiki']).count().shape)\n",
    "\n",
    "comb_index = comb_index.drop_duplicates(['key_omdb','key_bom','key_wiki'],keep='last')\n",
    "print(\"COMBINED INDEX AFTER REMOVING DUPLICATE KEYS: \", comb_index.shape)"
   ]
  },
  {
   "cell_type": "code",
   "execution_count": 12,
   "metadata": {
    "collapsed": false
   },
   "outputs": [
    {
     "name": "stdout",
     "output_type": "stream",
     "text": [
      "no:of movies in bom where budget is not null:\n",
      "(3114, 36)\n",
      "no:of movies in bom where budget and bom_domestic_gross is not null:\n",
      "(3066, 36)\n",
      "no:of movies in bom where budget and bom_worldwide_revenue is not null:\n",
      "(2530, 36)\n",
      "Bom movies with budget/gross (domestic or worldwide) info:  (3076, 5)\n"
     ]
    },
    {
     "name": "stderr",
     "output_type": "stream",
     "text": [
      "/home/ubuntu/anaconda3/lib/python3.5/site-packages/pandas/core/frame.py:1997: UserWarning: Boolean Series key will be reindexed to match DataFrame index.\n",
      "  \"DataFrame index.\", UserWarning)\n"
     ]
    }
   ],
   "source": [
    "# Filtering wiki for data for which wiki_budget and wiki_gross exists\n",
    "print(\"no:of movies in bom where budget is not null:\")\n",
    "print(bom[(bom.bom_budget!=\"\") & (bom.bom_budget!=\"N/A\")].shape)\n",
    "bom['bom_budget'] = [str(v).lstrip() for v in bom['bom_budget']]\n",
    "bom['bom_budget']= [str(v).rstrip() for v in bom['bom_budget']]\n",
    "\n",
    "print(\"no:of movies in bom where budget and bom_domestic_gross is not null:\")\n",
    "f = bom.bom_domestic_gross\n",
    "print(bom[(bom.bom_budget!=\"\") & (bom.bom_budget!=\"N/A\") & (f!=\"\")].shape)\n",
    "\n",
    "print(\"no:of movies in bom where budget and bom_worldwide_revenue is not null:\")\n",
    "g = bom.bom_worldwide_revenue\n",
    "print(bom[(bom.bom_budget!=\"\") & (bom.bom_budget!=\"N/A\") & (g!=\"\")].shape)\n",
    "\n",
    "bom_f = bom[(bom.bom_budget!=\"\") & (bom.bom_budget!=\"N/A\")]\n",
    "bom_f1 = bom_f[(f!=\"\")|(g!=\"\")]\n",
    "bom_f1.reset_index()\n",
    "\n",
    "bom_f1= bom_f1[[\"key_bom\",\"bom_title\",\"bom_budget\",\"bom_domestic_gross\",\"bom_worldwide_revenue\"]]\n",
    "print(\"Bom movies with budget/gross (domestic or worldwide) info: \", bom_f1.shape)\n"
   ]
  },
  {
   "cell_type": "code",
   "execution_count": 13,
   "metadata": {
    "collapsed": false
   },
   "outputs": [
    {
     "name": "stdout",
     "output_type": "stream",
     "text": [
      "no:of movies in wiki where budget and gross revenue is not null:\n",
      "(6935, 18)\n",
      "Wiki movies with budget gross information (6935, 4)\n"
     ]
    }
   ],
   "source": [
    "# Filtering the rows and intersted columns\n",
    "print(\"no:of movies in wiki where budget and gross revenue is not null:\")\n",
    "print(wiki[(wiki.wiki_budget!=\"\") & (wiki.wiki_gross!=\"\")].shape)\n",
    "\n",
    "wiki_f = wiki[(wiki.wiki_budget!=\"\") & (wiki.wiki_gross!=\"\")]\n",
    "wiki_f = wiki_f[[\"key_wiki\",\"wiki_title\",\"wiki_budget\",\"wiki_gross\"]]\n",
    "print(\"Wiki movies with budget gross information\", wiki_f.shape)\n"
   ]
  },
  {
   "cell_type": "code",
   "execution_count": 14,
   "metadata": {
    "collapsed": false
   },
   "outputs": [
    {
     "name": "stdout",
     "output_type": "stream",
     "text": [
      "(6935, 10)\n"
     ]
    },
    {
     "data": {
      "text/html": [
       "<div>\n",
       "<table border=\"1\" class=\"dataframe\">\n",
       "  <thead>\n",
       "    <tr style=\"text-align: right;\">\n",
       "      <th></th>\n",
       "      <th>key_wiki</th>\n",
       "      <th>wiki_title</th>\n",
       "      <th>wiki_budget</th>\n",
       "      <th>wiki_gross</th>\n",
       "      <th>key_bom</th>\n",
       "      <th>key_omdb</th>\n",
       "      <th>omdb_title</th>\n",
       "      <th>year_bom_format</th>\n",
       "      <th>year_wiki_format</th>\n",
       "      <th>year_omdb_format</th>\n",
       "    </tr>\n",
       "  </thead>\n",
       "  <tbody>\n",
       "    <tr>\n",
       "      <th>0</th>\n",
       "      <td>w25445</td>\n",
       "      <td>the mod squad</td>\n",
       "      <td>[$50 million]</td>\n",
       "      <td>\"[$15,415,361]\"</td>\n",
       "      <td>b13998</td>\n",
       "      <td></td>\n",
       "      <td></td>\n",
       "      <td>1999</td>\n",
       "      <td>1999</td>\n",
       "      <td></td>\n",
       "    </tr>\n",
       "    <tr>\n",
       "      <th>1</th>\n",
       "      <td>w24917</td>\n",
       "      <td>mickey (2004 film)</td>\n",
       "      <td>[$6 million]</td>\n",
       "      <td>\"[$294,758]\"</td>\n",
       "      <td>NaN</td>\n",
       "      <td>NaN</td>\n",
       "      <td>NaN</td>\n",
       "      <td>NaN</td>\n",
       "      <td>NaN</td>\n",
       "      <td>NaN</td>\n",
       "    </tr>\n",
       "    <tr>\n",
       "      <th>2</th>\n",
       "      <td>w7258</td>\n",
       "      <td>a christmas story</td>\n",
       "      <td>[$3.2 million]</td>\n",
       "      <td>[$19.3 million]</td>\n",
       "      <td>b274</td>\n",
       "      <td>o22363</td>\n",
       "      <td>a christmas story</td>\n",
       "      <td>1983</td>\n",
       "      <td>1983</td>\n",
       "      <td>1983</td>\n",
       "    </tr>\n",
       "    <tr>\n",
       "      <th>3</th>\n",
       "      <td>w40380</td>\n",
       "      <td>the vanishing (1993 film)</td>\n",
       "      <td>[$23 million]</td>\n",
       "      <td>\"[$14,543,394]\"</td>\n",
       "      <td>NaN</td>\n",
       "      <td>NaN</td>\n",
       "      <td>NaN</td>\n",
       "      <td>NaN</td>\n",
       "      <td>NaN</td>\n",
       "      <td>NaN</td>\n",
       "    </tr>\n",
       "    <tr>\n",
       "      <th>4</th>\n",
       "      <td>w21140</td>\n",
       "      <td>kundun</td>\n",
       "      <td>[$28]</td>\n",
       "      <td>[$5.7]</td>\n",
       "      <td>b7039</td>\n",
       "      <td>o6452</td>\n",
       "      <td>kundun</td>\n",
       "      <td>1997</td>\n",
       "      <td>1997</td>\n",
       "      <td>1997</td>\n",
       "    </tr>\n",
       "  </tbody>\n",
       "</table>\n",
       "</div>"
      ],
      "text/plain": [
       "  key_wiki                 wiki_title     wiki_budget       wiki_gross key_bom key_omdb         omdb_title year_bom_format year_wiki_format year_omdb_format\n",
       "0   w25445             the mod squad    [$50 million]  \"[$15,415,361]\"  b13998                                        1999             1999                 \n",
       "1   w24917         mickey (2004 film)    [$6 million]     \"[$294,758]\"     NaN      NaN                NaN             NaN              NaN              NaN\n",
       "2    w7258          a christmas story  [$3.2 million]  [$19.3 million]    b274   o22363  a christmas story            1983             1983             1983\n",
       "3   w40380  the vanishing (1993 film)   [$23 million]  \"[$14,543,394]\"     NaN      NaN                NaN             NaN              NaN              NaN\n",
       "4   w21140                     kundun           [$28]           [$5.7]   b7039    o6452             kundun            1997             1997             1997"
      ]
     },
     "execution_count": 14,
     "metadata": {},
     "output_type": "execute_result"
    }
   ],
   "source": [
    "#FETCHING KEYS FROM COMB_INDEX DF\n",
    "comb_index_f = comb_index[[\"key_bom\",\"key_wiki\",\"key_omdb\",\"omdb_title\",\"year_bom_format\",\n",
    "                           \"year_wiki_format\",\"year_omdb_format\"]]\n",
    "\n",
    "wiki_f_comb = pd.merge(wiki_f,comb_index_f,on = \"key_wiki\",how=\"left\")\n",
    "print(wiki_f_comb.shape)\n",
    "wiki_f_comb.head()"
   ]
  },
  {
   "cell_type": "code",
   "execution_count": 15,
   "metadata": {
    "collapsed": false
   },
   "outputs": [
    {
     "name": "stdout",
     "output_type": "stream",
     "text": [
      "(8029, 45)\n"
     ]
    },
    {
     "data": {
      "text/html": [
       "<div>\n",
       "<table border=\"1\" class=\"dataframe\">\n",
       "  <thead>\n",
       "    <tr style=\"text-align: right;\">\n",
       "      <th></th>\n",
       "      <th>bom_title</th>\n",
       "      <th>bom_link</th>\n",
       "      <th>key_bom</th>\n",
       "      <th>bom_date</th>\n",
       "      <th>bom_year</th>\n",
       "      <th>bom_name</th>\n",
       "      <th>bom_budget</th>\n",
       "      <th>bom_domestic_gross</th>\n",
       "      <th>bom_lifetime_gross</th>\n",
       "      <th>bom_release_date</th>\n",
       "      <th>bom_runtime</th>\n",
       "      <th>bom_distributor</th>\n",
       "      <th>bom_genre</th>\n",
       "      <th>bom_rating</th>\n",
       "      <th>bom_awards</th>\n",
       "      <th>bom_actor</th>\n",
       "      <th>bom_assoc_producer</th>\n",
       "      <th>bom_cinematographer</th>\n",
       "      <th>bom_composer</th>\n",
       "      <th>bom_director</th>\n",
       "      <th>bom_exec_producer</th>\n",
       "      <th>bom_line_producer</th>\n",
       "      <th>bom_players</th>\n",
       "      <th>bom_producer</th>\n",
       "      <th>bom_writer</th>\n",
       "      <th>bom_close_date</th>\n",
       "      <th>bom_domestic_summary</th>\n",
       "      <th>bom_in_release</th>\n",
       "      <th>bom_limited_opening_weekend</th>\n",
       "      <th>bom_opening_weekend</th>\n",
       "      <th>bom_wide_opening_weekend</th>\n",
       "      <th>bom_widest_release</th>\n",
       "      <th>bom_domestic_revenue</th>\n",
       "      <th>bom_foreign_revenue</th>\n",
       "      <th>bom_worldwide_revenue</th>\n",
       "      <th>bom_total_lifetime_gross</th>\n",
       "      <th>key_wiki</th>\n",
       "      <th>wiki_title</th>\n",
       "      <th>wiki_budget</th>\n",
       "      <th>wiki_gross</th>\n",
       "      <th>key_omdb</th>\n",
       "      <th>omdb_title</th>\n",
       "      <th>year_bom_format</th>\n",
       "      <th>year_wiki_format</th>\n",
       "      <th>year_omdb_format</th>\n",
       "    </tr>\n",
       "  </thead>\n",
       "  <tbody>\n",
       "    <tr>\n",
       "      <th>0</th>\n",
       "      <td>(500) days of summer</td>\n",
       "      <td>http://www.boxofficemojo.com/movies/?id=500daysofsummer.htm</td>\n",
       "      <td>b10</td>\n",
       "      <td>17-Jul-09</td>\n",
       "      <td>2009\\r</td>\n",
       "      <td>(500) Days of Summer</td>\n",
       "      <td>$7.5 million</td>\n",
       "      <td>32391374</td>\n",
       "      <td></td>\n",
       "      <td>17-Jul-09</td>\n",
       "      <td>1 hrs. 35 min.</td>\n",
       "      <td>Fox Searchlight</td>\n",
       "      <td>Romance</td>\n",
       "      <td>PG-13</td>\n",
       "      <td>No Academy Awards Information\\r</td>\n",
       "      <td>\"['Zooey Deschanel', 'Geoffrey Arend', 'Chloe Moretz', 'Clark Gregg', 'Minka Kelly*']\"</td>\n",
       "      <td></td>\n",
       "      <td></td>\n",
       "      <td>\"['Mychael Danna', 'Rob Simonsen']\"</td>\n",
       "      <td>['Marc Webb']</td>\n",
       "      <td></td>\n",
       "      <td></td>\n",
       "      <td></td>\n",
       "      <td>\"['Mason Novick', 'Mark S. Waters']\"</td>\n",
       "      <td>\"['Scott Neustadter', 'Michael H. Weber']\"\\r</td>\n",
       "      <td>\" November 22, 2009\"</td>\n",
       "      <td></td>\n",
       "      <td>133 days / 19 weeks</td>\n",
       "      <td>\"&lt;b&gt; $834,501&lt;/b&gt;\"</td>\n",
       "      <td></td>\n",
       "      <td>\"$3,739,702 \"</td>\n",
       "      <td>\" 1,048 theaters\"\\r</td>\n",
       "      <td>\"$32,391,374 \"</td>\n",
       "      <td>\"$28,331,360 \"</td>\n",
       "      <td>\"$60,722,734 \"</td>\n",
       "      <td>\\r</td>\n",
       "      <td></td>\n",
       "      <td></td>\n",
       "      <td></td>\n",
       "      <td></td>\n",
       "      <td></td>\n",
       "      <td></td>\n",
       "      <td></td>\n",
       "      <td></td>\n",
       "      <td></td>\n",
       "    </tr>\n",
       "    <tr>\n",
       "      <th>1</th>\n",
       "      <td>10 things i hate about you</td>\n",
       "      <td>http://www.boxofficemojo.com/movies/?id=10thingsihateaboutyou.htm</td>\n",
       "      <td>b24</td>\n",
       "      <td>31-Mar-99</td>\n",
       "      <td>1999\\r</td>\n",
       "      <td>10 Things I Hate About You</td>\n",
       "      <td>$30 million</td>\n",
       "      <td>38178166</td>\n",
       "      <td></td>\n",
       "      <td>31-Mar-99</td>\n",
       "      <td>1 hrs. 37 min.</td>\n",
       "      <td>Buena Vista</td>\n",
       "      <td>Romantic Comedy</td>\n",
       "      <td>PG-13</td>\n",
       "      <td>No Academy Awards Information\\r</td>\n",
       "      <td>\"['Julia Stiles', 'Heath Ledger']\"</td>\n",
       "      <td></td>\n",
       "      <td></td>\n",
       "      <td></td>\n",
       "      <td></td>\n",
       "      <td></td>\n",
       "      <td></td>\n",
       "      <td></td>\n",
       "      <td>\"['Jeffrey Chernov', 'Andrew Lazar']\"</td>\n",
       "      <td>\"['Karen McCullah Lutz', 'Kirsten Smith']\"\\r</td>\n",
       "      <td></td>\n",
       "      <td></td>\n",
       "      <td></td>\n",
       "      <td></td>\n",
       "      <td>\"$8,330,681 \"</td>\n",
       "      <td></td>\n",
       "      <td>\" 2,311 theaters\"\\r</td>\n",
       "      <td>\"$38,178,166 \"</td>\n",
       "      <td>\"$15,300,000 \"</td>\n",
       "      <td>\"$53,478,166 \"</td>\n",
       "      <td>\\r</td>\n",
       "      <td></td>\n",
       "      <td></td>\n",
       "      <td></td>\n",
       "      <td></td>\n",
       "      <td></td>\n",
       "      <td></td>\n",
       "      <td></td>\n",
       "      <td></td>\n",
       "      <td></td>\n",
       "    </tr>\n",
       "    <tr>\n",
       "      <th>2</th>\n",
       "      <td>\"10,000 b.c.\"</td>\n",
       "      <td>http://www.boxofficemojo.com/movies/?id=10000bc.htm</td>\n",
       "      <td>b27</td>\n",
       "      <td>7-Mar-08</td>\n",
       "      <td>2008\\r</td>\n",
       "      <td>\"10,000 B.C.\"</td>\n",
       "      <td>$105 million</td>\n",
       "      <td>94784201</td>\n",
       "      <td></td>\n",
       "      <td>7-Mar-08</td>\n",
       "      <td>1 hrs. 49 min.</td>\n",
       "      <td>Warner Bros.</td>\n",
       "      <td>Period Adventure</td>\n",
       "      <td>PG-13</td>\n",
       "      <td>No Academy Awards Information\\r</td>\n",
       "      <td>\"['Steven Strait', 'Camilla Belle']\"</td>\n",
       "      <td></td>\n",
       "      <td></td>\n",
       "      <td>\"['Harald Kloser', 'Thomas Wander']\"</td>\n",
       "      <td>['Roland Emmerich']</td>\n",
       "      <td></td>\n",
       "      <td></td>\n",
       "      <td></td>\n",
       "      <td>\"['Mark Gordon', 'Harald Kloser', 'Scott Mednick', 'Thomas Tull']\"</td>\n",
       "      <td>\"['Roland Emmerich', 'Harald Kloser']\"\\r</td>\n",
       "      <td>\" June 19, 2008\"</td>\n",
       "      <td></td>\n",
       "      <td>105 days / 15 weeks</td>\n",
       "      <td></td>\n",
       "      <td>\"$35,867,488 \"</td>\n",
       "      <td></td>\n",
       "      <td>\" 3,454 theaters\"\\r</td>\n",
       "      <td>\"$94,784,201 \"</td>\n",
       "      <td>\"$175,000,000 \"</td>\n",
       "      <td>\"$269,784,201 \"</td>\n",
       "      <td>\\r</td>\n",
       "      <td>w123</td>\n",
       "      <td>\"10,000 bc \"</td>\n",
       "      <td>[$105 million]</td>\n",
       "      <td>[$269.8 million]</td>\n",
       "      <td></td>\n",
       "      <td></td>\n",
       "      <td>2008</td>\n",
       "      <td>2008</td>\n",
       "      <td></td>\n",
       "    </tr>\n",
       "    <tr>\n",
       "      <th>3</th>\n",
       "      <td>102 dalmatians</td>\n",
       "      <td>http://www.boxofficemojo.com/movies/?id=102dalmatians.htm</td>\n",
       "      <td>b38</td>\n",
       "      <td>22-Nov-00</td>\n",
       "      <td>2000\\r</td>\n",
       "      <td>102 Dalmatians</td>\n",
       "      <td>$85 million</td>\n",
       "      <td>66957026</td>\n",
       "      <td></td>\n",
       "      <td>22-Nov-00</td>\n",
       "      <td>1 hrs. 44 min.</td>\n",
       "      <td>Buena Vista</td>\n",
       "      <td>Family Comedy</td>\n",
       "      <td>G</td>\n",
       "      <td>Nominated for One Oscar.\\r</td>\n",
       "      <td>\"['Glenn Close', 'Gerard Depardieu', 'Ioan Gruffudd']\"</td>\n",
       "      <td></td>\n",
       "      <td></td>\n",
       "      <td></td>\n",
       "      <td></td>\n",
       "      <td></td>\n",
       "      <td></td>\n",
       "      <td></td>\n",
       "      <td></td>\n",
       "      <td>\\r</td>\n",
       "      <td></td>\n",
       "      <td></td>\n",
       "      <td></td>\n",
       "      <td></td>\n",
       "      <td>\"$19,883,351 \"</td>\n",
       "      <td></td>\n",
       "      <td>\" 2,704 theaters\"\\r</td>\n",
       "      <td>\"$66,957,026 \"</td>\n",
       "      <td>\"$116,654,745 \"</td>\n",
       "      <td>\"$183,611,771 \"</td>\n",
       "      <td>\\r</td>\n",
       "      <td>w299</td>\n",
       "      <td>102 dalmatians</td>\n",
       "      <td>[$85 million]</td>\n",
       "      <td>[$183.6 million]</td>\n",
       "      <td>o10558</td>\n",
       "      <td>102 dalmatians</td>\n",
       "      <td>2000</td>\n",
       "      <td>2000</td>\n",
       "      <td>2000</td>\n",
       "    </tr>\n",
       "    <tr>\n",
       "      <th>4</th>\n",
       "      <td>10th &amp;amp; wolf</td>\n",
       "      <td>http://www.boxofficemojo.com/movies/?id=10thandwolf.htm</td>\n",
       "      <td>b39</td>\n",
       "      <td>18-Aug-06</td>\n",
       "      <td>2006\\r</td>\n",
       "      <td>10th &amp;amp; Wolf</td>\n",
       "      <td>$8 million</td>\n",
       "      <td>54702</td>\n",
       "      <td></td>\n",
       "      <td>18-Aug-06</td>\n",
       "      <td>1 hrs. 50 min.</td>\n",
       "      <td>ThinkFilm</td>\n",
       "      <td>Crime Drama</td>\n",
       "      <td>R</td>\n",
       "      <td>No Academy Awards Information\\r</td>\n",
       "      <td>\"['James Marsden', 'Giovanni Ribisi', 'Brad Renfro', 'Piper Perabo', 'Dennis Hopper', 'Lesley An...</td>\n",
       "      <td></td>\n",
       "      <td></td>\n",
       "      <td>['Aaron Zigman']</td>\n",
       "      <td></td>\n",
       "      <td></td>\n",
       "      <td></td>\n",
       "      <td></td>\n",
       "      <td></td>\n",
       "      <td>\\r</td>\n",
       "      <td>\" September 14, 2006\"</td>\n",
       "      <td></td>\n",
       "      <td>28 days / 4 weeks</td>\n",
       "      <td></td>\n",
       "      <td>\"$20,774 \"</td>\n",
       "      <td></td>\n",
       "      <td>6 theaters\\r</td>\n",
       "      <td>\"$54,702 \"</td>\n",
       "      <td>\"$88,749 \"</td>\n",
       "      <td>\"$143,451 \"</td>\n",
       "      <td>\\r</td>\n",
       "      <td></td>\n",
       "      <td></td>\n",
       "      <td></td>\n",
       "      <td></td>\n",
       "      <td></td>\n",
       "      <td></td>\n",
       "      <td></td>\n",
       "      <td></td>\n",
       "      <td></td>\n",
       "    </tr>\n",
       "  </tbody>\n",
       "</table>\n",
       "</div>"
      ],
      "text/plain": [
       "                    bom_title                                                           bom_link key_bom   bom_date bom_year                    bom_name    bom_budget bom_domestic_gross bom_lifetime_gross bom_release_date     bom_runtime  bom_distributor         bom_genre bom_rating                       bom_awards                                                                                            bom_actor bom_assoc_producer bom_cinematographer                          bom_composer         bom_director bom_exec_producer bom_line_producer bom_players                                                        bom_producer                                    bom_writer         bom_close_date bom_domestic_summary        bom_in_release bom_limited_opening_weekend bom_opening_weekend bom_wide_opening_weekend   bom_widest_release bom_domestic_revenue bom_foreign_revenue bom_worldwide_revenue bom_total_lifetime_gross key_wiki      wiki_title     wiki_budget        wiki_gross key_omdb  \\\n",
       "0        (500) days of summer        http://www.boxofficemojo.com/movies/?id=500daysofsummer.htm     b10  17-Jul-09   2009\\r        (500) Days of Summer  $7.5 million           32391374                           17-Jul-09  1 hrs. 35 min.  Fox Searchlight           Romance      PG-13  No Academy Awards Information\\r               \"['Zooey Deschanel', 'Geoffrey Arend', 'Chloe Moretz', 'Clark Gregg', 'Minka Kelly*']\"                                          \"['Mychael Danna', 'Rob Simonsen']\"        ['Marc Webb']                                                                                \"['Mason Novick', 'Mark S. Waters']\"  \"['Scott Neustadter', 'Michael H. Weber']\"\\r   \" November 22, 2009\"                        133 days / 19 weeks          \"<b> $834,501</b>\"                                \"$3,739,702 \"  \" 1,048 theaters\"\\r       \"$32,391,374 \"      \"$28,331,360 \"        \"$60,722,734 \"                       \\r                                                                       \n",
       "1  10 things i hate about you  http://www.boxofficemojo.com/movies/?id=10thingsihateaboutyou.htm     b24  31-Mar-99   1999\\r  10 Things I Hate About You   $30 million           38178166                           31-Mar-99  1 hrs. 37 min.      Buena Vista   Romantic Comedy      PG-13  No Academy Awards Information\\r                                                                   \"['Julia Stiles', 'Heath Ledger']\"                                                                                                                                                                                 \"['Jeffrey Chernov', 'Andrew Lazar']\"  \"['Karen McCullah Lutz', 'Kirsten Smith']\"\\r                                                                                                     \"$8,330,681 \"                           \" 2,311 theaters\"\\r       \"$38,178,166 \"      \"$15,300,000 \"        \"$53,478,166 \"                       \\r                                                                       \n",
       "2               \"10,000 b.c.\"                http://www.boxofficemojo.com/movies/?id=10000bc.htm     b27   7-Mar-08   2008\\r               \"10,000 B.C.\"  $105 million           94784201                            7-Mar-08  1 hrs. 49 min.     Warner Bros.  Period Adventure      PG-13  No Academy Awards Information\\r                                                                 \"['Steven Strait', 'Camilla Belle']\"                                         \"['Harald Kloser', 'Thomas Wander']\"  ['Roland Emmerich']                                                  \"['Mark Gordon', 'Harald Kloser', 'Scott Mednick', 'Thomas Tull']\"      \"['Roland Emmerich', 'Harald Kloser']\"\\r       \" June 19, 2008\"                        105 days / 15 weeks                                  \"$35,867,488 \"                           \" 3,454 theaters\"\\r       \"$94,784,201 \"     \"$175,000,000 \"       \"$269,784,201 \"                       \\r     w123    \"10,000 bc \"  [$105 million]  [$269.8 million]            \n",
       "3              102 dalmatians          http://www.boxofficemojo.com/movies/?id=102dalmatians.htm     b38  22-Nov-00   2000\\r              102 Dalmatians   $85 million           66957026                           22-Nov-00  1 hrs. 44 min.      Buena Vista     Family Comedy          G       Nominated for One Oscar.\\r                                               \"['Glenn Close', 'Gerard Depardieu', 'Ioan Gruffudd']\"                                                                                                                                                                                                                                                                  \\r                                                                                                    \"$19,883,351 \"                           \" 2,704 theaters\"\\r       \"$66,957,026 \"     \"$116,654,745 \"       \"$183,611,771 \"                       \\r     w299  102 dalmatians   [$85 million]  [$183.6 million]   o10558   \n",
       "4             10th &amp; wolf            http://www.boxofficemojo.com/movies/?id=10thandwolf.htm     b39  18-Aug-06   2006\\r             10th &amp; Wolf    $8 million              54702                           18-Aug-06  1 hrs. 50 min.        ThinkFilm       Crime Drama          R  No Academy Awards Information\\r  \"['James Marsden', 'Giovanni Ribisi', 'Brad Renfro', 'Piper Perabo', 'Dennis Hopper', 'Lesley An...                                                             ['Aaron Zigman']                                                                                                                                                                                     \\r  \" September 14, 2006\"                          28 days / 4 weeks                                      \"$20,774 \"                                  6 theaters\\r           \"$54,702 \"          \"$88,749 \"           \"$143,451 \"                       \\r                                                                       \n",
       "\n",
       "       omdb_title year_bom_format year_wiki_format year_omdb_format  \n",
       "0                                                                    \n",
       "1                                                                    \n",
       "2                            2008             2008                   \n",
       "3  102 dalmatians            2000             2000             2000  \n",
       "4                                                                    "
      ]
     },
     "execution_count": 15,
     "metadata": {},
     "output_type": "execute_result"
    }
   ],
   "source": [
    "wiki_bom_f_comb = pd.merge(bom_f,wiki_f_comb,on = \"key_bom\",how=\"outer\")\n",
    "print(wiki_bom_f_comb.shape)\n",
    "wiki_bom_f_comb = wiki_bom_f_comb.fillna(\"\")\n",
    "wiki_bom_f_comb.head()"
   ]
  },
  {
   "cell_type": "code",
   "execution_count": 16,
   "metadata": {
    "collapsed": false
   },
   "outputs": [
    {
     "name": "stdout",
     "output_type": "stream",
     "text": [
      "wiki unique keys (6936,)\n",
      "wiki not null (6935, 45)\n",
      "(8029, 42)\n"
     ]
    }
   ],
   "source": [
    "# Checking one last time for duplicate rows\n",
    "print('wiki unique keys',wiki_bom_f_comb['key_wiki'].unique().shape)\n",
    "a = wiki_bom_f_comb[wiki_bom_f_comb['key_wiki']!=\"\"]\n",
    "print('wiki not null',a.shape)\n",
    "\n",
    "# print the rows with where bom ky is duplicated\n",
    "k = a[a.duplicated(['key_wiki'])]['key_wiki'].tolist()\n",
    "wiki_bom_f_comb[wiki_bom_f_comb['key_wiki'].isin(k)]\n",
    "\n",
    "print(wiki_bom_f_comb.groupby(['key_omdb','key_bom','key_wiki']).count().shape)"
   ]
  },
  {
   "cell_type": "code",
   "execution_count": 17,
   "metadata": {
    "collapsed": false
   },
   "outputs": [
    {
     "name": "stdout",
     "output_type": "stream",
     "text": [
      "(6843, 14)\n"
     ]
    }
   ],
   "source": [
    "# Writing to CSV\n",
    "wiki_bom_f_comb = wiki_bom_f_comb[[\"key_bom\",\"key_wiki\",\"key_omdb\",\"bom_title\",\"wiki_title\",\"omdb_title\",\n",
    "                                  \"year_bom_format\",\"year_wiki_format\",\"year_omdb_format\",\n",
    "                                  \"wiki_budget\",\"wiki_gross\",\"bom_budget\",\"bom_domestic_gross\",\"bom_worldwide_revenue\"]]\n",
    "wiki_bom_f_comb = wiki_bom_f_comb[wiki_bom_f_comb['key_wiki'].str.startswith('w')]\n",
    "wiki_bom_f_comb = wiki_bom_f_comb[wiki_bom_f_comb['key_wiki']!=\"what now\"]\n",
    "wiki_bom_f_comb = wiki_bom_f_comb[wiki_bom_f_comb['key_wiki']!=\"winter of frozen dreams\"]\n",
    "wiki_bom_f_comb.reset_index(inplace=True,drop=True)\n",
    "print(wiki_bom_f_comb.shape)\n",
    "wiki_bom_f_comb.to_csv(\"CombinedFilev2.csv\",index = None)\n",
    "wiki_bom_f_comb.to_csv(\"combinedfilev2.txt\",sep=\"\\t\",index = None)"
   ]
  },
  {
   "cell_type": "code",
   "execution_count": null,
   "metadata": {
    "collapsed": false
   },
   "outputs": [],
   "source": [
    "wiki_bom_f_comb.shape"
   ]
  },
  {
   "cell_type": "code",
   "execution_count": null,
   "metadata": {
    "collapsed": false
   },
   "outputs": [],
   "source": [
    "wiki_bom_f_comb['key_wiki'].unique().shape"
   ]
  },
  {
   "cell_type": "code",
   "execution_count": null,
   "metadata": {
    "collapsed": false
   },
   "outputs": [],
   "source": [
    "wiki_bom_f_comb['key_bom'].unique().shape"
   ]
  },
  {
   "cell_type": "code",
   "execution_count": null,
   "metadata": {
    "collapsed": false
   },
   "outputs": [],
   "source": [
    "wiki_bom_f_comb['key_omdb'].unique().shape"
   ]
  },
  {
   "cell_type": "markdown",
   "metadata": {},
   "source": [
    "###### Note: CombinedFilev2.csv contains the movies with budget and gross information. All the features will be engineered on thie data"
   ]
  },
  {
   "cell_type": "markdown",
   "metadata": {},
   "source": [
    "##### CLEANING THE REVENUE, BUDGET COLUMN"
   ]
  },
  {
   "cell_type": "code",
   "execution_count": null,
   "metadata": {
    "collapsed": false
   },
   "outputs": [],
   "source": [
    "movie_df = pd.read_csv(\"CombinedFilev2.csv\")\n",
    "print(movie_df.shape)\n",
    "movie_df = movie_df.fillna(\"\")\n",
    "movie_df.head(2)"
   ]
  },
  {
   "cell_type": "code",
   "execution_count": null,
   "metadata": {
    "collapsed": false
   },
   "outputs": [],
   "source": [
    "# Wiki keys with wierd budget\n",
    "wk = pd.read_csv(\"key.txt\",sep=\"\\n\",header=None)\n",
    "wk_list =wk[0].tolist()\n",
    "\n",
    "movie_df = movie_df[~movie_df['key_wiki'].isin(wk_list)]\n",
    "movie_df.reset_index(inplace=True,drop=True)\n",
    "movie_df.shape"
   ]
  },
  {
   "cell_type": "code",
   "execution_count": null,
   "metadata": {
    "collapsed": false
   },
   "outputs": [],
   "source": [
    "# Collecting movies missed from J-W\n",
    "# CHeck movies in bom with budget and gross that are not present in 'movie_df'\n",
    "# bom_f1 contains list of movies inbom whose budget and gross is not null\n",
    "\n",
    "f = bom.bom_domestic_gross\n",
    "g = bom.bom_worldwide_revenue\n",
    "\n",
    "bom_f = bom[(bom.bom_budget!=\"\") & (bom.bom_budget!=\"N/A\")]\n",
    "bom_f1 = bom_f[(f!=\"\")|(g!=\"\")]\n",
    "bom_f1.reset_index()\n",
    "bom_f1= bom_f1[[\"key_bom\",\"bom_title\",\"bom_budget\",\"bom_domestic_gross\",\"bom_worldwide_revenue\"]]\n",
    "\n",
    "bk = set(bom_f1['key_bom'])\n",
    "bk_present = set(movie_df['key_bom'])\n",
    "\n",
    "print(\"bom movies with budget/gross info missed in current data\", len(bk-bk_present))\n",
    "\n",
    "bk_rem = bk-bk_present\n",
    "# Appending the movies to the current dataset movie_df\n",
    "bom_rem = bom_f1[bom_f1['key_bom'].isin(bk_rem)]\n",
    "bom_rem.shape\n",
    "movie_df = movie_df.append(bom_rem,ignore_index = True)\n",
    "print(\"Movie dataset after adding bom movies\", movie_df.shape)"
   ]
  },
  {
   "cell_type": "code",
   "execution_count": null,
   "metadata": {
    "collapsed": false
   },
   "outputs": [],
   "source": [
    "# Cleaning bom budget and revenue\n",
    "movie_df.loc[movie_df.bom_budget == \"\",'bom_budget']= movie_df.loc[movie_df.bom_budget==\"\",'bom_budget'].apply(lambda x: float(x.replace('', '0.0')))\n",
    "movie_df.loc[movie_df.bom_domestic_gross == \"\",'bom_domestic_gross']= movie_df.loc[movie_df.bom_domestic_gross==\"\",'bom_domestic_gross'].apply(lambda x: float(x.replace('', '0.0')))\n",
    "movie_df.loc[movie_df.bom_worldwide_revenue == \"\",'bom_worldwide_revenue'] = movie_df.loc[movie_df.bom_worldwide_revenue==\"\",'bom_worldwide_revenue'].apply(lambda x: float(x.replace('', '0.0')))\n",
    "\n",
    "import warnings\n",
    "warnings.filterwarnings('ignore')\n",
    "\n",
    "movie_df['bom_budget'] = movie_df['bom_budget'].str.replace('$','')\n",
    "movie_df['bom_budget'] = movie_df['bom_budget'].str.replace('\"','')\n",
    "movie_df['bom_budget'] = movie_df['bom_budget'].str.replace(',','')\n",
    "\n",
    "for r in range(0,movie_df.shape[0]):\n",
    "    s = str(movie_df.loc[r,'bom_budget'])\n",
    "    if(\"million\" in s):\n",
    "        movie_df.loc[r,'bom_budget'] = movie_df.loc[r,'bom_budget'].replace(\"million\",\"\")\n",
    "        movie_df.loc[r,'bom_budget'] = float(movie_df.loc[r,'bom_budget'])*1000000\n",
    "    else:\n",
    "        movie_df.loc[r,'bom_budget'] = float(movie_df.loc[r,'bom_budget'])\n",
    "\n",
    "movie_df['bom_domestic_gross'] = movie_df['bom_domestic_gross'].astype(float)\n",
    "\n",
    "movie_df['bom_worldwide_revenue'] = movie_df['bom_worldwide_revenue'].str.replace('$','')\n",
    "movie_df['bom_worldwide_revenue'] = movie_df['bom_worldwide_revenue'].str.replace('\"','')\n",
    "movie_df['bom_worldwide_revenue'] = movie_df['bom_worldwide_revenue'].str.replace(',','')\n",
    "movie_df['bom_worldwide_revenue'] = movie_df['bom_worldwide_revenue'].str.replace('n/a','')\n",
    "\n",
    "movie_df.loc[movie_df.bom_worldwide_revenue == \"\",'bom_worldwide_revenue'] = movie_df.loc[movie_df.bom_worldwide_revenue==\"\",'bom_worldwide_revenue'].apply(lambda x: float(x.replace('', '0.0')))\n",
    "\n",
    "\n",
    "for r in range(0,movie_df.shape[0]):\n",
    "    #print(movie_df.loc[r,'bom_worldwide_revenue'])\n",
    "    movie_df.loc[r,'bom_worldwide_revenue'] = float(movie_df.loc[r,'bom_worldwide_revenue'])\n"
   ]
  },
  {
   "cell_type": "code",
   "execution_count": null,
   "metadata": {
    "collapsed": false
   },
   "outputs": [],
   "source": [
    "# Cleaning wikipedia budget and gross column\n",
    "print(movie_df.shape)\n",
    "import warnings\n",
    "warnings.filterwarnings('ignore')\n",
    "\n",
    "t = movie_df\n",
    "t = t.fillna(\"\")\n",
    "\n",
    "t['wiki_budget'] = [v.lower() for k,v in t['wiki_budget'].iteritems()]\n",
    "t['wiki_gross'] = [v.lower() for k,v in t['wiki_gross'].iteritems()]\n",
    "\n",
    "t['wiki_budget'] = t['wiki_budget'].str.replace(\"million\",\"#\")\n",
    "t['wiki_gross'] = t['wiki_gross'].str.replace(\"million\",\"#\")\n",
    "\n",
    "t['wiki_budget'] = t['wiki_budget'].str.replace(\"billion\",\"~\")\n",
    "t['wiki_gross'] = t['wiki_gross'].str.replace(\"billion\",\"~\")\n",
    "\n",
    "\n",
    "t['wiki_budget'] = t['wiki_budget'].str.replace(\"[\",\"\")\n",
    "t['wiki_budget'] = t['wiki_budget'].str.replace(\"]\",\"\")\n",
    "t['wiki_gross'] = t['wiki_gross'].str.replace(\"[\",\"\")\n",
    "t['wiki_gross'] = t['wiki_gross'].str.replace(\"]\",\"\")\n",
    "\n",
    "def make_hidden(instr):\n",
    "    return ''.join(c if not c.isalpha() else '' for c in instr)\n",
    "import re\n",
    "def make_hidden_1(instr):\n",
    "    return ''.join(re.sub('[^#.~0-9]+', '', instr))\n",
    "\n",
    "t['wiki_budget'] = t['wiki_budget'].apply(make_hidden)\n",
    "t['wiki_budget'] = t['wiki_budget'].apply(make_hidden_1)\n",
    "t['wiki_gross'] = t['wiki_gross'].apply(make_hidden)\n",
    "t['wiki_gross'] = t['wiki_gross'].apply(make_hidden_1)\n",
    "\n",
    "def counter(instr):\n",
    "    return str(instr).count('.')\n",
    "\n",
    "for k,v in t.wiki_gross.iteritems():\n",
    "    if(counter(v)>=2):\n",
    "        t = t.drop(k)\n",
    "        \n",
    "for k,v in t.wiki_budget.iteritems():\n",
    "    if(counter(v)>=2):\n",
    "        t = t.drop(k)\n",
    "\n",
    "def make_hidden_2(instr):\n",
    "    if instr!=\"\":\n",
    "        if instr[-1]==\".\":\n",
    "            return instr[:-1]\n",
    "        else:\n",
    "            return instr\n",
    "    \n",
    "t['wiki_budget'] = t['wiki_budget'].apply(make_hidden_2)\n",
    "t['wiki_gross'] = t['wiki_gross'].apply(make_hidden_2)\n",
    "        \n",
    "t.reset_index(inplace=True,drop=True)\n",
    "print(\"Shape of final dataset after cleaning wiki budget and revenue\",t.shape)"
   ]
  },
  {
   "cell_type": "code",
   "execution_count": null,
   "metadata": {
    "collapsed": false
   },
   "outputs": [],
   "source": [
    "t.loc[t.wiki_budget == \"\",'wiki_budget']= t.loc[t.wiki_budget==\"\",'wiki_budget'].apply(lambda x: float(x.replace('', '0.0')))\n",
    "\n",
    "for r in range(0,t.shape[0]):\n",
    "    s = str(t.loc[r,'wiki_budget'])\n",
    "    if(\"#\" in s):\n",
    "        t.loc[r,'wiki_budget'] = t.loc[r,'wiki_budget'].replace(\"#\",\"\")\n",
    "        t.loc[r,'wiki_budget'] = float(t.loc[r,'wiki_budget'])*1000000\n",
    "\n",
    "for r in range(0,t.shape[0]):\n",
    "    s = str(t.loc[r,'wiki_budget'])\n",
    "    if(\"~\" in s):\n",
    "        t.loc[r,'wiki_budget'] = t.loc[r,'wiki_budget'].replace(\"~\",\"\")\n",
    "        t.loc[r,'wiki_budget'] = float(t.loc[r,'wiki_budget'])*1000000000\n",
    "        \n",
    "t['wiki_budget'] = t['wiki_budget'].astype(float)"
   ]
  },
  {
   "cell_type": "code",
   "execution_count": null,
   "metadata": {
    "collapsed": false
   },
   "outputs": [],
   "source": [
    "t.loc[t.wiki_gross == \"\",'wiki_gross']= t.loc[t.wiki_gross==\"\",'wiki_gross'].apply(lambda x: float(x.replace('', '0.0')))\n",
    "\n",
    "for r in range(0,t.shape[0]):\n",
    "    s = str(t.loc[r,'wiki_gross'])\n",
    "    if(\"#\" in s):\n",
    "        t.loc[r,'wiki_gross'] = t.loc[r,'wiki_gross'].replace(\"#\",\"\")\n",
    "        t.loc[r,'wiki_gross'] = float(t.loc[r,'wiki_gross'])*1000000\n",
    "        \n",
    "for r in range(0,t.shape[0]):\n",
    "    s = str(t.loc[r,'wiki_gross'])\n",
    "    if(\"~\" in s):\n",
    "        t.loc[r,'wiki_gross'] = t.loc[r,'wiki_gross'].replace(\"~\",\"\")\n",
    "        t.loc[r,'wiki_gross'] = float(t.loc[r,'wiki_gross'])*1000000\n",
    "        \n",
    "t['wiki_gross'] = t['wiki_gross'].astype(float)"
   ]
  },
  {
   "cell_type": "code",
   "execution_count": null,
   "metadata": {
    "collapsed": false
   },
   "outputs": [],
   "source": [
    "movie_df = t\n",
    "movie_df.shape"
   ]
  },
  {
   "cell_type": "code",
   "execution_count": null,
   "metadata": {
    "collapsed": false
   },
   "outputs": [],
   "source": [
    "movie_df.loc[movie_df.bom_budget == \"\",'bom_budget']= movie_df.loc[movie_df.bom_budget==\"\",'bom_budget'].apply(lambda x: float(x.replace('', '0.0')))\n",
    "movie_df['bom_budget'] = movie_df['bom_budget'].astype(float)\n",
    "movie_df.loc[movie_df.bom_worldwide_revenue == \"\",'bom_worldwide_revenue'] = movie_df.loc[movie_df.bom_worldwide_revenue==\"\",'bom_worldwide_revenue'].apply(lambda x: float(x.replace('', '0.0')))\n",
    "movie_df['bom_worldwide_revenue'] = movie_df['bom_worldwide_revenue'].astype(float)"
   ]
  },
  {
   "cell_type": "code",
   "execution_count": null,
   "metadata": {
    "collapsed": false
   },
   "outputs": [],
   "source": [
    "movie_df.dtypes"
   ]
  },
  {
   "cell_type": "markdown",
   "metadata": {},
   "source": [
    "##### Choosing one budget and gross\n",
    "\n",
    "Preference bom_worldwide_revenue>bom_domestic_gross>wiki_gross"
   ]
  },
  {
   "cell_type": "code",
   "execution_count": null,
   "metadata": {
    "collapsed": false
   },
   "outputs": [],
   "source": [
    "movie_df = t\n",
    "\n",
    "for r in range(0,t.shape[0]):\n",
    "    if((t.loc[r,'bom_budget']!=\"\")& (t.loc[r,'bom_budget']!=0) &(t.loc[r,'bom_budget']!=0.0)):\n",
    "        t.loc[r,'budget']=float(t.loc[r,'bom_budget'])\n",
    "    else:\n",
    "        t.loc[r,'budget']=float(t.loc[r,'wiki_budget'])\n",
    "\n",
    "        \n",
    "for r in range(0,t.shape[0]):\n",
    "    if((t.loc[r,'bom_worldwide_revenue']!=\"\")&(t.loc[r,'bom_worldwide_revenue']!=0)&(t.loc[r,'bom_worldwide_revenue']!=0.0)):\n",
    "        t.loc[r,'gross']=float(t.loc[r,'bom_worldwide_revenue'])\n",
    "    elif((t.loc[r,'bom_domestic_gross']!=\"\")&(t.loc[r,'bom_domestic_gross']!=0)&(t.loc[r,'bom_domestic_gross']!=0.0)):\n",
    "        t.loc[r,'gross']=float(t.loc[r,'bom_domestic_gross'])\n",
    "    else:\n",
    "        t.loc[r,'gross']=float(t.loc[r,'wiki_gross'])\n",
    "\n",
    "\n",
    "movie_df = t\n",
    "print(movie_df.shape)\n",
    "movie_df.head()"
   ]
  },
  {
   "cell_type": "code",
   "execution_count": null,
   "metadata": {
    "collapsed": true
   },
   "outputs": [],
   "source": [
    "movie_df.to_csv(\"movies_MG.csv\",index=None)"
   ]
  },
  {
   "cell_type": "code",
   "execution_count": null,
   "metadata": {
    "collapsed": false
   },
   "outputs": [],
   "source": [
    "test = movie_df.sort('gross', ascending=True)\n",
    "test.head(20)"
   ]
  },
  {
   "cell_type": "code",
   "execution_count": null,
   "metadata": {
    "collapsed": false
   },
   "outputs": [],
   "source": [
    "#Budget below 100K\n",
    "a = movie_df[movie_df['budget']<100000]\n",
    "a.to_csv(\"movies_budget_below_100K.csv\",index=None)\n",
    "print(a.shape)\n",
    "#Gross below 100K\n",
    "b = movie_df[movie_df['gross']<100000]\n",
    "b.to_csv(\"movies_gross_below_100K.csv\",index=None)\n",
    "print(b.shape)"
   ]
  },
  {
   "cell_type": "markdown",
   "metadata": {},
   "source": [
    "##### Computing Revenue"
   ]
  },
  {
   "cell_type": "code",
   "execution_count": null,
   "metadata": {
    "collapsed": false
   },
   "outputs": [],
   "source": [
    "# Removing movies with budget and gross below 10000\n",
    "a = movie_df[(movie_df['budget']>10000) & (movie_df['gross']>10000)]\n",
    "a.shape"
   ]
  },
  {
   "cell_type": "code",
   "execution_count": null,
   "metadata": {
    "collapsed": false
   },
   "outputs": [],
   "source": [
    "movie_df = pd.read_csv(\"movies_MG.csv\")\n",
    "print(movie_df.shape)\n",
    "movie_df['revenue'] = (movie_df['gross'] - movie_df['budget']) / movie_df['budget']\n",
    "movie_df.head(2)"
   ]
  },
  {
   "cell_type": "markdown",
   "metadata": {},
   "source": [
    "###### Pick one year, title"
   ]
  },
  {
   "cell_type": "code",
   "execution_count": null,
   "metadata": {
    "collapsed": false
   },
   "outputs": [],
   "source": [
    "movie_df = movie_df.fillna(\"\")\n",
    "\n",
    "for r in range(0,movie_df.shape[0]):\n",
    "    if(movie_df.loc[r,'key_wiki']!=\"\"):\n",
    "        movie_df.loc[r,'title']=movie_df.loc[r,'wiki_title']\n",
    "    elif(movie_df.loc[r,'key_bom']!=\"\"):\n",
    "        movie_df.loc[r,'title']=movie_df.loc[r,'bom_title']\n",
    "    else:\n",
    "        movie_df.loc[r,'title']=movie_df.loc[r,'omdb_title']\n",
    "\n",
    "for r in range(0,movie_df.shape[0]):\n",
    "    if(movie_df.loc[r,'year_wiki_format']!=\"\"):\n",
    "        movie_df.loc[r,'year']=movie_df.loc[r,'year_wiki_format']\n",
    "    elif(movie_df.loc[r,'year_bom_format']!=\"\"):\n",
    "        movie_df.loc[r,'year']=movie_df.loc[r,'year_bom_format']\n",
    "    else:\n",
    "        movie_df.loc[r,'year']=movie_df.loc[r,'year_omdb_format']\n",
    "\n",
    "print(movie_df.shape)\n",
    "\n",
    "# Removing the redunant columns\n",
    "movie_df = movie_df.drop('bom_title',axis = 1)\n",
    "movie_df = movie_df.drop('wiki_title',axis = 1)\n",
    "movie_df = movie_df.drop('omdb_title',axis = 1)\n",
    "\n",
    "movie_df = movie_df.drop('year_bom_format',axis = 1)\n",
    "movie_df = movie_df.drop('year_wiki_format',axis = 1)\n",
    "movie_df = movie_df.drop('year_omdb_format',axis = 1)\n",
    "\n",
    "print(movie_df.shape)"
   ]
  },
  {
   "cell_type": "code",
   "execution_count": null,
   "metadata": {
    "collapsed": false
   },
   "outputs": [],
   "source": [
    "movie_df.columns"
   ]
  },
  {
   "cell_type": "code",
   "execution_count": null,
   "metadata": {
    "collapsed": false
   },
   "outputs": [],
   "source": [
    "movie_df = movie_df[[\"key_bom\",\"key_wiki\",\"key_omdb\",\"title\",\"year\",\"budget\",\"gross\",\"revenue\"]]\n",
    "movie_df.to_csv(\"movies_MG_1.csv\",index=None)\n",
    "movie_df.head()"
   ]
  },
  {
   "cell_type": "markdown",
   "metadata": {},
   "source": [
    "###### Features related to Release date\n",
    "\n",
    "###### 1. Creating a single column release_date\n",
    "###### 2. Converts to datetime\n",
    "###### 3. Features: month, quarter, week of the year, day of the year"
   ]
  },
  {
   "cell_type": "code",
   "execution_count": null,
   "metadata": {
    "collapsed": false
   },
   "outputs": [],
   "source": [
    "# comb_index contains unformatted release date\n",
    "print(comb_index.shape)\n",
    "comb_index.head(2)"
   ]
  },
  {
   "cell_type": "code",
   "execution_count": null,
   "metadata": {
    "collapsed": false
   },
   "outputs": [],
   "source": [
    "comb_index = comb_index.replace({'\\r': ''}, regex=True)\n",
    "comb_index.head(2)"
   ]
  },
  {
   "cell_type": "code",
   "execution_count": null,
   "metadata": {
    "collapsed": false
   },
   "outputs": [],
   "source": [
    "# merging comb_index with movie_df\n",
    "movie_df = pd.read_csv(\"movies_MG_1.csv\")\n",
    "print(movie_df.shape)\n",
    "#movie_df = movie_df.replace({'\\r': ''}, regex=True)\n",
    "#movie_df = movie_df.replace({'\\n': ''}, regex=True)\n",
    "#comb_index = comb_index.replace({'\\r': ''}, regex=True)\n",
    "#comb_index = comb_index.replace({'\\n': ''}, regex=True)\n",
    "\n",
    "comb_index_1 = comb_index[[\"key_wiki\",\"year_wiki\"]]\n",
    "comb_index_2 = comb_index[[\"key_bom\",\"year_bom\"]]\n",
    "comb_index_3 = comb_index[[\"key_omdb\",\"year_omdb\"]]\n",
    "\n",
    "movie_df_1 = pd.merge(movie_df,comb_index_1, on = [\"key_wiki\"],how=\"left\")\n",
    "print(movie_df_1.shape)\n",
    "movie_df_2 = pd.merge(movie_df_1,comb_index_2, on = [\"key_bom\"],how=\"left\")\n",
    "print(movie_df_2.shape)\n",
    "\n",
    "movie_df_2.to_csv(\"t.csv\",index=None)\n",
    "a = pd.read_csv(\"t.csv\")\n",
    "a = a.replace({'\\r': ''}, regex=True)\n",
    "a = a.replace({'\\n': ''}, regex=True)\n",
    "movie_df_3 = pd.merge(a,comb_index_3, on = [\"key_omdb\"],how=\"left\")\n",
    "print(movie_df_3.shape)\n",
    "\n",
    "movie_df_3 = movie_df_3.fillna(\"\")\n",
    "movie_df_3.tail()"
   ]
  },
  {
   "cell_type": "code",
   "execution_count": null,
   "metadata": {
    "collapsed": false
   },
   "outputs": [],
   "source": [
    "# Create a single column release_date\n",
    "# Preference for bom, omdb and then wiki\n",
    "\n",
    "\n",
    "for r in range(0,movie_df_3.shape[0]):\n",
    "    if(movie_df_3.loc[r,'year_bom']!=\"\"):\n",
    "        movie_df_3.loc[r,'release_date']=movie_df_3.loc[r,'year_bom']\n",
    "    elif(movie_df_3.loc[r,'year_omdb']!=\"\"):\n",
    "        movie_df_3.loc[r,'release_date']=movie_df_3.loc[r,'year_omdb']\n",
    "    else:\n",
    "        movie_df_3.loc[r,'release_date']=movie_df_3.loc[r,'year_wiki']\n",
    "        \n",
    "movie_df_3 = movie_df_3.drop('year_bom',axis = 1)\n",
    "movie_df_3 = movie_df_3.drop('year_omdb',axis = 1)\n",
    "movie_df_3 = movie_df_3.drop('year_wiki',axis = 1)\n",
    "\n",
    "#movie_df_3.to_csv(\"checkreleasedate.csv\",index=None)\n",
    "\n",
    "#movie_df = movie_df_3[movie_df_3['release_date']!=\"\"]\n",
    "print(movie_df_3.shape)\n",
    "\n",
    "movie_df_3.head()"
   ]
  },
  {
   "cell_type": "code",
   "execution_count": null,
   "metadata": {
    "collapsed": false
   },
   "outputs": [],
   "source": [
    "# Converting release date into datetime data type\n",
    "import datetime as dt\n",
    "\n",
    "for r in range(0,movie_df_3.shape[0]):\n",
    "    if(len(movie_df_3.loc[r,'release_date'])>9):\n",
    "        movie_df_3.loc[r,'release_date'] = \"\"\n",
    "    if(len(movie_df_3.loc[r,'release_date'])>=8):   \n",
    "        movie_df_3.loc[r,'release_date'] = pd.to_datetime(movie_df_3.loc[r,'release_date'], format='%d-%b-%y')\n",
    "    else:\n",
    "        movie_df_3.loc[r,'release_date'] = \"\"\n",
    "\n",
    "movie_df_3.head()"
   ]
  },
  {
   "cell_type": "code",
   "execution_count": null,
   "metadata": {
    "collapsed": false
   },
   "outputs": [],
   "source": [
    "# Get the month as a feature\n",
    "from datetime import datetime \n",
    "for r in range(0,movie_df_3.shape[0]):\n",
    "    if(movie_df_3.loc[r,'release_date']!=\"\"):\n",
    "        movie_df_3.loc[r,'release_month'] = datetime.strftime(movie_df_3.loc[r,'release_date'],\"%m\")\n",
    "    else:\n",
    "        movie_df_3.loc[r,'release_month'] = \"\"\n",
    "        \n",
    "# Get the quarter\n",
    "for r in range(0,movie_df_3.shape[0]):\n",
    "    if(movie_df_3.loc[r,'release_date']!=\"\"):\n",
    "        movie_df_3.loc[r,'release_quarter'] = movie_df_3.loc[r,'release_date'].quarter\n",
    "    else:\n",
    "        movie_df_3.loc[r,'release_quarter'] = \"\"\n",
    "        \n",
    "# Get the day of the year\n",
    "for r in range(0,movie_df_3.shape[0]):\n",
    "    if(movie_df_3.loc[r,'release_date']!=\"\"):\n",
    "        movie_df_3.loc[r,'release_day_of_the_year'] = datetime.strftime(movie_df_3.loc[r,'release_date'],\"%j\").lstrip(\"0\")\n",
    "    else:\n",
    "        movie_df_3.loc[r,'release_day_of_the_year'] = \"\"\n",
    "\n",
    "# get the week of the year\n",
    "for r in range(0,movie_df_3.shape[0]):\n",
    "    if(movie_df_3.loc[r,'release_date']!=\"\"):\n",
    "        movie_df_3.loc[r,'release_week_of_the_year'] = datetime.strftime(movie_df_3.loc[r,'release_date'],\"%U\").lstrip(\"0\")\n",
    "    else:\n",
    "        movie_df_3.loc[r,'release_week_of_the_year'] = \"\"\n",
    "\n",
    "\n",
    "print(movie_df_3.shape)\n",
    "movie_df_3.head()"
   ]
  },
  {
   "cell_type": "markdown",
   "metadata": {},
   "source": [
    "##### Feature: Holiday Season"
   ]
  },
  {
   "cell_type": "code",
   "execution_count": null,
   "metadata": {
    "collapsed": false
   },
   "outputs": [],
   "source": [
    "from pandas.tseries.holiday import USFederalHolidayCalendar\n",
    "import datetime\n",
    "from datetime import timedelta\n",
    "\n",
    "cal = USFederalHolidayCalendar()\n",
    "holidays = cal.holidays(start='1900-01-01', end='2017-12-31').to_pydatetime()\n",
    "\n",
    "holidays_new = list(holidays)\n",
    "print(len(holidays_new))\n",
    "\n",
    "for h in holidays:\n",
    "    holidays_new.append(h + datetime.timedelta(days=7))\n",
    "    holidays_new.append(h + datetime.timedelta(days=6))\n",
    "    holidays_new.append(h + datetime.timedelta(days=5))\n",
    "    holidays_new.append(h + datetime.timedelta(days=4))\n",
    "    holidays_new.append(h + datetime.timedelta(days=3))\n",
    "    holidays_new.append(h + datetime.timedelta(days=2))\n",
    "    holidays_new.append(h + datetime.timedelta(days=1))\n",
    "    \n",
    "    holidays_new.append(h - datetime.timedelta(days=7))\n",
    "    holidays_new.append(h - datetime.timedelta(days=6))\n",
    "    holidays_new.append(h - datetime.timedelta(days=5))\n",
    "    holidays_new.append(h - datetime.timedelta(days=4))\n",
    "    holidays_new.append(h - datetime.timedelta(days=3))\n",
    "    holidays_new.append(h - datetime.timedelta(days=2))\n",
    "    holidays_new.append(h - datetime.timedelta(days=1))\n",
    "    \n",
    "print(len(holidays_new))"
   ]
  },
  {
   "cell_type": "code",
   "execution_count": null,
   "metadata": {
    "collapsed": false
   },
   "outputs": [],
   "source": [
    "movie_df_3 = movie_df_3.fillna(\"\")\n",
    "\n",
    "for r in range(0,movie_df_3.shape[0]):\n",
    "    if(movie_df_3.loc[r,'release_date']!=\"\"):\n",
    "        if pd.to_datetime(movie_df_3.loc[r,'release_date']) in holidays_new:\n",
    "            movie_df_3.loc[r,'holiday_season'] = 1\n",
    "        else:\n",
    "            movie_df_3.loc[r,'holiday_season'] = 0\n",
    "    else:\n",
    "        movie_df_3.loc[r,'holiday_season'] = \"\"\n",
    "        \n",
    "print(movie_df_3.shape)\n",
    "movie_df_3.head()"
   ]
  },
  {
   "cell_type": "code",
   "execution_count": null,
   "metadata": {
    "collapsed": false
   },
   "outputs": [],
   "source": [
    "print(\"No:of movies thay for released during holiday season\")\n",
    "movie_df_3[movie_df_3['holiday_season']==1].shape"
   ]
  },
  {
   "cell_type": "code",
   "execution_count": null,
   "metadata": {
    "collapsed": true
   },
   "outputs": [],
   "source": [
    "movie_df = movie_df_3"
   ]
  },
  {
   "cell_type": "markdown",
   "metadata": {},
   "source": [
    "##### Feature: Runtime"
   ]
  },
  {
   "cell_type": "code",
   "execution_count": null,
   "metadata": {
    "collapsed": false
   },
   "outputs": [],
   "source": [
    "movie_df = movie_df_3\n",
    "print(movie_df.shape)\n",
    "movie_df = movie_df.fillna(\"\")\n",
    "movie_df_1 = pd.merge(movie_df,bom[[\"key_bom\",\"bom_runtime\"]],on=\"key_bom\",how=\"left\")\n",
    "movie_df_2 = pd.merge(movie_df_1,wiki[[\"key_wiki\",\"wiki_runtime\"]],on=\"key_wiki\",how=\"left\")\n",
    "movie_df_3 = pd.merge(movie_df_2,omdb[[\"key_omdb\",\"omdb_runtime\"]],on=\"key_omdb\",how=\"left\")\n",
    "print(movie_df_3.shape)\n",
    "movie_df_3.tail(2)"
   ]
  },
  {
   "cell_type": "code",
   "execution_count": null,
   "metadata": {
    "collapsed": false
   },
   "outputs": [],
   "source": [
    "movie_df_3.loc[movie_df_3[\"wiki_runtime\"].str.contains(\"Bernard Small\"),\"wiki_runtime\"] = \"\"\n",
    "movie_df_3 = movie_df_3.reset_index(inplace=True, drop=True)\n",
    "#movie_df_3.loc[movie_df_3[\"wiki_runtime\"].str.contains(\"Bernard Small\"),\"wiki_runtime\"].shape"
   ]
  },
  {
   "cell_type": "code",
   "execution_count": null,
   "metadata": {
    "collapsed": false
   },
   "outputs": [],
   "source": [
    "# Creating a single column runtime\n",
    "# Preference guven to wiki, bom and then omdb\n",
    "\n",
    "for r in range(0,movie_df_3.shape[0]):\n",
    "    if(movie_df_3.loc[r,'bom_runtime']!=\"\"):\n",
    "        movie_df_3.loc[r,'runtime']=movie_df_3.loc[r,'bom_runtime']\n",
    "        movie_df_3.loc[r,'runtime_flag']='b'\n",
    "    elif(movie_df_3.loc[r,'wiki_runtime']!=\"\"):\n",
    "        movie_df_3.loc[r,'runtime']=movie_df_3.loc[r,'wiki_runtime']\n",
    "        movie_df_3.loc[r,'runtime_flag']='w'\n",
    "    else:\n",
    "        movie_df_3.loc[r,'runtime']=movie_df_3.loc[r,'omdb_runtime']\n",
    "        movie_df_3.loc[r,'runtime_flag']='o'\n",
    "        \n",
    "movie_df_3 = movie_df_3.drop('wiki_runtime',axis = 1)\n",
    "movie_df_3 = movie_df_3.drop('bom_runtime',axis = 1)\n",
    "movie_df_3 = movie_df_3.drop('omdb_runtime',axis = 1)\n",
    "\n",
    "print(movie_df_3.shape)\n",
    "\n",
    "movie_df_3.tail(2)"
   ]
  },
  {
   "cell_type": "code",
   "execution_count": null,
   "metadata": {
    "collapsed": false
   },
   "outputs": [],
   "source": [
    "# Cleaning the runtime column\n",
    "movie_df_3['runtime'] = movie_df_3['runtime'].fillna(\"\")\n",
    "movie_df_3['runtime'] = [str(v).lstrip() for v in movie_df_3['runtime']]\n",
    "movie_df_3['runtime']= [str(v).rstrip() for v in movie_df_3['runtime']]\n",
    "\n",
    "i = movie_df_3[movie_df_3['runtime_flag']==\"w\"].index\n",
    "\n",
    "movie_df_3.ix[i,'runtime'] = movie_df_3.ix[i,'runtime'].apply(lambda x: x.replace(\"[\",\"\"))\n",
    "movie_df_3.ix[i,'runtime'] = movie_df_3.ix[i,'runtime'].apply(lambda x: x.replace(\"]\",\"\"))\n",
    "movie_df_3.ix[i,'runtime'] = movie_df_3.ix[i,'runtime'].apply(lambda x: x.replace(\",\",\"\"))\n",
    "movie_df_3.ix[i,'runtime'] = movie_df_3.ix[i,'runtime'].apply(lambda x: x.replace(\".\",\"\"))\n",
    "movie_df_3.ix[i,'runtime'] = movie_df_3.ix[i,'runtime'].apply(lambda x: x.replace(\"'\",\"\"))\n",
    "movie_df_3.ix[i,'runtime'] = movie_df_3.ix[i,'runtime'].apply(lambda x: x.replace('\"',\"\"))\n",
    "movie_df_3.ix[i,'runtime'] = movie_df_3.ix[i,'runtime'].apply(lambda x: x.replace(\"minutes\",\"\"))\n",
    "\n",
    "for r in i:\n",
    "    try:\n",
    "        movie_df_3.loc[r,'runtime'] = float(movie_df_3.loc[r,'runtime'])\n",
    "    except:\n",
    "        movie_df_3.loc[r,'runtime'] = \"\"\n",
    "        \n",
    "i = movie_df_3[movie_df_3['runtime_flag']==\"b\"].index\n",
    "\n",
    "for r in i:\n",
    "    if(movie_df_3.loc[r,'runtime']!=\"\"):\n",
    "        a = movie_df_3.loc[r,'runtime'].replace(\" \",\"\")\n",
    "        a = a.split('hrs.')\n",
    "        if (len(a)>1):\n",
    "            m = a[1].split('min.')[0]\n",
    "        else:\n",
    "            m = 0\n",
    "        movie_df_3.loc[r,'runtime'] = float(a[0])*60+float(m)\n",
    "    else:\n",
    "        movie_df_3.loc[r,'runtime'] = \"\"\n",
    "\n",
    "#Note: Analysis shows taht no movie had runtome fetched from omdb\n",
    "\n",
    "print(movie_df_3.shape)\n",
    "\n",
    "movie_df_3.tail(2)"
   ]
  },
  {
   "cell_type": "code",
   "execution_count": null,
   "metadata": {
    "collapsed": false
   },
   "outputs": [],
   "source": [
    "movie_df_3 = movie_df_3.drop('runtime_flag',axis = 1)\n",
    "movie_df = movie_df_3\n",
    "print(movie_df.shape)"
   ]
  },
  {
   "cell_type": "markdown",
   "metadata": {},
   "source": [
    "###### Feature: MPAA Rating\n",
    "\n",
    "Categories 1 to 7 as listed below\n",
    "\n",
    "* G\n",
    "* PG/M/GP\n",
    "* PG-13\n",
    "* R\n",
    "* NC-17/X\n",
    "* Unrated/Not Rated/ Not Yet rated\n",
    "* Unknown"
   ]
  },
  {
   "cell_type": "code",
   "execution_count": null,
   "metadata": {
    "collapsed": false
   },
   "outputs": [],
   "source": [
    "bom['bom_rating'] = [v.upper() for k,v in bom['bom_rating'].iteritems()]\n",
    "print(\"No: of unique rating from bom\",bom['bom_rating'].unique().shape)\n",
    "bom['bom_rating'].unique().tolist()"
   ]
  },
  {
   "cell_type": "code",
   "execution_count": null,
   "metadata": {
    "collapsed": false
   },
   "outputs": [],
   "source": [
    "# Merging the movies_df to bom omdb to fetch MPAA rating\n",
    "# wikipedia does not have rating information\n",
    "print(movie_df.shape)\n",
    "movie_df = movie_df.fillna(\"\")\n",
    "movie_df_1 = pd.merge(movie_df,bom[[\"key_bom\",\"bom_rating\"]],on=\"key_bom\",how=\"left\")\n",
    "movie_df_3 = pd.merge(movie_df_1,omdb[[\"key_omdb\",\"omdb_rated\"]],on=\"key_omdb\",how=\"left\")\n",
    "print(movie_df_3.shape)\n",
    "movie_df_3.head()"
   ]
  },
  {
   "cell_type": "code",
   "execution_count": null,
   "metadata": {
    "collapsed": false
   },
   "outputs": [],
   "source": [
    "# Creating a single column mpaa_rating\n",
    "# Preference given to bom and then omdb\n",
    "\n",
    "movie_df_3 = movie_df_3.fillna(\"\")\n",
    "\n",
    "for r in range(0,movie_df_3.shape[0]):\n",
    "    if(movie_df_3.loc[r,'bom_rating']!=\"\"):\n",
    "        movie_df_3.loc[r,'rating']=movie_df_3.loc[r,'bom_rating']\n",
    "    elif(movie_df_3.loc[r,'omdb_rated']!=\"\"):\n",
    "        movie_df_3.loc[r,'rating']=movie_df_3.loc[r,'omdb_rated']\n",
    "    else:\n",
    "        movie_df_3.loc[r,'runtime']=\"\"\n",
    "\n",
    "movie_df_3 = movie_df_3.drop('bom_rating',axis = 1)\n",
    "movie_df_3 = movie_df_3.drop('omdb_rated',axis = 1)\n",
    "\n",
    "print(movie_df_3.shape)\n",
    "\n",
    "movie_df_3.tail(2)"
   ]
  },
  {
   "cell_type": "code",
   "execution_count": null,
   "metadata": {
    "collapsed": false
   },
   "outputs": [],
   "source": [
    "# Assigning categories as defined above\n",
    "movie_df_3 = movie_df_3.fillna(\"\")\n",
    "\n",
    "for r in range(0,movie_df_3.shape[0]):\n",
    "    if(movie_df_3.loc[r,'rating']==\"G\"):\n",
    "        movie_df_3.loc[r,'mpaa_rating'] = 1\n",
    "    elif(movie_df_3.loc[r,'rating']==\"PG\" or movie_df_3.loc[r,'rating']==\"M\" or movie_df_3.loc[r,'rating']==\"GP\"):\n",
    "        movie_df_3.loc[r,'mpaa_rating'] = 2\n",
    "    elif(movie_df_3.loc[r,'rating']==\"PG-13\"):\n",
    "        movie_df_3.loc[r,'mpaa_rating'] = 3\n",
    "    elif(movie_df_3.loc[r,'rating']==\"R\"):\n",
    "        movie_df_3.loc[r,'mpaa_rating'] = 4\n",
    "    elif(movie_df_3.loc[r,'rating']==\"NC-17\" or movie_df_3.loc[r,'rating']==\"X\"):\n",
    "        movie_df_3.loc[r,'mpaa_rating'] = 5\n",
    "    e;if(movie_df_3.loc[r,'rating']==\"UNRATED\" or movie_df_3.loc[r,'rating']==\"NOT RATED\" or movie_df_3.loc[r,'rating']==\"NOT YET RATED\"):\n",
    "        movie_df_3.loc[r,'mpaa_rating'] = 6\n",
    "    else:\n",
    "        movie_df_3.loc[r,'mpaa_rating'] = 7\n",
    "        \n",
    "print(movie_df_3.shape)\n",
    "\n",
    "movie_df_3.tail(2)"
   ]
  },
  {
   "cell_type": "code",
   "execution_count": null,
   "metadata": {
    "collapsed": false
   },
   "outputs": [],
   "source": [
    "movie_df_3 = movie_df_3.drop('rating',axis = 1)\n",
    "movie_df = movie_df_3\n",
    "print(movie_df.shape)\n",
    "movie_df.to_csv(\"movies_MG_2.csv\",index=None)"
   ]
  },
  {
   "cell_type": "markdown",
   "metadata": {},
   "source": [
    "##### Fetching relevant columns for computing player scores\n",
    "\n",
    "* actor \n",
    "* director\n",
    "* writer\n",
    "* distributor\n",
    "* music\n",
    "* cinematographer\n",
    "* producer\n",
    "\n",
    "editing (from wiki)\n",
    "studio (from wiki)"
   ]
  },
  {
   "cell_type": "code",
   "execution_count": null,
   "metadata": {
    "collapsed": false
   },
   "outputs": [],
   "source": [
    "movie_df = pd.read_csv(\"movies_MG_2.csv\")\n",
    "print(movie_df.shape)\n",
    "movie_df.head(2)"
   ]
  },
  {
   "cell_type": "code",
   "execution_count": null,
   "metadata": {
    "collapsed": false
   },
   "outputs": [],
   "source": [
    "# REMOVING OUTLIERS\n",
    "q = movie_df[(movie_df['budget']>10000) & (movie_df['gross']>10000)]\n",
    "q = q[q['year'].isin([\"2010\",\"2011\",\"2012\",\"2013\",\"2014\",\"2015\",\"2016\",\"2017\"])]\n",
    "print(q.shape)\n",
    "print(\"Std deviation: \",q.std(axis=0))\n",
    "print(\"Mean: \",q.mean(axis=0))"
   ]
  },
  {
   "cell_type": "code",
   "execution_count": null,
   "metadata": {
    "collapsed": false
   },
   "outputs": [],
   "source": [
    "#Removing movies with budget, gross and revenue above 1 std\n",
    "q = movie_df[(movie_df['budget']>10000) & (movie_df['gross']>10000)]\n",
    "q = q[(q['budget']>q['budget'].mean() -q['budget'].std() ) & (q['budget']< q['budget'].mean() + q['budget'].std())]\n",
    "print(q.shape)\n",
    "q = q[(q['gross']>q['gross'].mean() -q['gross'].std()) & (q['gross']< q['gross'].mean() + q['gross'].std())]\n",
    "print(q.shape)\n",
    "q = q[(q['revenue']>q['revenue'].mean() -q['revenue'].std()) & (q['revenue']< q['revenue'].mean() + q['revenue'].std())]\n",
    "print(q.shape)\n",
    "movie_df = q"
   ]
  },
  {
   "cell_type": "code",
   "execution_count": null,
   "metadata": {
    "collapsed": false
   },
   "outputs": [],
   "source": [
    "bom_f = bom[['key_bom','bom_actor','bom_director','bom_writer','bom_distributor','bom_composer','bom_cinematographer',\n",
    "            \"bom_producer\"]]\n",
    "wiki_f = wiki[[\"key_wiki\",\"wiki_starring\",\"wiki_director\",\"wiki_screenplay\",\"wiki_distributor\",\"wiki_music\",\n",
    "              \"wiki_cinematography\",\"wiki_producer\",\"wiki_editing\",\"wiki_studio\"]]\n",
    "omdb_f = omdb[[\"key_omdb\",\"omdb_actors\",\"omdb_directors\",\"omdb_writers\"]]\n",
    "\n",
    "# Merging movie_df to the the above tables to get player information\n",
    "movie_df = movie_df.fillna(\"\")\n",
    "movie_df_1 = pd.merge(movie_df,bom_f,on=\"key_bom\",how=\"left\")\n",
    "movie_df_2 = pd.merge(movie_df_1,wiki_f,on=\"key_wiki\",how=\"left\")\n",
    "movie_df_3 = pd.merge(movie_df_2,omdb_f,on=\"key_omdb\",how=\"left\")\n",
    "\n",
    "print(movie_df_3.shape)"
   ]
  },
  {
   "cell_type": "code",
   "execution_count": null,
   "metadata": {
    "collapsed": false
   },
   "outputs": [],
   "source": [
    "#Creating one column per each player\n",
    "\n",
    "for r in range(0,movie_df_3.shape[0]):\n",
    "    if(movie_df_3.loc[r,'bom_actor']!=\"\"):\n",
    "        movie_df_3.loc[r,'actor']=movie_df_3.loc[r,'bom_actor']\n",
    "    elif(movie_df_3.loc[r,'omdb_actors']!=\"\"):\n",
    "        movie_df_3.loc[r,'actor']=movie_df_3.loc[r,'omdb_actors']\n",
    "    else:\n",
    "        movie_df_3.loc[r,'actor']=movie_df_3.loc[r,'wiki_starring']\n",
    "        \n",
    "movie_df_3 = movie_df_3.drop('bom_actor',axis = 1)\n",
    "movie_df_3 = movie_df_3.drop('omdb_actors',axis = 1)\n",
    "movie_df_3 = movie_df_3.drop('wiki_starring',axis = 1)\n",
    "\n",
    "print(movie_df_3.shape)\n",
    "\n",
    "for r in range(0,movie_df_3.shape[0]):\n",
    "    if(movie_df_3.loc[r,'bom_director']!=\"\"):\n",
    "        movie_df_3.loc[r,'director']=movie_df_3.loc[r,'bom_director']\n",
    "    elif(movie_df_3.loc[r,'omdb_directors']!=\"\"):\n",
    "        movie_df_3.loc[r,'director']=movie_df_3.loc[r,'omdb_directors']\n",
    "    else:\n",
    "        movie_df_3.loc[r,'director']=movie_df_3.loc[r,'wiki_director']\n",
    "        \n",
    "movie_df_3 = movie_df_3.drop('bom_director',axis = 1)\n",
    "movie_df_3 = movie_df_3.drop('omdb_directors',axis = 1)\n",
    "movie_df_3 = movie_df_3.drop('wiki_director',axis = 1)\n",
    "\n",
    "print(movie_df_3.shape)\n",
    "\n",
    "for r in range(0,movie_df_3.shape[0]):\n",
    "    if(movie_df_3.loc[r,'bom_writer']!=\"\"):\n",
    "        movie_df_3.loc[r,'writer']=movie_df_3.loc[r,'bom_writer']\n",
    "    elif(movie_df_3.loc[r,'omdb_writers']!=\"\"):\n",
    "        movie_df_3.loc[r,'writer']=movie_df_3.loc[r,'omdb_writers']\n",
    "    else:\n",
    "        movie_df_3.loc[r,'writer']=movie_df_3.loc[r,'wiki_screenplay']\n",
    "        \n",
    "movie_df_3 = movie_df_3.drop('bom_writer',axis = 1)\n",
    "movie_df_3 = movie_df_3.drop('omdb_writers',axis = 1)\n",
    "movie_df_3 = movie_df_3.drop('wiki_screenplay',axis = 1)\n",
    "\n",
    "print(movie_df_3.shape)\n",
    "\n",
    "for r in range(0,movie_df_3.shape[0]):\n",
    "    if(movie_df_3.loc[r,'bom_distributor']!=\"\"):\n",
    "        movie_df_3.loc[r,'distributor']=movie_df_3.loc[r,'bom_distributor']\n",
    "    else:\n",
    "        movie_df_3.loc[r,'distributor']=movie_df_3.loc[r,'wiki_distributor']\n",
    "        \n",
    "movie_df_3 = movie_df_3.drop('bom_distributor',axis = 1)\n",
    "movie_df_3 = movie_df_3.drop('wiki_distributor',axis = 1)\n",
    "\n",
    "print(movie_df_3.shape)\n",
    "\n",
    "for r in range(0,movie_df_3.shape[0]):\n",
    "    if(movie_df_3.loc[r,'bom_composer']!=\"\"):\n",
    "        movie_df_3.loc[r,'composer']=movie_df_3.loc[r,'bom_composer']\n",
    "    else:\n",
    "        movie_df_3.loc[r,'composer']=movie_df_3.loc[r,'wiki_music']\n",
    "        \n",
    "movie_df_3 = movie_df_3.drop('bom_composer',axis = 1)\n",
    "movie_df_3 = movie_df_3.drop('wiki_music',axis = 1)\n",
    "\n",
    "print(movie_df_3.shape)\n",
    "\n",
    "for r in range(0,movie_df_3.shape[0]):\n",
    "    if(movie_df_3.loc[r,'bom_cinematographer']!=\"\"):\n",
    "        movie_df_3.loc[r,'cinematographer']=movie_df_3.loc[r,'bom_cinematographer']\n",
    "    else:\n",
    "        movie_df_3.loc[r,'cinematographer']=movie_df_3.loc[r,'wiki_cinematography']\n",
    "        \n",
    "movie_df_3 = movie_df_3.drop('bom_cinematographer',axis = 1)\n",
    "movie_df_3 = movie_df_3.drop('wiki_cinematography',axis = 1)\n",
    "\n",
    "print(movie_df_3.shape)\n",
    "\n",
    "for r in range(0,movie_df_3.shape[0]):\n",
    "    if(movie_df_3.loc[r,'bom_producer']!=\"\"):\n",
    "        movie_df_3.loc[r,'producer']=movie_df_3.loc[r,'bom_producer']\n",
    "    else:\n",
    "        movie_df_3.loc[r,'producer']=movie_df_3.loc[r,'wiki_producer']\n",
    "        \n",
    "movie_df_3 = movie_df_3.drop('bom_producer',axis = 1)\n",
    "movie_df_3 = movie_df_3.drop('wiki_producer',axis = 1)\n",
    "\n",
    "print(movie_df_3.shape)"
   ]
  },
  {
   "cell_type": "code",
   "execution_count": null,
   "metadata": {
    "collapsed": false
   },
   "outputs": [],
   "source": [
    "movie_df_3['writer'] = movie_df_3['writer'].str.replace('\\r','')\n",
    "movie_df_3.sort(columns='title', inplace=True)\n",
    "movie_df_3.reset_index(inplace=True, drop=True)\n",
    "movie_df_3.reset_index(inplace=True)\n",
    "movie_df = movie_df_3\n",
    "print(movie_df.shape)\n",
    "movie_df.head(2)"
   ]
  },
  {
   "cell_type": "markdown",
   "metadata": {},
   "source": [
    "###### Computing player score"
   ]
  },
  {
   "cell_type": "code",
   "execution_count": null,
   "metadata": {
    "collapsed": false
   },
   "outputs": [],
   "source": [
    "movies_f = movie_df\n",
    "movies_f.columns"
   ]
  },
  {
   "cell_type": "code",
   "execution_count": null,
   "metadata": {
    "collapsed": false
   },
   "outputs": [],
   "source": [
    "# Create a score for awards and add it to the table\n",
    "award_win_factor = 5\n",
    "bom_awa = bom[~bom['bom_awards'].str.contains('No Academy Awards Information')][['key_bom','bom_title', 'bom_awards']].copy()\n",
    "bom_awa['bom_awards_num'] = bom_awa['bom_awards'].str.replace('\\r','')\n",
    "bom_awa['bom_awards_num'] = bom_awa['bom_awards_num'].str.replace('Nominated for ','')\n",
    "bom_awa['bom_awards_num'] = bom_awa['bom_awards_num'].str.replace(' Oscars','')\n",
    "bom_awa['bom_awards_num'] = bom_awa['bom_awards_num'].str.replace(' Oscar','')\n",
    "bom_awa['bom_awards_num'] = bom_awa['bom_awards_num'].str.replace(', Including','')\n",
    "bom_awa['bom_awards_num'] = bom_awa['bom_awards_num'].str.replace(' Win.','')\n",
    "bom_awa['bom_awards_num'] = bom_awa['bom_awards_num'].str.replace('.','')\n",
    "bom_awa['bom_awards_num'] = bom_awa['bom_awards_num'].str.replace('\"','')\n",
    "\n",
    "alpha_to_num = {'One':1, 'Two':2, 'Three':3, 'Four':4, 'Five':5, 'Six':6, 'Seven':7, 'Eight':8, 'Nine':9, \n",
    "                'Ten':10, 'Eleven':11, 'Twelve':12, 'Thirteen':13, 'Fourteen':14}\n",
    "bom_awa['bom_awards_num'] = bom_awa['bom_awards_num'].apply(lambda x: x.split(' '))\n",
    "bom_awa['bom_awards_num'] = bom_awa['bom_awards_num'].apply(lambda x: [alpha_to_num[val] for val in x ])\n",
    "bom_awa['bom_awards_scr'] = bom_awa['bom_awards_num'].apply(lambda x: x[0]+x[1]*award_win_factor if len(x)>1 else x[0] )\n",
    "\n",
    "movies_f = pd.merge(movies_f,bom_awa[['key_bom', 'bom_awards', 'bom_awards_scr']],on = \"key_bom\",how=\"left\")\n",
    "movies_f['bom_awards_scr'].fillna(0, inplace=True)\n",
    "\n",
    "print('Shape of finalized table', movies_f.shape)\n",
    "movies_f.head(1)"
   ]
  },
  {
   "cell_type": "code",
   "execution_count": null,
   "metadata": {
    "collapsed": true
   },
   "outputs": [],
   "source": [
    "def clean_people(movie_data, ind, peeps):\n",
    "    \"\"\"\n",
    "    Function to clean people associated with movies\n",
    "    \"\"\"\n",
    "    peeps_clean = peeps+'_clean'\n",
    "    bom_ftr = movie_data[[ind, peeps]].copy()\n",
    "    bom_ftr[peeps_clean] = bom_ftr[peeps].str.replace('[','')\n",
    "    bom_ftr[peeps_clean] = bom_ftr[peeps_clean].str.replace(']','')\n",
    "    bom_ftr[peeps_clean] = bom_ftr[peeps_clean].str.replace('\"','')\n",
    "    bom_ftr[peeps_clean] = bom_ftr[peeps_clean].str.replace(\"'\",'')\n",
    "    bom_ftr[peeps_clean] = bom_ftr[peeps_clean].str.replace(\"*\",'')\n",
    "    bom_ftr[peeps_clean] = bom_ftr[peeps_clean].str.replace(\"|\",',')\n",
    "    bom_ftr[peeps_clean] = bom_ftr[peeps_clean].str.replace(\", \",',')\n",
    "    bom_ftr[peeps_clean] = bom_ftr[peeps_clean].replace(np.nan, '', regex=True)\n",
    "    bom_ftr[peeps_clean] = bom_ftr[peeps_clean].apply(lambda x: x.split(','))\n",
    "    print('Cleaned', peeps)\n",
    "    clean_movie_data = pd.merge(movie_data, bom_ftr[[ind, peeps_clean]], on = \"index\")\n",
    "    return clean_movie_data"
   ]
  },
  {
   "cell_type": "code",
   "execution_count": null,
   "metadata": {
    "collapsed": false
   },
   "outputs": [],
   "source": [
    "movies_f = clean_people(movies_f, 'index', 'actor')\n",
    "movies_f = clean_people(movies_f, 'index', 'director')\n",
    "movies_f = clean_people(movies_f, 'index', 'writer')\n",
    "movies_f = clean_people(movies_f, 'index', 'distributor')\n",
    "movies_f = clean_people(movies_f, 'index', 'composer')\n",
    "movies_f = clean_people(movies_f, 'index', 'cinematographer')\n",
    "movies_f = clean_people(movies_f, 'index', 'producer')"
   ]
  },
  {
   "cell_type": "code",
   "execution_count": null,
   "metadata": {
    "collapsed": false
   },
   "outputs": [],
   "source": [
    "print(movies_f.shape)\n",
    "#Removing redinant columns\n",
    "movies_f = movies_f.drop('actor',axis = 1)\n",
    "movies_f = movies_f.drop('director',axis = 1)\n",
    "movies_f = movies_f.drop('writer',axis = 1)\n",
    "movies_f = movies_f.drop('distributor',axis = 1)\n",
    "movies_f = movies_f.drop('composer',axis = 1)\n",
    "movies_f = movies_f.drop('cinematographer',axis = 1)\n",
    "movies_f = movies_f.drop('producer',axis = 1)\n",
    "movies_f = movies_f.drop('wiki_studio',axis = 1)\n",
    "movies_f = movies_f.drop('wiki_editing',axis = 1)\n",
    "print(movies_f.shape)\n",
    "print(movies_f.columns)\n",
    "movies_f.head(2)"
   ]
  },
  {
   "cell_type": "code",
   "execution_count": null,
   "metadata": {
    "collapsed": true
   },
   "outputs": [],
   "source": [
    "def people_score(movie_data, peeps, rev, awa):\n",
    "    \"\"\"\n",
    "    Getting unique actors\n",
    "    \"\"\"\n",
    "    start_time = time.time()\n",
    "    peep_unq = list(movie_data[peeps])\n",
    "    peep_unq = list(set(sum(peep_unq, [])))\n",
    "    peep_unq = [e for e in peep_unq if e not in ('', ' ')]\n",
    "    peep_cnt = dict((ky,0) for ky in peep_unq)\n",
    "    peep_awa = dict((ky,0) for ky in peep_unq)\n",
    "    peep_acn = dict((ky,0) for ky in peep_unq)\n",
    "    peep_unq = dict((ky,0) for ky in peep_unq)\n",
    "    print('Unique', peeps, ': ', len(peep_unq))\n",
    "\n",
    "    # For each actor, assigning score based on revenue of their movie\n",
    "    mov_peeps = list(movie_data[peeps])\n",
    "    mov_peeps = [[actor for actor in mov if actor not in ('', ' ')] for mov in mov_peeps]\n",
    "    ind = 0\n",
    "    for actors in mov_peeps:\n",
    "        for actor in actors:\n",
    "            peep_unq[actor] += float(movie_data.loc[ind, [rev]])\n",
    "            peep_cnt[actor] += 1\n",
    "            peep_awa[actor] += int(movie_data.loc[ind, [awa]])\n",
    "            if int(movie_data.loc[ind, [awa]]) != 0: peep_acn[actor] += 1\n",
    "        ind+=1\n",
    "    print(\"Time taken: \" + str(round(time.time() - start_time,2)) + \" seconds\\n\")\n",
    "    return (peep_unq, peep_cnt, peep_awa, peep_acn)"
   ]
  },
  {
   "cell_type": "code",
   "execution_count": null,
   "metadata": {
    "collapsed": false
   },
   "outputs": [],
   "source": [
    "movies_f.loc[movies_f.revenue == \"\",'revenue'] = movies_f.loc[movies_f.revenue==\"\",'revenue'].apply(lambda x: float(x.replace('', '0.0')))\n",
    "movies_f['revenue'] = movies_f['revenue'].astype(float)"
   ]
  },
  {
   "cell_type": "code",
   "execution_count": null,
   "metadata": {
    "collapsed": false
   },
   "outputs": [],
   "source": [
    "# Storing people scores\n",
    "unq_dir, cnt_dir, awa_dir, acn_dir = people_score(movies_f, 'director_clean', 'revenue', 'bom_awards_scr')\n",
    "unq_act, cnt_act, awa_act, acn_act = people_score(movies_f, 'actor_clean', 'revenue', 'bom_awards_scr')\n",
    "unq_wri, cnt_wri, awa_wri, acn_wri = people_score(movies_f, 'writer_clean', 'revenue', 'bom_awards_scr')\n",
    "unq_dis, cnt_dis, awa_dis, acn_dis = people_score(movies_f, 'distributor_clean', 'revenue', 'bom_awards_scr')\n",
    "unq_com, cnt_com, awa_com, acn_com = people_score(movies_f, 'composer_clean', 'revenue', 'bom_awards_scr')\n",
    "unq_cin, cnt_cin, awa_cin, acn_cin = people_score(movies_f, 'cinematographer_clean', 'revenue', 'bom_awards_scr')\n",
    "unq_pro, cnt_pro, awa_pro, acn_pro = people_score(movies_f, 'producer_clean', 'revenue', 'bom_awards_scr')"
   ]
  },
  {
   "cell_type": "code",
   "execution_count": null,
   "metadata": {
    "collapsed": true
   },
   "outputs": [],
   "source": [
    "def mean_awards(awa, acn):\n",
    "    \"\"\"\n",
    "    Getting mean of awards\n",
    "    \"\"\"\n",
    "    awa_mea = {}\n",
    "    for k in awa.keys():\n",
    "        if awa[k] != 0:\n",
    "            awa_mea[k] = awa[k]/acn[k]\n",
    "        else:\n",
    "            awa_mea[k] = awa[k]\n",
    "    return awa_mea"
   ]
  },
  {
   "cell_type": "code",
   "execution_count": null,
   "metadata": {
    "collapsed": true
   },
   "outputs": [],
   "source": [
    "# Storing mean of awards in variable\n",
    "awa_mea_act = mean_awards(awa_act, acn_act)\n",
    "awa_mea_dir = mean_awards(awa_dir, acn_dir)\n",
    "awa_mea_wri = mean_awards(awa_wri, acn_wri)\n",
    "awa_mea_dis = mean_awards(awa_dis, acn_dis)\n",
    "awa_mea_com = mean_awards(awa_com, acn_com)\n",
    "awa_mea_cin = mean_awards(awa_cin, acn_cin)\n",
    "awa_mea_pro = mean_awards(awa_pro, acn_pro)"
   ]
  },
  {
   "cell_type": "code",
   "execution_count": null,
   "metadata": {
    "collapsed": true
   },
   "outputs": [],
   "source": [
    "# Calculating the mean of the score for the people\n",
    "mean_act = {k: (unq_act[k]/cnt_act[k])+(awa_mea_act[k]) for k in unq_act.keys()}\n",
    "mean_dir = {k: (unq_dir[k]/cnt_dir[k])+(awa_mea_dir[k]) for k in unq_dir.keys()}\n",
    "mean_wri = {k: (unq_wri[k]/cnt_wri[k])+(awa_mea_wri[k]) for k in unq_wri.keys()}\n",
    "mean_dis = {k: (unq_dis[k]/cnt_dis[k])+(awa_mea_dis[k]) for k in unq_dis.keys()}\n",
    "mean_com = {k: (unq_com[k]/cnt_com[k])+(awa_mea_com[k]) for k in unq_com.keys()}\n",
    "mean_cin = {k: (unq_cin[k]/cnt_cin[k])+(awa_mea_cin[k]) for k in unq_cin.keys()}\n",
    "mean_pro = {k: (unq_pro[k]/cnt_pro[k])+(awa_mea_pro[k]) for k in unq_pro.keys()}"
   ]
  },
  {
   "cell_type": "code",
   "execution_count": null,
   "metadata": {
    "collapsed": false
   },
   "outputs": [],
   "source": [
    "from operator import itemgetter\n",
    "sorted(mean_act.items(), key=itemgetter(1),reverse=True)"
   ]
  },
  {
   "cell_type": "code",
   "execution_count": null,
   "metadata": {
    "collapsed": false
   },
   "outputs": [],
   "source": [
    "import matplotlib.pyplot as plt\n",
    "\n",
    "plt.hist(list(mean_act.values()), color='g',range=[0,10])\n",
    "plt.show()"
   ]
  },
  {
   "cell_type": "code",
   "execution_count": null,
   "metadata": {
    "collapsed": false
   },
   "outputs": [],
   "source": [
    "actor='Meryl Streep'\n",
    "dirtr = 'Christopher Nolan'\n",
    "print(unq_act[actor], cnt_act[actor], awa_act[actor], acn_act[actor], awa_mea_act[actor], mean_act[actor])\n",
    "print(unq_dir[dirtr], cnt_dir[dirtr], awa_dir[dirtr], acn_dir[dirtr], awa_mea_dir[dirtr], mean_dir[dirtr])"
   ]
  },
  {
   "cell_type": "code",
   "execution_count": null,
   "metadata": {
    "collapsed": true
   },
   "outputs": [],
   "source": [
    "def movie_people_score(movie_data, peeps, peeps_score):\n",
    "    \"\"\"\n",
    "    For each movie, assigning player score\n",
    "    \"\"\"\n",
    "    mov_peeps = list(movie_data[peeps])\n",
    "    mov_peeps = [[actor for actor in mov if actor not in ('', ' ')] for mov in mov_peeps]\n",
    "    ind = 0\n",
    "    mov_score = []\n",
    "    for actors in mov_peeps:\n",
    "        agg_actor_score = 0\n",
    "        for actor in actors:\n",
    "            agg_actor_score += peeps_score[actor]\n",
    "        mov_score.append(agg_actor_score)\n",
    "        ind+=1\n",
    "    return mov_score"
   ]
  },
  {
   "cell_type": "code",
   "execution_count": null,
   "metadata": {
    "collapsed": true
   },
   "outputs": [],
   "source": [
    "# Creating new columns for player scores\n",
    "movies_f[\"actor_score\"] = movie_people_score(movies_f, 'actor_clean', mean_act)\n",
    "movies_f[\"director_score\"] = movie_people_score(movies_f, 'director_clean', mean_dir)\n",
    "movies_f[\"writer_score\"] = movie_people_score(movies_f, 'writer_clean', mean_wri)\n",
    "movies_f[\"distributor_score\"] = movie_people_score(movies_f, 'distributor_clean', mean_dis)\n",
    "movies_f[\"composer_score\"] = movie_people_score(movies_f, 'composer_clean', mean_com)\n",
    "movies_f[\"cinematographer_score\"] = movie_people_score(movies_f, 'cinematographer_clean', mean_cin)\n",
    "movies_f[\"producer_score\"] = movie_people_score(movies_f, 'producer_clean', mean_pro)"
   ]
  },
  {
   "cell_type": "code",
   "execution_count": null,
   "metadata": {
    "collapsed": false
   },
   "outputs": [],
   "source": [
    "print(movies_f.shape)\n",
    "movies_f.head(1)"
   ]
  },
  {
   "cell_type": "code",
   "execution_count": null,
   "metadata": {
    "collapsed": true
   },
   "outputs": [],
   "source": [
    "movies_f.to_csv(\"movies_MG_3.csv\",index=None)"
   ]
  },
  {
   "cell_type": "markdown",
   "metadata": {},
   "source": [
    "### Genre"
   ]
  },
  {
   "cell_type": "code",
   "execution_count": null,
   "metadata": {
    "collapsed": true
   },
   "outputs": [],
   "source": []
  },
  {
   "cell_type": "markdown",
   "metadata": {},
   "source": [
    "###### Linear Regression"
   ]
  },
  {
   "cell_type": "code",
   "execution_count": null,
   "metadata": {
    "collapsed": false
   },
   "outputs": [],
   "source": [
    "movies_f.shape"
   ]
  },
  {
   "cell_type": "code",
   "execution_count": null,
   "metadata": {
    "collapsed": false
   },
   "outputs": [],
   "source": [
    "t = movies_f\n",
    "t = t.fillna(\"\")\n",
    "t.shape"
   ]
  },
  {
   "cell_type": "code",
   "execution_count": null,
   "metadata": {
    "collapsed": false
   },
   "outputs": [],
   "source": [
    "t.head(2)"
   ]
  },
  {
   "cell_type": "code",
   "execution_count": null,
   "metadata": {
    "collapsed": false
   },
   "outputs": [],
   "source": [
    "t.dtypes"
   ]
  },
  {
   "cell_type": "code",
   "execution_count": null,
   "metadata": {
    "collapsed": false
   },
   "outputs": [],
   "source": [
    "t.loc[t.budget == \"\",'budget'] = t.loc[t.budget==\"\",'budget'].apply(lambda x: float(x.replace('', '0.0')))\n",
    "t['budget'] = t['budget'].astype(float)\n",
    "t.loc[t.gross == \"\",'gross'] = t.loc[t.gross==\"\",'gross'].apply(lambda x: float(x.replace('', '0.0')))\n",
    "t['gross'] = t['gross'].astype(float)"
   ]
  },
  {
   "cell_type": "code",
   "execution_count": null,
   "metadata": {
    "collapsed": false
   },
   "outputs": [],
   "source": [
    "# Converting data types of columns\n",
    "\n",
    "t.loc[t.release_month == \"\",'release_month'] = t.loc[t.release_month==\"\",'release_month'].apply(lambda x: float(x.replace('', '0.0')))\n",
    "t['release_month'] = t['release_month'].astype(float)\n",
    "t.loc[t.release_quarter == \"\",'release_quarter'] = t.loc[t.release_quarter==\"\",'release_quarter'].apply(lambda x: float(x.replace('', '0.0')))\n",
    "t['release_quarter'] = t['release_quarter'].astype(float)\n",
    "t.loc[t.release_week_of_the_year == \"\",'release_week_of_the_year'] = t.loc[t.release_week_of_the_year==\"\",'release_week_of_the_year'].apply(lambda x: float(x.replace('', '0.0')))\n",
    "t['release_week_of_the_year'] = t['release_week_of_the_year'].astype(float)\n",
    "t.loc[t.release_day_of_the_year == \"\",'release_day_of_the_year'] = t.loc[t.release_day_of_the_year==\"\",'release_day_of_the_year'].apply(lambda x: float(x.replace('', '0.0')))\n",
    "t['release_day_of_the_year'] = t['release_day_of_the_year'].astype(float)\n",
    "t.loc[t.mpaa_rating == \"\",'mpaa_rating'] = t.loc[t.mpaa_rating==\"\",'mpaa_rating'].apply(lambda x: float(x.replace('', '7.0')))\n",
    "t['mpaa_rating'] = t['mpaa_rating'].astype(float)\n",
    "t.dtypes"
   ]
  },
  {
   "cell_type": "code",
   "execution_count": null,
   "metadata": {
    "collapsed": false
   },
   "outputs": [],
   "source": [
    "# Removing movies with budget and gross below 10000\n",
    "a = t[(t['budget']>10000) & (t['gross']>10000)]\n",
    "a.shape"
   ]
  },
  {
   "cell_type": "code",
   "execution_count": null,
   "metadata": {
    "collapsed": false
   },
   "outputs": [],
   "source": [
    "import warnings\n",
    "warnings.filterwarnings('ignore')\n",
    "\n",
    "# Normalizing revenue to identify outliers\n",
    "from sklearn import preprocessing\n",
    "min_max_scaler = preprocessing.MinMaxScaler()\n",
    "a['revenue_norm'] = min_max_scaler.fit_transform(a['revenue'])\n",
    "a['revenue_norm'].plot.hist(range=[0, 0.005])"
   ]
  },
  {
   "cell_type": "code",
   "execution_count": null,
   "metadata": {
    "collapsed": false
   },
   "outputs": [],
   "source": [
    "print(\"Outliers: \",a[a['revenue_norm']>0.02].shape)\n",
    "b = a[a['revenue_norm']<0.02]\n",
    "print(b.shape)\n",
    "b.columns"
   ]
  },
  {
   "cell_type": "code",
   "execution_count": null,
   "metadata": {
    "collapsed": true
   },
   "outputs": [],
   "source": [
    "#Normalizing the features\n",
    "def standardize(raw_data):\n",
    "    return ((raw_data - np.mean(raw_data, axis = 0)) / np.std(raw_data, axis = 0))"
   ]
  },
  {
   "cell_type": "code",
   "execution_count": null,
   "metadata": {
    "collapsed": false
   },
   "outputs": [],
   "source": [
    "cols = ['gross', 'budget',\"release_month\",\"release_quarter\",\"release_day_of_the_year\",\n",
    "                           \"release_week_of_the_year\",\"actor_score\",\"director_score\",\"writer_score\",\n",
    "                           \"distributor_score\", \"composer_score\", \"cinematographer_score\", \"producer_score\",\n",
    "       \"bom_awards_scr\"]\n",
    "# Normalizing the features\n",
    "for c in cols:\n",
    "    b[c]=standardize(b[c])\n",
    "b.head(3)"
   ]
  },
  {
   "cell_type": "code",
   "execution_count": null,
   "metadata": {
    "collapsed": false
   },
   "outputs": [],
   "source": [
    "from sklearn.cross_validation import train_test_split\n",
    "x = b[['budget',\"release_month\",\"release_quarter\",\"release_day_of_the_year\",\n",
    "                           \"release_week_of_the_year\",\"actor_score\",\"director_score\",\"writer_score\",\n",
    "                           \"distributor_score\", \"composer_score\", \"cinematographer_score\", \"producer_score\",\n",
    "      \"bom_awards_scr\",\"mpaa_rating\"]]\n",
    "y = b['revenue']\n",
    "x_train, x_test, y_train, y_test = train_test_split(x, y, train_size = 0.65, random_state=42)"
   ]
  },
  {
   "cell_type": "code",
   "execution_count": null,
   "metadata": {
    "collapsed": false
   },
   "outputs": [],
   "source": [
    "print(\"X train: \",x_train.shape)\n",
    "print(\"Y train: \",y_train.shape)\n",
    "print(\"X test: \",x_test.shape)\n",
    "print(\"Y test: \",y_test.shape)"
   ]
  },
  {
   "cell_type": "code",
   "execution_count": null,
   "metadata": {
    "collapsed": false
   },
   "outputs": [],
   "source": [
    "from sklearn.linear_model import LinearRegression\n",
    "from sklearn.metrics import r2_score\n",
    "# Create linear regression object\n",
    "regr = LinearRegression()\n",
    "\n",
    "# Train the model using the training sets\n",
    "regr.fit(x_train, y_train)\n",
    "\n",
    "# The coefficients\n",
    "print('Coefficients: \\n', regr.coef_)\n",
    "# The mean squared error\n",
    "print(\"Mean squared error: %.2f\"\n",
    "      % np.mean((regr.predict(x_test) - y_test) ** 2))\n",
    "# Explained variance score: 1 is perfect prediction\n",
    "print('Variance score: %.2f' % regr.score(x_test, y_test))\n",
    "print('R squared: %.3f' % regr.score(x_test, y_test))"
   ]
  },
  {
   "cell_type": "code",
   "execution_count": null,
   "metadata": {
    "collapsed": false
   },
   "outputs": [],
   "source": [
    "from sklearn.ensemble import RandomForestRegressor\n",
    "\n",
    "max_depth = 30\n",
    "\n",
    "regr_rf = RandomForestRegressor(max_depth=max_depth, random_state=2)\n",
    "regr_rf.fit(x_train, y_train)\n",
    "\n",
    "# Predict on new data\n",
    "print(\"Mean squared error: %.2f\"\n",
    "      % np.mean((regr_rf.predict(x_test) - y_test) ** 2))\n",
    "# Explained variance score: 1 is perfect prediction\n",
    "print('Variance score: %.2f' % regr_rf.score(x_test, y_test))\n",
    "print('R squared: %.3f' % regr_rf.score(x_test, y_test))"
   ]
  },
  {
   "cell_type": "code",
   "execution_count": null,
   "metadata": {
    "collapsed": false
   },
   "outputs": [],
   "source": [
    "from sklearn.ensemble import AdaBoostRegressor\n",
    "rng = np.random.RandomState(1)\n",
    "regr_ad = AdaBoostRegressor(regr_rf,\n",
    "                          n_estimators=300, random_state=rng)\n",
    "regr_ad.fit(x_train,y_train)\n",
    "# Predict on new data\n",
    "print(\"Mean squared error: %.2f\"\n",
    "      % np.mean((regr_ad.predict(x_test) - y_test) ** 2))\n",
    "# Explained variance score: 1 is perfect prediction\n",
    "print('Variance score: %.2f' % regr_ad.score(x_test, y_test))\n",
    "print('R squared: %.3f' % regr_ad.score(x_test, y_test))"
   ]
  },
  {
   "cell_type": "code",
   "execution_count": null,
   "metadata": {
    "collapsed": false
   },
   "outputs": [],
   "source": [
    "importances = regr_rf.feature_importances_\n",
    "std = np.std([tree.feature_importances_ for tree in regr_rf.estimators_],\n",
    "             axis=0)\n",
    "indices = np.argsort(importances)[::-1]\n",
    "\n",
    "# Print the feature ranking\n",
    "print(\"Feature ranking:\")\n",
    "\n",
    "for f in range(x_train.shape[1]):\n",
    "    print(\"%d. feature %d (%f)\" % (f + 1, indices[f], importances[indices[f]]))"
   ]
  },
  {
   "cell_type": "code",
   "execution_count": null,
   "metadata": {
    "collapsed": false
   },
   "outputs": [],
   "source": [
    "y_pred = regr_ad.predict(x_test)  \n",
    "y_true = y_test.values\n",
    "\n",
    "y_pred_se = pd.Series(y_pred)\n",
    "y_true_se = pd.Series(y_true)\n",
    "\n",
    "\n",
    "new = pd.DataFrame()\n",
    "new['y_pred'] = y_pred_se \n",
    "new['y_true'] = y_true_se \n",
    "new['diff'] = (new['y_true']-new['y_pred'])/new['y_true']\n",
    "\n",
    "new.head()\n",
    "\n"
   ]
  },
  {
   "cell_type": "code",
   "execution_count": null,
   "metadata": {
    "collapsed": false,
    "scrolled": true
   },
   "outputs": [],
   "source": [
    "new[(new[\"diff\"]<1) & (new[\"diff\"]>-1)].shape"
   ]
  },
  {
   "cell_type": "code",
   "execution_count": null,
   "metadata": {
    "collapsed": false
   },
   "outputs": [],
   "source": [
    "movies_d = pd.read_csv(\"movies_MG_3.csv\")\n",
    "clean_merged_data = movies_d[movies_d['title'].str.contains('superman')].head(3)\n",
    "\n",
    "from operator import itemgetter\n",
    "director_score = sorted(mean_dir.items(), key=itemgetter(1),reverse=True)[:5]"
   ]
  },
  {
   "cell_type": "code",
   "execution_count": null,
   "metadata": {
    "collapsed": false
   },
   "outputs": [],
   "source": [
    "clean_merged_data"
   ]
  },
  {
   "cell_type": "code",
   "execution_count": null,
   "metadata": {
    "collapsed": false
   },
   "outputs": [],
   "source": [
    "director_score\n",
    "\n",
    "mean_act['Adam Sandler']"
   ]
  },
  {
   "cell_type": "code",
   "execution_count": null,
   "metadata": {
    "collapsed": false
   },
   "outputs": [],
   "source": [
    "from sklearn.ensemble import AdaBoostRegressor\n",
    "rng = np.random.RandomState(1)\n",
    "regr_ad = AdaBoostRegressor(regr_rf,\n",
    "                          n_estimators=300, random_state=rng)\n",
    "regr_ad.fit(x_train,y_train)\n",
    "# Predict on new data\n",
    "print(\"Mean squared error: %.2f\"\n",
    "      % np.mean((regr_ad.predict(x_test) - y_test) ** 2))\n",
    "# Explained variance score: 1 is perfect prediction\n",
    "print('Variance score: %.2f' % regr_ad.score(x_test, y_test))\n",
    "print('R squared: %.3f' % regr_ad.score(x_test, y_test))"
   ]
  },
  {
   "cell_type": "code",
   "execution_count": null,
   "metadata": {
    "collapsed": false
   },
   "outputs": [],
   "source": [
    "t =t.dropna()\n",
    "t.corr()"
   ]
  },
  {
   "cell_type": "code",
   "execution_count": null,
   "metadata": {
    "collapsed": false
   },
   "outputs": [],
   "source": [
    "movie_df_3.corr()"
   ]
  },
  {
   "cell_type": "code",
   "execution_count": null,
   "metadata": {
    "collapsed": true
   },
   "outputs": [],
   "source": []
  },
  {
   "cell_type": "code",
   "execution_count": null,
   "metadata": {
    "collapsed": true
   },
   "outputs": [],
   "source": []
  },
  {
   "cell_type": "code",
   "execution_count": null,
   "metadata": {
    "collapsed": true
   },
   "outputs": [],
   "source": []
  },
  {
   "cell_type": "code",
   "execution_count": null,
   "metadata": {
    "collapsed": true
   },
   "outputs": [],
   "source": []
  }
 ],
 "metadata": {
  "kernelspec": {
   "display_name": "Python 3",
   "language": "python",
   "name": "python3"
  },
  "language_info": {
   "codemirror_mode": {
    "name": "ipython",
    "version": 3
   },
   "file_extension": ".py",
   "mimetype": "text/x-python",
   "name": "python",
   "nbconvert_exporter": "python",
   "pygments_lexer": "ipython3",
   "version": "3.5.3"
  }
 },
 "nbformat": 4,
 "nbformat_minor": 0
}
