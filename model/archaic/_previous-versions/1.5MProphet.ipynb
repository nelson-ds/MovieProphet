{
 "cells": [
  {
   "cell_type": "markdown",
   "metadata": {
    "collapsed": true
   },
   "source": [
    "### Project  Movie Prophet\n",
    "#### A project to create a predictive model to forecast a movie's performance on the Box Office\n",
    "#### Team Members - Nelson Dsouza, Maria George, Saurabh Seth"
   ]
  },
  {
   "cell_type": "markdown",
   "metadata": {},
   "source": [
    "### Common"
   ]
  },
  {
   "cell_type": "code",
   "execution_count": 15,
   "metadata": {
    "collapsed": false
   },
   "outputs": [],
   "source": [
    "# Load libraries and instatiate DB connection\n",
    "\n",
    "%matplotlib inline\n",
    "import pandas as pd\n",
    "import pymysql\n",
    "import numpy as np\n",
    "import matplotlib.pyplot as plt\n",
    "\n",
    "pd.set_option('display.max_rows', 500)\n",
    "pd.set_option('display.max_colwidth', 100)\n",
    "pd.set_option('display.max_columns', 500)\n",
    "pd.set_option('display.width', 1000)\n",
    "pd.options.display.max_seq_items = 2000\n",
    "\n",
    "# Connect to the database\n",
    "connection = pymysql.connect(host='localhost',\n",
    "                             user='root',\n",
    "                             password='mprophet',\n",
    "                             db='movies')"
   ]
  },
  {
   "cell_type": "code",
   "execution_count": 16,
   "metadata": {
    "collapsed": false
   },
   "outputs": [],
   "source": [
    "# Pull table from database\n",
    "\n",
    "cur = connection.cursor()\n",
    "\n",
    "cur.execute(\"select * FROM bom\")\n",
    "bom_sql = []\n",
    "for row in cur: bom_sql.append(list(row))\n",
    "\n",
    "cur.close()\n",
    "connection.close()"
   ]
  },
  {
   "cell_type": "code",
   "execution_count": 17,
   "metadata": {
    "collapsed": false
   },
   "outputs": [
    {
     "name": "stdout",
     "output_type": "stream",
     "text": [
      "Total movies from Box Office Mojo: 16826\n"
     ]
    },
    {
     "data": {
      "text/html": [
       "<div>\n",
       "<table border=\"1\" class=\"dataframe\">\n",
       "  <thead>\n",
       "    <tr style=\"text-align: right;\">\n",
       "      <th></th>\n",
       "      <th>bom_title</th>\n",
       "      <th>bom_link</th>\n",
       "      <th>bom_key</th>\n",
       "      <th>bom_date</th>\n",
       "      <th>bom_year</th>\n",
       "      <th>bom_name</th>\n",
       "      <th>bom_budget</th>\n",
       "      <th>bom_domestic_gross</th>\n",
       "      <th>bom_lifetime_gross</th>\n",
       "      <th>bom_release_date</th>\n",
       "      <th>bom_runtime</th>\n",
       "      <th>bom_distributor</th>\n",
       "      <th>bom_genre</th>\n",
       "      <th>bom_rating</th>\n",
       "      <th>bom_awards</th>\n",
       "      <th>bom_actor</th>\n",
       "      <th>bom_assoc_producer</th>\n",
       "      <th>bom_cinematographer</th>\n",
       "      <th>bom_composer</th>\n",
       "      <th>bom_director</th>\n",
       "      <th>bom_exec_producer</th>\n",
       "      <th>bom_line_producer</th>\n",
       "      <th>bom_players</th>\n",
       "      <th>bom_producer</th>\n",
       "      <th>bom_writer</th>\n",
       "      <th>bom_close_date</th>\n",
       "      <th>bom_domestic_summary</th>\n",
       "      <th>bom_in_release</th>\n",
       "      <th>bom_limited_opening_weekend</th>\n",
       "      <th>bom_opening_weekend</th>\n",
       "      <th>bom_wide_opening_weekend</th>\n",
       "      <th>bom_widest_release</th>\n",
       "      <th>bom_domestic_revenue</th>\n",
       "      <th>bom_foreign_revenue</th>\n",
       "      <th>bom_worldwide_revenue</th>\n",
       "      <th>bom_total_lifetime_gross</th>\n",
       "    </tr>\n",
       "  </thead>\n",
       "  <tbody>\n",
       "    <tr>\n",
       "      <th>0</th>\n",
       "      <td>#horror</td>\n",
       "      <td>http://www.boxofficemojo.com/movies/?id=horrorifc.htm</td>\n",
       "      <td>b0</td>\n",
       "      <td>20-Nov-15</td>\n",
       "      <td>2015\\r</td>\n",
       "      <td>#Horror</td>\n",
       "      <td>N/A</td>\n",
       "      <td></td>\n",
       "      <td></td>\n",
       "      <td>20-Nov-15</td>\n",
       "      <td>1 hrs. 30 min.</td>\n",
       "      <td>IFC</td>\n",
       "      <td>Horror</td>\n",
       "      <td>Unknown</td>\n",
       "      <td>No Academy Awards Information\\r</td>\n",
       "      <td>\"['Balthazar Getty', 'Timothy Hutton', 'Natasha Lyonne', 'Taryn Manning', 'Chloe Sevigny']\"</td>\n",
       "      <td></td>\n",
       "      <td></td>\n",
       "      <td></td>\n",
       "      <td></td>\n",
       "      <td></td>\n",
       "      <td></td>\n",
       "      <td></td>\n",
       "      <td></td>\n",
       "      <td>\\r</td>\n",
       "      <td></td>\n",
       "      <td>No Domestic Summary Information</td>\n",
       "      <td></td>\n",
       "      <td></td>\n",
       "      <td></td>\n",
       "      <td></td>\n",
       "      <td>\\r</td>\n",
       "      <td></td>\n",
       "      <td></td>\n",
       "      <td></td>\n",
       "      <td>No Total Lifetime Gross Information\\r</td>\n",
       "    </tr>\n",
       "  </tbody>\n",
       "</table>\n",
       "</div>"
      ],
      "text/plain": [
       "  bom_title                                               bom_link bom_key   bom_date bom_year bom_name bom_budget bom_domestic_gross bom_lifetime_gross bom_release_date     bom_runtime bom_distributor bom_genre bom_rating                       bom_awards                                                                                    bom_actor bom_assoc_producer bom_cinematographer bom_composer bom_director bom_exec_producer bom_line_producer bom_players bom_producer bom_writer bom_close_date             bom_domestic_summary bom_in_release bom_limited_opening_weekend bom_opening_weekend bom_wide_opening_weekend bom_widest_release bom_domestic_revenue bom_foreign_revenue bom_worldwide_revenue               bom_total_lifetime_gross\n",
       "0   #horror  http://www.boxofficemojo.com/movies/?id=horrorifc.htm      b0  20-Nov-15   2015\\r  #Horror        N/A                                              20-Nov-15  1 hrs. 30 min.             IFC    Horror    Unknown  No Academy Awards Information\\r  \"['Balthazar Getty', 'Timothy Hutton', 'Natasha Lyonne', 'Taryn Manning', 'Chloe Sevigny']\"                                                                                                                                       \\r                 No Domestic Summary Information                                                                                                         \\r                                                                 No Total Lifetime Gross Information\\r"
      ]
     },
     "execution_count": 17,
     "metadata": {},
     "output_type": "execute_result"
    }
   ],
   "source": [
    "# Store table information in DataFrame\n",
    "\n",
    "bom_columns =         ['bom_title', 'bom_link', 'bom_key', 'bom_date', 'bom_year', 'bom_name', 'bom_budget',\n",
    "                       'bom_domestic_gross', 'bom_lifetime_gross', 'bom_release_date', 'bom_runtime', 'bom_distributor',\n",
    "                       'bom_genre', 'bom_rating', 'bom_awards', 'bom_actor', 'bom_assoc_producer', 'bom_cinematographer',\n",
    "                       'bom_composer', 'bom_director', 'bom_exec_producer', 'bom_line_producer', 'bom_players', 'bom_producer',\n",
    "                       'bom_writer', 'bom_close_date', 'bom_domestic_summary', 'bom_in_release', 'bom_limited_opening_weekend',\n",
    "                       'bom_opening_weekend', 'bom_wide_opening_weekend', 'bom_widest_release', 'bom_domestic_revenue',\n",
    "                       'bom_foreign_revenue', 'bom_worldwide_revenue', 'bom_total_lifetime_gross']\n",
    "\n",
    "bom = pd.DataFrame(bom_sql, columns=bom_columns)\n",
    "#bom.to_csv('bom.csv')\n",
    "print('Total movies from Box Office Mojo:', len(bom))\n",
    "bom.head(1)"
   ]
  },
  {
   "cell_type": "markdown",
   "metadata": {},
   "source": [
    "### Nelson"
   ]
  },
  {
   "cell_type": "code",
   "execution_count": 4,
   "metadata": {
    "collapsed": false
   },
   "outputs": [
    {
     "name": "stdout",
     "output_type": "stream",
     "text": [
      "Movies with no player information: 6419\n"
     ]
    }
   ],
   "source": [
    "# Cleaning actor names and storing in list\n",
    "\n",
    "bom_ftr = bom.copy()\n",
    "\n",
    "print('Movies with no player information:', len(bom_ftr[bom_ftr['bom_players'] == 'No Player Information']))\n",
    "\n",
    "# Clean the actor column\n",
    "bom_ftr['actor_clean'] = bom_ftr['bom_actor'].str.replace('[','')\n",
    "bom_ftr['actor_clean'] = bom_ftr['actor_clean'].str.replace(']','')\n",
    "bom_ftr['actor_clean'] = bom_ftr['actor_clean'].str.replace('\"','')\n",
    "bom_ftr['actor_clean'] = bom_ftr['actor_clean'].str.replace(\"'\",'')\n",
    "bom_ftr['actor_clean'] = bom_ftr['actor_clean'].str.replace(\", \",',')\n",
    "bom_ftr['actor_clean'] = bom_ftr['actor_clean'].str.replace(\"*\",',')\n",
    "\n",
    "bom_ftr['actor_clean'] = bom_ftr['actor_clean'].apply(lambda x: x.split(','))"
   ]
  },
  {
   "cell_type": "code",
   "execution_count": 18,
   "metadata": {
    "collapsed": false
   },
   "outputs": [
    {
     "name": "stdout",
     "output_type": "stream",
     "text": [
      "Movies with no budget information: 13712\n",
      "Movies with no gross total information: 1973\n",
      "\n",
      "Movies with revenue information: 3066\n"
     ]
    },
    {
     "data": {
      "text/html": [
       "<div>\n",
       "<table border=\"1\" class=\"dataframe\">\n",
       "  <thead>\n",
       "    <tr style=\"text-align: right;\">\n",
       "      <th></th>\n",
       "      <th>index</th>\n",
       "      <th>bom_title</th>\n",
       "      <th>bom_link</th>\n",
       "      <th>bom_key</th>\n",
       "      <th>bom_date</th>\n",
       "      <th>bom_year</th>\n",
       "      <th>bom_name</th>\n",
       "      <th>bom_budget</th>\n",
       "      <th>bom_domestic_gross</th>\n",
       "      <th>bom_lifetime_gross</th>\n",
       "      <th>bom_release_date</th>\n",
       "      <th>bom_runtime</th>\n",
       "      <th>bom_distributor</th>\n",
       "      <th>bom_genre</th>\n",
       "      <th>bom_rating</th>\n",
       "      <th>bom_awards</th>\n",
       "      <th>bom_actor</th>\n",
       "      <th>bom_assoc_producer</th>\n",
       "      <th>bom_cinematographer</th>\n",
       "      <th>bom_composer</th>\n",
       "      <th>bom_director</th>\n",
       "      <th>bom_exec_producer</th>\n",
       "      <th>bom_line_producer</th>\n",
       "      <th>bom_players</th>\n",
       "      <th>bom_producer</th>\n",
       "      <th>bom_writer</th>\n",
       "      <th>bom_close_date</th>\n",
       "      <th>bom_domestic_summary</th>\n",
       "      <th>bom_in_release</th>\n",
       "      <th>bom_limited_opening_weekend</th>\n",
       "      <th>bom_opening_weekend</th>\n",
       "      <th>bom_wide_opening_weekend</th>\n",
       "      <th>bom_widest_release</th>\n",
       "      <th>bom_domestic_revenue</th>\n",
       "      <th>bom_foreign_revenue</th>\n",
       "      <th>bom_worldwide_revenue</th>\n",
       "      <th>bom_total_lifetime_gross</th>\n",
       "      <th>actor_clean</th>\n",
       "      <th>bom_revenue</th>\n",
       "      <th>bom_actor_score</th>\n",
       "    </tr>\n",
       "  </thead>\n",
       "  <tbody>\n",
       "    <tr>\n",
       "      <th>0</th>\n",
       "      <td>10</td>\n",
       "      <td>(500) days of summer</td>\n",
       "      <td>http://www.boxofficemojo.com/movies/?id=500daysofsummer.htm</td>\n",
       "      <td>b10</td>\n",
       "      <td>17-Jul-09</td>\n",
       "      <td>2009\\r</td>\n",
       "      <td>(500) Days of Summer</td>\n",
       "      <td>7500000</td>\n",
       "      <td>32391374</td>\n",
       "      <td></td>\n",
       "      <td>17-Jul-09</td>\n",
       "      <td>1 hrs. 35 min.</td>\n",
       "      <td>Fox Searchlight</td>\n",
       "      <td>Romance</td>\n",
       "      <td>PG-13</td>\n",
       "      <td>No Academy Awards Information\\r</td>\n",
       "      <td>\"['Zooey Deschanel', 'Geoffrey Arend', 'Chloe Moretz', 'Clark Gregg', 'Minka Kelly*']\"</td>\n",
       "      <td></td>\n",
       "      <td></td>\n",
       "      <td>\"['Mychael Danna', 'Rob Simonsen']\"</td>\n",
       "      <td>['Marc Webb']</td>\n",
       "      <td></td>\n",
       "      <td></td>\n",
       "      <td></td>\n",
       "      <td>\"['Mason Novick', 'Mark S. Waters']\"</td>\n",
       "      <td>\"['Scott Neustadter', 'Michael H. Weber']\"\\r</td>\n",
       "      <td>\" November 22, 2009\"</td>\n",
       "      <td></td>\n",
       "      <td>133 days / 19 weeks</td>\n",
       "      <td>\"&lt;b&gt; $834,501&lt;/b&gt;\"</td>\n",
       "      <td></td>\n",
       "      <td>\"$3,739,702 \"</td>\n",
       "      <td>\" 1,048 theaters\"\\r</td>\n",
       "      <td>\"$32,391,374 \"</td>\n",
       "      <td>\"$28,331,360 \"</td>\n",
       "      <td>\"$60,722,734 \"</td>\n",
       "      <td>\\r</td>\n",
       "      <td>[Zooey Deschanel, Geoffrey Arend, Chloe Moretz, Clark Gregg, Minka Kelly, ]</td>\n",
       "      <td>3.31885</td>\n",
       "      <td>0</td>\n",
       "    </tr>\n",
       "  </tbody>\n",
       "</table>\n",
       "</div>"
      ],
      "text/plain": [
       "   index             bom_title                                                     bom_link bom_key   bom_date bom_year              bom_name  bom_budget  bom_domestic_gross bom_lifetime_gross bom_release_date     bom_runtime  bom_distributor bom_genre bom_rating                       bom_awards                                                                               bom_actor bom_assoc_producer bom_cinematographer                         bom_composer   bom_director bom_exec_producer bom_line_producer bom_players                          bom_producer                                    bom_writer        bom_close_date bom_domestic_summary        bom_in_release bom_limited_opening_weekend bom_opening_weekend bom_wide_opening_weekend   bom_widest_release bom_domestic_revenue bom_foreign_revenue bom_worldwide_revenue bom_total_lifetime_gross                                                                  actor_clean  bom_revenue  bom_actor_score\n",
       "0     10  (500) days of summer  http://www.boxofficemojo.com/movies/?id=500daysofsummer.htm     b10  17-Jul-09   2009\\r  (500) Days of Summer     7500000            32391374                           17-Jul-09  1 hrs. 35 min.  Fox Searchlight   Romance      PG-13  No Academy Awards Information\\r  \"['Zooey Deschanel', 'Geoffrey Arend', 'Chloe Moretz', 'Clark Gregg', 'Minka Kelly*']\"                                         \"['Mychael Danna', 'Rob Simonsen']\"  ['Marc Webb']                                                  \"['Mason Novick', 'Mark S. Waters']\"  \"['Scott Neustadter', 'Michael H. Weber']\"\\r  \" November 22, 2009\"                        133 days / 19 weeks          \"<b> $834,501</b>\"                                \"$3,739,702 \"  \" 1,048 theaters\"\\r       \"$32,391,374 \"      \"$28,331,360 \"        \"$60,722,734 \"                       \\r  [Zooey Deschanel, Geoffrey Arend, Chloe Moretz, Clark Gregg, Minka Kelly, ]      3.31885                0"
      ]
     },
     "execution_count": 18,
     "metadata": {},
     "output_type": "execute_result"
    }
   ],
   "source": [
    "# Calclulate the revenue ratio for each movie which has data for budget and domestic total gross \n",
    "\n",
    "print('Movies with no budget information:', len(bom_ftr[bom_ftr['bom_budget'] == 'N/A']))\n",
    "print('Movies with no gross total information:', len(bom_ftr[bom_ftr['bom_domestic_gross'] == '']))\n",
    "\n",
    "bom_ftr_rev = bom_ftr[(bom_ftr['bom_budget'] != 'N/A') & (bom_ftr['bom_domestic_gross'] != '')].copy()\n",
    "bom_ftr_rev.reset_index(inplace=True)\n",
    "bom_ftr_rev['bom_budget'] = bom_ftr_rev['bom_budget'].str.replace('$','')\n",
    "bom_ftr_rev['bom_budget'] = bom_ftr_rev['bom_budget'].str.replace('\"','')\n",
    "bom_ftr_rev['bom_budget'] = bom_ftr_rev['bom_budget'].str.replace(',','')\n",
    "\n",
    "bom_ftr_rev.loc[bom_ftr_rev.bom_budget.str.contains('million'),'bom_budget'] = bom_ftr_rev.loc[\n",
    "    bom_ftr_rev.bom_budget.str.contains('million'), 'bom_budget'].apply(lambda x: float(x.replace('million', ''))*1000000)\n",
    "\n",
    "bom_ftr_rev['bom_domestic_gross'] = bom_ftr_rev['bom_domestic_gross'].astype(float)\n",
    "bom_ftr_rev['bom_budget'] = bom_ftr_rev['bom_budget'].astype(float)\n",
    "bom_ftr_rev['bom_revenue'] = (bom_ftr_rev['bom_domestic_gross'] - bom_ftr_rev['bom_budget']) / bom_ftr_rev['bom_budget']\n",
    "\n",
    "print('\\nMovies with revenue information:', len(bom_ftr_rev))\n",
    "bom_ftr_rev.head(1)"
   ]
  },
  {
   "cell_type": "code",
   "execution_count": 19,
   "metadata": {
    "collapsed": false
   },
   "outputs": [
    {
     "name": "stdout",
     "output_type": "stream",
     "text": [
      "Unique actors in bom:  5054\n"
     ]
    }
   ],
   "source": [
    "# Getting unique actors\n",
    "\n",
    "actor_unq = list(bom_ftr['actor_clean'])\n",
    "actor_unq = list(set(sum(actor_unq, [])))\n",
    "actor_unq = [e for e in actor_unq if e not in ('', ' ')]\n",
    "actor_unq = dict((ky,0) for ky in actor_unq)\n",
    "print('Unique actors in bom: ', len(actor_unq))\n",
    "\n",
    "# For each actor, assigning score based on revenue of their movie\n",
    "\n",
    "mov_actors = list(bom_ftr_rev['actor_clean'])\n",
    "mov_actors = [[actor for actor in mov if actor not in ('', ' ')] for mov in mov_actors]\n",
    "\n",
    "ind = 0\n",
    "for actors in mov_actors:\n",
    "    for actor in actors:\n",
    "        actor_unq[actor] += float(bom_ftr_rev.loc[ind, ['bom_revenue']])\n",
    "    ind+=1"
   ]
  },
  {
   "cell_type": "code",
   "execution_count": 13,
   "metadata": {
    "collapsed": false
   },
   "outputs": [
    {
     "data": {
      "text/plain": [
       "-1.316072090827922"
      ]
     },
     "execution_count": 13,
     "metadata": {},
     "output_type": "execute_result"
    }
   ],
   "source": [
    "actor_unq['Juliette Binoche']"
   ]
  },
  {
   "cell_type": "code",
   "execution_count": 29,
   "metadata": {
    "collapsed": false
   },
   "outputs": [
    {
     "name": "stdout",
     "output_type": "stream",
     "text": [
      "             Actors       score\n",
      "0     Alex Kendrick  182.957054\n",
      "1  Jamie Lee Curtis  152.799540\n",
      "2       Kevin Smith  120.342816\n",
      "3       Jason Mewes  118.917896\n",
      "4         Jon Heder  111.434016\n"
     ]
    },
    {
     "data": {
      "text/html": [
       "<div>\n",
       "<table border=\"1\" class=\"dataframe\">\n",
       "  <thead>\n",
       "    <tr style=\"text-align: right;\">\n",
       "      <th></th>\n",
       "      <th>count</th>\n",
       "      <th>mean</th>\n",
       "      <th>std</th>\n",
       "      <th>min</th>\n",
       "      <th>25%</th>\n",
       "      <th>50%</th>\n",
       "      <th>75%</th>\n",
       "      <th>max</th>\n",
       "    </tr>\n",
       "  </thead>\n",
       "  <tbody>\n",
       "    <tr>\n",
       "      <th>score</th>\n",
       "      <td>5054</td>\n",
       "      <td>2.284961</td>\n",
       "      <td>7.838677</td>\n",
       "      <td>-6.247023</td>\n",
       "      <td>0</td>\n",
       "      <td>0</td>\n",
       "      <td>0.763927</td>\n",
       "      <td>182.957054</td>\n",
       "    </tr>\n",
       "  </tbody>\n",
       "</table>\n",
       "</div>"
      ],
      "text/plain": [
       "       count      mean       std       min  25%  50%       75%         max\n",
       "score   5054  2.284961  7.838677 -6.247023    0    0  0.763927  182.957054"
      ]
     },
     "execution_count": 29,
     "metadata": {},
     "output_type": "execute_result"
    }
   ],
   "source": [
    "# Pull the actor feature into dataframe and calculate stats\n",
    "\n",
    "f_actor = pd.Series(actor_unq, name='score').to_frame()\n",
    "f_actor = f_actor.sort_values(by='score', ascending=False)\n",
    "f_actor.reset_index(inplace=True)\n",
    "f_actor.columns=['Actors', 'score']\n",
    "print(f_actor.head(5))\n",
    "f_actor.describe().transpose()"
   ]
  },
  {
   "cell_type": "code",
   "execution_count": 11,
   "metadata": {
    "collapsed": false
   },
   "outputs": [
    {
     "data": {
      "image/png": "[encoded data removed]",
      "text/plain": [
       "<matplotlib.figure.Figure at 0x7f11206fc2e8>"
      ]
     },
     "metadata": {},
     "output_type": "display_data"
    }
   ],
   "source": [
    "# Analyzing distribution\n",
    "\n",
    "plt.figure(1, figsize = (15,6))\n",
    "plt.hist(list(f_actor[f_actor['score'] != 0]['score']), range=[0,30], bins=(30), facecolor='purple')\n",
    "plt.title(\"Distribution of Actor Scores\", fontsize = 22)\n",
    "plt.ylabel(\"Score\", fontsize = 15)\n",
    "plt.xlabel(\"Number of Actors\", fontsize=15)\n",
    "\n",
    "ax = plt.gca()\n",
    "ax.spines['right'].set_color('none')\n",
    "ax.spines['top'].set_color('none')\n",
    "ax.yaxis.set_ticks_position('none')\n",
    "ax.xaxis.set_ticks_position('none')\n",
    "\n",
    "plt.savefig('Actor_Distribution.png')"
   ]
  },
  {
   "cell_type": "code",
   "execution_count": 28,
   "metadata": {
    "collapsed": false
   },
   "outputs": [
    {
     "data": {
      "text/html": [
       "<div>\n",
       "<table border=\"1\" class=\"dataframe\">\n",
       "  <thead>\n",
       "    <tr style=\"text-align: right;\">\n",
       "      <th></th>\n",
       "      <th>index</th>\n",
       "      <th>bom_title</th>\n",
       "      <th>bom_link</th>\n",
       "      <th>bom_key</th>\n",
       "      <th>bom_date</th>\n",
       "      <th>bom_year</th>\n",
       "      <th>bom_name</th>\n",
       "      <th>bom_budget</th>\n",
       "      <th>bom_domestic_gross</th>\n",
       "      <th>bom_lifetime_gross</th>\n",
       "      <th>bom_release_date</th>\n",
       "      <th>bom_runtime</th>\n",
       "      <th>bom_distributor</th>\n",
       "      <th>bom_genre</th>\n",
       "      <th>bom_rating</th>\n",
       "      <th>bom_awards</th>\n",
       "      <th>bom_actor</th>\n",
       "      <th>bom_assoc_producer</th>\n",
       "      <th>bom_cinematographer</th>\n",
       "      <th>bom_composer</th>\n",
       "      <th>bom_director</th>\n",
       "      <th>bom_exec_producer</th>\n",
       "      <th>bom_line_producer</th>\n",
       "      <th>bom_players</th>\n",
       "      <th>bom_producer</th>\n",
       "      <th>bom_writer</th>\n",
       "      <th>bom_close_date</th>\n",
       "      <th>bom_domestic_summary</th>\n",
       "      <th>bom_in_release</th>\n",
       "      <th>bom_limited_opening_weekend</th>\n",
       "      <th>bom_opening_weekend</th>\n",
       "      <th>bom_wide_opening_weekend</th>\n",
       "      <th>bom_widest_release</th>\n",
       "      <th>bom_domestic_revenue</th>\n",
       "      <th>bom_foreign_revenue</th>\n",
       "      <th>bom_worldwide_revenue</th>\n",
       "      <th>bom_total_lifetime_gross</th>\n",
       "      <th>actor_clean</th>\n",
       "      <th>bom_revenue</th>\n",
       "      <th>bom_actor_score</th>\n",
       "    </tr>\n",
       "  </thead>\n",
       "  <tbody>\n",
       "    <tr>\n",
       "      <th>0</th>\n",
       "      <td>10</td>\n",
       "      <td>(500) days of summer</td>\n",
       "      <td>http://www.boxofficemojo.com/movies/?id=500daysofsummer.htm</td>\n",
       "      <td>b10</td>\n",
       "      <td>17-Jul-09</td>\n",
       "      <td>2009\\r</td>\n",
       "      <td>(500) Days of Summer</td>\n",
       "      <td>7500000</td>\n",
       "      <td>32391374</td>\n",
       "      <td></td>\n",
       "      <td>17-Jul-09</td>\n",
       "      <td>1 hrs. 35 min.</td>\n",
       "      <td>Fox Searchlight</td>\n",
       "      <td>Romance</td>\n",
       "      <td>PG-13</td>\n",
       "      <td>No Academy Awards Information\\r</td>\n",
       "      <td>\"['Zooey Deschanel', 'Geoffrey Arend', 'Chloe Moretz', 'Clark Gregg', 'Minka Kelly*']\"</td>\n",
       "      <td></td>\n",
       "      <td></td>\n",
       "      <td>\"['Mychael Danna', 'Rob Simonsen']\"</td>\n",
       "      <td>['Marc Webb']</td>\n",
       "      <td></td>\n",
       "      <td></td>\n",
       "      <td></td>\n",
       "      <td>\"['Mason Novick', 'Mark S. Waters']\"</td>\n",
       "      <td>\"['Scott Neustadter', 'Michael H. Weber']\"\\r</td>\n",
       "      <td>\" November 22, 2009\"</td>\n",
       "      <td></td>\n",
       "      <td>133 days / 19 weeks</td>\n",
       "      <td>\"&lt;b&gt; $834,501&lt;/b&gt;\"</td>\n",
       "      <td></td>\n",
       "      <td>\"$3,739,702 \"</td>\n",
       "      <td>\" 1,048 theaters\"\\r</td>\n",
       "      <td>\"$32,391,374 \"</td>\n",
       "      <td>\"$28,331,360 \"</td>\n",
       "      <td>\"$60,722,734 \"</td>\n",
       "      <td>\\r</td>\n",
       "      <td>[Zooey Deschanel, Geoffrey Arend, Chloe Moretz, Clark Gregg, Minka Kelly, ]</td>\n",
       "      <td>3.31885</td>\n",
       "      <td>50.56333</td>\n",
       "    </tr>\n",
       "  </tbody>\n",
       "</table>\n",
       "</div>"
      ],
      "text/plain": [
       "   index             bom_title                                                     bom_link bom_key   bom_date bom_year              bom_name  bom_budget  bom_domestic_gross bom_lifetime_gross bom_release_date     bom_runtime  bom_distributor bom_genre bom_rating                       bom_awards                                                                               bom_actor bom_assoc_producer bom_cinematographer                         bom_composer   bom_director bom_exec_producer bom_line_producer bom_players                          bom_producer                                    bom_writer        bom_close_date bom_domestic_summary        bom_in_release bom_limited_opening_weekend bom_opening_weekend bom_wide_opening_weekend   bom_widest_release bom_domestic_revenue bom_foreign_revenue bom_worldwide_revenue bom_total_lifetime_gross                                                                  actor_clean  bom_revenue  bom_actor_score\n",
       "0     10  (500) days of summer  http://www.boxofficemojo.com/movies/?id=500daysofsummer.htm     b10  17-Jul-09   2009\\r  (500) Days of Summer     7500000            32391374                           17-Jul-09  1 hrs. 35 min.  Fox Searchlight   Romance      PG-13  No Academy Awards Information\\r  \"['Zooey Deschanel', 'Geoffrey Arend', 'Chloe Moretz', 'Clark Gregg', 'Minka Kelly*']\"                                         \"['Mychael Danna', 'Rob Simonsen']\"  ['Marc Webb']                                                  \"['Mason Novick', 'Mark S. Waters']\"  \"['Scott Neustadter', 'Michael H. Weber']\"\\r  \" November 22, 2009\"                        133 days / 19 weeks          \"<b> $834,501</b>\"                                \"$3,739,702 \"  \" 1,048 theaters\"\\r       \"$32,391,374 \"      \"$28,331,360 \"        \"$60,722,734 \"                       \\r  [Zooey Deschanel, Geoffrey Arend, Chloe Moretz, Clark Gregg, Minka Kelly, ]      3.31885         50.56333"
      ]
     },
     "execution_count": 28,
     "metadata": {},
     "output_type": "execute_result"
    }
   ],
   "source": [
    "# For each movie, assigning actor score\n",
    "\n",
    "bom_ftr_rev[\"bom_actor_score\"] = 0.0\n",
    "ind = 0\n",
    "for actors in mov_actors:\n",
    "    agg_actor_score = 0\n",
    "    for actor in actors:\n",
    "        agg_actor_score += actor_unq[actor]\n",
    "    bom_ftr_rev.loc[ind, ['bom_actor_score']] = agg_actor_score\n",
    "    ind+=1\n",
    "    \n",
    "bom_ftr_rev.head(1)"
   ]
  },
  {
   "cell_type": "markdown",
   "metadata": {},
   "source": [
    "### Maria"
   ]
  },
  {
   "cell_type": "code",
   "execution_count": null,
   "metadata": {
    "collapsed": true
   },
   "outputs": [],
   "source": [
    "# Filtering bom for data for which "
   ]
  },
  {
   "cell_type": "markdown",
   "metadata": {},
   "source": [
    "### Saurabh"
   ]
  },
  {
   "cell_type": "code",
   "execution_count": null,
   "metadata": {
    "collapsed": true
   },
   "outputs": [],
   "source": []
  }
 ],
 "metadata": {
  "kernelspec": {
   "display_name": "Python 3",
   "language": "python",
   "name": "python3"
  },
  "language_info": {
   "codemirror_mode": {
    "name": "ipython",
    "version": 3
   },
   "file_extension": ".py",
   "mimetype": "text/x-python",
   "name": "python",
   "nbconvert_exporter": "python",
   "pygments_lexer": "ipython3",
   "version": "3.5.3"
  }
 },
 "nbformat": 4,
 "nbformat_minor": 0
}
