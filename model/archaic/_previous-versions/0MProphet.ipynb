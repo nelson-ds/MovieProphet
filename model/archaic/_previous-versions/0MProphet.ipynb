{
 "cells": [
  {
   "cell_type": "markdown",
   "metadata": {
    "collapsed": true
   },
   "source": [
    "### Project  Movie Prophet\n",
    "#### A project to create a predictive model to forecast a movie's performance on the Box Office\n",
    "#### Team Members - Nelson Dsouza, Maria George, Saurabh Seth"
   ]
  },
  {
   "cell_type": "code",
   "execution_count": 78,
   "metadata": {
    "collapsed": false
   },
   "outputs": [],
   "source": [
    "# Load libraries and instatiate DB connection\n",
    "\n",
    "%matplotlib inline\n",
    "import pandas as pd\n",
    "import pymysql\n",
    "import numpy as np\n",
    "import matplotlib.pyplot as plt\n",
    "\n",
    "pd.set_option('display.max_rows', 500)\n",
    "pd.set_option('display.max_colwidth', 100)\n",
    "pd.set_option('display.max_columns', 500)\n",
    "pd.set_option('display.width', 1000)\n",
    "pd.options.display.max_seq_items = 2000\n",
    "\n",
    "# Connect to the database\n",
    "connection = pymysql.connect(host='localhost',\n",
    "                             user='root',\n",
    "                             password='mprophet',\n",
    "                             db='movies')"
   ]
  },
  {
   "cell_type": "code",
   "execution_count": 2,
   "metadata": {
    "collapsed": false
   },
   "outputs": [],
   "source": [
    "# Pull table from database\n",
    "\n",
    "cur = connection.cursor()\n",
    "\n",
    "cur.execute(\"SELECT * FROM bom_summary\")\n",
    "bom_summary_sql = []\n",
    "for row in cur: bom_summary_sql.append(list(row))\n",
    "    \n",
    "cur.execute(\"SELECT * FROM bom_players\")\n",
    "bom_players_sql = []\n",
    "for row in cur: bom_players_sql.append(list(row))\n",
    "\n",
    "cur.close()\n",
    "connection.close()"
   ]
  },
  {
   "cell_type": "code",
   "execution_count": 3,
   "metadata": {
    "collapsed": false
   },
   "outputs": [],
   "source": [
    "# Store table information in DataFrame\n",
    "\n",
    "bom_summary_columns = ['link', 'name', 'budget', 'rev_tot', 'rev_lif', 'rel_dt', 'runtime',\n",
    "                       'distributor', 'genre', 'rating', 'awards']\n",
    "bom_summary = pd.DataFrame(bom_summary_sql, columns=bom_summary_columns)\n",
    "\n",
    "bom_players_columns = ['link', 'name', 'actor', 'assoc_producer', 'cinematographer', 'composer', 'director',\n",
    "                       'exec_producer', 'line_producer', 'players', 'producer', 'writer']\n",
    "bom_players = pd.DataFrame(bom_players_sql, columns=bom_players_columns)"
   ]
  },
  {
   "cell_type": "code",
   "execution_count": 4,
   "metadata": {
    "collapsed": false,
    "scrolled": true
   },
   "outputs": [
    {
     "name": "stdout",
     "output_type": "stream",
     "text": [
      "16828\n"
     ]
    },
    {
     "data": {
      "text/html": [
       "<div>\n",
       "<table border=\"1\" class=\"dataframe\">\n",
       "  <thead>\n",
       "    <tr style=\"text-align: right;\">\n",
       "      <th></th>\n",
       "      <th>link</th>\n",
       "      <th>name</th>\n",
       "      <th>budget</th>\n",
       "      <th>rev_tot</th>\n",
       "      <th>rev_lif</th>\n",
       "      <th>rel_dt</th>\n",
       "      <th>runtime</th>\n",
       "      <th>distributor</th>\n",
       "      <th>genre</th>\n",
       "      <th>rating</th>\n",
       "      <th>awards</th>\n",
       "    </tr>\n",
       "  </thead>\n",
       "  <tbody>\n",
       "    <tr>\n",
       "      <th>0</th>\n",
       "      <td>http://www.boxofficemojo.com/movies/?id=horrorifc.htm</td>\n",
       "      <td>#Horror</td>\n",
       "      <td>N/A</td>\n",
       "      <td></td>\n",
       "      <td></td>\n",
       "      <td>20-Nov-15</td>\n",
       "      <td>1 hrs. 30 min.</td>\n",
       "      <td>IFC</td>\n",
       "      <td>Horror</td>\n",
       "      <td>Unknown</td>\n",
       "      <td>No Academy Awards Information\\r</td>\n",
       "    </tr>\n",
       "  </tbody>\n",
       "</table>\n",
       "</div>"
      ],
      "text/plain": [
       "                                                    link     name budget rev_tot rev_lif     rel_dt         runtime distributor   genre   rating                           awards\n",
       "0  http://www.boxofficemojo.com/movies/?id=horrorifc.htm  #Horror    N/A                  20-Nov-15  1 hrs. 30 min.         IFC  Horror  Unknown  No Academy Awards Information\\r"
      ]
     },
     "execution_count": 4,
     "metadata": {},
     "output_type": "execute_result"
    }
   ],
   "source": [
    "print(len(bom_summary))\n",
    "bom_summary.head(1)"
   ]
  },
  {
   "cell_type": "code",
   "execution_count": 5,
   "metadata": {
    "collapsed": false
   },
   "outputs": [
    {
     "name": "stdout",
     "output_type": "stream",
     "text": [
      "16828\n"
     ]
    },
    {
     "data": {
      "text/html": [
       "<div>\n",
       "<table border=\"1\" class=\"dataframe\">\n",
       "  <thead>\n",
       "    <tr style=\"text-align: right;\">\n",
       "      <th></th>\n",
       "      <th>link</th>\n",
       "      <th>name</th>\n",
       "      <th>actor</th>\n",
       "      <th>assoc_producer</th>\n",
       "      <th>cinematographer</th>\n",
       "      <th>composer</th>\n",
       "      <th>director</th>\n",
       "      <th>exec_producer</th>\n",
       "      <th>line_producer</th>\n",
       "      <th>players</th>\n",
       "      <th>producer</th>\n",
       "      <th>writer</th>\n",
       "    </tr>\n",
       "  </thead>\n",
       "  <tbody>\n",
       "    <tr>\n",
       "      <th>0</th>\n",
       "      <td>http://www.boxofficemojo.com/movies/?id=horrorifc.htm</td>\n",
       "      <td>#Horror</td>\n",
       "      <td>\"['Balthazar Getty', 'Timothy Hutton', 'Natasha Lyonne', 'Taryn Manning', 'Chloe Sevigny']\"</td>\n",
       "      <td></td>\n",
       "      <td></td>\n",
       "      <td></td>\n",
       "      <td></td>\n",
       "      <td></td>\n",
       "      <td></td>\n",
       "      <td></td>\n",
       "      <td></td>\n",
       "      <td>\\r</td>\n",
       "    </tr>\n",
       "  </tbody>\n",
       "</table>\n",
       "</div>"
      ],
      "text/plain": [
       "                                                    link     name                                                                                        actor assoc_producer cinematographer composer director exec_producer line_producer players producer writer\n",
       "0  http://www.boxofficemojo.com/movies/?id=horrorifc.htm  #Horror  \"['Balthazar Getty', 'Timothy Hutton', 'Natasha Lyonne', 'Taryn Manning', 'Chloe Sevigny']\"                                                                                                   \\r"
      ]
     },
     "execution_count": 5,
     "metadata": {},
     "output_type": "execute_result"
    }
   ],
   "source": [
    "print(len(bom_players))\n",
    "bom_players.head(1)"
   ]
  },
  {
   "cell_type": "code",
   "execution_count": 6,
   "metadata": {
    "collapsed": false
   },
   "outputs": [],
   "source": [
    "# Cleaning actor names and storing in list\n",
    "\n",
    "len(bom_players[bom_players['players'] == 'No Player Information'])\n",
    "\n",
    "# Cleat the actor column\n",
    "bom_players['actor_clean'] = bom_players['actor'].str.replace('[','')\n",
    "bom_players['actor_clean'] = bom_players['actor_clean'].str.replace(']','')\n",
    "bom_players['actor_clean'] = bom_players['actor_clean'].str.replace('\"','')\n",
    "bom_players['actor_clean'] = bom_players['actor_clean'].str.replace(\"'\",'')\n",
    "bom_players['actor_clean'] = bom_players['actor_clean'].str.replace(\", \",',')\n",
    "bom_players['actor_clean'] = bom_players['actor_clean'].str.replace(\"*\",',')\n",
    "\n",
    "bom_players['actor_clean'] = bom_players['actor_clean'].apply(lambda x: x.split(','))"
   ]
  },
  {
   "cell_type": "code",
   "execution_count": 8,
   "metadata": {
    "collapsed": false
   },
   "outputs": [
    {
     "data": {
      "text/plain": [
       "5054"
      ]
     },
     "execution_count": 8,
     "metadata": {},
     "output_type": "execute_result"
    }
   ],
   "source": [
    "# Getting unique actors\n",
    "\n",
    "actor_unq = list(bom_players['actor_clean'])\n",
    "actor_unq = list(set(sum(actor_unq, [])))\n",
    "actor_unq = [e for e in actor_unq if e not in ('', ' ')]\n",
    "actor_unq = dict((ky,0) for ky in actor_unq)\n",
    "len(actor_unq)"
   ]
  },
  {
   "cell_type": "code",
   "execution_count": 60,
   "metadata": {
    "collapsed": false
   },
   "outputs": [
    {
     "data": {
      "text/html": [
       "<div>\n",
       "<table border=\"1\" class=\"dataframe\">\n",
       "  <thead>\n",
       "    <tr style=\"text-align: right;\">\n",
       "      <th></th>\n",
       "      <th>link</th>\n",
       "      <th>name</th>\n",
       "      <th>budget</th>\n",
       "      <th>rev_tot</th>\n",
       "      <th>rev_lif</th>\n",
       "      <th>rel_dt</th>\n",
       "      <th>runtime</th>\n",
       "      <th>distributor</th>\n",
       "      <th>genre</th>\n",
       "      <th>rating</th>\n",
       "      <th>awards</th>\n",
       "      <th>pl</th>\n",
       "    </tr>\n",
       "  </thead>\n",
       "  <tbody>\n",
       "    <tr>\n",
       "      <th>10</th>\n",
       "      <td>http://www.boxofficemojo.com/movies/?id=500daysofsummer.htm</td>\n",
       "      <td>(500) Days of Summer</td>\n",
       "      <td>7500000</td>\n",
       "      <td>32391374</td>\n",
       "      <td></td>\n",
       "      <td>17-Jul-09</td>\n",
       "      <td>1 hrs. 35 min.</td>\n",
       "      <td>Fox Searchlight</td>\n",
       "      <td>Romance</td>\n",
       "      <td>PG-13</td>\n",
       "      <td>No Academy Awards Information\\r</td>\n",
       "      <td>3.318850</td>\n",
       "    </tr>\n",
       "    <tr>\n",
       "      <th>24</th>\n",
       "      <td>http://www.boxofficemojo.com/movies/?id=10thingsihateaboutyou.htm</td>\n",
       "      <td>10 Things I Hate About You</td>\n",
       "      <td>30000000</td>\n",
       "      <td>38178166</td>\n",
       "      <td></td>\n",
       "      <td>31-Mar-99</td>\n",
       "      <td>1 hrs. 37 min.</td>\n",
       "      <td>Buena Vista</td>\n",
       "      <td>Romantic Comedy</td>\n",
       "      <td>PG-13</td>\n",
       "      <td>No Academy Awards Information\\r</td>\n",
       "      <td>0.272606</td>\n",
       "    </tr>\n",
       "  </tbody>\n",
       "</table>\n",
       "</div>"
      ],
      "text/plain": [
       "                                                                 link                        name    budget   rev_tot rev_lif     rel_dt         runtime      distributor            genre rating                           awards        pl\n",
       "10        http://www.boxofficemojo.com/movies/?id=500daysofsummer.htm        (500) Days of Summer   7500000  32391374          17-Jul-09  1 hrs. 35 min.  Fox Searchlight          Romance  PG-13  No Academy Awards Information\\r  3.318850\n",
       "24  http://www.boxofficemojo.com/movies/?id=10thingsihateaboutyou.htm  10 Things I Hate About You  30000000  38178166          31-Mar-99  1 hrs. 37 min.      Buena Vista  Romantic Comedy  PG-13  No Academy Awards Information\\r  0.272606"
      ]
     },
     "execution_count": 60,
     "metadata": {},
     "output_type": "execute_result"
    }
   ],
   "source": [
    "# Calclulate the Profit/Loss ratio for each movie which has data for budget and domestic total gross \n",
    "\n",
    "bs = bom_summary[(bom_summary['budget'] != 'N/A') & (bom_summary['rev_tot'] != '')].copy()\n",
    "bs['budget'] = bs['budget'].str.replace('$','')\n",
    "bs['budget'] = bs['budget'].str.replace('\"','')\n",
    "bs['budget'] = bs['budget'].str.replace(',','')\n",
    "\n",
    "bs.loc[bs.budget.str.contains('million'),'budget'] = bs.loc[\n",
    "    bs.budget.str.contains('million'), 'budget'].apply(lambda x: float(x.replace('million', ''))*1000000)\n",
    "\n",
    "bs['rev_tot'] = bs['rev_tot'].astype(float)\n",
    "bs['budget'] = bs['budget'].astype(float)\n",
    "bs['pl'] = (bs['rev_tot'] - bs['budget']) / bs['budget']\n",
    "\n",
    "bs.head(2)"
   ]
  },
  {
   "cell_type": "code",
   "execution_count": 61,
   "metadata": {
    "collapsed": false
   },
   "outputs": [
    {
     "name": "stdout",
     "output_type": "stream",
     "text": [
      "3066\n"
     ]
    },
    {
     "data": {
      "text/html": [
       "<div>\n",
       "<table border=\"1\" class=\"dataframe\">\n",
       "  <thead>\n",
       "    <tr style=\"text-align: right;\">\n",
       "      <th></th>\n",
       "      <th>name</th>\n",
       "      <th>link</th>\n",
       "      <th>pl</th>\n",
       "      <th>actor_clean</th>\n",
       "    </tr>\n",
       "  </thead>\n",
       "  <tbody>\n",
       "    <tr>\n",
       "      <th>0</th>\n",
       "      <td>(500) Days of Summer</td>\n",
       "      <td>http://www.boxofficemojo.com/movies/?id=500daysofsummer.htm</td>\n",
       "      <td>3.31885</td>\n",
       "      <td>[Zooey Deschanel, Geoffrey Arend, Chloe Moretz, Clark Gregg, Minka Kelly, ]</td>\n",
       "    </tr>\n",
       "  </tbody>\n",
       "</table>\n",
       "</div>"
      ],
      "text/plain": [
       "                   name                                                         link       pl                                                                  actor_clean\n",
       "0  (500) Days of Summer  http://www.boxofficemojo.com/movies/?id=500daysofsummer.htm  3.31885  [Zooey Deschanel, Geoffrey Arend, Chloe Moretz, Clark Gregg, Minka Kelly, ]"
      ]
     },
     "execution_count": 61,
     "metadata": {},
     "output_type": "execute_result"
    }
   ],
   "source": [
    "# Merge player data with Profit/Loss data\n",
    "\n",
    "mov_pl = pd.merge(bs[['name', 'link', 'pl']], bom_players[['link', 'actor_clean']], on = 'link', how = 'inner')\n",
    "print(len(mov_pl))\n",
    "mov_pl.head(1)"
   ]
  },
  {
   "cell_type": "code",
   "execution_count": 62,
   "metadata": {
    "collapsed": false
   },
   "outputs": [],
   "source": [
    "# For each actor, assign score which is the profit/loss of their movie\n",
    "\n",
    "mov_actors = list(mov_pl['actor_clean'])\n",
    "mov_actors = [[actor for actor in mov if actor not in ('', ' ')] for mov in mov_actors]\n",
    "\n",
    "ind = 0\n",
    "for actors in mov_actors:\n",
    "    for actor in actors:\n",
    "        actor_unq[actor] += float(mov_pl.loc[ind, ['pl']])\n",
    "        if actor == 'I': print(mov_pl.loc[ind, ['name','actor_clean', 'pl']])\n",
    "    ind+=1"
   ]
  },
  {
   "cell_type": "code",
   "execution_count": 68,
   "metadata": {
    "collapsed": false
   },
   "outputs": [
    {
     "data": {
      "text/plain": [
       "47.923627598129336"
      ]
     },
     "execution_count": 68,
     "metadata": {},
     "output_type": "execute_result"
    }
   ],
   "source": [
    "actor_unq['Will Smith']"
   ]
  },
  {
   "cell_type": "code",
   "execution_count": 72,
   "metadata": {
    "collapsed": false
   },
   "outputs": [
    {
     "data": {
      "text/html": [
       "<div>\n",
       "<table border=\"1\" class=\"dataframe\">\n",
       "  <thead>\n",
       "    <tr style=\"text-align: right;\">\n",
       "      <th></th>\n",
       "      <th>Actors</th>\n",
       "      <th>score</th>\n",
       "    </tr>\n",
       "  </thead>\n",
       "  <tbody>\n",
       "    <tr>\n",
       "      <th>0</th>\n",
       "      <td>Alex Kendrick</td>\n",
       "      <td>368.914109</td>\n",
       "    </tr>\n",
       "    <tr>\n",
       "      <th>1</th>\n",
       "      <td>Jamie Lee Curtis</td>\n",
       "      <td>317.599081</td>\n",
       "    </tr>\n",
       "    <tr>\n",
       "      <th>2</th>\n",
       "      <td>Kevin Smith</td>\n",
       "      <td>246.685632</td>\n",
       "    </tr>\n",
       "    <tr>\n",
       "      <th>3</th>\n",
       "      <td>Jason Mewes</td>\n",
       "      <td>241.835792</td>\n",
       "    </tr>\n",
       "    <tr>\n",
       "      <th>4</th>\n",
       "      <td>Jon Heder</td>\n",
       "      <td>228.868031</td>\n",
       "    </tr>\n",
       "  </tbody>\n",
       "</table>\n",
       "</div>"
      ],
      "text/plain": [
       "             Actors       score\n",
       "0     Alex Kendrick  368.914109\n",
       "1  Jamie Lee Curtis  317.599081\n",
       "2       Kevin Smith  246.685632\n",
       "3       Jason Mewes  241.835792\n",
       "4         Jon Heder  228.868031"
      ]
     },
     "execution_count": 72,
     "metadata": {},
     "output_type": "execute_result"
    }
   ],
   "source": [
    "# Pull the actor feature into dataframe\n",
    "\n",
    "f_actor = pd.Series(actor_unq, name='score').to_frame()\n",
    "f_actor = f_actor.sort_values(by='score', ascending=False)\n",
    "f_actor.reset_index(inplace=True)\n",
    "f_actor.columns=['Actors', 'score']\n",
    "f_actor.head(5)"
   ]
  },
  {
   "cell_type": "code",
   "execution_count": 88,
   "metadata": {
    "collapsed": false
   },
   "outputs": [
    {
     "data": {
      "text/html": [
       "<div>\n",
       "<table border=\"1\" class=\"dataframe\">\n",
       "  <thead>\n",
       "    <tr style=\"text-align: right;\">\n",
       "      <th></th>\n",
       "      <th>count</th>\n",
       "      <th>mean</th>\n",
       "      <th>std</th>\n",
       "      <th>min</th>\n",
       "      <th>25%</th>\n",
       "      <th>50%</th>\n",
       "      <th>75%</th>\n",
       "      <th>max</th>\n",
       "    </tr>\n",
       "  </thead>\n",
       "  <tbody>\n",
       "    <tr>\n",
       "      <th>score</th>\n",
       "      <td>5054</td>\n",
       "      <td>6.997109</td>\n",
       "      <td>18.670764</td>\n",
       "      <td>-1.944639</td>\n",
       "      <td>0</td>\n",
       "      <td>0</td>\n",
       "      <td>4.568833</td>\n",
       "      <td>368.914109</td>\n",
       "    </tr>\n",
       "  </tbody>\n",
       "</table>\n",
       "</div>"
      ],
      "text/plain": [
       "       count      mean        std       min  25%  50%       75%         max\n",
       "score   5054  6.997109  18.670764 -1.944639    0    0  4.568833  368.914109"
      ]
     },
     "execution_count": 88,
     "metadata": {},
     "output_type": "execute_result"
    }
   ],
   "source": [
    "# Calculating statistics\n",
    "\n",
    "f_actor.describe().transpose()"
   ]
  },
  {
   "cell_type": "code",
   "execution_count": 83,
   "metadata": {
    "collapsed": false
   },
   "outputs": [
    {
     "data": {
      "image/png": "[encoded data removed]",
      "text/plain": [
       "<matplotlib.figure.Figure at 0x7fbf66906b38>"
      ]
     },
     "metadata": {},
     "output_type": "display_data"
    }
   ],
   "source": [
    "# Analyzing distribution\n",
    "\n",
    "plt.figure(1, figsize = (15,6))\n",
    "plt.hist(list(f_actor[f_actor['score'] != 0]['score']), range=[0,30], bins=(30), facecolor='purple')\n",
    "plt.title(\"Distribution of Actor Scores\", fontsize = 22)\n",
    "plt.ylabel(\"Score\", fontsize = 15)\n",
    "plt.xlabel(\"Number of Actors\", fontsize=15)\n",
    "\n",
    "ax = plt.gca()\n",
    "ax.spines['right'].set_color('none')\n",
    "ax.spines['top'].set_color('none')\n",
    "ax.yaxis.set_ticks_position('none')\n",
    "ax.xaxis.set_ticks_position('none')\n",
    "\n",
    "plt.savefig('Actor_Distribution.png')"
   ]
  }
 ],
 "metadata": {
  "kernelspec": {
   "display_name": "Python 3",
   "language": "python",
   "name": "python3"
  },
  "language_info": {
   "codemirror_mode": {
    "name": "ipython",
    "version": 3
   },
   "file_extension": ".py",
   "mimetype": "text/x-python",
   "name": "python",
   "nbconvert_exporter": "python",
   "pygments_lexer": "ipython3",
   "version": "3.5.3"
  }
 },
 "nbformat": 4,
 "nbformat_minor": 0
}
