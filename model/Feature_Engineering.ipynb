{
 "cells": [
  {
   "source": [
    "## Prep Data"
   ],
   "cell_type": "markdown",
   "metadata": {}
  },
  {
   "cell_type": "code",
   "execution_count": 2,
   "metadata": {
    "collapsed": false
   },
   "outputs": [],
   "source": [
    "# Load libraries and instatiate DB connection\n",
    "\n",
    "%matplotlib inline\n",
    "import pandas as pd\n",
    "import pymysql\n",
    "import numpy as np\n",
    "import time\n",
    "import matplotlib.pyplot as plt\n",
    "import sklearn\n",
    "import sys\n",
    "import pickle\n",
    "import os\n",
    "\n",
    "from sklearn.cluster import KMeans\n",
    "from sklearn.preprocessing import LabelEncoder\n",
    "from scipy.spatial import distance\n",
    "from cryptography.fernet import Fernet\n",
    "\n",
    "pd.set_option('display.max_rows', 500)\n",
    "pd.set_option('display.max_colwidth', 100)\n",
    "pd.set_option('display.max_columns', 500)\n",
    "pd.set_option('display.width', 1000)\n",
    "pd.options.display.max_seq_items = 2000"
   ]
  },
  {
   "cell_type": "markdown",
   "metadata": {},
   "source": [
    "##### Check Versions"
   ]
  },
  {
   "cell_type": "code",
   "execution_count": 3,
   "metadata": {
    "collapsed": false
   },
   "outputs": [
    {
     "output_type": "stream",
     "name": "stdout",
     "text": [
      "3.7.3 (default, May  2 2021, 08:49:49) \n[Clang 12.0.5 (clang-1205.0.22.9)]\n0.24.2\n1.20.2\n"
     ]
    }
   ],
   "source": [
    "print(sys.version)\n",
    "print(sklearn.__version__)\n",
    "print(np.version.version)"
   ]
  },
  {
   "cell_type": "markdown",
   "metadata": {},
   "source": [
    "##### Reading data from db"
   ]
  },
  {
   "cell_type": "code",
   "execution_count": 4,
   "metadata": {
    "collapsed": false
   },
   "outputs": [],
   "source": [
    "# Function to decrypt DB password\n",
    "loc_dir_cur = os.getcwd()\n",
    "path_db_pass = os.path.join(loc_dir_cur, \"db/mysql_p.bin\")\n",
    "def get_db_pwd(key, path_db_pass):\n",
    "    cipher_suite = Fernet(key)\n",
    "    with open(path_db_pass, 'rb') as file_object:\n",
    "        for line in file_object:\n",
    "            encrypted_p = line\n",
    "    uncipher_text = (cipher_suite.decrypt(encrypted_p))\n",
    "    return bytes(uncipher_text).decode(\"utf-8\")\n",
    "\n",
    "# Connect to the database\n",
    "db_host = 'localhost'\n",
    "db_user = 'root'\n",
    "db_pasw = get_db_pwd(b'i_oPD0alh6eBOFLyHKUzjlhux-p5hERBWvql4SEkTuo=', path_db_pass)\n",
    "connection = pymysql.connect(host=db_host, user=db_user, password=db_pasw, db='movies', charset='utf8')\n",
    "\n",
    "# Pull table from database\n",
    "cur = connection.cursor()\n",
    "\n",
    "cur.execute(\"select * FROM bom\")\n",
    "bom_sql = []\n",
    "for row in cur: bom_sql.append(list(row))\n",
    "\n",
    "cur.execute(\"select movie_id,genre FROM omdb_movie_genre a join omdb_genres b on a.genre_id=b.genre_id\")\n",
    "omdb_genre_learning_data = []\n",
    "for row in cur: omdb_genre_learning_data.append(list(row))\n",
    "\n",
    "cur.execute(\"select a.key_bom,a.key_omdb,b.movie_id FROM movies_final a join omdb b on a.key_omdb=b.key_omdb\")\n",
    "omdb_bom_combine = []\n",
    "for row in cur: omdb_bom_combine.append(list(row))\n",
    "\n",
    "cur.close()\n",
    "connection.close()"
   ]
  },
  {
   "cell_type": "code",
   "execution_count": 5,
   "metadata": {
    "collapsed": false
   },
   "outputs": [
    {
     "output_type": "stream",
     "name": "stdout",
     "text": [
      "Total movies from Box Office Mojo: 16826\n"
     ]
    },
    {
     "output_type": "execute_result",
     "data": {
      "text/plain": [
       "  bom_title                                               bom_link key_bom   bom_date bom_year bom_name bom_budget bom_domestic_gross bom_lifetime_gross bom_release_date     bom_runtime bom_distributor bom_genre bom_rating                       bom_awards                                                                                    bom_actor bom_assoc_producer bom_cinematographer bom_composer bom_director bom_exec_producer bom_line_producer bom_players bom_producer bom_writer bom_close_date             bom_domestic_summary bom_in_release bom_limited_opening_weekend bom_opening_weekend bom_wide_opening_weekend bom_widest_release bom_domestic_revenue bom_foreign_revenue bom_worldwide_revenue               bom_total_lifetime_gross\n",
       "0   #horror  http://www.boxofficemojo.com/movies/?id=horrorifc.htm      b0  20-Nov-15   2015\\r  #Horror        N/A                                              20-Nov-15  1 hrs. 30 min.             IFC    Horror    Unknown  No Academy Awards Information\\r  \"['Balthazar Getty', 'Timothy Hutton', 'Natasha Lyonne', 'Taryn Manning', 'Chloe Sevigny']\"                                                                                                                                       \\r                 No Domestic Summary Information                                                                                                         \\r                                                                 No Total Lifetime Gross Information\\r"
      ],
      "text/html": "<div>\n<style scoped>\n    .dataframe tbody tr th:only-of-type {\n        vertical-align: middle;\n    }\n\n    .dataframe tbody tr th {\n        vertical-align: top;\n    }\n\n    .dataframe thead th {\n        text-align: right;\n    }\n</style>\n<table border=\"1\" class=\"dataframe\">\n  <thead>\n    <tr style=\"text-align: right;\">\n      <th></th>\n      <th>bom_title</th>\n      <th>bom_link</th>\n      <th>key_bom</th>\n      <th>bom_date</th>\n      <th>bom_year</th>\n      <th>bom_name</th>\n      <th>bom_budget</th>\n      <th>bom_domestic_gross</th>\n      <th>bom_lifetime_gross</th>\n      <th>bom_release_date</th>\n      <th>bom_runtime</th>\n      <th>bom_distributor</th>\n      <th>bom_genre</th>\n      <th>bom_rating</th>\n      <th>bom_awards</th>\n      <th>bom_actor</th>\n      <th>bom_assoc_producer</th>\n      <th>bom_cinematographer</th>\n      <th>bom_composer</th>\n      <th>bom_director</th>\n      <th>bom_exec_producer</th>\n      <th>bom_line_producer</th>\n      <th>bom_players</th>\n      <th>bom_producer</th>\n      <th>bom_writer</th>\n      <th>bom_close_date</th>\n      <th>bom_domestic_summary</th>\n      <th>bom_in_release</th>\n      <th>bom_limited_opening_weekend</th>\n      <th>bom_opening_weekend</th>\n      <th>bom_wide_opening_weekend</th>\n      <th>bom_widest_release</th>\n      <th>bom_domestic_revenue</th>\n      <th>bom_foreign_revenue</th>\n      <th>bom_worldwide_revenue</th>\n      <th>bom_total_lifetime_gross</th>\n    </tr>\n  </thead>\n  <tbody>\n    <tr>\n      <th>0</th>\n      <td>#horror</td>\n      <td>http://www.boxofficemojo.com/movies/?id=horrorifc.htm</td>\n      <td>b0</td>\n      <td>20-Nov-15</td>\n      <td>2015\\r</td>\n      <td>#Horror</td>\n      <td>N/A</td>\n      <td></td>\n      <td></td>\n      <td>20-Nov-15</td>\n      <td>1 hrs. 30 min.</td>\n      <td>IFC</td>\n      <td>Horror</td>\n      <td>Unknown</td>\n      <td>No Academy Awards Information\\r</td>\n      <td>\"['Balthazar Getty', 'Timothy Hutton', 'Natasha Lyonne', 'Taryn Manning', 'Chloe Sevigny']\"</td>\n      <td></td>\n      <td></td>\n      <td></td>\n      <td></td>\n      <td></td>\n      <td></td>\n      <td></td>\n      <td></td>\n      <td>\\r</td>\n      <td></td>\n      <td>No Domestic Summary Information</td>\n      <td></td>\n      <td></td>\n      <td></td>\n      <td></td>\n      <td>\\r</td>\n      <td></td>\n      <td></td>\n      <td></td>\n      <td>No Total Lifetime Gross Information\\r</td>\n    </tr>\n  </tbody>\n</table>\n</div>"
     },
     "metadata": {},
     "execution_count": 5
    }
   ],
   "source": [
    "# Store bom table information in DataFrame\n",
    "\n",
    "bom_columns =         ['bom_title', 'bom_link', 'key_bom', 'bom_date', 'bom_year', 'bom_name', 'bom_budget',\n",
    "                       'bom_domestic_gross', 'bom_lifetime_gross', 'bom_release_date', 'bom_runtime', 'bom_distributor',\n",
    "                       'bom_genre', 'bom_rating', 'bom_awards', 'bom_actor', 'bom_assoc_producer', 'bom_cinematographer',\n",
    "                       'bom_composer', 'bom_director', 'bom_exec_producer', 'bom_line_producer', 'bom_players', 'bom_producer',\n",
    "                       'bom_writer', 'bom_close_date', 'bom_domestic_summary', 'bom_in_release', 'bom_limited_opening_weekend',\n",
    "                       'bom_opening_weekend', 'bom_wide_opening_weekend', 'bom_widest_release', 'bom_domestic_revenue',\n",
    "                       'bom_foreign_revenue', 'bom_worldwide_revenue', 'bom_total_lifetime_gross']\n",
    "\n",
    "bom = pd.DataFrame(bom_sql, columns=bom_columns)\n",
    "#bom.to_csv('bom.csv')\n",
    "print('Total movies from Box Office Mojo:', len(bom))\n",
    "bom.head(1)"
   ]
  },
  {
   "cell_type": "markdown",
   "metadata": {},
   "source": [
    "###### Filtering for movies with budgter and gross"
   ]
  },
  {
   "cell_type": "code",
   "execution_count": 6,
   "metadata": {
    "collapsed": false
   },
   "outputs": [
    {
     "output_type": "stream",
     "name": "stdout",
     "text": [
      "no:of movies in bom where budget and bom_worldwide_revenue is not null:\n(2530, 36)\nBom movies with budget/gross (worldwide) info:  (2530, 4)\n"
     ]
    }
   ],
   "source": [
    "print(\"no:of movies in bom where budget and bom_worldwide_revenue is not null:\")\n",
    "g = bom.bom_worldwide_revenue\n",
    "print(bom[(bom.bom_budget!=\"\") & (bom.bom_budget!=\"N/A\") & (g!=\"\")].shape)\n",
    "\n",
    "bom_f = bom[(bom.bom_budget!=\"\") & (bom.bom_budget!=\"N/A\") & (g!=\"\")]\n",
    "bom_f= bom_f[[\"key_bom\",\"bom_title\",\"bom_budget\",\"bom_worldwide_revenue\"]]\n",
    "print(\"Bom movies with budget/gross (worldwide) info: \", bom_f.shape)"
   ]
  },
  {
   "cell_type": "markdown",
   "metadata": {},
   "source": [
    "###### Cleaning budget, gross column"
   ]
  },
  {
   "cell_type": "code",
   "execution_count": 7,
   "metadata": {
    "collapsed": false
   },
   "outputs": [],
   "source": [
    "bom_f.reset_index(inplace=True,drop=True)\n",
    "movie_df = bom_f\n",
    "# Cleaning bom budget and revenue\n",
    "movie_df.loc[movie_df.bom_budget == \"\",'bom_budget']= movie_df.loc[movie_df.bom_budget==\"\",'bom_budget'].apply(lambda x: float(x.replace('', '0.0')))\n",
    "movie_df.loc[movie_df.bom_worldwide_revenue == \"\",'bom_worldwide_revenue'] = movie_df.loc[movie_df.bom_worldwide_revenue==\"\",'bom_worldwide_revenue'].apply(lambda x: float(x.replace('', '0.0')))\n",
    "\n",
    "import warnings\n",
    "warnings.filterwarnings('ignore')\n",
    "\n",
    "movie_df['bom_budget'] = movie_df['bom_budget'].str.replace('$','')\n",
    "movie_df['bom_budget'] = movie_df['bom_budget'].str.replace('\"','')\n",
    "movie_df['bom_budget'] = movie_df['bom_budget'].str.replace(',','')\n",
    "\n",
    "for r in range(0,movie_df.shape[0]):\n",
    "    s = str(movie_df.loc[r,'bom_budget'])\n",
    "    if(\"million\" in s):\n",
    "        movie_df.loc[r,'bom_budget'] = movie_df.loc[r,'bom_budget'].replace(\"million\",\"\")\n",
    "        movie_df.loc[r,'bom_budget'] = float(movie_df.loc[r,'bom_budget'])*1000000\n",
    "    else:\n",
    "        movie_df.loc[r,'bom_budget'] = float(movie_df.loc[r,'bom_budget'])\n",
    "movie_df['bom_worldwide_revenue'] = movie_df['bom_worldwide_revenue'].str.replace('$','')\n",
    "movie_df['bom_worldwide_revenue'] = movie_df['bom_worldwide_revenue'].str.replace('\"','')\n",
    "movie_df['bom_worldwide_revenue'] = movie_df['bom_worldwide_revenue'].str.replace(',','')\n",
    "movie_df['bom_worldwide_revenue'] = movie_df['bom_worldwide_revenue'].str.replace('n/a','')\n",
    "\n",
    "movie_df.loc[movie_df.bom_worldwide_revenue == \"\",'bom_worldwide_revenue'] = movie_df.loc[movie_df.bom_worldwide_revenue==\"\",'bom_worldwide_revenue'].apply(lambda x: float(x.replace('', '0.0')))\n",
    "\n",
    "\n",
    "for r in range(0,movie_df.shape[0]):\n",
    "    #print(movie_df.loc[r,'bom_worldwide_revenue'])\n",
    "    movie_df.loc[r,'bom_worldwide_revenue'] = float(movie_df.loc[r,'bom_worldwide_revenue'])"
   ]
  },
  {
   "cell_type": "code",
   "execution_count": 8,
   "metadata": {
    "collapsed": false
   },
   "outputs": [
    {
     "output_type": "execute_result",
     "data": {
      "text/plain": [
       "  key_bom                   bom_title  bom_budget bom_worldwide_revenue\n",
       "0     b10        (500) days of summer   7500000.0            60722734.0\n",
       "1     b24  10 things i hate about you  30000000.0            53478166.0"
      ],
      "text/html": "<div>\n<style scoped>\n    .dataframe tbody tr th:only-of-type {\n        vertical-align: middle;\n    }\n\n    .dataframe tbody tr th {\n        vertical-align: top;\n    }\n\n    .dataframe thead th {\n        text-align: right;\n    }\n</style>\n<table border=\"1\" class=\"dataframe\">\n  <thead>\n    <tr style=\"text-align: right;\">\n      <th></th>\n      <th>key_bom</th>\n      <th>bom_title</th>\n      <th>bom_budget</th>\n      <th>bom_worldwide_revenue</th>\n    </tr>\n  </thead>\n  <tbody>\n    <tr>\n      <th>0</th>\n      <td>b10</td>\n      <td>(500) days of summer</td>\n      <td>7500000.0</td>\n      <td>60722734.0</td>\n    </tr>\n    <tr>\n      <th>1</th>\n      <td>b24</td>\n      <td>10 things i hate about you</td>\n      <td>30000000.0</td>\n      <td>53478166.0</td>\n    </tr>\n  </tbody>\n</table>\n</div>"
     },
     "metadata": {},
     "execution_count": 8
    }
   ],
   "source": [
    "movie_df.head(2)"
   ]
  },
  {
   "cell_type": "code",
   "execution_count": 9,
   "metadata": {
    "collapsed": false
   },
   "outputs": [
    {
     "output_type": "stream",
     "name": "stdout",
     "text": [
      "(2530, 4)\n(2527, 4)\n"
     ]
    }
   ],
   "source": [
    "print(movie_df.shape)\n",
    "movie_df = movie_df[(movie_df['bom_budget']!=0.0)&(movie_df['bom_worldwide_revenue']!=0.0)]\n",
    "movie_df.reset_index(inplace=True,drop=True)\n",
    "print(movie_df.shape)"
   ]
  },
  {
   "cell_type": "markdown",
   "metadata": {},
   "source": [
    "###### Filtering budget, gross > 10,000"
   ]
  },
  {
   "cell_type": "code",
   "execution_count": 10,
   "metadata": {
    "collapsed": false
   },
   "outputs": [
    {
     "output_type": "stream",
     "name": "stdout",
     "text": [
      "(2520, 4)\n"
     ]
    }
   ],
   "source": [
    "movie_df = movie_df[(movie_df['bom_budget']>10000) & (movie_df['bom_worldwide_revenue']>10000)]\n",
    "movie_df.reset_index(inplace=True,drop=True)\n",
    "print(movie_df.shape)"
   ]
  },
  {
   "cell_type": "code",
   "execution_count": 11,
   "metadata": {
    "collapsed": false
   },
   "outputs": [
    {
     "output_type": "execute_result",
     "data": {
      "text/plain": [
       "  key_bom                   bom_title  bom_budget bom_worldwide_revenue   revenue\n",
       "0     b10        (500) days of summer   7500000.0            60722734.0  7.096365\n",
       "1     b24  10 things i hate about you  30000000.0            53478166.0  0.782606"
      ],
      "text/html": "<div>\n<style scoped>\n    .dataframe tbody tr th:only-of-type {\n        vertical-align: middle;\n    }\n\n    .dataframe tbody tr th {\n        vertical-align: top;\n    }\n\n    .dataframe thead th {\n        text-align: right;\n    }\n</style>\n<table border=\"1\" class=\"dataframe\">\n  <thead>\n    <tr style=\"text-align: right;\">\n      <th></th>\n      <th>key_bom</th>\n      <th>bom_title</th>\n      <th>bom_budget</th>\n      <th>bom_worldwide_revenue</th>\n      <th>revenue</th>\n    </tr>\n  </thead>\n  <tbody>\n    <tr>\n      <th>0</th>\n      <td>b10</td>\n      <td>(500) days of summer</td>\n      <td>7500000.0</td>\n      <td>60722734.0</td>\n      <td>7.096365</td>\n    </tr>\n    <tr>\n      <th>1</th>\n      <td>b24</td>\n      <td>10 things i hate about you</td>\n      <td>30000000.0</td>\n      <td>53478166.0</td>\n      <td>0.782606</td>\n    </tr>\n  </tbody>\n</table>\n</div>"
     },
     "metadata": {},
     "execution_count": 11
    }
   ],
   "source": [
    "movie_df['revenue'] = (movie_df['bom_worldwide_revenue'] - movie_df['bom_budget']) / movie_df['bom_budget']\n",
    "movie_df.head(2)"
   ]
  },
  {
   "cell_type": "code",
   "execution_count": 12,
   "metadata": {
    "collapsed": false
   },
   "outputs": [
    {
     "output_type": "execute_result",
     "data": {
      "text/plain": [
       "(1100, 5)"
      ]
     },
     "metadata": {},
     "execution_count": 12
    }
   ],
   "source": [
    "movie_df[movie_df['revenue']<1].shape"
   ]
  },
  {
   "cell_type": "code",
   "execution_count": 13,
   "metadata": {
    "collapsed": true
   },
   "outputs": [],
   "source": [
    "#movie_df.to_csv(\"data/temp-data/bom_1.csv\",index=None)"
   ]
  },
  {
   "cell_type": "code",
   "execution_count": 14,
   "metadata": {
    "collapsed": false
   },
   "outputs": [
    {
     "output_type": "execute_result",
     "data": {
      "text/plain": [
       "(147, 5)"
      ]
     },
     "metadata": {},
     "execution_count": 14
    }
   ],
   "source": [
    "movie_df[movie_df['revenue']>10].shape"
   ]
  },
  {
   "cell_type": "code",
   "execution_count": 15,
   "metadata": {
    "collapsed": false
   },
   "outputs": [
    {
     "output_type": "execute_result",
     "data": {
      "text/plain": [
       "(2373, 5)"
      ]
     },
     "metadata": {},
     "execution_count": 15
    }
   ],
   "source": [
    "# Filtering revenue < 10\n",
    "movie_df = movie_df[movie_df['revenue']<10]\n",
    "movie_df.reset_index(inplace=True,drop=True)\n",
    "movie_df.shape"
   ]
  },
  {
   "cell_type": "markdown",
   "metadata": {},
   "source": [
    "## Features related to release date"
   ]
  },
  {
   "cell_type": "code",
   "execution_count": 16,
   "metadata": {
    "collapsed": false
   },
   "outputs": [
    {
     "output_type": "execute_result",
     "data": {
      "text/plain": [
       "(2373, 6)"
      ]
     },
     "metadata": {},
     "execution_count": 16
    }
   ],
   "source": [
    "movie_df = movie_df.merge(bom[['bom_release_date',\"key_bom\"]],on=\"key_bom\",how=\"left\",)\n",
    "movie_df.shape"
   ]
  },
  {
   "cell_type": "code",
   "execution_count": 17,
   "metadata": {
    "collapsed": false
   },
   "outputs": [
    {
     "output_type": "execute_result",
     "data": {
      "text/plain": [
       "  key_bom                   bom_title   bom_budget bom_worldwide_revenue   revenue bom_release_date\n",
       "0     b10        (500) days of summer    7500000.0            60722734.0  7.096365        17-Jul-09\n",
       "1     b24  10 things i hate about you   30000000.0            53478166.0  0.782606        31-Mar-99\n",
       "2     b27               \"10,000 b.c.\"  105000000.0           269784201.0  1.569373         7-Mar-08\n",
       "3     b38              102 dalmatians   85000000.0           183611771.0  1.160138        22-Nov-00\n",
       "4     b39             10th &amp; wolf    8000000.0              143451.0 -0.982069        18-Aug-06"
      ],
      "text/html": "<div>\n<style scoped>\n    .dataframe tbody tr th:only-of-type {\n        vertical-align: middle;\n    }\n\n    .dataframe tbody tr th {\n        vertical-align: top;\n    }\n\n    .dataframe thead th {\n        text-align: right;\n    }\n</style>\n<table border=\"1\" class=\"dataframe\">\n  <thead>\n    <tr style=\"text-align: right;\">\n      <th></th>\n      <th>key_bom</th>\n      <th>bom_title</th>\n      <th>bom_budget</th>\n      <th>bom_worldwide_revenue</th>\n      <th>revenue</th>\n      <th>bom_release_date</th>\n    </tr>\n  </thead>\n  <tbody>\n    <tr>\n      <th>0</th>\n      <td>b10</td>\n      <td>(500) days of summer</td>\n      <td>7500000.0</td>\n      <td>60722734.0</td>\n      <td>7.096365</td>\n      <td>17-Jul-09</td>\n    </tr>\n    <tr>\n      <th>1</th>\n      <td>b24</td>\n      <td>10 things i hate about you</td>\n      <td>30000000.0</td>\n      <td>53478166.0</td>\n      <td>0.782606</td>\n      <td>31-Mar-99</td>\n    </tr>\n    <tr>\n      <th>2</th>\n      <td>b27</td>\n      <td>\"10,000 b.c.\"</td>\n      <td>105000000.0</td>\n      <td>269784201.0</td>\n      <td>1.569373</td>\n      <td>7-Mar-08</td>\n    </tr>\n    <tr>\n      <th>3</th>\n      <td>b38</td>\n      <td>102 dalmatians</td>\n      <td>85000000.0</td>\n      <td>183611771.0</td>\n      <td>1.160138</td>\n      <td>22-Nov-00</td>\n    </tr>\n    <tr>\n      <th>4</th>\n      <td>b39</td>\n      <td>10th &amp;amp; wolf</td>\n      <td>8000000.0</td>\n      <td>143451.0</td>\n      <td>-0.982069</td>\n      <td>18-Aug-06</td>\n    </tr>\n  </tbody>\n</table>\n</div>"
     },
     "metadata": {},
     "execution_count": 17
    }
   ],
   "source": [
    "movie_df.head()"
   ]
  },
  {
   "cell_type": "code",
   "execution_count": 18,
   "metadata": {
    "collapsed": false
   },
   "outputs": [
    {
     "output_type": "execute_result",
     "data": {
      "text/plain": [
       "  key_bom                   bom_title   bom_budget bom_worldwide_revenue   revenue     bom_release_date\n",
       "0     b10        (500) days of summer    7500000.0            60722734.0  7.096365  2009-07-17 00:00:00\n",
       "1     b24  10 things i hate about you   30000000.0            53478166.0  0.782606  1999-03-31 00:00:00\n",
       "2     b27               \"10,000 b.c.\"  105000000.0           269784201.0  1.569373  2008-03-07 00:00:00\n",
       "3     b38              102 dalmatians   85000000.0           183611771.0  1.160138  2000-11-22 00:00:00\n",
       "4     b39             10th &amp; wolf    8000000.0              143451.0 -0.982069  2006-08-18 00:00:00"
      ],
      "text/html": "<div>\n<style scoped>\n    .dataframe tbody tr th:only-of-type {\n        vertical-align: middle;\n    }\n\n    .dataframe tbody tr th {\n        vertical-align: top;\n    }\n\n    .dataframe thead th {\n        text-align: right;\n    }\n</style>\n<table border=\"1\" class=\"dataframe\">\n  <thead>\n    <tr style=\"text-align: right;\">\n      <th></th>\n      <th>key_bom</th>\n      <th>bom_title</th>\n      <th>bom_budget</th>\n      <th>bom_worldwide_revenue</th>\n      <th>revenue</th>\n      <th>bom_release_date</th>\n    </tr>\n  </thead>\n  <tbody>\n    <tr>\n      <th>0</th>\n      <td>b10</td>\n      <td>(500) days of summer</td>\n      <td>7500000.0</td>\n      <td>60722734.0</td>\n      <td>7.096365</td>\n      <td>2009-07-17 00:00:00</td>\n    </tr>\n    <tr>\n      <th>1</th>\n      <td>b24</td>\n      <td>10 things i hate about you</td>\n      <td>30000000.0</td>\n      <td>53478166.0</td>\n      <td>0.782606</td>\n      <td>1999-03-31 00:00:00</td>\n    </tr>\n    <tr>\n      <th>2</th>\n      <td>b27</td>\n      <td>\"10,000 b.c.\"</td>\n      <td>105000000.0</td>\n      <td>269784201.0</td>\n      <td>1.569373</td>\n      <td>2008-03-07 00:00:00</td>\n    </tr>\n    <tr>\n      <th>3</th>\n      <td>b38</td>\n      <td>102 dalmatians</td>\n      <td>85000000.0</td>\n      <td>183611771.0</td>\n      <td>1.160138</td>\n      <td>2000-11-22 00:00:00</td>\n    </tr>\n    <tr>\n      <th>4</th>\n      <td>b39</td>\n      <td>10th &amp;amp; wolf</td>\n      <td>8000000.0</td>\n      <td>143451.0</td>\n      <td>-0.982069</td>\n      <td>2006-08-18 00:00:00</td>\n    </tr>\n  </tbody>\n</table>\n</div>"
     },
     "metadata": {},
     "execution_count": 18
    }
   ],
   "source": [
    "import datetime as dt\n",
    "\n",
    "for r in range(0,movie_df.shape[0]):\n",
    "    if(len(movie_df.loc[r,'bom_release_date'])>=8):   \n",
    "        movie_df.loc[r,'bom_release_date'] = pd.to_datetime(movie_df.loc[r,'bom_release_date'], format='%d-%b-%y')\n",
    "    else:\n",
    "        movie_df.loc[r,'bom_release_date'] = \"\"\n",
    "\n",
    "movie_df.head()"
   ]
  },
  {
   "cell_type": "code",
   "execution_count": 19,
   "metadata": {
    "collapsed": false
   },
   "outputs": [
    {
     "output_type": "stream",
     "name": "stdout",
     "text": [
      "(2373, 11)\n"
     ]
    },
    {
     "output_type": "execute_result",
     "data": {
      "text/plain": [
       "  key_bom                   bom_title   bom_budget bom_worldwide_revenue   revenue     bom_release_date release_month release_quarter release_day_of_the_year release_week_of_the_year release_year\n",
       "0     b10        (500) days of summer    7500000.0            60722734.0  7.096365  2009-07-17 00:00:00            07             3.0                     198                       28         2009\n",
       "1     b24  10 things i hate about you   30000000.0            53478166.0  0.782606  1999-03-31 00:00:00            03             1.0                      90                       13         1999\n",
       "2     b27               \"10,000 b.c.\"  105000000.0           269784201.0  1.569373  2008-03-07 00:00:00            03             1.0                      67                        9         2008\n",
       "3     b38              102 dalmatians   85000000.0           183611771.0  1.160138  2000-11-22 00:00:00            11             4.0                     327                       47         2000\n",
       "4     b39             10th &amp; wolf    8000000.0              143451.0 -0.982069  2006-08-18 00:00:00            08             3.0                     230                       33         2006"
      ],
      "text/html": "<div>\n<style scoped>\n    .dataframe tbody tr th:only-of-type {\n        vertical-align: middle;\n    }\n\n    .dataframe tbody tr th {\n        vertical-align: top;\n    }\n\n    .dataframe thead th {\n        text-align: right;\n    }\n</style>\n<table border=\"1\" class=\"dataframe\">\n  <thead>\n    <tr style=\"text-align: right;\">\n      <th></th>\n      <th>key_bom</th>\n      <th>bom_title</th>\n      <th>bom_budget</th>\n      <th>bom_worldwide_revenue</th>\n      <th>revenue</th>\n      <th>bom_release_date</th>\n      <th>release_month</th>\n      <th>release_quarter</th>\n      <th>release_day_of_the_year</th>\n      <th>release_week_of_the_year</th>\n      <th>release_year</th>\n    </tr>\n  </thead>\n  <tbody>\n    <tr>\n      <th>0</th>\n      <td>b10</td>\n      <td>(500) days of summer</td>\n      <td>7500000.0</td>\n      <td>60722734.0</td>\n      <td>7.096365</td>\n      <td>2009-07-17 00:00:00</td>\n      <td>07</td>\n      <td>3.0</td>\n      <td>198</td>\n      <td>28</td>\n      <td>2009</td>\n    </tr>\n    <tr>\n      <th>1</th>\n      <td>b24</td>\n      <td>10 things i hate about you</td>\n      <td>30000000.0</td>\n      <td>53478166.0</td>\n      <td>0.782606</td>\n      <td>1999-03-31 00:00:00</td>\n      <td>03</td>\n      <td>1.0</td>\n      <td>90</td>\n      <td>13</td>\n      <td>1999</td>\n    </tr>\n    <tr>\n      <th>2</th>\n      <td>b27</td>\n      <td>\"10,000 b.c.\"</td>\n      <td>105000000.0</td>\n      <td>269784201.0</td>\n      <td>1.569373</td>\n      <td>2008-03-07 00:00:00</td>\n      <td>03</td>\n      <td>1.0</td>\n      <td>67</td>\n      <td>9</td>\n      <td>2008</td>\n    </tr>\n    <tr>\n      <th>3</th>\n      <td>b38</td>\n      <td>102 dalmatians</td>\n      <td>85000000.0</td>\n      <td>183611771.0</td>\n      <td>1.160138</td>\n      <td>2000-11-22 00:00:00</td>\n      <td>11</td>\n      <td>4.0</td>\n      <td>327</td>\n      <td>47</td>\n      <td>2000</td>\n    </tr>\n    <tr>\n      <th>4</th>\n      <td>b39</td>\n      <td>10th &amp;amp; wolf</td>\n      <td>8000000.0</td>\n      <td>143451.0</td>\n      <td>-0.982069</td>\n      <td>2006-08-18 00:00:00</td>\n      <td>08</td>\n      <td>3.0</td>\n      <td>230</td>\n      <td>33</td>\n      <td>2006</td>\n    </tr>\n  </tbody>\n</table>\n</div>"
     },
     "metadata": {},
     "execution_count": 19
    }
   ],
   "source": [
    "movie_df_3 = movie_df\n",
    "# Get the month as a feature\n",
    "from datetime import datetime \n",
    "for r in range(0,movie_df_3.shape[0]):\n",
    "    if(movie_df_3.loc[r,'bom_release_date']!=\"\"):\n",
    "        movie_df_3.loc[r,'release_month'] = datetime.strftime(movie_df_3.loc[r,'bom_release_date'],\"%m\")\n",
    "    else:\n",
    "        movie_df_3.loc[r,'release_month'] = \"\"\n",
    "        \n",
    "# Get the quarter\n",
    "for r in range(0,movie_df_3.shape[0]):\n",
    "    if(movie_df_3.loc[r,'bom_release_date']!=\"\"):\n",
    "        movie_df_3.loc[r,'release_quarter'] = movie_df_3.loc[r,'bom_release_date'].quarter\n",
    "    else:\n",
    "        movie_df_3.loc[r,'release_quarter'] = \"\"\n",
    "        \n",
    "# Get the day of the year\n",
    "for r in range(0,movie_df_3.shape[0]):\n",
    "    if(movie_df_3.loc[r,'bom_release_date']!=\"\"):\n",
    "        movie_df_3.loc[r,'release_day_of_the_year'] = datetime.strftime(movie_df_3.loc[r,'bom_release_date'],\"%j\").lstrip(\"0\")\n",
    "    else:\n",
    "        movie_df_3.loc[r,'release_day_of_the_year'] = \"\"\n",
    "\n",
    "# get the week of the year\n",
    "for r in range(0,movie_df_3.shape[0]):\n",
    "    if(movie_df_3.loc[r,'bom_release_date']!=\"\"):\n",
    "        movie_df_3.loc[r,'release_week_of_the_year'] = datetime.strftime(movie_df_3.loc[r,'bom_release_date'],\"%U\").lstrip(\"0\")\n",
    "    else:\n",
    "        movie_df_3.loc[r,'release_week_of_the_year'] = \"\"\n",
    "\n",
    "# get the year\n",
    "for r in range(0,movie_df_3.shape[0]):\n",
    "    if(movie_df_3.loc[r,'bom_release_date']!=\"\"):\n",
    "        movie_df_3.loc[r,'release_year'] = datetime.strftime(movie_df_3.loc[r,'bom_release_date'],\"%Y\")\n",
    "    else:\n",
    "        movie_df_3.loc[r,'release_year'] = \"\"\n",
    "\n",
    "\n",
    "movie_df = movie_df_3\n",
    "print(movie_df.shape)\n",
    "movie_df.head()"
   ]
  },
  {
   "cell_type": "markdown",
   "metadata": {},
   "source": [
    "## Features Related to Runtime"
   ]
  },
  {
   "cell_type": "code",
   "execution_count": 20,
   "metadata": {
    "collapsed": false
   },
   "outputs": [
    {
     "output_type": "execute_result",
     "data": {
      "text/plain": [
       "(2373, 12)"
      ]
     },
     "metadata": {},
     "execution_count": 20
    }
   ],
   "source": [
    "movie_df = movie_df.merge(bom[['bom_runtime',\"key_bom\"]],on=\"key_bom\",how=\"left\")\n",
    "movie_df.shape"
   ]
  },
  {
   "cell_type": "code",
   "execution_count": 21,
   "metadata": {
    "collapsed": true
   },
   "outputs": [],
   "source": [
    "movie_df['bom_runtime'] = [str(v).lstrip() for v in movie_df['bom_runtime']]\n",
    "movie_df['bom_runtime']= [str(v).rstrip() for v in movie_df['bom_runtime']]\n",
    "movie_df['bom_runtime']= [v.replace('N/A',\"\") for v in movie_df['bom_runtime']]\n",
    "\n",
    "for r in range(0,movie_df.shape[0]):\n",
    "    if(movie_df.loc[r,'bom_runtime']!=\"\"):\n",
    "        a = movie_df.loc[r,'bom_runtime'].replace(\" \",\"\")\n",
    "        a = a.split('hrs.')\n",
    "        if (len(a)>1):\n",
    "            m = a[1].split('min.')[0]\n",
    "        else:\n",
    "            m = 0\n",
    "        movie_df.loc[r,'runtime'] = float(a[0])*60+float(m)\n",
    "    else:\n",
    "        movie_df.loc[r,'runtime'] = \"\""
   ]
  },
  {
   "cell_type": "code",
   "execution_count": 22,
   "metadata": {
    "collapsed": false
   },
   "outputs": [
    {
     "output_type": "execute_result",
     "data": {
      "text/plain": [
       "  key_bom                   bom_title   bom_budget bom_worldwide_revenue   revenue     bom_release_date release_month release_quarter release_day_of_the_year release_week_of_the_year release_year     bom_runtime runtime\n",
       "0     b10        (500) days of summer    7500000.0            60722734.0  7.096365  2009-07-17 00:00:00            07             3.0                     198                       28         2009  1 hrs. 35 min.    95.0\n",
       "1     b24  10 things i hate about you   30000000.0            53478166.0  0.782606  1999-03-31 00:00:00            03             1.0                      90                       13         1999  1 hrs. 37 min.    97.0\n",
       "2     b27               \"10,000 b.c.\"  105000000.0           269784201.0  1.569373  2008-03-07 00:00:00            03             1.0                      67                        9         2008  1 hrs. 49 min.   109.0\n",
       "3     b38              102 dalmatians   85000000.0           183611771.0  1.160138  2000-11-22 00:00:00            11             4.0                     327                       47         2000  1 hrs. 44 min.   104.0\n",
       "4     b39             10th &amp; wolf    8000000.0              143451.0 -0.982069  2006-08-18 00:00:00            08             3.0                     230                       33         2006  1 hrs. 50 min.   110.0"
      ],
      "text/html": "<div>\n<style scoped>\n    .dataframe tbody tr th:only-of-type {\n        vertical-align: middle;\n    }\n\n    .dataframe tbody tr th {\n        vertical-align: top;\n    }\n\n    .dataframe thead th {\n        text-align: right;\n    }\n</style>\n<table border=\"1\" class=\"dataframe\">\n  <thead>\n    <tr style=\"text-align: right;\">\n      <th></th>\n      <th>key_bom</th>\n      <th>bom_title</th>\n      <th>bom_budget</th>\n      <th>bom_worldwide_revenue</th>\n      <th>revenue</th>\n      <th>bom_release_date</th>\n      <th>release_month</th>\n      <th>release_quarter</th>\n      <th>release_day_of_the_year</th>\n      <th>release_week_of_the_year</th>\n      <th>release_year</th>\n      <th>bom_runtime</th>\n      <th>runtime</th>\n    </tr>\n  </thead>\n  <tbody>\n    <tr>\n      <th>0</th>\n      <td>b10</td>\n      <td>(500) days of summer</td>\n      <td>7500000.0</td>\n      <td>60722734.0</td>\n      <td>7.096365</td>\n      <td>2009-07-17 00:00:00</td>\n      <td>07</td>\n      <td>3.0</td>\n      <td>198</td>\n      <td>28</td>\n      <td>2009</td>\n      <td>1 hrs. 35 min.</td>\n      <td>95.0</td>\n    </tr>\n    <tr>\n      <th>1</th>\n      <td>b24</td>\n      <td>10 things i hate about you</td>\n      <td>30000000.0</td>\n      <td>53478166.0</td>\n      <td>0.782606</td>\n      <td>1999-03-31 00:00:00</td>\n      <td>03</td>\n      <td>1.0</td>\n      <td>90</td>\n      <td>13</td>\n      <td>1999</td>\n      <td>1 hrs. 37 min.</td>\n      <td>97.0</td>\n    </tr>\n    <tr>\n      <th>2</th>\n      <td>b27</td>\n      <td>\"10,000 b.c.\"</td>\n      <td>105000000.0</td>\n      <td>269784201.0</td>\n      <td>1.569373</td>\n      <td>2008-03-07 00:00:00</td>\n      <td>03</td>\n      <td>1.0</td>\n      <td>67</td>\n      <td>9</td>\n      <td>2008</td>\n      <td>1 hrs. 49 min.</td>\n      <td>109.0</td>\n    </tr>\n    <tr>\n      <th>3</th>\n      <td>b38</td>\n      <td>102 dalmatians</td>\n      <td>85000000.0</td>\n      <td>183611771.0</td>\n      <td>1.160138</td>\n      <td>2000-11-22 00:00:00</td>\n      <td>11</td>\n      <td>4.0</td>\n      <td>327</td>\n      <td>47</td>\n      <td>2000</td>\n      <td>1 hrs. 44 min.</td>\n      <td>104.0</td>\n    </tr>\n    <tr>\n      <th>4</th>\n      <td>b39</td>\n      <td>10th &amp;amp; wolf</td>\n      <td>8000000.0</td>\n      <td>143451.0</td>\n      <td>-0.982069</td>\n      <td>2006-08-18 00:00:00</td>\n      <td>08</td>\n      <td>3.0</td>\n      <td>230</td>\n      <td>33</td>\n      <td>2006</td>\n      <td>1 hrs. 50 min.</td>\n      <td>110.0</td>\n    </tr>\n  </tbody>\n</table>\n</div>"
     },
     "metadata": {},
     "execution_count": 22
    }
   ],
   "source": [
    "movie_df.head()"
   ]
  },
  {
   "cell_type": "code",
   "execution_count": 23,
   "metadata": {
    "collapsed": false
   },
   "outputs": [
    {
     "output_type": "execute_result",
     "data": {
      "text/plain": [
       "(2373, 13)"
      ]
     },
     "metadata": {},
     "execution_count": 23
    }
   ],
   "source": [
    "movie_df.loc[movie_df.runtime == \"\",'runtime']= movie_df.loc[movie_df.runtime==\"\",'runtime'].apply(lambda x: float(x.replace('', '0.0')))\n",
    "movie_df['runtime'] = movie_df['runtime'].astype(float)\n",
    "movie_df.shape"
   ]
  },
  {
   "cell_type": "code",
   "execution_count": 24,
   "metadata": {
    "collapsed": true
   },
   "outputs": [],
   "source": [
    "#movie_df.to_csv(\"data/temp-data/bom_2.csv\",index=None)"
   ]
  },
  {
   "cell_type": "markdown",
   "metadata": {},
   "source": [
    "## Features Related to Awards"
   ]
  },
  {
   "cell_type": "code",
   "execution_count": 25,
   "metadata": {
    "collapsed": false
   },
   "outputs": [
    {
     "output_type": "stream",
     "name": "stdout",
     "text": [
      "Shape of finalized table (2373, 15)\n"
     ]
    },
    {
     "output_type": "execute_result",
     "data": {
      "text/plain": [
       "  key_bom                   bom_title   bom_budget bom_worldwide_revenue   revenue     bom_release_date release_month release_quarter release_day_of_the_year release_week_of_the_year release_year     bom_runtime  runtime bom_awards  bom_awards_scr\n",
       "0     b10        (500) days of summer    7500000.0            60722734.0  7.096365  2009-07-17 00:00:00            07             3.0                     198                       28         2009  1 hrs. 35 min.     95.0        NaN             0.0\n",
       "1     b24  10 things i hate about you   30000000.0            53478166.0  0.782606  1999-03-31 00:00:00            03             1.0                      90                       13         1999  1 hrs. 37 min.     97.0        NaN             0.0\n",
       "2     b27               \"10,000 b.c.\"  105000000.0           269784201.0  1.569373  2008-03-07 00:00:00            03             1.0                      67                        9         2008  1 hrs. 49 min.    109.0        NaN             0.0"
      ],
      "text/html": "<div>\n<style scoped>\n    .dataframe tbody tr th:only-of-type {\n        vertical-align: middle;\n    }\n\n    .dataframe tbody tr th {\n        vertical-align: top;\n    }\n\n    .dataframe thead th {\n        text-align: right;\n    }\n</style>\n<table border=\"1\" class=\"dataframe\">\n  <thead>\n    <tr style=\"text-align: right;\">\n      <th></th>\n      <th>key_bom</th>\n      <th>bom_title</th>\n      <th>bom_budget</th>\n      <th>bom_worldwide_revenue</th>\n      <th>revenue</th>\n      <th>bom_release_date</th>\n      <th>release_month</th>\n      <th>release_quarter</th>\n      <th>release_day_of_the_year</th>\n      <th>release_week_of_the_year</th>\n      <th>release_year</th>\n      <th>bom_runtime</th>\n      <th>runtime</th>\n      <th>bom_awards</th>\n      <th>bom_awards_scr</th>\n    </tr>\n  </thead>\n  <tbody>\n    <tr>\n      <th>0</th>\n      <td>b10</td>\n      <td>(500) days of summer</td>\n      <td>7500000.0</td>\n      <td>60722734.0</td>\n      <td>7.096365</td>\n      <td>2009-07-17 00:00:00</td>\n      <td>07</td>\n      <td>3.0</td>\n      <td>198</td>\n      <td>28</td>\n      <td>2009</td>\n      <td>1 hrs. 35 min.</td>\n      <td>95.0</td>\n      <td>NaN</td>\n      <td>0.0</td>\n    </tr>\n    <tr>\n      <th>1</th>\n      <td>b24</td>\n      <td>10 things i hate about you</td>\n      <td>30000000.0</td>\n      <td>53478166.0</td>\n      <td>0.782606</td>\n      <td>1999-03-31 00:00:00</td>\n      <td>03</td>\n      <td>1.0</td>\n      <td>90</td>\n      <td>13</td>\n      <td>1999</td>\n      <td>1 hrs. 37 min.</td>\n      <td>97.0</td>\n      <td>NaN</td>\n      <td>0.0</td>\n    </tr>\n    <tr>\n      <th>2</th>\n      <td>b27</td>\n      <td>\"10,000 b.c.\"</td>\n      <td>105000000.0</td>\n      <td>269784201.0</td>\n      <td>1.569373</td>\n      <td>2008-03-07 00:00:00</td>\n      <td>03</td>\n      <td>1.0</td>\n      <td>67</td>\n      <td>9</td>\n      <td>2008</td>\n      <td>1 hrs. 49 min.</td>\n      <td>109.0</td>\n      <td>NaN</td>\n      <td>0.0</td>\n    </tr>\n  </tbody>\n</table>\n</div>"
     },
     "metadata": {},
     "execution_count": 25
    }
   ],
   "source": [
    "# Create a score for awards and add it to the table\n",
    "award_win_factor = 5\n",
    "bom_awa = bom[~bom['bom_awards'].str.contains('No Academy Awards Information')][['key_bom','bom_awards']].copy()\n",
    "bom_awa['bom_awards_num'] = bom_awa['bom_awards'].str.replace('\\r','')\n",
    "bom_awa['bom_awards_num'] = bom_awa['bom_awards_num'].str.replace('Nominated for ','')\n",
    "bom_awa['bom_awards_num'] = bom_awa['bom_awards_num'].str.replace(' Oscars','')\n",
    "bom_awa['bom_awards_num'] = bom_awa['bom_awards_num'].str.replace(' Oscar','')\n",
    "bom_awa['bom_awards_num'] = bom_awa['bom_awards_num'].str.replace(', Including','')\n",
    "bom_awa['bom_awards_num'] = bom_awa['bom_awards_num'].str.replace(' Win.','')\n",
    "bom_awa['bom_awards_num'] = bom_awa['bom_awards_num'].str.replace('.','')\n",
    "bom_awa['bom_awards_num'] = bom_awa['bom_awards_num'].str.replace('\"','')\n",
    "\n",
    "alpha_to_num = {'One':1, 'Two':2, 'Three':3, 'Four':4, 'Five':5, 'Six':6, 'Seven':7, 'Eight':8, 'Nine':9, \n",
    "                'Ten':10, 'Eleven':11, 'Twelve':12, 'Thirteen':13, 'Fourteen':14}\n",
    "bom_awa['bom_awards_num'] = bom_awa['bom_awards_num'].apply(lambda x: x.split(' '))\n",
    "bom_awa['bom_awards_num'] = bom_awa['bom_awards_num'].apply(lambda x: [alpha_to_num[val] for val in x ])\n",
    "bom_awa['bom_awards_scr'] = bom_awa['bom_awards_num'].apply(lambda x: x[0]+x[1]*award_win_factor if len(x)>1 else x[0] )\n",
    "\n",
    "movie_df = pd.merge(movie_df,bom_awa[['key_bom', 'bom_awards', 'bom_awards_scr']],on = \"key_bom\",how=\"left\")\n",
    "movie_df['bom_awards_scr'].fillna(0, inplace=True)\n",
    "\n",
    "print('Shape of finalized table', movie_df.shape)\n",
    "movie_df.head(3)"
   ]
  },
  {
   "cell_type": "code",
   "execution_count": 26,
   "metadata": {
    "collapsed": false
   },
   "outputs": [
    {
     "output_type": "execute_result",
     "data": {
      "text/plain": [
       "(1927, 15)"
      ]
     },
     "metadata": {},
     "execution_count": 26
    }
   ],
   "source": [
    "movie_df[movie_df['bom_awards'].isnull()].shape"
   ]
  },
  {
   "cell_type": "code",
   "execution_count": 27,
   "metadata": {
    "collapsed": false
   },
   "outputs": [
    {
     "output_type": "execute_result",
     "data": {
      "text/plain": [
       "   key_bom                                  bom_title  bom_budget bom_worldwide_revenue   revenue     bom_release_date release_month release_quarter release_day_of_the_year release_week_of_the_year release_year     bom_runtime  runtime                                            bom_awards  bom_awards_scr\n",
       "3      b38                             102 dalmatians  85000000.0           183611771.0  1.160138  2000-11-22 00:00:00            11             4.0                     327                       47         2000  1 hrs. 44 min.    104.0                            Nominated for One Oscar.\\r             1.0\n",
       "5      b48                           12 years a slave  20000000.0           187733202.0   8.38666  2013-10-18 00:00:00            10             4.0                     291                       41         2013  2 hrs. 13 min.    133.0  \"Nominated for Nine Oscars, Including Three Wins.\"\\r            24.0\n",
       "6      b50                                  127 hours  18000000.0            60738797.0  2.374378  2010-11-05 00:00:00            11             4.0                     309                       44         2010  1 hrs. 33 min.     93.0                           Nominated for Six Oscars.\\r             6.0\n",
       "8      b55  13 hours: the secret soldiers of benghazi  50000000.0            69411370.0  0.388227  2016-01-15 00:00:00            01             1.0                      15                        2         2016  2 hrs. 24 min.    144.0                            Nominated for One Oscar.\\r             1.0\n",
       "11     b80                                       1941  35000000.0            92455742.0  1.641593  1979-12-14 00:00:00            12             4.0                     348                       49         1979  1 hrs. 58 min.    118.0                         Nominated for Three Oscars.\\r             3.0"
      ],
      "text/html": "<div>\n<style scoped>\n    .dataframe tbody tr th:only-of-type {\n        vertical-align: middle;\n    }\n\n    .dataframe tbody tr th {\n        vertical-align: top;\n    }\n\n    .dataframe thead th {\n        text-align: right;\n    }\n</style>\n<table border=\"1\" class=\"dataframe\">\n  <thead>\n    <tr style=\"text-align: right;\">\n      <th></th>\n      <th>key_bom</th>\n      <th>bom_title</th>\n      <th>bom_budget</th>\n      <th>bom_worldwide_revenue</th>\n      <th>revenue</th>\n      <th>bom_release_date</th>\n      <th>release_month</th>\n      <th>release_quarter</th>\n      <th>release_day_of_the_year</th>\n      <th>release_week_of_the_year</th>\n      <th>release_year</th>\n      <th>bom_runtime</th>\n      <th>runtime</th>\n      <th>bom_awards</th>\n      <th>bom_awards_scr</th>\n    </tr>\n  </thead>\n  <tbody>\n    <tr>\n      <th>3</th>\n      <td>b38</td>\n      <td>102 dalmatians</td>\n      <td>85000000.0</td>\n      <td>183611771.0</td>\n      <td>1.160138</td>\n      <td>2000-11-22 00:00:00</td>\n      <td>11</td>\n      <td>4.0</td>\n      <td>327</td>\n      <td>47</td>\n      <td>2000</td>\n      <td>1 hrs. 44 min.</td>\n      <td>104.0</td>\n      <td>Nominated for One Oscar.\\r</td>\n      <td>1.0</td>\n    </tr>\n    <tr>\n      <th>5</th>\n      <td>b48</td>\n      <td>12 years a slave</td>\n      <td>20000000.0</td>\n      <td>187733202.0</td>\n      <td>8.38666</td>\n      <td>2013-10-18 00:00:00</td>\n      <td>10</td>\n      <td>4.0</td>\n      <td>291</td>\n      <td>41</td>\n      <td>2013</td>\n      <td>2 hrs. 13 min.</td>\n      <td>133.0</td>\n      <td>\"Nominated for Nine Oscars, Including Three Wins.\"\\r</td>\n      <td>24.0</td>\n    </tr>\n    <tr>\n      <th>6</th>\n      <td>b50</td>\n      <td>127 hours</td>\n      <td>18000000.0</td>\n      <td>60738797.0</td>\n      <td>2.374378</td>\n      <td>2010-11-05 00:00:00</td>\n      <td>11</td>\n      <td>4.0</td>\n      <td>309</td>\n      <td>44</td>\n      <td>2010</td>\n      <td>1 hrs. 33 min.</td>\n      <td>93.0</td>\n      <td>Nominated for Six Oscars.\\r</td>\n      <td>6.0</td>\n    </tr>\n    <tr>\n      <th>8</th>\n      <td>b55</td>\n      <td>13 hours: the secret soldiers of benghazi</td>\n      <td>50000000.0</td>\n      <td>69411370.0</td>\n      <td>0.388227</td>\n      <td>2016-01-15 00:00:00</td>\n      <td>01</td>\n      <td>1.0</td>\n      <td>15</td>\n      <td>2</td>\n      <td>2016</td>\n      <td>2 hrs. 24 min.</td>\n      <td>144.0</td>\n      <td>Nominated for One Oscar.\\r</td>\n      <td>1.0</td>\n    </tr>\n    <tr>\n      <th>11</th>\n      <td>b80</td>\n      <td>1941</td>\n      <td>35000000.0</td>\n      <td>92455742.0</td>\n      <td>1.641593</td>\n      <td>1979-12-14 00:00:00</td>\n      <td>12</td>\n      <td>4.0</td>\n      <td>348</td>\n      <td>49</td>\n      <td>1979</td>\n      <td>1 hrs. 58 min.</td>\n      <td>118.0</td>\n      <td>Nominated for Three Oscars.\\r</td>\n      <td>3.0</td>\n    </tr>\n  </tbody>\n</table>\n</div>"
     },
     "metadata": {},
     "execution_count": 27
    }
   ],
   "source": [
    "movie_df[~movie_df['bom_awards'].isnull()].head()"
   ]
  },
  {
   "cell_type": "markdown",
   "metadata": {},
   "source": [
    "## Features Related to Holiday Season"
   ]
  },
  {
   "cell_type": "code",
   "execution_count": 28,
   "metadata": {
    "collapsed": false
   },
   "outputs": [
    {
     "output_type": "stream",
     "name": "stdout",
     "text": [
      "1094\n16410\n"
     ]
    }
   ],
   "source": [
    "from pandas.tseries.holiday import USFederalHolidayCalendar\n",
    "import datetime\n",
    "from datetime import timedelta\n",
    "\n",
    "cal = USFederalHolidayCalendar()\n",
    "holidays = cal.holidays(start='1900-01-01', end='2017-12-31').to_pydatetime()\n",
    "\n",
    "holidays_new = list(holidays)\n",
    "print(len(holidays_new))\n",
    "\n",
    "for h in holidays:\n",
    "    holidays_new.append(h + datetime.timedelta(days=7))\n",
    "    holidays_new.append(h + datetime.timedelta(days=6))\n",
    "    holidays_new.append(h + datetime.timedelta(days=5))\n",
    "    holidays_new.append(h + datetime.timedelta(days=4))\n",
    "    holidays_new.append(h + datetime.timedelta(days=3))\n",
    "    holidays_new.append(h + datetime.timedelta(days=2))\n",
    "    holidays_new.append(h + datetime.timedelta(days=1))\n",
    "    \n",
    "    holidays_new.append(h - datetime.timedelta(days=7))\n",
    "    holidays_new.append(h - datetime.timedelta(days=6))\n",
    "    holidays_new.append(h - datetime.timedelta(days=5))\n",
    "    holidays_new.append(h - datetime.timedelta(days=4))\n",
    "    holidays_new.append(h - datetime.timedelta(days=3))\n",
    "    holidays_new.append(h - datetime.timedelta(days=2))\n",
    "    holidays_new.append(h - datetime.timedelta(days=1))\n",
    "    \n",
    "print(len(holidays_new))"
   ]
  },
  {
   "cell_type": "code",
   "execution_count": 29,
   "metadata": {
    "collapsed": false
   },
   "outputs": [
    {
     "output_type": "stream",
     "name": "stdout",
     "text": [
      "(2373, 16)\n"
     ]
    },
    {
     "output_type": "execute_result",
     "data": {
      "text/plain": [
       "  key_bom                   bom_title   bom_budget  bom_worldwide_revenue   revenue     bom_release_date release_month release_quarter release_day_of_the_year release_week_of_the_year release_year     bom_runtime  runtime bom_awards  bom_awards_scr holiday_season\n",
       "0     b10        (500) days of summer    7500000.0             60722734.0  7.096365  2009-07-17 00:00:00            07             3.0                     198                       28         2009  1 hrs. 35 min.     95.0                        0.0            0.0\n",
       "1     b24  10 things i hate about you   30000000.0             53478166.0  0.782606  1999-03-31 00:00:00            03             1.0                      90                       13         1999  1 hrs. 37 min.     97.0                        0.0            0.0\n",
       "2     b27               \"10,000 b.c.\"  105000000.0            269784201.0  1.569373  2008-03-07 00:00:00            03             1.0                      67                        9         2008  1 hrs. 49 min.    109.0                        0.0            0.0"
      ],
      "text/html": "<div>\n<style scoped>\n    .dataframe tbody tr th:only-of-type {\n        vertical-align: middle;\n    }\n\n    .dataframe tbody tr th {\n        vertical-align: top;\n    }\n\n    .dataframe thead th {\n        text-align: right;\n    }\n</style>\n<table border=\"1\" class=\"dataframe\">\n  <thead>\n    <tr style=\"text-align: right;\">\n      <th></th>\n      <th>key_bom</th>\n      <th>bom_title</th>\n      <th>bom_budget</th>\n      <th>bom_worldwide_revenue</th>\n      <th>revenue</th>\n      <th>bom_release_date</th>\n      <th>release_month</th>\n      <th>release_quarter</th>\n      <th>release_day_of_the_year</th>\n      <th>release_week_of_the_year</th>\n      <th>release_year</th>\n      <th>bom_runtime</th>\n      <th>runtime</th>\n      <th>bom_awards</th>\n      <th>bom_awards_scr</th>\n      <th>holiday_season</th>\n    </tr>\n  </thead>\n  <tbody>\n    <tr>\n      <th>0</th>\n      <td>b10</td>\n      <td>(500) days of summer</td>\n      <td>7500000.0</td>\n      <td>60722734.0</td>\n      <td>7.096365</td>\n      <td>2009-07-17 00:00:00</td>\n      <td>07</td>\n      <td>3.0</td>\n      <td>198</td>\n      <td>28</td>\n      <td>2009</td>\n      <td>1 hrs. 35 min.</td>\n      <td>95.0</td>\n      <td></td>\n      <td>0.0</td>\n      <td>0.0</td>\n    </tr>\n    <tr>\n      <th>1</th>\n      <td>b24</td>\n      <td>10 things i hate about you</td>\n      <td>30000000.0</td>\n      <td>53478166.0</td>\n      <td>0.782606</td>\n      <td>1999-03-31 00:00:00</td>\n      <td>03</td>\n      <td>1.0</td>\n      <td>90</td>\n      <td>13</td>\n      <td>1999</td>\n      <td>1 hrs. 37 min.</td>\n      <td>97.0</td>\n      <td></td>\n      <td>0.0</td>\n      <td>0.0</td>\n    </tr>\n    <tr>\n      <th>2</th>\n      <td>b27</td>\n      <td>\"10,000 b.c.\"</td>\n      <td>105000000.0</td>\n      <td>269784201.0</td>\n      <td>1.569373</td>\n      <td>2008-03-07 00:00:00</td>\n      <td>03</td>\n      <td>1.0</td>\n      <td>67</td>\n      <td>9</td>\n      <td>2008</td>\n      <td>1 hrs. 49 min.</td>\n      <td>109.0</td>\n      <td></td>\n      <td>0.0</td>\n      <td>0.0</td>\n    </tr>\n  </tbody>\n</table>\n</div>"
     },
     "metadata": {},
     "execution_count": 29
    }
   ],
   "source": [
    "movie_df = movie_df.fillna(\"\")\n",
    "\n",
    "for r in range(0,movie_df.shape[0]):\n",
    "    if(movie_df.loc[r,'bom_release_date']!=\"\"):\n",
    "        if movie_df.loc[r,'bom_release_date'] in holidays_new:\n",
    "            movie_df.loc[r,'holiday_season'] = 1\n",
    "        else:\n",
    "            movie_df.loc[r,'holiday_season'] = 0\n",
    "    else:\n",
    "        movie_df.loc[r,'holiday_season'] = \"\"\n",
    "        \n",
    "print(movie_df.shape)\n",
    "movie_df.head(3)"
   ]
  },
  {
   "cell_type": "markdown",
   "metadata": {},
   "source": [
    "## Features Related to MPAA Rating\n",
    "\n",
    "Categories 1 to 7 as listed below\n",
    "\n",
    "* G\n",
    "* PG/M/GP\n",
    "* PG-13\n",
    "* R\n",
    "* NC-17/X\n",
    "* Unrated/Not Rated/ Not Yet rated\n",
    "* Unknown"
   ]
  },
  {
   "cell_type": "code",
   "execution_count": 30,
   "metadata": {
    "collapsed": false
   },
   "outputs": [
    {
     "output_type": "stream",
     "name": "stdout",
     "text": [
      "No: of unique rating from bom (12,)\n"
     ]
    },
    {
     "output_type": "execute_result",
     "data": {
      "text/plain": [
       "['UNKNOWN',\n",
       " 'R',\n",
       " 'UNRATED',\n",
       " 'PG-13',\n",
       " 'PG',\n",
       " 'NOT YET RATED',\n",
       " 'G',\n",
       " 'NC-17',\n",
       " 'M',\n",
       " 'GP',\n",
       " 'M/PG',\n",
       " 'X']"
      ]
     },
     "metadata": {},
     "execution_count": 30
    }
   ],
   "source": [
    "bom['bom_rating'] = [v.upper() for k,v in bom['bom_rating'].iteritems()]\n",
    "print(\"No: of unique rating from bom\",bom['bom_rating'].unique().shape)\n",
    "bom['bom_rating'].unique().tolist()"
   ]
  },
  {
   "cell_type": "code",
   "execution_count": 31,
   "metadata": {
    "collapsed": false
   },
   "outputs": [
    {
     "output_type": "stream",
     "name": "stdout",
     "text": [
      "(2373, 16)\n(2373, 17)\n"
     ]
    }
   ],
   "source": [
    "# Merging the movies_df to bom omdb to fetch MPAA rating\n",
    "print(movie_df.shape)\n",
    "movie_df = movie_df.fillna(\"\")\n",
    "movie_df = pd.merge(movie_df,bom[[\"key_bom\",\"bom_rating\"]],on=\"key_bom\",how=\"left\")\n",
    "print(movie_df.shape)"
   ]
  },
  {
   "cell_type": "code",
   "execution_count": 32,
   "metadata": {
    "collapsed": false
   },
   "outputs": [
    {
     "output_type": "stream",
     "name": "stdout",
     "text": [
      "(2373, 18)\n"
     ]
    },
    {
     "output_type": "execute_result",
     "data": {
      "text/plain": [
       "  key_bom                   bom_title   bom_budget  bom_worldwide_revenue   revenue     bom_release_date release_month release_quarter release_day_of_the_year release_week_of_the_year release_year     bom_runtime  runtime bom_awards  bom_awards_scr holiday_season bom_rating mpaa_rating\n",
       "0     b10        (500) days of summer    7500000.0             60722734.0  7.096365  2009-07-17 00:00:00            07             3.0                     198                       28         2009  1 hrs. 35 min.     95.0                        0.0            0.0      PG-13         3.0\n",
       "1     b24  10 things i hate about you   30000000.0             53478166.0  0.782606  1999-03-31 00:00:00            03             1.0                      90                       13         1999  1 hrs. 37 min.     97.0                        0.0            0.0      PG-13         3.0\n",
       "2     b27               \"10,000 b.c.\"  105000000.0            269784201.0  1.569373  2008-03-07 00:00:00            03             1.0                      67                        9         2008  1 hrs. 49 min.    109.0                        0.0            0.0      PG-13         3.0"
      ],
      "text/html": "<div>\n<style scoped>\n    .dataframe tbody tr th:only-of-type {\n        vertical-align: middle;\n    }\n\n    .dataframe tbody tr th {\n        vertical-align: top;\n    }\n\n    .dataframe thead th {\n        text-align: right;\n    }\n</style>\n<table border=\"1\" class=\"dataframe\">\n  <thead>\n    <tr style=\"text-align: right;\">\n      <th></th>\n      <th>key_bom</th>\n      <th>bom_title</th>\n      <th>bom_budget</th>\n      <th>bom_worldwide_revenue</th>\n      <th>revenue</th>\n      <th>bom_release_date</th>\n      <th>release_month</th>\n      <th>release_quarter</th>\n      <th>release_day_of_the_year</th>\n      <th>release_week_of_the_year</th>\n      <th>release_year</th>\n      <th>bom_runtime</th>\n      <th>runtime</th>\n      <th>bom_awards</th>\n      <th>bom_awards_scr</th>\n      <th>holiday_season</th>\n      <th>bom_rating</th>\n      <th>mpaa_rating</th>\n    </tr>\n  </thead>\n  <tbody>\n    <tr>\n      <th>0</th>\n      <td>b10</td>\n      <td>(500) days of summer</td>\n      <td>7500000.0</td>\n      <td>60722734.0</td>\n      <td>7.096365</td>\n      <td>2009-07-17 00:00:00</td>\n      <td>07</td>\n      <td>3.0</td>\n      <td>198</td>\n      <td>28</td>\n      <td>2009</td>\n      <td>1 hrs. 35 min.</td>\n      <td>95.0</td>\n      <td></td>\n      <td>0.0</td>\n      <td>0.0</td>\n      <td>PG-13</td>\n      <td>3.0</td>\n    </tr>\n    <tr>\n      <th>1</th>\n      <td>b24</td>\n      <td>10 things i hate about you</td>\n      <td>30000000.0</td>\n      <td>53478166.0</td>\n      <td>0.782606</td>\n      <td>1999-03-31 00:00:00</td>\n      <td>03</td>\n      <td>1.0</td>\n      <td>90</td>\n      <td>13</td>\n      <td>1999</td>\n      <td>1 hrs. 37 min.</td>\n      <td>97.0</td>\n      <td></td>\n      <td>0.0</td>\n      <td>0.0</td>\n      <td>PG-13</td>\n      <td>3.0</td>\n    </tr>\n    <tr>\n      <th>2</th>\n      <td>b27</td>\n      <td>\"10,000 b.c.\"</td>\n      <td>105000000.0</td>\n      <td>269784201.0</td>\n      <td>1.569373</td>\n      <td>2008-03-07 00:00:00</td>\n      <td>03</td>\n      <td>1.0</td>\n      <td>67</td>\n      <td>9</td>\n      <td>2008</td>\n      <td>1 hrs. 49 min.</td>\n      <td>109.0</td>\n      <td></td>\n      <td>0.0</td>\n      <td>0.0</td>\n      <td>PG-13</td>\n      <td>3.0</td>\n    </tr>\n  </tbody>\n</table>\n</div>"
     },
     "metadata": {},
     "execution_count": 32
    }
   ],
   "source": [
    "for r in range(0,movie_df.shape[0]):\n",
    "    if(movie_df.loc[r,'bom_rating']==\"G\"):\n",
    "        movie_df.loc[r,'mpaa_rating'] = 1\n",
    "    elif(movie_df.loc[r,'bom_rating']==\"PG\" or movie_df.loc[r,'bom_rating']==\"M\" or movie_df.loc[r,'bom_rating']==\"GP\"):\n",
    "        movie_df.loc[r,'mpaa_rating'] = 2\n",
    "    elif(movie_df.loc[r,'bom_rating']==\"PG-13\"):\n",
    "        movie_df.loc[r,'mpaa_rating'] = 3\n",
    "    elif(movie_df.loc[r,'bom_rating']==\"R\"):\n",
    "        movie_df.loc[r,'mpaa_rating'] = 4\n",
    "    elif(movie_df.loc[r,'bom_rating']==\"NC-17\" or movie_df.loc[r,'bom_rating']==\"X\"):\n",
    "        movie_df.loc[r,'bom_rating'] = 5\n",
    "    elif(movie_df.loc[r,'bom_rating']==\"UNRATED\" or movie_df.loc[r,'bom_rating']==\"NOT RATED\" or movie_df.loc[r,'bom_rating']==\"NOT YET RATED\"):\n",
    "        movie_df.loc[r,'mpaa_rating'] = 6\n",
    "    else:\n",
    "        movie_df.loc[r,'mpaa_rating'] = 7\n",
    "\n",
    "movie_df['mpaa_rating'] = movie_df['mpaa_rating'].astype(object)\n",
    "print(movie_df.shape)\n",
    "movie_df.head(3)"
   ]
  },
  {
   "cell_type": "markdown",
   "metadata": {},
   "source": [
    "## Features Related to Genre"
   ]
  },
  {
   "cell_type": "code",
   "execution_count": 33,
   "metadata": {
    "collapsed": true
   },
   "outputs": [],
   "source": [
    "def compute_bic(kmeans,X):\n",
    "    \"\"\"\n",
    "    Computes the BIC metric for a given clusters\n",
    "\n",
    "    Parameters:\n",
    "    -----------------------------------------\n",
    "    kmeans:  List of clustering object from scikit learn\n",
    "\n",
    "    X     :  multidimension np array of data points\n",
    "\n",
    "    Returns:\n",
    "    -----------------------------------------\n",
    "    BIC value\n",
    "    \"\"\"\n",
    "    # assign centers and labels\n",
    "    centers = [kmeans.cluster_centers_]\n",
    "    labels  = kmeans.labels_\n",
    "    #number of clusters\n",
    "    m = kmeans.n_clusters\n",
    "    # size of the clusters\n",
    "    n = np.bincount(labels)\n",
    "    #size of data set\n",
    "    N, d = X.shape\n",
    "\n",
    "    #compute variance for all clusters beforehand\n",
    "    cl_var = (1.0 / (N - m) / d) * sum([sum(distance.cdist(X[np.where(labels == i)], [centers[0][i]], \n",
    "             'euclidean')**2) for i in range(m)])\n",
    "\n",
    "    const_term = 0.5 * m * np.log(N) * (d+1)\n",
    "\n",
    "    BIC = np.sum([n[i] * np.log(n[i]) -\n",
    "               n[i] * np.log(N) -\n",
    "             ((n[i] * d) / 2) * np.log(2*np.pi*cl_var) -\n",
    "             ((n[i] - 1) * d/ 2) for i in range(m)]) - const_term\n",
    "\n",
    "    return(BIC)"
   ]
  },
  {
   "cell_type": "code",
   "execution_count": 34,
   "metadata": {
    "collapsed": false
   },
   "outputs": [],
   "source": [
    "# Data containing genre information\n",
    "omdb_genre_learning_df = pd.DataFrame(omdb_genre_learning_data, columns=[\"omdb_movie_id\", \"omdb_genres\"])\n",
    "# One hot encoding\n",
    "omdb_genre_learning_df['values'] = 1\n",
    "omdb_genre_learning_table = omdb_genre_learning_df.pivot(index='omdb_movie_id', columns='omdb_genres', values='values')\n",
    "omdb_genre_learning_table = omdb_genre_learning_table.fillna(0)"
   ]
  },
  {
   "cell_type": "code",
   "execution_count": 35,
   "metadata": {
    "collapsed": false
   },
   "outputs": [
    {
     "output_type": "execute_result",
     "data": {
      "text/plain": [
       "omdb_genres    Action  Adult  Adventure  Animation  Biography  Comedy  Crime  Documentary  Drama  Family  Fantasy  Film-Noir  History  Horror  Music  Musical  Mystery  N/A  News  Romance  Sci-Fi  Short  Sport  Thriller  War  Western\n",
       "omdb_movie_id                                                                                                                                                                                                                           \n",
       "1                 0.0    0.0        0.0        0.0        0.0     1.0    0.0          0.0    0.0     0.0      0.0        0.0      0.0     0.0    0.0      1.0      0.0  0.0   0.0      1.0     0.0    0.0    0.0       0.0  0.0      0.0"
      ],
      "text/html": "<div>\n<style scoped>\n    .dataframe tbody tr th:only-of-type {\n        vertical-align: middle;\n    }\n\n    .dataframe tbody tr th {\n        vertical-align: top;\n    }\n\n    .dataframe thead th {\n        text-align: right;\n    }\n</style>\n<table border=\"1\" class=\"dataframe\">\n  <thead>\n    <tr style=\"text-align: right;\">\n      <th>omdb_genres</th>\n      <th>Action</th>\n      <th>Adult</th>\n      <th>Adventure</th>\n      <th>Animation</th>\n      <th>Biography</th>\n      <th>Comedy</th>\n      <th>Crime</th>\n      <th>Documentary</th>\n      <th>Drama</th>\n      <th>Family</th>\n      <th>Fantasy</th>\n      <th>Film-Noir</th>\n      <th>History</th>\n      <th>Horror</th>\n      <th>Music</th>\n      <th>Musical</th>\n      <th>Mystery</th>\n      <th>N/A</th>\n      <th>News</th>\n      <th>Romance</th>\n      <th>Sci-Fi</th>\n      <th>Short</th>\n      <th>Sport</th>\n      <th>Thriller</th>\n      <th>War</th>\n      <th>Western</th>\n    </tr>\n    <tr>\n      <th>omdb_movie_id</th>\n      <th></th>\n      <th></th>\n      <th></th>\n      <th></th>\n      <th></th>\n      <th></th>\n      <th></th>\n      <th></th>\n      <th></th>\n      <th></th>\n      <th></th>\n      <th></th>\n      <th></th>\n      <th></th>\n      <th></th>\n      <th></th>\n      <th></th>\n      <th></th>\n      <th></th>\n      <th></th>\n      <th></th>\n      <th></th>\n      <th></th>\n      <th></th>\n      <th></th>\n      <th></th>\n    </tr>\n  </thead>\n  <tbody>\n    <tr>\n      <th>1</th>\n      <td>0.0</td>\n      <td>0.0</td>\n      <td>0.0</td>\n      <td>0.0</td>\n      <td>0.0</td>\n      <td>1.0</td>\n      <td>0.0</td>\n      <td>0.0</td>\n      <td>0.0</td>\n      <td>0.0</td>\n      <td>0.0</td>\n      <td>0.0</td>\n      <td>0.0</td>\n      <td>0.0</td>\n      <td>0.0</td>\n      <td>1.0</td>\n      <td>0.0</td>\n      <td>0.0</td>\n      <td>0.0</td>\n      <td>1.0</td>\n      <td>0.0</td>\n      <td>0.0</td>\n      <td>0.0</td>\n      <td>0.0</td>\n      <td>0.0</td>\n      <td>0.0</td>\n    </tr>\n  </tbody>\n</table>\n</div>"
     },
     "metadata": {},
     "execution_count": 35
    }
   ],
   "source": [
    "omdb_genre_learning_table = omdb_genre_learning_table.loc[omdb_genre_learning_table['Reality-TV'] != 1]\n",
    "del omdb_genre_learning_table['Reality-TV']\n",
    "omdb_genre_learning_table.head(1)"
   ]
  },
  {
   "cell_type": "code",
   "execution_count": 36,
   "metadata": {
    "collapsed": false
   },
   "outputs": [
    {
     "output_type": "display_data",
     "data": {
      "text/plain": "<Figure size 1200x600 with 1 Axes>",
      "image/svg+xml": "<?xml version=\"1.0\" encoding=\"utf-8\" standalone=\"no\"?>\n<!DOCTYPE svg PUBLIC \"-//W3C//DTD SVG 1.1//EN\"\n  \"http://www.w3.org/Graphics/SVG/1.1/DTD/svg11.dtd\">\n<svg height=\"363.718125pt\" version=\"1.1\" viewBox=\"0 0 729.175 363.718125\" width=\"729.175pt\" xmlns=\"http://www.w3.org/2000/svg\" xmlns:xlink=\"http://www.w3.org/1999/xlink\">\n <metadata>\n  <rdf:RDF xmlns:cc=\"http://creativecommons.org/ns#\" xmlns:dc=\"http://purl.org/dc/elements/1.1/\" xmlns:rdf=\"http://www.w3.org/1999/02/22-rdf-syntax-ns#\">\n   <cc:Work>\n    <dc:type rdf:resource=\"http://purl.org/dc/dcmitype/StillImage\"/>\n    <dc:date>2021-05-02T18:48:03.109510</dc:date>\n    <dc:format>image/svg+xml</dc:format>\n    <dc:creator>\n     <cc:Agent>\n      <dc:title>Matplotlib v3.4.1, https://matplotlib.org/</dc:title>\n     </cc:Agent>\n    </dc:creator>\n   </cc:Work>\n  </rdf:RDF>\n </metadata>\n <defs>\n  <style type=\"text/css\">*{stroke-linecap:butt;stroke-linejoin:round;}</style>\n </defs>\n <g id=\"figure_1\">\n  <g id=\"patch_1\">\n   <path d=\"M 0 363.718125 \nL 729.175 363.718125 \nL 729.175 0 \nL 0 0 \nz\n\" style=\"fill:#ffffff;\"/>\n  </g>\n  <g id=\"axes_1\">\n   <g id=\"patch_2\">\n    <path d=\"M 52.375 339.84 \nL 721.975 339.84 \nL 721.975 7.2 \nL 52.375 7.2 \nz\n\" style=\"fill:#ffffff;\"/>\n   </g>\n   <g id=\"matplotlib.axis_1\">\n    <g id=\"xtick_1\">\n     <g id=\"line2d_1\">\n      <defs>\n       <path d=\"M 0 0 \nL 0 3.5 \n\" id=\"m51065533dc\" style=\"stroke:#000000;stroke-width:0.8;\"/>\n      </defs>\n      <g>\n       <use style=\"stroke:#000000;stroke-width:0.8;\" x=\"58.462273\" xlink:href=\"#m51065533dc\" y=\"339.84\"/>\n      </g>\n     </g>\n     <g id=\"text_1\">\n      <!-- 0 -->\n      <g transform=\"translate(55.281023 354.438437)scale(0.1 -0.1)\">\n       <defs>\n        <path d=\"M 2034 4250 \nQ 1547 4250 1301 3770 \nQ 1056 3291 1056 2328 \nQ 1056 1369 1301 889 \nQ 1547 409 2034 409 \nQ 2525 409 2770 889 \nQ 3016 1369 3016 2328 \nQ 3016 3291 2770 3770 \nQ 2525 4250 2034 4250 \nz\nM 2034 4750 \nQ 2819 4750 3233 4129 \nQ 3647 3509 3647 2328 \nQ 3647 1150 3233 529 \nQ 2819 -91 2034 -91 \nQ 1250 -91 836 529 \nQ 422 1150 422 2328 \nQ 422 3509 836 4129 \nQ 1250 4750 2034 4750 \nz\n\" id=\"DejaVuSans-30\" transform=\"scale(0.015625)\"/>\n       </defs>\n       <use xlink:href=\"#DejaVuSans-30\"/>\n      </g>\n     </g>\n    </g>\n    <g id=\"xtick_2\">\n     <g id=\"line2d_2\">\n      <g>\n       <use style=\"stroke:#000000;stroke-width:0.8;\" x=\"180.207727\" xlink:href=\"#m51065533dc\" y=\"339.84\"/>\n      </g>\n     </g>\n     <g id=\"text_2\">\n      <!-- 5 -->\n      <g transform=\"translate(177.026477 354.438437)scale(0.1 -0.1)\">\n       <defs>\n        <path d=\"M 691 4666 \nL 3169 4666 \nL 3169 4134 \nL 1269 4134 \nL 1269 2991 \nQ 1406 3038 1543 3061 \nQ 1681 3084 1819 3084 \nQ 2600 3084 3056 2656 \nQ 3513 2228 3513 1497 \nQ 3513 744 3044 326 \nQ 2575 -91 1722 -91 \nQ 1428 -91 1123 -41 \nQ 819 9 494 109 \nL 494 744 \nQ 775 591 1075 516 \nQ 1375 441 1709 441 \nQ 2250 441 2565 725 \nQ 2881 1009 2881 1497 \nQ 2881 1984 2565 2268 \nQ 2250 2553 1709 2553 \nQ 1456 2553 1204 2497 \nQ 953 2441 691 2322 \nL 691 4666 \nz\n\" id=\"DejaVuSans-35\" transform=\"scale(0.015625)\"/>\n       </defs>\n       <use xlink:href=\"#DejaVuSans-35\"/>\n      </g>\n     </g>\n    </g>\n    <g id=\"xtick_3\">\n     <g id=\"line2d_3\">\n      <g>\n       <use style=\"stroke:#000000;stroke-width:0.8;\" x=\"301.953182\" xlink:href=\"#m51065533dc\" y=\"339.84\"/>\n      </g>\n     </g>\n     <g id=\"text_3\">\n      <!-- 10 -->\n      <g transform=\"translate(295.590682 354.438437)scale(0.1 -0.1)\">\n       <defs>\n        <path d=\"M 794 531 \nL 1825 531 \nL 1825 4091 \nL 703 3866 \nL 703 4441 \nL 1819 4666 \nL 2450 4666 \nL 2450 531 \nL 3481 531 \nL 3481 0 \nL 794 0 \nL 794 531 \nz\n\" id=\"DejaVuSans-31\" transform=\"scale(0.015625)\"/>\n       </defs>\n       <use xlink:href=\"#DejaVuSans-31\"/>\n       <use x=\"63.623047\" xlink:href=\"#DejaVuSans-30\"/>\n      </g>\n     </g>\n    </g>\n    <g id=\"xtick_4\">\n     <g id=\"line2d_4\">\n      <g>\n       <use style=\"stroke:#000000;stroke-width:0.8;\" x=\"423.698636\" xlink:href=\"#m51065533dc\" y=\"339.84\"/>\n      </g>\n     </g>\n     <g id=\"text_4\">\n      <!-- 15 -->\n      <g transform=\"translate(417.336136 354.438437)scale(0.1 -0.1)\">\n       <use xlink:href=\"#DejaVuSans-31\"/>\n       <use x=\"63.623047\" xlink:href=\"#DejaVuSans-35\"/>\n      </g>\n     </g>\n    </g>\n    <g id=\"xtick_5\">\n     <g id=\"line2d_5\">\n      <g>\n       <use style=\"stroke:#000000;stroke-width:0.8;\" x=\"545.444091\" xlink:href=\"#m51065533dc\" y=\"339.84\"/>\n      </g>\n     </g>\n     <g id=\"text_5\">\n      <!-- 20 -->\n      <g transform=\"translate(539.081591 354.438437)scale(0.1 -0.1)\">\n       <defs>\n        <path d=\"M 1228 531 \nL 3431 531 \nL 3431 0 \nL 469 0 \nL 469 531 \nQ 828 903 1448 1529 \nQ 2069 2156 2228 2338 \nQ 2531 2678 2651 2914 \nQ 2772 3150 2772 3378 \nQ 2772 3750 2511 3984 \nQ 2250 4219 1831 4219 \nQ 1534 4219 1204 4116 \nQ 875 4013 500 3803 \nL 500 4441 \nQ 881 4594 1212 4672 \nQ 1544 4750 1819 4750 \nQ 2544 4750 2975 4387 \nQ 3406 4025 3406 3419 \nQ 3406 3131 3298 2873 \nQ 3191 2616 2906 2266 \nQ 2828 2175 2409 1742 \nQ 1991 1309 1228 531 \nz\n\" id=\"DejaVuSans-32\" transform=\"scale(0.015625)\"/>\n       </defs>\n       <use xlink:href=\"#DejaVuSans-32\"/>\n       <use x=\"63.623047\" xlink:href=\"#DejaVuSans-30\"/>\n      </g>\n     </g>\n    </g>\n    <g id=\"xtick_6\">\n     <g id=\"line2d_6\">\n      <g>\n       <use style=\"stroke:#000000;stroke-width:0.8;\" x=\"667.189545\" xlink:href=\"#m51065533dc\" y=\"339.84\"/>\n      </g>\n     </g>\n     <g id=\"text_6\">\n      <!-- 25 -->\n      <g transform=\"translate(660.827045 354.438437)scale(0.1 -0.1)\">\n       <use xlink:href=\"#DejaVuSans-32\"/>\n       <use x=\"63.623047\" xlink:href=\"#DejaVuSans-35\"/>\n      </g>\n     </g>\n    </g>\n   </g>\n   <g id=\"matplotlib.axis_2\">\n    <g id=\"ytick_1\">\n     <g id=\"line2d_7\">\n      <defs>\n       <path d=\"M 0 0 \nL -3.5 0 \n\" id=\"md8d1108648\" style=\"stroke:#000000;stroke-width:0.8;\"/>\n      </defs>\n      <g>\n       <use style=\"stroke:#000000;stroke-width:0.8;\" x=\"52.375\" xlink:href=\"#md8d1108648\" y=\"295.485504\"/>\n      </g>\n     </g>\n     <g id=\"text_7\">\n      <!-- 0 -->\n      <g transform=\"translate(39.0125 299.284722)scale(0.1 -0.1)\">\n       <use xlink:href=\"#DejaVuSans-30\"/>\n      </g>\n     </g>\n    </g>\n    <g id=\"ytick_2\">\n     <g id=\"line2d_8\">\n      <g>\n       <use style=\"stroke:#000000;stroke-width:0.8;\" x=\"52.375\" xlink:href=\"#md8d1108648\" y=\"240.866222\"/>\n      </g>\n     </g>\n     <g id=\"text_8\">\n      <!-- 50000 -->\n      <g transform=\"translate(13.5625 244.665441)scale(0.1 -0.1)\">\n       <use xlink:href=\"#DejaVuSans-35\"/>\n       <use x=\"63.623047\" xlink:href=\"#DejaVuSans-30\"/>\n       <use x=\"127.246094\" xlink:href=\"#DejaVuSans-30\"/>\n       <use x=\"190.869141\" xlink:href=\"#DejaVuSans-30\"/>\n       <use x=\"254.492188\" xlink:href=\"#DejaVuSans-30\"/>\n      </g>\n     </g>\n    </g>\n    <g id=\"ytick_3\">\n     <g id=\"line2d_9\">\n      <g>\n       <use style=\"stroke:#000000;stroke-width:0.8;\" x=\"52.375\" xlink:href=\"#md8d1108648\" y=\"186.246941\"/>\n      </g>\n     </g>\n     <g id=\"text_9\">\n      <!-- 100000 -->\n      <g transform=\"translate(7.2 190.04616)scale(0.1 -0.1)\">\n       <use xlink:href=\"#DejaVuSans-31\"/>\n       <use x=\"63.623047\" xlink:href=\"#DejaVuSans-30\"/>\n       <use x=\"127.246094\" xlink:href=\"#DejaVuSans-30\"/>\n       <use x=\"190.869141\" xlink:href=\"#DejaVuSans-30\"/>\n       <use x=\"254.492188\" xlink:href=\"#DejaVuSans-30\"/>\n       <use x=\"318.115234\" xlink:href=\"#DejaVuSans-30\"/>\n      </g>\n     </g>\n    </g>\n    <g id=\"ytick_4\">\n     <g id=\"line2d_10\">\n      <g>\n       <use style=\"stroke:#000000;stroke-width:0.8;\" x=\"52.375\" xlink:href=\"#md8d1108648\" y=\"131.62766\"/>\n      </g>\n     </g>\n     <g id=\"text_10\">\n      <!-- 150000 -->\n      <g transform=\"translate(7.2 135.426878)scale(0.1 -0.1)\">\n       <use xlink:href=\"#DejaVuSans-31\"/>\n       <use x=\"63.623047\" xlink:href=\"#DejaVuSans-35\"/>\n       <use x=\"127.246094\" xlink:href=\"#DejaVuSans-30\"/>\n       <use x=\"190.869141\" xlink:href=\"#DejaVuSans-30\"/>\n       <use x=\"254.492188\" xlink:href=\"#DejaVuSans-30\"/>\n       <use x=\"318.115234\" xlink:href=\"#DejaVuSans-30\"/>\n      </g>\n     </g>\n    </g>\n    <g id=\"ytick_5\">\n     <g id=\"line2d_11\">\n      <g>\n       <use style=\"stroke:#000000;stroke-width:0.8;\" x=\"52.375\" xlink:href=\"#md8d1108648\" y=\"77.008378\"/>\n      </g>\n     </g>\n     <g id=\"text_11\">\n      <!-- 200000 -->\n      <g transform=\"translate(7.2 80.807597)scale(0.1 -0.1)\">\n       <use xlink:href=\"#DejaVuSans-32\"/>\n       <use x=\"63.623047\" xlink:href=\"#DejaVuSans-30\"/>\n       <use x=\"127.246094\" xlink:href=\"#DejaVuSans-30\"/>\n       <use x=\"190.869141\" xlink:href=\"#DejaVuSans-30\"/>\n       <use x=\"254.492188\" xlink:href=\"#DejaVuSans-30\"/>\n       <use x=\"318.115234\" xlink:href=\"#DejaVuSans-30\"/>\n      </g>\n     </g>\n    </g>\n    <g id=\"ytick_6\">\n     <g id=\"line2d_12\">\n      <g>\n       <use style=\"stroke:#000000;stroke-width:0.8;\" x=\"52.375\" xlink:href=\"#md8d1108648\" y=\"22.389097\"/>\n      </g>\n     </g>\n     <g id=\"text_12\">\n      <!-- 250000 -->\n      <g transform=\"translate(7.2 26.188316)scale(0.1 -0.1)\">\n       <use xlink:href=\"#DejaVuSans-32\"/>\n       <use x=\"63.623047\" xlink:href=\"#DejaVuSans-35\"/>\n       <use x=\"127.246094\" xlink:href=\"#DejaVuSans-30\"/>\n       <use x=\"190.869141\" xlink:href=\"#DejaVuSans-30\"/>\n       <use x=\"254.492188\" xlink:href=\"#DejaVuSans-30\"/>\n       <use x=\"318.115234\" xlink:href=\"#DejaVuSans-30\"/>\n      </g>\n     </g>\n    </g>\n   </g>\n   <g id=\"line2d_13\">\n    <path clip-path=\"url(#pfa26baab85)\" d=\"M 82.811364 324.72 \nL 107.160455 282.197842 \nL 131.509545 248.905777 \nL 155.858636 229.108715 \nL 180.207727 215.283806 \nL 204.556818 197.567219 \nL 228.905909 184.650262 \nL 253.255 165.984922 \nL 277.604091 150.699953 \nL 301.953182 136.449209 \nL 326.302273 126.98037 \nL 350.651364 111.344546 \nL 375.000455 97.875892 \nL 399.349545 88.611715 \nL 423.698636 91.518228 \nL 448.047727 90.097357 \nL 472.396818 84.672358 \nL 496.745909 73.616498 \nL 521.095 61.426773 \nL 545.444091 61.710884 \nL 569.793182 46.710701 \nL 594.142273 43.442266 \nL 618.491364 37.969352 \nL 642.840455 28.532454 \nL 667.189545 29.239485 \nL 691.538636 22.32 \n\" style=\"fill:none;stroke:#1f77b4;stroke-linecap:square;stroke-width:1.5;\"/>\n   </g>\n   <g id=\"patch_3\">\n    <path d=\"M 52.375 339.84 \nL 52.375 7.2 \n\" style=\"fill:none;stroke:#000000;stroke-linecap:square;stroke-linejoin:miter;stroke-width:0.8;\"/>\n   </g>\n   <g id=\"patch_4\">\n    <path d=\"M 721.975 339.84 \nL 721.975 7.2 \n\" style=\"fill:none;stroke:#000000;stroke-linecap:square;stroke-linejoin:miter;stroke-width:0.8;\"/>\n   </g>\n   <g id=\"patch_5\">\n    <path d=\"M 52.375 339.84 \nL 721.975 339.84 \n\" style=\"fill:none;stroke:#000000;stroke-linecap:square;stroke-linejoin:miter;stroke-width:0.8;\"/>\n   </g>\n   <g id=\"patch_6\">\n    <path d=\"M 52.375 7.2 \nL 721.975 7.2 \n\" style=\"fill:none;stroke:#000000;stroke-linecap:square;stroke-linejoin:miter;stroke-width:0.8;\"/>\n   </g>\n  </g>\n </g>\n <defs>\n  <clipPath id=\"pfa26baab85\">\n   <rect height=\"332.64\" width=\"669.6\" x=\"52.375\" y=\"7.2\"/>\n  </clipPath>\n </defs>\n</svg>\n",
      "image/png": "[encoded data removed]"
     },
     "metadata": {}
    }
   ],
   "source": [
    "X = np.array(omdb_genre_learning_table)\n",
    "Ks = range(1, 27)\n",
    "genre_models = [KMeans(n_clusters = i, init=\"k-means++\", random_state=0).fit(X) for i in Ks]\n",
    "# now run for each cluster the BIC computation\n",
    "BIC = [compute_bic(kmeansi,X) for kmeansi in genre_models]\n",
    "plt.figure(figsize=(12, 6))\n",
    "plt.subplot(1, 1, 1)\n",
    "plt.plot(Ks,BIC)\n",
    "plt.show()"
   ]
  },
  {
   "cell_type": "code",
   "execution_count": 37,
   "metadata": {
    "collapsed": false
   },
   "outputs": [],
   "source": [
    "final_genre_model = genre_models[9]\n",
    "omdb_genre_learning_clusters = omdb_genre_learning_table.copy()\n",
    "omdb_genre_learning_clusters['genre_cluster'] = final_genre_model.labels_\n",
    "omdb_genre_learning_clusters_df = omdb_genre_learning_clusters.reset_index()"
   ]
  },
  {
   "cell_type": "code",
   "execution_count": 38,
   "metadata": {
    "collapsed": false
   },
   "outputs": [],
   "source": [
    "omdb_bom_combine_df = pd.DataFrame(omdb_bom_combine, columns=[\"key_bom\", \"key_omdb\", \"omdb_movie_id\"])\n",
    "omdb_bom_cluster_df = pd.merge(omdb_bom_combine_df, omdb_genre_learning_clusters_df,  how='inner', on=['omdb_movie_id'])"
   ]
  },
  {
   "cell_type": "code",
   "execution_count": 39,
   "metadata": {
    "collapsed": false
   },
   "outputs": [
    {
     "output_type": "stream",
     "name": "stdout",
     "text": [
      "(2373, 18)\n(2373, 19)\n"
     ]
    }
   ],
   "source": [
    "print(movie_df.shape)\n",
    "movie_df1 = movie_df.merge(omdb_bom_cluster_df[[\"key_bom\", \"genre_cluster\"]],how=\"left\",on=\"key_bom\")\n",
    "print(movie_df1.shape)"
   ]
  },
  {
   "cell_type": "code",
   "execution_count": 40,
   "metadata": {
    "collapsed": false
   },
   "outputs": [
    {
     "output_type": "stream",
     "name": "stdout",
     "text": [
      "(2373, 20)\n"
     ]
    }
   ],
   "source": [
    "movie_df2 = movie_df1.merge(bom[[\"key_bom\",\"bom_genre\"]],how=\"left\",on=\"key_bom\")\n",
    "print(movie_df2.shape)"
   ]
  },
  {
   "cell_type": "code",
   "execution_count": 41,
   "metadata": {
    "collapsed": true
   },
   "outputs": [],
   "source": [
    "bom_genre_coding = [('Action', 5), ('Action / Adventure', 5), ('Action / Crime', 5),('Action Comedy',1),\n",
    "                    ('Action Drama',5),('Action Fantasy',5),('Action Horror',7),('Action Thriller',5),('Adventure',5),\n",
    "                    ('Adventure Comedy',1),('Animation',2),('Comedy',3),('Comedy / Drama',3),('Comedy Thriller',1),\n",
    "                    ('Concert',4),('Crime',5),('Crime Comedy',1),('Crime Drama',0),('Crime Thriller',5),\n",
    "                    ('Documentary',4),('Drama',0),('Drama / Thriller',0),('Family',2),('Family Adventure',2),\n",
    "                    ('Family Comedy',3),('Fantasy',5),('Fantasy Comedy',1),('Fantasy Drama',0),('Historical Drama',0),\n",
    "                    ('Historical Epic',0),('Horror',7),('Horror Comedy',1),('Horror Thriller',7),('Music Drama',0),\n",
    "                    ('Musical',0),('Period Action',5),('Period Adventure',5),('Period Drama',0),('Period Horror',7),\n",
    "                    ('Romance',9),('Romantic Comedy',6),('Romantic Thriller',9),('Sci-Fi',7),('Sci-Fi Action',5),\n",
    "                    ('Sci-Fi Adventure',5),('Sci-Fi Comedy',1),('Sci-Fi Fantasy',5),('Sci-Fi Horror',7),\n",
    "                    ('Sci-Fi Thriller',7),('Sports Comedy',1),('Sports Drama',0),('Thriller',7),('Unknown',4),\n",
    "                    ('War',0),('War Drama',0),('Western',8),('Western Comedy',8),('Period Comedy',1),('Foreign',4),\n",
    "                    ('Foreign / Action',5),('War Romance',9),('IMAX',4),('Romantic Adventure',9),\n",
    "                    ('Foreign / Horror',7),('Sports Action',5)]\n",
    "bom_genre_coding_dict = dict(bom_genre_coding)"
   ]
  },
  {
   "cell_type": "code",
   "execution_count": 42,
   "metadata": {
    "collapsed": false
   },
   "outputs": [],
   "source": [
    "import math\n",
    "for index, row in movie_df2.iterrows():\n",
    "    if math.isnan(row['genre_cluster']):\n",
    "        movie_df2.at[index,'genre_cluster'] = bom_genre_coding_dict[row['bom_genre']]\n",
    "movie_df2['genre_cluster'] = movie_df2['genre_cluster'] + 1\n",
    "\n",
    "temp = movie_df2[[\"key_bom\",\"genre_cluster\",\"bom_genre\"]]\n",
    "# temp.to_csv(\"data/temp-data/temp.csv\",index=None)"
   ]
  },
  {
   "cell_type": "code",
   "execution_count": 43,
   "metadata": {
    "collapsed": true
   },
   "outputs": [],
   "source": [
    "movie_df = movie_df2"
   ]
  },
  {
   "cell_type": "markdown",
   "metadata": {},
   "source": [
    "## Features Related to Player Score"
   ]
  },
  {
   "cell_type": "code",
   "execution_count": 44,
   "metadata": {
    "collapsed": true
   },
   "outputs": [],
   "source": [
    "bom_f = bom[['key_bom','bom_actor','bom_director','bom_writer','bom_distributor','bom_composer','bom_cinematographer',\n",
    "            \"bom_producer\"]]"
   ]
  },
  {
   "cell_type": "code",
   "execution_count": 45,
   "metadata": {
    "collapsed": false
   },
   "outputs": [
    {
     "output_type": "stream",
     "name": "stdout",
     "text": [
      "(2373, 28)\n"
     ]
    },
    {
     "output_type": "execute_result",
     "data": {
      "text/plain": [
       "   index key_bom                   bom_title   bom_budget  bom_worldwide_revenue   revenue     bom_release_date release_month release_quarter release_day_of_the_year release_week_of_the_year release_year     bom_runtime  runtime bom_awards  bom_awards_scr holiday_season bom_rating mpaa_rating  genre_cluster         bom_genre                                                                               bom_actor         bom_director                                    bom_writer  bom_distributor                          bom_composer bom_cinematographer                                                        bom_producer\n",
       "0      0     b10        (500) days of summer    7500000.0             60722734.0  7.096365  2009-07-17 00:00:00            07             3.0                     198                       28         2009  1 hrs. 35 min.     95.0                        0.0            0.0      PG-13         3.0           10.0           Romance  \"['Zooey Deschanel', 'Geoffrey Arend', 'Chloe Moretz', 'Clark Gregg', 'Minka Kelly*']\"        ['Marc Webb']  \"['Scott Neustadter', 'Michael H. Weber']\"\\r  Fox Searchlight   \"['Mychael Danna', 'Rob Simonsen']\"                                                    \"['Mason Novick', 'Mark S. Waters']\"\n",
       "1      1     b24  10 things i hate about you   30000000.0             53478166.0  0.782606  1999-03-31 00:00:00            03             1.0                      90                       13         1999  1 hrs. 37 min.     97.0                        0.0            0.0      PG-13         3.0            7.0   Romantic Comedy                                                      \"['Julia Stiles', 'Heath Ledger']\"                       \"['Karen McCullah Lutz', 'Kirsten Smith']\"\\r      Buena Vista                                                                                         \"['Jeffrey Chernov', 'Andrew Lazar']\"\n",
       "2      2     b27               \"10,000 b.c.\"  105000000.0            269784201.0  1.569373  2008-03-07 00:00:00            03             1.0                      67                        9         2008  1 hrs. 49 min.    109.0                        0.0            0.0      PG-13         3.0            6.0  Period Adventure                                                    \"['Steven Strait', 'Camilla Belle']\"  ['Roland Emmerich']      \"['Roland Emmerich', 'Harald Kloser']\"\\r     Warner Bros.  \"['Harald Kloser', 'Thomas Wander']\"                      \"['Mark Gordon', 'Harald Kloser', 'Scott Mednick', 'Thomas Tull']\""
      ],
      "text/html": "<div>\n<style scoped>\n    .dataframe tbody tr th:only-of-type {\n        vertical-align: middle;\n    }\n\n    .dataframe tbody tr th {\n        vertical-align: top;\n    }\n\n    .dataframe thead th {\n        text-align: right;\n    }\n</style>\n<table border=\"1\" class=\"dataframe\">\n  <thead>\n    <tr style=\"text-align: right;\">\n      <th></th>\n      <th>index</th>\n      <th>key_bom</th>\n      <th>bom_title</th>\n      <th>bom_budget</th>\n      <th>bom_worldwide_revenue</th>\n      <th>revenue</th>\n      <th>bom_release_date</th>\n      <th>release_month</th>\n      <th>release_quarter</th>\n      <th>release_day_of_the_year</th>\n      <th>release_week_of_the_year</th>\n      <th>release_year</th>\n      <th>bom_runtime</th>\n      <th>runtime</th>\n      <th>bom_awards</th>\n      <th>bom_awards_scr</th>\n      <th>holiday_season</th>\n      <th>bom_rating</th>\n      <th>mpaa_rating</th>\n      <th>genre_cluster</th>\n      <th>bom_genre</th>\n      <th>bom_actor</th>\n      <th>bom_director</th>\n      <th>bom_writer</th>\n      <th>bom_distributor</th>\n      <th>bom_composer</th>\n      <th>bom_cinematographer</th>\n      <th>bom_producer</th>\n    </tr>\n  </thead>\n  <tbody>\n    <tr>\n      <th>0</th>\n      <td>0</td>\n      <td>b10</td>\n      <td>(500) days of summer</td>\n      <td>7500000.0</td>\n      <td>60722734.0</td>\n      <td>7.096365</td>\n      <td>2009-07-17 00:00:00</td>\n      <td>07</td>\n      <td>3.0</td>\n      <td>198</td>\n      <td>28</td>\n      <td>2009</td>\n      <td>1 hrs. 35 min.</td>\n      <td>95.0</td>\n      <td></td>\n      <td>0.0</td>\n      <td>0.0</td>\n      <td>PG-13</td>\n      <td>3.0</td>\n      <td>10.0</td>\n      <td>Romance</td>\n      <td>\"['Zooey Deschanel', 'Geoffrey Arend', 'Chloe Moretz', 'Clark Gregg', 'Minka Kelly*']\"</td>\n      <td>['Marc Webb']</td>\n      <td>\"['Scott Neustadter', 'Michael H. Weber']\"\\r</td>\n      <td>Fox Searchlight</td>\n      <td>\"['Mychael Danna', 'Rob Simonsen']\"</td>\n      <td></td>\n      <td>\"['Mason Novick', 'Mark S. Waters']\"</td>\n    </tr>\n    <tr>\n      <th>1</th>\n      <td>1</td>\n      <td>b24</td>\n      <td>10 things i hate about you</td>\n      <td>30000000.0</td>\n      <td>53478166.0</td>\n      <td>0.782606</td>\n      <td>1999-03-31 00:00:00</td>\n      <td>03</td>\n      <td>1.0</td>\n      <td>90</td>\n      <td>13</td>\n      <td>1999</td>\n      <td>1 hrs. 37 min.</td>\n      <td>97.0</td>\n      <td></td>\n      <td>0.0</td>\n      <td>0.0</td>\n      <td>PG-13</td>\n      <td>3.0</td>\n      <td>7.0</td>\n      <td>Romantic Comedy</td>\n      <td>\"['Julia Stiles', 'Heath Ledger']\"</td>\n      <td></td>\n      <td>\"['Karen McCullah Lutz', 'Kirsten Smith']\"\\r</td>\n      <td>Buena Vista</td>\n      <td></td>\n      <td></td>\n      <td>\"['Jeffrey Chernov', 'Andrew Lazar']\"</td>\n    </tr>\n    <tr>\n      <th>2</th>\n      <td>2</td>\n      <td>b27</td>\n      <td>\"10,000 b.c.\"</td>\n      <td>105000000.0</td>\n      <td>269784201.0</td>\n      <td>1.569373</td>\n      <td>2008-03-07 00:00:00</td>\n      <td>03</td>\n      <td>1.0</td>\n      <td>67</td>\n      <td>9</td>\n      <td>2008</td>\n      <td>1 hrs. 49 min.</td>\n      <td>109.0</td>\n      <td></td>\n      <td>0.0</td>\n      <td>0.0</td>\n      <td>PG-13</td>\n      <td>3.0</td>\n      <td>6.0</td>\n      <td>Period Adventure</td>\n      <td>\"['Steven Strait', 'Camilla Belle']\"</td>\n      <td>['Roland Emmerich']</td>\n      <td>\"['Roland Emmerich', 'Harald Kloser']\"\\r</td>\n      <td>Warner Bros.</td>\n      <td>\"['Harald Kloser', 'Thomas Wander']\"</td>\n      <td></td>\n      <td>\"['Mark Gordon', 'Harald Kloser', 'Scott Mednick', 'Thomas Tull']\"</td>\n    </tr>\n  </tbody>\n</table>\n</div>"
     },
     "metadata": {},
     "execution_count": 45
    }
   ],
   "source": [
    "movie_df = pd.merge(movie_df,bom_f,on=\"key_bom\",how=\"left\")\n",
    "movie_df = movie_df.reset_index()\n",
    "print(movie_df.shape)\n",
    "movie_df.head(3)"
   ]
  },
  {
   "cell_type": "code",
   "execution_count": 46,
   "metadata": {
    "collapsed": true
   },
   "outputs": [],
   "source": [
    "def clean_people(movie_data, ind, peeps):\n",
    "    \"\"\"\n",
    "    Function to clean people associated with movies\n",
    "    \"\"\"\n",
    "    peeps_clean = peeps+'_clean'\n",
    "    bom_ftr = movie_data[[ind, peeps]].copy()\n",
    "    bom_ftr[peeps_clean] = bom_ftr[peeps].str.replace('[','')\n",
    "    bom_ftr[peeps_clean] = bom_ftr[peeps_clean].str.replace(']','')\n",
    "    bom_ftr[peeps_clean] = bom_ftr[peeps_clean].str.replace('\"','')\n",
    "    bom_ftr[peeps_clean] = bom_ftr[peeps_clean].str.replace(\"'\",'')\n",
    "    bom_ftr[peeps_clean] = bom_ftr[peeps_clean].str.replace(\"*\",'')\n",
    "    bom_ftr[peeps_clean] = bom_ftr[peeps_clean].str.replace(\"|\",',')\n",
    "    bom_ftr[peeps_clean] = bom_ftr[peeps_clean].str.replace(\", \",',')\n",
    "    bom_ftr[peeps_clean] = bom_ftr[peeps_clean].replace(np.nan, '', regex=True)\n",
    "    bom_ftr[peeps_clean] = bom_ftr[peeps_clean].apply(lambda x: x.split(','))\n",
    "    print('Cleaned', peeps)\n",
    "    clean_movie_data = pd.merge(movie_data, bom_ftr[[ind, peeps_clean]], on = \"index\")\n",
    "    return clean_movie_data"
   ]
  },
  {
   "cell_type": "code",
   "execution_count": 47,
   "metadata": {
    "collapsed": false
   },
   "outputs": [
    {
     "output_type": "stream",
     "name": "stdout",
     "text": [
      "Cleaned bom_actor\nCleaned bom_director\nCleaned bom_writer\nCleaned bom_distributor\nCleaned bom_composer\nCleaned bom_cinematographer\nCleaned bom_producer\n"
     ]
    }
   ],
   "source": [
    "movies_f = movie_df\n",
    "movies_f = clean_people(movies_f, 'index', 'bom_actor')\n",
    "movies_f = clean_people(movies_f, 'index', 'bom_director')\n",
    "movies_f = clean_people(movies_f, 'index', 'bom_writer')\n",
    "movies_f = clean_people(movies_f, 'index', 'bom_distributor')\n",
    "movies_f = clean_people(movies_f, 'index', 'bom_composer')\n",
    "movies_f = clean_people(movies_f, 'index', 'bom_cinematographer')\n",
    "movies_f = clean_people(movies_f, 'index', 'bom_producer')"
   ]
  },
  {
   "cell_type": "code",
   "execution_count": 48,
   "metadata": {
    "collapsed": false
   },
   "outputs": [
    {
     "output_type": "stream",
     "name": "stdout",
     "text": [
      "(2373, 35)\n(2373, 28)\nIndex(['index', 'key_bom', 'bom_title', 'bom_budget', 'bom_worldwide_revenue', 'revenue', 'bom_release_date', 'release_month', 'release_quarter', 'release_day_of_the_year', 'release_week_of_the_year', 'release_year', 'bom_runtime', 'runtime', 'bom_awards', 'bom_awards_scr', 'holiday_season', 'bom_rating', 'mpaa_rating', 'genre_cluster', 'bom_genre', 'bom_actor_clean', 'bom_director_clean', 'bom_writer_clean', 'bom_distributor_clean', 'bom_composer_clean', 'bom_cinematographer_clean', 'bom_producer_clean'], dtype='object')\n"
     ]
    }
   ],
   "source": [
    "print(movies_f.shape)\n",
    "#Removing redinant columns\n",
    "movies_f = movies_f.drop('bom_actor',axis = 1)\n",
    "movies_f = movies_f.drop('bom_director',axis = 1)\n",
    "movies_f = movies_f.drop('bom_writer',axis = 1)\n",
    "movies_f = movies_f.drop('bom_distributor',axis = 1)\n",
    "movies_f = movies_f.drop('bom_composer',axis = 1)\n",
    "movies_f = movies_f.drop('bom_cinematographer',axis = 1)\n",
    "movies_f = movies_f.drop('bom_producer',axis = 1)\n",
    "print(movies_f.shape)\n",
    "print(movies_f.columns)"
   ]
  },
  {
   "cell_type": "code",
   "execution_count": 49,
   "metadata": {
    "collapsed": true
   },
   "outputs": [],
   "source": [
    "def people_score(movie_data, peeps, rev, awa):\n",
    "    \"\"\"\n",
    "    Getting unique actors\n",
    "    \"\"\"\n",
    "    start_time = time.time()\n",
    "    peep_unq = list(movie_data[peeps])\n",
    "    peep_unq = list(set(sum(peep_unq, [])))\n",
    "    peep_unq = [e for e in peep_unq if e not in ('', ' ')]\n",
    "    peep_cnt = dict((ky,0) for ky in peep_unq)\n",
    "    peep_awa = dict((ky,0) for ky in peep_unq)\n",
    "    peep_acn = dict((ky,0) for ky in peep_unq)\n",
    "    peep_unq = dict((ky,0) for ky in peep_unq)\n",
    "    print('Unique', peeps, ': ', len(peep_unq))\n",
    "\n",
    "    # For each actor, assigning score based on revenue of their movie\n",
    "    mov_peeps = list(movie_data[peeps])\n",
    "    mov_peeps = [[actor for actor in mov if actor not in ('', ' ')] for mov in mov_peeps]\n",
    "    ind = 0\n",
    "    for actors in mov_peeps:\n",
    "        for actor in actors:\n",
    "            peep_unq[actor] += float(movie_data.loc[ind, [rev]])\n",
    "            peep_cnt[actor] += 1\n",
    "            peep_awa[actor] += int(movie_data.loc[ind, [awa]])\n",
    "            if int(movie_data.loc[ind, [awa]]) != 0: peep_acn[actor] += 1\n",
    "        ind+=1\n",
    "    print(\"Time taken: \" + str(round(time.time() - start_time,2)) + \" seconds\\n\")\n",
    "    return (peep_unq, peep_cnt, peep_awa, peep_acn)"
   ]
  },
  {
   "cell_type": "code",
   "execution_count": 50,
   "metadata": {
    "collapsed": true
   },
   "outputs": [],
   "source": [
    "import warnings\n",
    "warnings.filterwarnings('ignore')\n",
    "\n",
    "# Normalizing revenue and bom award score\n",
    "from sklearn import preprocessing\n",
    "min_max_scaler = preprocessing.MinMaxScaler()\n",
    "movies_f['revenue_norm'] = min_max_scaler.fit_transform(movies_f[['revenue']])\n",
    "movies_f['bom_awards_scr_norm'] = min_max_scaler.fit_transform(movies_f[['bom_awards_scr']])"
   ]
  },
  {
   "cell_type": "code",
   "execution_count": 51,
   "metadata": {
    "collapsed": false
   },
   "outputs": [
    {
     "output_type": "stream",
     "name": "stdout",
     "text": [
      "Unique bom_director_clean :  730\n",
      "Time taken: 2.67 seconds\n",
      "\n",
      "Unique bom_actor_clean :  1975\n",
      "Time taken: 17.89 seconds\n",
      "\n",
      "Unique bom_writer_clean :  1083\n",
      "Time taken: 5.28 seconds\n",
      "\n",
      "Unique bom_distributor_clean :  115\n",
      "Time taken: 3.71 seconds\n",
      "\n",
      "Unique bom_composer_clean :  145\n",
      "Time taken: 2.68 seconds\n",
      "\n",
      "Unique bom_cinematographer_clean :  77\n",
      "Time taken: 0.92 seconds\n",
      "\n",
      "Unique bom_producer_clean :  767\n",
      "Time taken: 8.29 seconds\n",
      "\n"
     ]
    }
   ],
   "source": [
    "# Storing people scores\n",
    "unq_dir, cnt_dir, awa_dir, acn_dir = people_score(movies_f, 'bom_director_clean', 'revenue_norm', 'bom_awards_scr_norm')\n",
    "unq_act, cnt_act, awa_act, acn_act = people_score(movies_f, 'bom_actor_clean', 'revenue_norm', 'bom_awards_scr_norm')\n",
    "unq_wri, cnt_wri, awa_wri, acn_wri = people_score(movies_f, 'bom_writer_clean', 'revenue_norm', 'bom_awards_scr_norm')\n",
    "unq_dis, cnt_dis, awa_dis, acn_dis = people_score(movies_f, 'bom_distributor_clean', 'revenue_norm', 'bom_awards_scr_norm')\n",
    "unq_com, cnt_com, awa_com, acn_com = people_score(movies_f, 'bom_composer_clean', 'revenue_norm', 'bom_awards_scr_norm')\n",
    "unq_cin, cnt_cin, awa_cin, acn_cin = people_score(movies_f, 'bom_cinematographer_clean', 'revenue_norm', 'bom_awards_scr_norm')\n",
    "unq_pro, cnt_pro, awa_pro, acn_pro = people_score(movies_f, 'bom_producer_clean', 'revenue_norm', 'bom_awards_scr_norm')"
   ]
  },
  {
   "cell_type": "code",
   "execution_count": 52,
   "metadata": {
    "collapsed": true
   },
   "outputs": [],
   "source": [
    "def mean_awards(awa, acn):\n",
    "    \"\"\"\n",
    "    Getting mean of awards\n",
    "    \"\"\"\n",
    "    awa_mea = {}\n",
    "    for k in awa.keys():\n",
    "        if awa[k] != 0:\n",
    "            awa_mea[k] = awa[k]/acn[k]\n",
    "        else:\n",
    "            awa_mea[k] = awa[k]\n",
    "    return awa_mea"
   ]
  },
  {
   "cell_type": "code",
   "execution_count": 53,
   "metadata": {
    "collapsed": true
   },
   "outputs": [],
   "source": [
    "# Storing mean of awards in variable\n",
    "awa_mea_act = mean_awards(awa_act, acn_act)\n",
    "awa_mea_dir = mean_awards(awa_dir, acn_dir)\n",
    "awa_mea_wri = mean_awards(awa_wri, acn_wri)\n",
    "awa_mea_dis = mean_awards(awa_dis, acn_dis)\n",
    "awa_mea_com = mean_awards(awa_com, acn_com)\n",
    "awa_mea_cin = mean_awards(awa_cin, acn_cin)\n",
    "awa_mea_pro = mean_awards(awa_pro, acn_pro)"
   ]
  },
  {
   "cell_type": "code",
   "execution_count": 54,
   "metadata": {
    "collapsed": true
   },
   "outputs": [],
   "source": [
    "# Calculating the mean of the score for the people\n",
    "w = 1\n",
    "mean_act = {k: (unq_act[k]/cnt_act[k])+ (w*(awa_mea_act[k])) for k in unq_act.keys()}\n",
    "mean_dir = {k: (unq_dir[k]/cnt_dir[k])+(w*(awa_mea_dir[k])) for k in unq_dir.keys()}\n",
    "mean_wri = {k: (unq_wri[k]/cnt_wri[k])+(w*(awa_mea_wri[k])) for k in unq_wri.keys()}\n",
    "mean_dis = {k: (unq_dis[k]/cnt_dis[k])+(w*(awa_mea_dis[k])) for k in unq_dis.keys()}\n",
    "mean_com = {k: (unq_com[k]/cnt_com[k])+(w*(awa_mea_com[k])) for k in unq_com.keys()}\n",
    "mean_cin = {k: (unq_cin[k]/cnt_cin[k])+(w*(awa_mea_cin[k])) for k in unq_cin.keys()}\n",
    "mean_pro = {k: (unq_pro[k]/cnt_pro[k])+(w*(awa_mea_pro[k])) for k in unq_pro.keys()}"
   ]
  },
  {
   "cell_type": "code",
   "execution_count": 55,
   "metadata": {
    "collapsed": false
   },
   "outputs": [
    {
     "output_type": "stream",
     "name": "stdout",
     "text": [
      "5.1009905888914036 19 0 0 0 0.2684731888890212\n2.833793850537397 8 0 0 0 0.3542242313171746\n"
     ]
    }
   ],
   "source": [
    "actor='Meryl Streep'\n",
    "dirtr = 'Christopher Nolan'\n",
    "print(unq_act[actor], cnt_act[actor], awa_act[actor], acn_act[actor], awa_mea_act[actor], mean_act[actor])\n",
    "print(unq_dir[dirtr], cnt_dir[dirtr], awa_dir[dirtr], acn_dir[dirtr], awa_mea_dir[dirtr], mean_dir[dirtr])"
   ]
  },
  {
   "cell_type": "code",
   "execution_count": 56,
   "metadata": {
    "collapsed": true
   },
   "outputs": [],
   "source": [
    "def movie_people_score(movie_data, peeps, peeps_score):\n",
    "    \"\"\"\n",
    "    For each movie, assigning player score\n",
    "    \"\"\"\n",
    "    mov_peeps = list(movie_data[peeps])\n",
    "    mov_peeps = [[actor for actor in mov if actor not in ('', ' ')] for mov in mov_peeps]\n",
    "    ind = 0\n",
    "    mov_score = []\n",
    "    for actors in mov_peeps:\n",
    "        agg_actor_score = 0\n",
    "        for actor in actors:\n",
    "            agg_actor_score += peeps_score[actor]\n",
    "        mov_score.append(agg_actor_score)\n",
    "        ind+=1\n",
    "    return mov_score"
   ]
  },
  {
   "cell_type": "code",
   "execution_count": 57,
   "metadata": {
    "collapsed": true
   },
   "outputs": [],
   "source": [
    "# Creating new columns for player scores\n",
    "movies_f[\"actor_score\"] = movie_people_score(movies_f, 'bom_actor_clean', mean_act)\n",
    "movies_f[\"director_score\"] = movie_people_score(movies_f, 'bom_director_clean', mean_dir)\n",
    "movies_f[\"writer_score\"] = movie_people_score(movies_f, 'bom_writer_clean', mean_wri)\n",
    "movies_f[\"distributor_score\"] = movie_people_score(movies_f, 'bom_distributor_clean', mean_dis)\n",
    "movies_f[\"composer_score\"] = movie_people_score(movies_f, 'bom_composer_clean', mean_com)\n",
    "movies_f[\"cinematographer_score\"] = movie_people_score(movies_f, 'bom_cinematographer_clean', mean_cin)\n",
    "movies_f[\"producer_score\"] = movie_people_score(movies_f, 'bom_producer_clean', mean_pro)"
   ]
  },
  {
   "cell_type": "code",
   "execution_count": 58,
   "metadata": {
    "collapsed": false
   },
   "outputs": [
    {
     "output_type": "stream",
     "name": "stdout",
     "text": [
      "(2373, 37)\n"
     ]
    },
    {
     "output_type": "execute_result",
     "data": {
      "text/plain": [
       "   index key_bom             bom_title  bom_budget  bom_worldwide_revenue   revenue     bom_release_date release_month release_quarter release_day_of_the_year release_week_of_the_year release_year     bom_runtime  runtime bom_awards  bom_awards_scr holiday_season bom_rating mpaa_rating  genre_cluster bom_genre                                                            bom_actor_clean bom_director_clean                        bom_writer_clean bom_distributor_clean             bom_composer_clean bom_cinematographer_clean              bom_producer_clean  revenue_norm  bom_awards_scr_norm  actor_score  director_score  writer_score  distributor_score  composer_score  cinematographer_score  producer_score\n",
       "0      0     b10  (500) days of summer   7500000.0             60722734.0  7.096365  2009-07-17 00:00:00            07             3.0                     198                       28         2009  1 hrs. 35 min.     95.0                        0.0            0.0      PG-13         3.0           10.0   Romance  [Zooey Deschanel, Geoffrey Arend, Chloe Moretz, Clark Gregg, Minka Kelly]        [Marc Webb]  [Scott Neustadter, Michael H. Weber\\r]     [Fox Searchlight]  [Mychael Danna, Rob Simonsen]                        []  [Mason Novick, Mark S. Waters]      0.736845                  0.0     2.011784        0.518337      0.989326           0.314074        0.618026                    0.0        1.063533"
      ],
      "text/html": "<div>\n<style scoped>\n    .dataframe tbody tr th:only-of-type {\n        vertical-align: middle;\n    }\n\n    .dataframe tbody tr th {\n        vertical-align: top;\n    }\n\n    .dataframe thead th {\n        text-align: right;\n    }\n</style>\n<table border=\"1\" class=\"dataframe\">\n  <thead>\n    <tr style=\"text-align: right;\">\n      <th></th>\n      <th>index</th>\n      <th>key_bom</th>\n      <th>bom_title</th>\n      <th>bom_budget</th>\n      <th>bom_worldwide_revenue</th>\n      <th>revenue</th>\n      <th>bom_release_date</th>\n      <th>release_month</th>\n      <th>release_quarter</th>\n      <th>release_day_of_the_year</th>\n      <th>release_week_of_the_year</th>\n      <th>release_year</th>\n      <th>bom_runtime</th>\n      <th>runtime</th>\n      <th>bom_awards</th>\n      <th>bom_awards_scr</th>\n      <th>holiday_season</th>\n      <th>bom_rating</th>\n      <th>mpaa_rating</th>\n      <th>genre_cluster</th>\n      <th>bom_genre</th>\n      <th>bom_actor_clean</th>\n      <th>bom_director_clean</th>\n      <th>bom_writer_clean</th>\n      <th>bom_distributor_clean</th>\n      <th>bom_composer_clean</th>\n      <th>bom_cinematographer_clean</th>\n      <th>bom_producer_clean</th>\n      <th>revenue_norm</th>\n      <th>bom_awards_scr_norm</th>\n      <th>actor_score</th>\n      <th>director_score</th>\n      <th>writer_score</th>\n      <th>distributor_score</th>\n      <th>composer_score</th>\n      <th>cinematographer_score</th>\n      <th>producer_score</th>\n    </tr>\n  </thead>\n  <tbody>\n    <tr>\n      <th>0</th>\n      <td>0</td>\n      <td>b10</td>\n      <td>(500) days of summer</td>\n      <td>7500000.0</td>\n      <td>60722734.0</td>\n      <td>7.096365</td>\n      <td>2009-07-17 00:00:00</td>\n      <td>07</td>\n      <td>3.0</td>\n      <td>198</td>\n      <td>28</td>\n      <td>2009</td>\n      <td>1 hrs. 35 min.</td>\n      <td>95.0</td>\n      <td></td>\n      <td>0.0</td>\n      <td>0.0</td>\n      <td>PG-13</td>\n      <td>3.0</td>\n      <td>10.0</td>\n      <td>Romance</td>\n      <td>[Zooey Deschanel, Geoffrey Arend, Chloe Moretz, Clark Gregg, Minka Kelly]</td>\n      <td>[Marc Webb]</td>\n      <td>[Scott Neustadter, Michael H. Weber\\r]</td>\n      <td>[Fox Searchlight]</td>\n      <td>[Mychael Danna, Rob Simonsen]</td>\n      <td>[]</td>\n      <td>[Mason Novick, Mark S. Waters]</td>\n      <td>0.736845</td>\n      <td>0.0</td>\n      <td>2.011784</td>\n      <td>0.518337</td>\n      <td>0.989326</td>\n      <td>0.314074</td>\n      <td>0.618026</td>\n      <td>0.0</td>\n      <td>1.063533</td>\n    </tr>\n  </tbody>\n</table>\n</div>"
     },
     "metadata": {},
     "execution_count": 58
    }
   ],
   "source": [
    "movie_df = movies_f\n",
    "print(movie_df.shape)\n",
    "movie_df.head(1)"
   ]
  },
  {
   "cell_type": "code",
   "execution_count": 59,
   "metadata": {
    "collapsed": true
   },
   "outputs": [],
   "source": [
    "# Entering scores into database\n",
    "def insert_scores_db(tab, peeps_scores):\n",
    "    peeps_scores['Unknown'] = min(peeps_scores.values())\n",
    "    \n",
    "    vals = ''\n",
    "    for key, value in peeps_scores.items(): vals += \"('\" + key + \"',\" + str(value) + '), '\n",
    "    vals = vals[:-2]\n",
    "    \n",
    "    with open('../mysql_cred') as f:\n",
    "        credentials = [x.strip().split(':') for x in f.readlines()]\n",
    "    connection = pymysql.connect(host=credentials[0][0], user=credentials[0][1], password=credentials[0][2], db='movies')\n",
    "    \n",
    "    cur = connection.cursor()\n",
    "    cur.execute(\"drop table if exists %s;\" %(tab))\n",
    "    cur.execute(\"create table %s(name varchar(100), score float);\" %(tab))\n",
    "    cur.execute(\"INSERT INTO %s (name, score) VALUES %s;\" %(tab, vals))\n",
    "    cur.execute('commit;')\n",
    "    print('Inserted', len(peeps_scores), 'values into table:', tab)\n",
    "    cur.close()\n",
    "    connection.close()"
   ]
  },
  {
   "cell_type": "code",
   "execution_count": 60,
   "metadata": {
    "collapsed": false
   },
   "outputs": [],
   "source": [
    "# insert_scores_db('scores_act', mean_act)\n",
    "# insert_scores_db('scores_dir', mean_dir)\n",
    "# insert_scores_db('scores_wri', mean_wri)\n",
    "# insert_scores_db('scores_dis', mean_dis)\n",
    "# insert_scores_db('scores_com', mean_com)\n",
    "# insert_scores_db('scores_cin', mean_cin)\n",
    "# insert_scores_db('scores_pro', mean_pro)"
   ]
  },
  {
   "cell_type": "markdown",
   "metadata": {},
   "source": [
    "## Features Based on Genre Based Best People"
   ]
  },
  {
   "cell_type": "code",
   "execution_count": 61,
   "metadata": {
    "collapsed": true
   },
   "outputs": [],
   "source": [
    "def getGenreBasedPeeps(genre,peeps,n,mean_dict):\n",
    "    genre_cluster_movie = movies_f.loc[movies_f['genre_cluster']==genre]\n",
    "    peep_unq = list(genre_cluster_movie[peeps])\n",
    "    peep_unq = list(set(sum(peep_unq, [])))\n",
    "    peep_unq = [e for e in peep_unq if e not in ('', ' ')]\n",
    "    \n",
    "    score_list = [mean_dict[x] for x in peep_unq]\n",
    "    sorted_idx = [i[0] for i in sorted(enumerate(score_list), key=lambda x:x[1], reverse=True)]\n",
    "    return list(np.array(peep_unq)[sorted_idx][:n])"
   ]
  },
  {
   "cell_type": "code",
   "execution_count": 62,
   "metadata": {
    "collapsed": true
   },
   "outputs": [],
   "source": [
    "# Entering scores into database\n",
    "def insert_genre_peeps_db(tab, peeps_scores):\n",
    "    vals = ''\n",
    "    for item in peeps_scores:\n",
    "        vals += \"('\" + item[0] + \"',\" + str(item[1]) + \",\" + str(item[2]) + \",'\" + item[3] + \"'), \"\n",
    "    vals = vals[:-2]\n",
    "    \n",
    "    with open('../mysql_cred') as f:\n",
    "        credentials = [x.strip().split(':') for x in f.readlines()]\n",
    "    connection = pymysql.connect(host=credentials[0][0], user=credentials[0][1], password=credentials[0][2], db='movies')\n",
    "    \n",
    "    cur = connection.cursor()\n",
    "    cur.execute(\"drop table if exists %s;\" %(tab))\n",
    "    cur.execute(\"create table %s(name varchar(100), score float, cluster int, genre varchar(100));\" %(tab))\n",
    "    cur.execute(\"INSERT INTO %s (name, score, cluster, genre) VALUES %s;\" %(tab, vals))\n",
    "    cur.execute('commit;')\n",
    "    print('Inserted', len(peeps_scores), 'values into table:', tab)\n",
    "    cur.close()\n",
    "    connection.close()"
   ]
  },
  {
   "cell_type": "code",
   "execution_count": 63,
   "metadata": {
    "collapsed": false
   },
   "outputs": [],
   "source": [
    "genre_desc = ['Drama','Parody','Animation','Comedy','Documentary','Action','Romantic Comedy',\n",
    "              'Thriller','Western','Romantic']\n",
    "act_genre_data = []\n",
    "dir_genre_data = []\n",
    "wri_genre_data = []\n",
    "\n",
    "for i in range(1,11):\n",
    "    act_genre = getGenreBasedPeeps(i,'bom_actor_clean',10,mean_act)\n",
    "    dir_genre = getGenreBasedPeeps(i,'bom_director_clean',10,mean_dir)\n",
    "    wri_genre = getGenreBasedPeeps(i,'bom_writer_clean',10,mean_wri)\n",
    "    for actor in act_genre:\n",
    "        act_genre_data.append((actor.strip(),mean_act[actor],i,genre_desc[i-1]))\n",
    "    for director in dir_genre:\n",
    "        dir_genre_data.append((director.strip(),mean_dir[director],i,genre_desc[i-1]))\n",
    "    for writer in wri_genre:\n",
    "        wri_genre_data.append((writer.strip(),mean_wri[writer],i,genre_desc[i-1]))\n",
    "\n",
    "        \n",
    "# insert_genre_peeps_db('best_genre_actors',act_genre_data)\n",
    "# insert_genre_peeps_db('best_genre_directors',dir_genre_data)\n",
    "# insert_genre_peeps_db('best_genre_writers',wri_genre_data)"
   ]
  },
  {
   "cell_type": "code",
   "execution_count": 64,
   "metadata": {
    "collapsed": true
   },
   "outputs": [],
   "source": [
    "#movie_df.to_csv(\"data/bom_final.csv\",index=None)"
   ]
  },
  {
   "cell_type": "markdown",
   "metadata": {},
   "source": [
    "## Segregate Data"
   ]
  },
  {
   "cell_type": "code",
   "execution_count": 65,
   "metadata": {
    "collapsed": true
   },
   "outputs": [],
   "source": [
    "X_budget = np.array(movie_df['bom_budget'])\n",
    "Ks = range(1, 10)\n",
    "kmeans_budget = [KMeans(n_clusters=i, random_state=0) for i in Ks]\n",
    "score_budget = [kmeans_budget[i].fit(X_budget.reshape(-1,1)).score(X_budget.reshape(-1,1)) for i in range(len(kmeans_budget))]"
   ]
  },
  {
   "cell_type": "code",
   "execution_count": 66,
   "metadata": {
    "collapsed": false
   },
   "outputs": [
    {
     "output_type": "execute_result",
     "data": {
      "text/plain": [
       "[-5.220134910564309e+18, -1.6732074932553828e+18]"
      ]
     },
     "metadata": {},
     "execution_count": 66
    }
   ],
   "source": [
    "score_budget[:2]"
   ]
  },
  {
   "cell_type": "code",
   "execution_count": 67,
   "metadata": {
    "collapsed": false
   },
   "outputs": [
    {
     "output_type": "display_data",
     "data": {
      "text/plain": "<Figure size 1200x600 with 1 Axes>",
      "image/svg+xml": "<?xml version=\"1.0\" encoding=\"utf-8\" standalone=\"no\"?>\n<!DOCTYPE svg PUBLIC \"-//W3C//DTD SVG 1.1//EN\"\n  \"http://www.w3.org/Graphics/SVG/1.1/DTD/svg11.dtd\">\n<svg height=\"392.514375pt\" version=\"1.1\" viewBox=\"0 0 719.420312 392.514375\" width=\"719.420312pt\" xmlns=\"http://www.w3.org/2000/svg\" xmlns:xlink=\"http://www.w3.org/1999/xlink\">\n <metadata>\n  <rdf:RDF xmlns:cc=\"http://creativecommons.org/ns#\" xmlns:dc=\"http://purl.org/dc/elements/1.1/\" xmlns:rdf=\"http://www.w3.org/1999/02/22-rdf-syntax-ns#\">\n   <cc:Work>\n    <dc:type rdf:resource=\"http://purl.org/dc/dcmitype/StillImage\"/>\n    <dc:date>2021-05-02T18:48:46.481701</dc:date>\n    <dc:format>image/svg+xml</dc:format>\n    <dc:creator>\n     <cc:Agent>\n      <dc:title>Matplotlib v3.4.1, https://matplotlib.org/</dc:title>\n     </cc:Agent>\n    </dc:creator>\n   </cc:Work>\n  </rdf:RDF>\n </metadata>\n <defs>\n  <style type=\"text/css\">*{stroke-linecap:butt;stroke-linejoin:round;}</style>\n </defs>\n <g id=\"figure_1\">\n  <g id=\"patch_1\">\n   <path d=\"M 0 392.514375 \nL 719.420312 392.514375 \nL 719.420312 0 \nL 0 0 \nz\n\" style=\"fill:#ffffff;\"/>\n  </g>\n  <g id=\"axes_1\">\n   <g id=\"patch_2\">\n    <path d=\"M 42.620313 354.958125 \nL 712.220313 354.958125 \nL 712.220313 22.318125 \nL 42.620313 22.318125 \nz\n\" style=\"fill:#ffffff;\"/>\n   </g>\n   <g id=\"matplotlib.axis_1\">\n    <g id=\"xtick_1\">\n     <g id=\"line2d_1\">\n      <defs>\n       <path d=\"M 0 0 \nL 0 3.5 \n\" id=\"md7372e6afb\" style=\"stroke:#000000;stroke-width:0.8;\"/>\n      </defs>\n      <g>\n       <use style=\"stroke:#000000;stroke-width:0.8;\" x=\"73.056676\" xlink:href=\"#md7372e6afb\" y=\"354.958125\"/>\n      </g>\n     </g>\n     <g id=\"text_1\">\n      <!-- 1 -->\n      <g transform=\"translate(69.875426 369.556562)scale(0.1 -0.1)\">\n       <defs>\n        <path d=\"M 794 531 \nL 1825 531 \nL 1825 4091 \nL 703 3866 \nL 703 4441 \nL 1819 4666 \nL 2450 4666 \nL 2450 531 \nL 3481 531 \nL 3481 0 \nL 794 0 \nL 794 531 \nz\n\" id=\"DejaVuSans-31\" transform=\"scale(0.015625)\"/>\n       </defs>\n       <use xlink:href=\"#DejaVuSans-31\"/>\n      </g>\n     </g>\n    </g>\n    <g id=\"xtick_2\">\n     <g id=\"line2d_2\">\n      <g>\n       <use style=\"stroke:#000000;stroke-width:0.8;\" x=\"149.147585\" xlink:href=\"#md7372e6afb\" y=\"354.958125\"/>\n      </g>\n     </g>\n     <g id=\"text_2\">\n      <!-- 2 -->\n      <g transform=\"translate(145.966335 369.556562)scale(0.1 -0.1)\">\n       <defs>\n        <path d=\"M 1228 531 \nL 3431 531 \nL 3431 0 \nL 469 0 \nL 469 531 \nQ 828 903 1448 1529 \nQ 2069 2156 2228 2338 \nQ 2531 2678 2651 2914 \nQ 2772 3150 2772 3378 \nQ 2772 3750 2511 3984 \nQ 2250 4219 1831 4219 \nQ 1534 4219 1204 4116 \nQ 875 4013 500 3803 \nL 500 4441 \nQ 881 4594 1212 4672 \nQ 1544 4750 1819 4750 \nQ 2544 4750 2975 4387 \nQ 3406 4025 3406 3419 \nQ 3406 3131 3298 2873 \nQ 3191 2616 2906 2266 \nQ 2828 2175 2409 1742 \nQ 1991 1309 1228 531 \nz\n\" id=\"DejaVuSans-32\" transform=\"scale(0.015625)\"/>\n       </defs>\n       <use xlink:href=\"#DejaVuSans-32\"/>\n      </g>\n     </g>\n    </g>\n    <g id=\"xtick_3\">\n     <g id=\"line2d_3\">\n      <g>\n       <use style=\"stroke:#000000;stroke-width:0.8;\" x=\"225.238494\" xlink:href=\"#md7372e6afb\" y=\"354.958125\"/>\n      </g>\n     </g>\n     <g id=\"text_3\">\n      <!-- 3 -->\n      <g transform=\"translate(222.057244 369.556562)scale(0.1 -0.1)\">\n       <defs>\n        <path d=\"M 2597 2516 \nQ 3050 2419 3304 2112 \nQ 3559 1806 3559 1356 \nQ 3559 666 3084 287 \nQ 2609 -91 1734 -91 \nQ 1441 -91 1130 -33 \nQ 819 25 488 141 \nL 488 750 \nQ 750 597 1062 519 \nQ 1375 441 1716 441 \nQ 2309 441 2620 675 \nQ 2931 909 2931 1356 \nQ 2931 1769 2642 2001 \nQ 2353 2234 1838 2234 \nL 1294 2234 \nL 1294 2753 \nL 1863 2753 \nQ 2328 2753 2575 2939 \nQ 2822 3125 2822 3475 \nQ 2822 3834 2567 4026 \nQ 2313 4219 1838 4219 \nQ 1578 4219 1281 4162 \nQ 984 4106 628 3988 \nL 628 4550 \nQ 988 4650 1302 4700 \nQ 1616 4750 1894 4750 \nQ 2613 4750 3031 4423 \nQ 3450 4097 3450 3541 \nQ 3450 3153 3228 2886 \nQ 3006 2619 2597 2516 \nz\n\" id=\"DejaVuSans-33\" transform=\"scale(0.015625)\"/>\n       </defs>\n       <use xlink:href=\"#DejaVuSans-33\"/>\n      </g>\n     </g>\n    </g>\n    <g id=\"xtick_4\">\n     <g id=\"line2d_4\">\n      <g>\n       <use style=\"stroke:#000000;stroke-width:0.8;\" x=\"301.329403\" xlink:href=\"#md7372e6afb\" y=\"354.958125\"/>\n      </g>\n     </g>\n     <g id=\"text_4\">\n      <!-- 4 -->\n      <g transform=\"translate(298.148153 369.556562)scale(0.1 -0.1)\">\n       <defs>\n        <path d=\"M 2419 4116 \nL 825 1625 \nL 2419 1625 \nL 2419 4116 \nz\nM 2253 4666 \nL 3047 4666 \nL 3047 1625 \nL 3713 1625 \nL 3713 1100 \nL 3047 1100 \nL 3047 0 \nL 2419 0 \nL 2419 1100 \nL 313 1100 \nL 313 1709 \nL 2253 4666 \nz\n\" id=\"DejaVuSans-34\" transform=\"scale(0.015625)\"/>\n       </defs>\n       <use xlink:href=\"#DejaVuSans-34\"/>\n      </g>\n     </g>\n    </g>\n    <g id=\"xtick_5\">\n     <g id=\"line2d_5\">\n      <g>\n       <use style=\"stroke:#000000;stroke-width:0.8;\" x=\"377.420313\" xlink:href=\"#md7372e6afb\" y=\"354.958125\"/>\n      </g>\n     </g>\n     <g id=\"text_5\">\n      <!-- 5 -->\n      <g transform=\"translate(374.239063 369.556562)scale(0.1 -0.1)\">\n       <defs>\n        <path d=\"M 691 4666 \nL 3169 4666 \nL 3169 4134 \nL 1269 4134 \nL 1269 2991 \nQ 1406 3038 1543 3061 \nQ 1681 3084 1819 3084 \nQ 2600 3084 3056 2656 \nQ 3513 2228 3513 1497 \nQ 3513 744 3044 326 \nQ 2575 -91 1722 -91 \nQ 1428 -91 1123 -41 \nQ 819 9 494 109 \nL 494 744 \nQ 775 591 1075 516 \nQ 1375 441 1709 441 \nQ 2250 441 2565 725 \nQ 2881 1009 2881 1497 \nQ 2881 1984 2565 2268 \nQ 2250 2553 1709 2553 \nQ 1456 2553 1204 2497 \nQ 953 2441 691 2322 \nL 691 4666 \nz\n\" id=\"DejaVuSans-35\" transform=\"scale(0.015625)\"/>\n       </defs>\n       <use xlink:href=\"#DejaVuSans-35\"/>\n      </g>\n     </g>\n    </g>\n    <g id=\"xtick_6\">\n     <g id=\"line2d_6\">\n      <g>\n       <use style=\"stroke:#000000;stroke-width:0.8;\" x=\"453.511222\" xlink:href=\"#md7372e6afb\" y=\"354.958125\"/>\n      </g>\n     </g>\n     <g id=\"text_6\">\n      <!-- 6 -->\n      <g transform=\"translate(450.329972 369.556562)scale(0.1 -0.1)\">\n       <defs>\n        <path d=\"M 2113 2584 \nQ 1688 2584 1439 2293 \nQ 1191 2003 1191 1497 \nQ 1191 994 1439 701 \nQ 1688 409 2113 409 \nQ 2538 409 2786 701 \nQ 3034 994 3034 1497 \nQ 3034 2003 2786 2293 \nQ 2538 2584 2113 2584 \nz\nM 3366 4563 \nL 3366 3988 \nQ 3128 4100 2886 4159 \nQ 2644 4219 2406 4219 \nQ 1781 4219 1451 3797 \nQ 1122 3375 1075 2522 \nQ 1259 2794 1537 2939 \nQ 1816 3084 2150 3084 \nQ 2853 3084 3261 2657 \nQ 3669 2231 3669 1497 \nQ 3669 778 3244 343 \nQ 2819 -91 2113 -91 \nQ 1303 -91 875 529 \nQ 447 1150 447 2328 \nQ 447 3434 972 4092 \nQ 1497 4750 2381 4750 \nQ 2619 4750 2861 4703 \nQ 3103 4656 3366 4563 \nz\n\" id=\"DejaVuSans-36\" transform=\"scale(0.015625)\"/>\n       </defs>\n       <use xlink:href=\"#DejaVuSans-36\"/>\n      </g>\n     </g>\n    </g>\n    <g id=\"xtick_7\">\n     <g id=\"line2d_7\">\n      <g>\n       <use style=\"stroke:#000000;stroke-width:0.8;\" x=\"529.602131\" xlink:href=\"#md7372e6afb\" y=\"354.958125\"/>\n      </g>\n     </g>\n     <g id=\"text_7\">\n      <!-- 7 -->\n      <g transform=\"translate(526.420881 369.556562)scale(0.1 -0.1)\">\n       <defs>\n        <path d=\"M 525 4666 \nL 3525 4666 \nL 3525 4397 \nL 1831 0 \nL 1172 0 \nL 2766 4134 \nL 525 4134 \nL 525 4666 \nz\n\" id=\"DejaVuSans-37\" transform=\"scale(0.015625)\"/>\n       </defs>\n       <use xlink:href=\"#DejaVuSans-37\"/>\n      </g>\n     </g>\n    </g>\n    <g id=\"xtick_8\">\n     <g id=\"line2d_8\">\n      <g>\n       <use style=\"stroke:#000000;stroke-width:0.8;\" x=\"605.69304\" xlink:href=\"#md7372e6afb\" y=\"354.958125\"/>\n      </g>\n     </g>\n     <g id=\"text_8\">\n      <!-- 8 -->\n      <g transform=\"translate(602.51179 369.556562)scale(0.1 -0.1)\">\n       <defs>\n        <path d=\"M 2034 2216 \nQ 1584 2216 1326 1975 \nQ 1069 1734 1069 1313 \nQ 1069 891 1326 650 \nQ 1584 409 2034 409 \nQ 2484 409 2743 651 \nQ 3003 894 3003 1313 \nQ 3003 1734 2745 1975 \nQ 2488 2216 2034 2216 \nz\nM 1403 2484 \nQ 997 2584 770 2862 \nQ 544 3141 544 3541 \nQ 544 4100 942 4425 \nQ 1341 4750 2034 4750 \nQ 2731 4750 3128 4425 \nQ 3525 4100 3525 3541 \nQ 3525 3141 3298 2862 \nQ 3072 2584 2669 2484 \nQ 3125 2378 3379 2068 \nQ 3634 1759 3634 1313 \nQ 3634 634 3220 271 \nQ 2806 -91 2034 -91 \nQ 1263 -91 848 271 \nQ 434 634 434 1313 \nQ 434 1759 690 2068 \nQ 947 2378 1403 2484 \nz\nM 1172 3481 \nQ 1172 3119 1398 2916 \nQ 1625 2713 2034 2713 \nQ 2441 2713 2670 2916 \nQ 2900 3119 2900 3481 \nQ 2900 3844 2670 4047 \nQ 2441 4250 2034 4250 \nQ 1625 4250 1398 4047 \nQ 1172 3844 1172 3481 \nz\n\" id=\"DejaVuSans-38\" transform=\"scale(0.015625)\"/>\n       </defs>\n       <use xlink:href=\"#DejaVuSans-38\"/>\n      </g>\n     </g>\n    </g>\n    <g id=\"xtick_9\">\n     <g id=\"line2d_9\">\n      <g>\n       <use style=\"stroke:#000000;stroke-width:0.8;\" x=\"681.783949\" xlink:href=\"#md7372e6afb\" y=\"354.958125\"/>\n      </g>\n     </g>\n     <g id=\"text_9\">\n      <!-- 9 -->\n      <g transform=\"translate(678.602699 369.556562)scale(0.1 -0.1)\">\n       <defs>\n        <path d=\"M 703 97 \nL 703 672 \nQ 941 559 1184 500 \nQ 1428 441 1663 441 \nQ 2288 441 2617 861 \nQ 2947 1281 2994 2138 \nQ 2813 1869 2534 1725 \nQ 2256 1581 1919 1581 \nQ 1219 1581 811 2004 \nQ 403 2428 403 3163 \nQ 403 3881 828 4315 \nQ 1253 4750 1959 4750 \nQ 2769 4750 3195 4129 \nQ 3622 3509 3622 2328 \nQ 3622 1225 3098 567 \nQ 2575 -91 1691 -91 \nQ 1453 -91 1209 -44 \nQ 966 3 703 97 \nz\nM 1959 2075 \nQ 2384 2075 2632 2365 \nQ 2881 2656 2881 3163 \nQ 2881 3666 2632 3958 \nQ 2384 4250 1959 4250 \nQ 1534 4250 1286 3958 \nQ 1038 3666 1038 3163 \nQ 1038 2656 1286 2365 \nQ 1534 2075 1959 2075 \nz\n\" id=\"DejaVuSans-39\" transform=\"scale(0.015625)\"/>\n       </defs>\n       <use xlink:href=\"#DejaVuSans-39\"/>\n      </g>\n     </g>\n    </g>\n    <g id=\"text_10\">\n     <!-- No of Clusters -->\n     <g transform=\"translate(342.271875 383.234687)scale(0.1 -0.1)\">\n      <defs>\n       <path d=\"M 628 4666 \nL 1478 4666 \nL 3547 763 \nL 3547 4666 \nL 4159 4666 \nL 4159 0 \nL 3309 0 \nL 1241 3903 \nL 1241 0 \nL 628 0 \nL 628 4666 \nz\n\" id=\"DejaVuSans-4e\" transform=\"scale(0.015625)\"/>\n       <path d=\"M 1959 3097 \nQ 1497 3097 1228 2736 \nQ 959 2375 959 1747 \nQ 959 1119 1226 758 \nQ 1494 397 1959 397 \nQ 2419 397 2687 759 \nQ 2956 1122 2956 1747 \nQ 2956 2369 2687 2733 \nQ 2419 3097 1959 3097 \nz\nM 1959 3584 \nQ 2709 3584 3137 3096 \nQ 3566 2609 3566 1747 \nQ 3566 888 3137 398 \nQ 2709 -91 1959 -91 \nQ 1206 -91 779 398 \nQ 353 888 353 1747 \nQ 353 2609 779 3096 \nQ 1206 3584 1959 3584 \nz\n\" id=\"DejaVuSans-6f\" transform=\"scale(0.015625)\"/>\n       <path id=\"DejaVuSans-20\" transform=\"scale(0.015625)\"/>\n       <path d=\"M 2375 4863 \nL 2375 4384 \nL 1825 4384 \nQ 1516 4384 1395 4259 \nQ 1275 4134 1275 3809 \nL 1275 3500 \nL 2222 3500 \nL 2222 3053 \nL 1275 3053 \nL 1275 0 \nL 697 0 \nL 697 3053 \nL 147 3053 \nL 147 3500 \nL 697 3500 \nL 697 3744 \nQ 697 4328 969 4595 \nQ 1241 4863 1831 4863 \nL 2375 4863 \nz\n\" id=\"DejaVuSans-66\" transform=\"scale(0.015625)\"/>\n       <path d=\"M 4122 4306 \nL 4122 3641 \nQ 3803 3938 3442 4084 \nQ 3081 4231 2675 4231 \nQ 1875 4231 1450 3742 \nQ 1025 3253 1025 2328 \nQ 1025 1406 1450 917 \nQ 1875 428 2675 428 \nQ 3081 428 3442 575 \nQ 3803 722 4122 1019 \nL 4122 359 \nQ 3791 134 3420 21 \nQ 3050 -91 2638 -91 \nQ 1578 -91 968 557 \nQ 359 1206 359 2328 \nQ 359 3453 968 4101 \nQ 1578 4750 2638 4750 \nQ 3056 4750 3426 4639 \nQ 3797 4528 4122 4306 \nz\n\" id=\"DejaVuSans-43\" transform=\"scale(0.015625)\"/>\n       <path d=\"M 603 4863 \nL 1178 4863 \nL 1178 0 \nL 603 0 \nL 603 4863 \nz\n\" id=\"DejaVuSans-6c\" transform=\"scale(0.015625)\"/>\n       <path d=\"M 544 1381 \nL 544 3500 \nL 1119 3500 \nL 1119 1403 \nQ 1119 906 1312 657 \nQ 1506 409 1894 409 \nQ 2359 409 2629 706 \nQ 2900 1003 2900 1516 \nL 2900 3500 \nL 3475 3500 \nL 3475 0 \nL 2900 0 \nL 2900 538 \nQ 2691 219 2414 64 \nQ 2138 -91 1772 -91 \nQ 1169 -91 856 284 \nQ 544 659 544 1381 \nz\nM 1991 3584 \nL 1991 3584 \nz\n\" id=\"DejaVuSans-75\" transform=\"scale(0.015625)\"/>\n       <path d=\"M 2834 3397 \nL 2834 2853 \nQ 2591 2978 2328 3040 \nQ 2066 3103 1784 3103 \nQ 1356 3103 1142 2972 \nQ 928 2841 928 2578 \nQ 928 2378 1081 2264 \nQ 1234 2150 1697 2047 \nL 1894 2003 \nQ 2506 1872 2764 1633 \nQ 3022 1394 3022 966 \nQ 3022 478 2636 193 \nQ 2250 -91 1575 -91 \nQ 1294 -91 989 -36 \nQ 684 19 347 128 \nL 347 722 \nQ 666 556 975 473 \nQ 1284 391 1588 391 \nQ 1994 391 2212 530 \nQ 2431 669 2431 922 \nQ 2431 1156 2273 1281 \nQ 2116 1406 1581 1522 \nL 1381 1569 \nQ 847 1681 609 1914 \nQ 372 2147 372 2553 \nQ 372 3047 722 3315 \nQ 1072 3584 1716 3584 \nQ 2034 3584 2315 3537 \nQ 2597 3491 2834 3397 \nz\n\" id=\"DejaVuSans-73\" transform=\"scale(0.015625)\"/>\n       <path d=\"M 1172 4494 \nL 1172 3500 \nL 2356 3500 \nL 2356 3053 \nL 1172 3053 \nL 1172 1153 \nQ 1172 725 1289 603 \nQ 1406 481 1766 481 \nL 2356 481 \nL 2356 0 \nL 1766 0 \nQ 1100 0 847 248 \nQ 594 497 594 1153 \nL 594 3053 \nL 172 3053 \nL 172 3500 \nL 594 3500 \nL 594 4494 \nL 1172 4494 \nz\n\" id=\"DejaVuSans-74\" transform=\"scale(0.015625)\"/>\n       <path d=\"M 3597 1894 \nL 3597 1613 \nL 953 1613 \nQ 991 1019 1311 708 \nQ 1631 397 2203 397 \nQ 2534 397 2845 478 \nQ 3156 559 3463 722 \nL 3463 178 \nQ 3153 47 2828 -22 \nQ 2503 -91 2169 -91 \nQ 1331 -91 842 396 \nQ 353 884 353 1716 \nQ 353 2575 817 3079 \nQ 1281 3584 2069 3584 \nQ 2775 3584 3186 3129 \nQ 3597 2675 3597 1894 \nz\nM 3022 2063 \nQ 3016 2534 2758 2815 \nQ 2500 3097 2075 3097 \nQ 1594 3097 1305 2825 \nQ 1016 2553 972 2059 \nL 3022 2063 \nz\n\" id=\"DejaVuSans-65\" transform=\"scale(0.015625)\"/>\n       <path d=\"M 2631 2963 \nQ 2534 3019 2420 3045 \nQ 2306 3072 2169 3072 \nQ 1681 3072 1420 2755 \nQ 1159 2438 1159 1844 \nL 1159 0 \nL 581 0 \nL 581 3500 \nL 1159 3500 \nL 1159 2956 \nQ 1341 3275 1631 3429 \nQ 1922 3584 2338 3584 \nQ 2397 3584 2469 3576 \nQ 2541 3569 2628 3553 \nL 2631 2963 \nz\n\" id=\"DejaVuSans-72\" transform=\"scale(0.015625)\"/>\n      </defs>\n      <use xlink:href=\"#DejaVuSans-4e\"/>\n      <use x=\"74.804688\" xlink:href=\"#DejaVuSans-6f\"/>\n      <use x=\"135.986328\" xlink:href=\"#DejaVuSans-20\"/>\n      <use x=\"167.773438\" xlink:href=\"#DejaVuSans-6f\"/>\n      <use x=\"228.955078\" xlink:href=\"#DejaVuSans-66\"/>\n      <use x=\"264.160156\" xlink:href=\"#DejaVuSans-20\"/>\n      <use x=\"295.947266\" xlink:href=\"#DejaVuSans-43\"/>\n      <use x=\"365.771484\" xlink:href=\"#DejaVuSans-6c\"/>\n      <use x=\"393.554688\" xlink:href=\"#DejaVuSans-75\"/>\n      <use x=\"456.933594\" xlink:href=\"#DejaVuSans-73\"/>\n      <use x=\"509.033203\" xlink:href=\"#DejaVuSans-74\"/>\n      <use x=\"548.242188\" xlink:href=\"#DejaVuSans-65\"/>\n      <use x=\"609.765625\" xlink:href=\"#DejaVuSans-72\"/>\n      <use x=\"650.878906\" xlink:href=\"#DejaVuSans-73\"/>\n     </g>\n    </g>\n   </g>\n   <g id=\"matplotlib.axis_2\">\n    <g id=\"ytick_1\">\n     <g id=\"line2d_10\">\n      <defs>\n       <path d=\"M 0 0 \nL -3.5 0 \n\" id=\"m015b0fc8e6\" style=\"stroke:#000000;stroke-width:0.8;\"/>\n      </defs>\n      <g>\n       <use style=\"stroke:#000000;stroke-width:0.8;\" x=\"42.620313\" xlink:href=\"#m015b0fc8e6\" y=\"326.844118\"/>\n      </g>\n     </g>\n     <g id=\"text_11\">\n      <!-- −5 -->\n      <g transform=\"translate(20.878125 330.643336)scale(0.1 -0.1)\">\n       <defs>\n        <path d=\"M 678 2272 \nL 4684 2272 \nL 4684 1741 \nL 678 1741 \nL 678 2272 \nz\n\" id=\"DejaVuSans-2212\" transform=\"scale(0.015625)\"/>\n       </defs>\n       <use xlink:href=\"#DejaVuSans-2212\"/>\n       <use x=\"83.789062\" xlink:href=\"#DejaVuSans-35\"/>\n      </g>\n     </g>\n    </g>\n    <g id=\"ytick_2\">\n     <g id=\"line2d_11\">\n      <g>\n       <use style=\"stroke:#000000;stroke-width:0.8;\" x=\"42.620313\" xlink:href=\"#m015b0fc8e6\" y=\"267.816645\"/>\n      </g>\n     </g>\n     <g id=\"text_12\">\n      <!-- −4 -->\n      <g transform=\"translate(20.878125 271.615864)scale(0.1 -0.1)\">\n       <use xlink:href=\"#DejaVuSans-2212\"/>\n       <use x=\"83.789062\" xlink:href=\"#DejaVuSans-34\"/>\n      </g>\n     </g>\n    </g>\n    <g id=\"ytick_3\">\n     <g id=\"line2d_12\">\n      <g>\n       <use style=\"stroke:#000000;stroke-width:0.8;\" x=\"42.620313\" xlink:href=\"#m015b0fc8e6\" y=\"208.789173\"/>\n      </g>\n     </g>\n     <g id=\"text_13\">\n      <!-- −3 -->\n      <g transform=\"translate(20.878125 212.588392)scale(0.1 -0.1)\">\n       <use xlink:href=\"#DejaVuSans-2212\"/>\n       <use x=\"83.789062\" xlink:href=\"#DejaVuSans-33\"/>\n      </g>\n     </g>\n    </g>\n    <g id=\"ytick_4\">\n     <g id=\"line2d_13\">\n      <g>\n       <use style=\"stroke:#000000;stroke-width:0.8;\" x=\"42.620313\" xlink:href=\"#m015b0fc8e6\" y=\"149.761701\"/>\n      </g>\n     </g>\n     <g id=\"text_14\">\n      <!-- −2 -->\n      <g transform=\"translate(20.878125 153.56092)scale(0.1 -0.1)\">\n       <use xlink:href=\"#DejaVuSans-2212\"/>\n       <use x=\"83.789062\" xlink:href=\"#DejaVuSans-32\"/>\n      </g>\n     </g>\n    </g>\n    <g id=\"ytick_5\">\n     <g id=\"line2d_14\">\n      <g>\n       <use style=\"stroke:#000000;stroke-width:0.8;\" x=\"42.620313\" xlink:href=\"#m015b0fc8e6\" y=\"90.734229\"/>\n      </g>\n     </g>\n     <g id=\"text_15\">\n      <!-- −1 -->\n      <g transform=\"translate(20.878125 94.533448)scale(0.1 -0.1)\">\n       <use xlink:href=\"#DejaVuSans-2212\"/>\n       <use x=\"83.789062\" xlink:href=\"#DejaVuSans-31\"/>\n      </g>\n     </g>\n    </g>\n    <g id=\"ytick_6\">\n     <g id=\"line2d_15\">\n      <g>\n       <use style=\"stroke:#000000;stroke-width:0.8;\" x=\"42.620313\" xlink:href=\"#m015b0fc8e6\" y=\"31.706757\"/>\n      </g>\n     </g>\n     <g id=\"text_16\">\n      <!-- 0 -->\n      <g transform=\"translate(29.257813 35.505975)scale(0.1 -0.1)\">\n       <defs>\n        <path d=\"M 2034 4250 \nQ 1547 4250 1301 3770 \nQ 1056 3291 1056 2328 \nQ 1056 1369 1301 889 \nQ 1547 409 2034 409 \nQ 2525 409 2770 889 \nQ 3016 1369 3016 2328 \nQ 3016 3291 2770 3770 \nQ 2525 4250 2034 4250 \nz\nM 2034 4750 \nQ 2819 4750 3233 4129 \nQ 3647 3509 3647 2328 \nQ 3647 1150 3233 529 \nQ 2819 -91 2034 -91 \nQ 1250 -91 836 529 \nQ 422 1150 422 2328 \nQ 422 3509 836 4129 \nQ 1250 4750 2034 4750 \nz\n\" id=\"DejaVuSans-30\" transform=\"scale(0.015625)\"/>\n       </defs>\n       <use xlink:href=\"#DejaVuSans-30\"/>\n      </g>\n     </g>\n    </g>\n    <g id=\"text_17\">\n     <!-- Fit Score -->\n     <g transform=\"translate(14.798438 210.092031)rotate(-90)scale(0.1 -0.1)\">\n      <defs>\n       <path d=\"M 628 4666 \nL 3309 4666 \nL 3309 4134 \nL 1259 4134 \nL 1259 2759 \nL 3109 2759 \nL 3109 2228 \nL 1259 2228 \nL 1259 0 \nL 628 0 \nL 628 4666 \nz\n\" id=\"DejaVuSans-46\" transform=\"scale(0.015625)\"/>\n       <path d=\"M 603 3500 \nL 1178 3500 \nL 1178 0 \nL 603 0 \nL 603 3500 \nz\nM 603 4863 \nL 1178 4863 \nL 1178 4134 \nL 603 4134 \nL 603 4863 \nz\n\" id=\"DejaVuSans-69\" transform=\"scale(0.015625)\"/>\n       <path d=\"M 3425 4513 \nL 3425 3897 \nQ 3066 4069 2747 4153 \nQ 2428 4238 2131 4238 \nQ 1616 4238 1336 4038 \nQ 1056 3838 1056 3469 \nQ 1056 3159 1242 3001 \nQ 1428 2844 1947 2747 \nL 2328 2669 \nQ 3034 2534 3370 2195 \nQ 3706 1856 3706 1288 \nQ 3706 609 3251 259 \nQ 2797 -91 1919 -91 \nQ 1588 -91 1214 -16 \nQ 841 59 441 206 \nL 441 856 \nQ 825 641 1194 531 \nQ 1563 422 1919 422 \nQ 2459 422 2753 634 \nQ 3047 847 3047 1241 \nQ 3047 1584 2836 1778 \nQ 2625 1972 2144 2069 \nL 1759 2144 \nQ 1053 2284 737 2584 \nQ 422 2884 422 3419 \nQ 422 4038 858 4394 \nQ 1294 4750 2059 4750 \nQ 2388 4750 2728 4690 \nQ 3069 4631 3425 4513 \nz\n\" id=\"DejaVuSans-53\" transform=\"scale(0.015625)\"/>\n       <path d=\"M 3122 3366 \nL 3122 2828 \nQ 2878 2963 2633 3030 \nQ 2388 3097 2138 3097 \nQ 1578 3097 1268 2742 \nQ 959 2388 959 1747 \nQ 959 1106 1268 751 \nQ 1578 397 2138 397 \nQ 2388 397 2633 464 \nQ 2878 531 3122 666 \nL 3122 134 \nQ 2881 22 2623 -34 \nQ 2366 -91 2075 -91 \nQ 1284 -91 818 406 \nQ 353 903 353 1747 \nQ 353 2603 823 3093 \nQ 1294 3584 2113 3584 \nQ 2378 3584 2631 3529 \nQ 2884 3475 3122 3366 \nz\n\" id=\"DejaVuSans-63\" transform=\"scale(0.015625)\"/>\n      </defs>\n      <use xlink:href=\"#DejaVuSans-46\"/>\n      <use x=\"50.269531\" xlink:href=\"#DejaVuSans-69\"/>\n      <use x=\"78.052734\" xlink:href=\"#DejaVuSans-74\"/>\n      <use x=\"117.261719\" xlink:href=\"#DejaVuSans-20\"/>\n      <use x=\"149.048828\" xlink:href=\"#DejaVuSans-53\"/>\n      <use x=\"212.525391\" xlink:href=\"#DejaVuSans-63\"/>\n      <use x=\"267.505859\" xlink:href=\"#DejaVuSans-6f\"/>\n      <use x=\"328.6875\" xlink:href=\"#DejaVuSans-72\"/>\n      <use x=\"367.550781\" xlink:href=\"#DejaVuSans-65\"/>\n     </g>\n    </g>\n    <g id=\"text_18\">\n     <!-- 1e18 -->\n     <g transform=\"translate(42.620313 19.318125)scale(0.1 -0.1)\">\n      <use xlink:href=\"#DejaVuSans-31\"/>\n      <use x=\"63.623047\" xlink:href=\"#DejaVuSans-65\"/>\n      <use x=\"125.146484\" xlink:href=\"#DejaVuSans-31\"/>\n      <use x=\"188.769531\" xlink:href=\"#DejaVuSans-38\"/>\n     </g>\n    </g>\n   </g>\n   <g id=\"line2d_16\">\n    <path clip-path=\"url(#p3f6e11cd23)\" d=\"M 73.056676 339.838125 \nL 149.147585 130.471965 \nL 225.238494 75.346551 \nL 301.329403 60.452139 \nL 377.420313 49.907378 \nL 453.511222 44.376779 \nL 529.602131 41.211562 \nL 605.69304 38.998424 \nL 681.783949 37.438125 \n\" style=\"fill:none;stroke:#1f77b4;stroke-linecap:square;stroke-width:1.5;\"/>\n   </g>\n   <g id=\"line2d_17\">\n    <defs>\n     <path d=\"M 0 3 \nC 0.795609 3 1.55874 2.683901 2.12132 2.12132 \nC 2.683901 1.55874 3 0.795609 3 0 \nC 3 -0.795609 2.683901 -1.55874 2.12132 -2.12132 \nC 1.55874 -2.683901 0.795609 -3 0 -3 \nC -0.795609 -3 -1.55874 -2.683901 -2.12132 -2.12132 \nC -2.683901 -1.55874 -3 -0.795609 -3 0 \nC -3 0.795609 -2.683901 1.55874 -2.12132 2.12132 \nC -1.55874 2.683901 -0.795609 3 0 3 \nz\n\" id=\"mb0c1fe5bdf\" style=\"stroke:#ff0000;\"/>\n    </defs>\n    <g clip-path=\"url(#p3f6e11cd23)\">\n     <use style=\"fill:#ff0000;stroke:#ff0000;\" x=\"73.056676\" xlink:href=\"#mb0c1fe5bdf\" y=\"339.838125\"/>\n     <use style=\"fill:#ff0000;stroke:#ff0000;\" x=\"149.147585\" xlink:href=\"#mb0c1fe5bdf\" y=\"130.471965\"/>\n     <use style=\"fill:#ff0000;stroke:#ff0000;\" x=\"225.238494\" xlink:href=\"#mb0c1fe5bdf\" y=\"75.346551\"/>\n     <use style=\"fill:#ff0000;stroke:#ff0000;\" x=\"301.329403\" xlink:href=\"#mb0c1fe5bdf\" y=\"60.452139\"/>\n     <use style=\"fill:#ff0000;stroke:#ff0000;\" x=\"377.420313\" xlink:href=\"#mb0c1fe5bdf\" y=\"49.907378\"/>\n     <use style=\"fill:#ff0000;stroke:#ff0000;\" x=\"453.511222\" xlink:href=\"#mb0c1fe5bdf\" y=\"44.376779\"/>\n     <use style=\"fill:#ff0000;stroke:#ff0000;\" x=\"529.602131\" xlink:href=\"#mb0c1fe5bdf\" y=\"41.211562\"/>\n     <use style=\"fill:#ff0000;stroke:#ff0000;\" x=\"605.69304\" xlink:href=\"#mb0c1fe5bdf\" y=\"38.998424\"/>\n     <use style=\"fill:#ff0000;stroke:#ff0000;\" x=\"681.783949\" xlink:href=\"#mb0c1fe5bdf\" y=\"37.438125\"/>\n    </g>\n   </g>\n   <g id=\"patch_3\">\n    <path d=\"M 42.620313 354.958125 \nL 42.620313 22.318125 \n\" style=\"fill:none;stroke:#000000;stroke-linecap:square;stroke-linejoin:miter;stroke-width:0.8;\"/>\n   </g>\n   <g id=\"patch_4\">\n    <path d=\"M 712.220313 354.958125 \nL 712.220313 22.318125 \n\" style=\"fill:none;stroke:#000000;stroke-linecap:square;stroke-linejoin:miter;stroke-width:0.8;\"/>\n   </g>\n   <g id=\"patch_5\">\n    <path d=\"M 42.620313 354.958125 \nL 712.220313 354.958125 \n\" style=\"fill:none;stroke:#000000;stroke-linecap:square;stroke-linejoin:miter;stroke-width:0.8;\"/>\n   </g>\n   <g id=\"patch_6\">\n    <path d=\"M 42.620313 22.318125 \nL 712.220313 22.318125 \n\" style=\"fill:none;stroke:#000000;stroke-linecap:square;stroke-linejoin:miter;stroke-width:0.8;\"/>\n   </g>\n   <g id=\"text_19\">\n    <!-- Determining Budget Clusters -->\n    <g transform=\"translate(290.294688 16.318125)scale(0.12 -0.12)\">\n     <defs>\n      <path d=\"M 1259 4147 \nL 1259 519 \nL 2022 519 \nQ 2988 519 3436 956 \nQ 3884 1394 3884 2338 \nQ 3884 3275 3436 3711 \nQ 2988 4147 2022 4147 \nL 1259 4147 \nz\nM 628 4666 \nL 1925 4666 \nQ 3281 4666 3915 4102 \nQ 4550 3538 4550 2338 \nQ 4550 1131 3912 565 \nQ 3275 0 1925 0 \nL 628 0 \nL 628 4666 \nz\n\" id=\"DejaVuSans-44\" transform=\"scale(0.015625)\"/>\n      <path d=\"M 3328 2828 \nQ 3544 3216 3844 3400 \nQ 4144 3584 4550 3584 \nQ 5097 3584 5394 3201 \nQ 5691 2819 5691 2113 \nL 5691 0 \nL 5113 0 \nL 5113 2094 \nQ 5113 2597 4934 2840 \nQ 4756 3084 4391 3084 \nQ 3944 3084 3684 2787 \nQ 3425 2491 3425 1978 \nL 3425 0 \nL 2847 0 \nL 2847 2094 \nQ 2847 2600 2669 2842 \nQ 2491 3084 2119 3084 \nQ 1678 3084 1418 2786 \nQ 1159 2488 1159 1978 \nL 1159 0 \nL 581 0 \nL 581 3500 \nL 1159 3500 \nL 1159 2956 \nQ 1356 3278 1631 3431 \nQ 1906 3584 2284 3584 \nQ 2666 3584 2933 3390 \nQ 3200 3197 3328 2828 \nz\n\" id=\"DejaVuSans-6d\" transform=\"scale(0.015625)\"/>\n      <path d=\"M 3513 2113 \nL 3513 0 \nL 2938 0 \nL 2938 2094 \nQ 2938 2591 2744 2837 \nQ 2550 3084 2163 3084 \nQ 1697 3084 1428 2787 \nQ 1159 2491 1159 1978 \nL 1159 0 \nL 581 0 \nL 581 3500 \nL 1159 3500 \nL 1159 2956 \nQ 1366 3272 1645 3428 \nQ 1925 3584 2291 3584 \nQ 2894 3584 3203 3211 \nQ 3513 2838 3513 2113 \nz\n\" id=\"DejaVuSans-6e\" transform=\"scale(0.015625)\"/>\n      <path d=\"M 2906 1791 \nQ 2906 2416 2648 2759 \nQ 2391 3103 1925 3103 \nQ 1463 3103 1205 2759 \nQ 947 2416 947 1791 \nQ 947 1169 1205 825 \nQ 1463 481 1925 481 \nQ 2391 481 2648 825 \nQ 2906 1169 2906 1791 \nz\nM 3481 434 \nQ 3481 -459 3084 -895 \nQ 2688 -1331 1869 -1331 \nQ 1566 -1331 1297 -1286 \nQ 1028 -1241 775 -1147 \nL 775 -588 \nQ 1028 -725 1275 -790 \nQ 1522 -856 1778 -856 \nQ 2344 -856 2625 -561 \nQ 2906 -266 2906 331 \nL 2906 616 \nQ 2728 306 2450 153 \nQ 2172 0 1784 0 \nQ 1141 0 747 490 \nQ 353 981 353 1791 \nQ 353 2603 747 3093 \nQ 1141 3584 1784 3584 \nQ 2172 3584 2450 3431 \nQ 2728 3278 2906 2969 \nL 2906 3500 \nL 3481 3500 \nL 3481 434 \nz\n\" id=\"DejaVuSans-67\" transform=\"scale(0.015625)\"/>\n      <path d=\"M 1259 2228 \nL 1259 519 \nL 2272 519 \nQ 2781 519 3026 730 \nQ 3272 941 3272 1375 \nQ 3272 1813 3026 2020 \nQ 2781 2228 2272 2228 \nL 1259 2228 \nz\nM 1259 4147 \nL 1259 2741 \nL 2194 2741 \nQ 2656 2741 2882 2914 \nQ 3109 3088 3109 3444 \nQ 3109 3797 2882 3972 \nQ 2656 4147 2194 4147 \nL 1259 4147 \nz\nM 628 4666 \nL 2241 4666 \nQ 2963 4666 3353 4366 \nQ 3744 4066 3744 3513 \nQ 3744 3084 3544 2831 \nQ 3344 2578 2956 2516 \nQ 3422 2416 3680 2098 \nQ 3938 1781 3938 1306 \nQ 3938 681 3513 340 \nQ 3088 0 2303 0 \nL 628 0 \nL 628 4666 \nz\n\" id=\"DejaVuSans-42\" transform=\"scale(0.015625)\"/>\n      <path d=\"M 2906 2969 \nL 2906 4863 \nL 3481 4863 \nL 3481 0 \nL 2906 0 \nL 2906 525 \nQ 2725 213 2448 61 \nQ 2172 -91 1784 -91 \nQ 1150 -91 751 415 \nQ 353 922 353 1747 \nQ 353 2572 751 3078 \nQ 1150 3584 1784 3584 \nQ 2172 3584 2448 3432 \nQ 2725 3281 2906 2969 \nz\nM 947 1747 \nQ 947 1113 1208 752 \nQ 1469 391 1925 391 \nQ 2381 391 2643 752 \nQ 2906 1113 2906 1747 \nQ 2906 2381 2643 2742 \nQ 2381 3103 1925 3103 \nQ 1469 3103 1208 2742 \nQ 947 2381 947 1747 \nz\n\" id=\"DejaVuSans-64\" transform=\"scale(0.015625)\"/>\n     </defs>\n     <use xlink:href=\"#DejaVuSans-44\"/>\n     <use x=\"77.001953\" xlink:href=\"#DejaVuSans-65\"/>\n     <use x=\"138.525391\" xlink:href=\"#DejaVuSans-74\"/>\n     <use x=\"177.734375\" xlink:href=\"#DejaVuSans-65\"/>\n     <use x=\"239.257812\" xlink:href=\"#DejaVuSans-72\"/>\n     <use x=\"278.621094\" xlink:href=\"#DejaVuSans-6d\"/>\n     <use x=\"376.033203\" xlink:href=\"#DejaVuSans-69\"/>\n     <use x=\"403.816406\" xlink:href=\"#DejaVuSans-6e\"/>\n     <use x=\"467.195312\" xlink:href=\"#DejaVuSans-69\"/>\n     <use x=\"494.978516\" xlink:href=\"#DejaVuSans-6e\"/>\n     <use x=\"558.357422\" xlink:href=\"#DejaVuSans-67\"/>\n     <use x=\"621.833984\" xlink:href=\"#DejaVuSans-20\"/>\n     <use x=\"653.621094\" xlink:href=\"#DejaVuSans-42\"/>\n     <use x=\"722.224609\" xlink:href=\"#DejaVuSans-75\"/>\n     <use x=\"785.603516\" xlink:href=\"#DejaVuSans-64\"/>\n     <use x=\"849.080078\" xlink:href=\"#DejaVuSans-67\"/>\n     <use x=\"912.556641\" xlink:href=\"#DejaVuSans-65\"/>\n     <use x=\"974.080078\" xlink:href=\"#DejaVuSans-74\"/>\n     <use x=\"1013.289062\" xlink:href=\"#DejaVuSans-20\"/>\n     <use x=\"1045.076172\" xlink:href=\"#DejaVuSans-43\"/>\n     <use x=\"1114.900391\" xlink:href=\"#DejaVuSans-6c\"/>\n     <use x=\"1142.683594\" xlink:href=\"#DejaVuSans-75\"/>\n     <use x=\"1206.0625\" xlink:href=\"#DejaVuSans-73\"/>\n     <use x=\"1258.162109\" xlink:href=\"#DejaVuSans-74\"/>\n     <use x=\"1297.371094\" xlink:href=\"#DejaVuSans-65\"/>\n     <use x=\"1358.894531\" xlink:href=\"#DejaVuSans-72\"/>\n     <use x=\"1400.007812\" xlink:href=\"#DejaVuSans-73\"/>\n    </g>\n   </g>\n  </g>\n </g>\n <defs>\n  <clipPath id=\"p3f6e11cd23\">\n   <rect height=\"332.64\" width=\"669.6\" x=\"42.620313\" y=\"22.318125\"/>\n  </clipPath>\n </defs>\n</svg>\n",
      "image/png": "[encoded data removed]"
     },
     "metadata": {}
    }
   ],
   "source": [
    "plt.figure(figsize=(12, 6))\n",
    "plt.plot(Ks,score_budget)\n",
    "plt.xlabel('No of Clusters')\n",
    "plt.ylabel('Fit Score')\n",
    "plt.title('Determining Budget Clusters')\n",
    "plt.plot(Ks, score_budget, 'ro')\n",
    "plt.show()"
   ]
  },
  {
   "cell_type": "code",
   "execution_count": 68,
   "metadata": {
    "collapsed": false
   },
   "outputs": [
    {
     "output_type": "execute_result",
     "data": {
      "text/plain": [
       "array([1, 1, 0, ..., 1, 1, 2], dtype=int32)"
      ]
     },
     "metadata": {},
     "execution_count": 68
    }
   ],
   "source": [
    "kmeans_budget[3].fit(X_budget.reshape(-1,1)).labels_"
   ]
  },
  {
   "cell_type": "code",
   "execution_count": 69,
   "metadata": {
    "collapsed": true
   },
   "outputs": [],
   "source": [
    "movie_df_1 = movie_df\n",
    "movie_df_1['budget_cluster'] = kmeans_budget[2].labels_\n",
    "movie_df_2 = movie_df_1.reset_index()"
   ]
  },
  {
   "cell_type": "code",
   "execution_count": 70,
   "metadata": {
    "collapsed": true
   },
   "outputs": [],
   "source": [
    "low_budget_df = movie_df_2.loc[movie_df_2['budget_cluster'] == 0]\n",
    "mid_budget_df = movie_df_2.loc[movie_df_2['budget_cluster'] == 1]\n",
    "high_budget_df = movie_df_2.loc[movie_df_2['budget_cluster'] == 2]"
   ]
  },
  {
   "cell_type": "markdown",
   "metadata": {},
   "source": [
    "## Data Build-up for Modeling"
   ]
  },
  {
   "cell_type": "code",
   "execution_count": 71,
   "metadata": {
    "collapsed": true
   },
   "outputs": [],
   "source": [
    "#Normalizing the features\n",
    "def standardize(raw_data):\n",
    "    return ((raw_data - np.mean(raw_data, axis = 0)) / np.std(raw_data, axis = 0))\n",
    "\n",
    "def standardize_features(t):\n",
    "    cols = ['bom_budget',\"bom_awards_scr\",\"actor_score\",\"director_score\",\"writer_score\",\n",
    "                           \"distributor_score\", \"composer_score\", \"cinematographer_score\", \"producer_score\"]\n",
    "    # Normalizing the features\n",
    "    for c in cols:\n",
    "        t[c]=standardize(t[c])\n",
    "    return t"
   ]
  },
  {
   "cell_type": "code",
   "execution_count": 72,
   "metadata": {
    "collapsed": true
   },
   "outputs": [],
   "source": [
    "def lable_encode(t):\n",
    "    cat = t[[\"release_month\",\"release_week_of_the_year\",\"release_quarter\",\"release_day_of_the_year\",\n",
    "        \"mpaa_rating\",\"holiday_season\",\"genre_cluster\"]]\n",
    "    \n",
    "    le=LabelEncoder()\n",
    "    # Iterating over all the common columns in train and test\n",
    "    for col in cat.columns.values:\n",
    "        # Encoding only categorical variables\n",
    "        if t[col].dtypes==\"object\":\n",
    "        # Using whole data to form an exhaustive list of levels\n",
    "            data=t[col]\n",
    "            le.fit(data.values)\n",
    "            t[col]=le.transform(t[col])\n",
    "    return t"
   ]
  },
  {
   "cell_type": "code",
   "execution_count": 73,
   "metadata": {
    "collapsed": true
   },
   "outputs": [],
   "source": [
    "def clean_up_low_budget(t):\n",
    "    t = t.fillna(\"\")\n",
    "    t.loc[t.release_quarter == \"\",'release_quarter']= t.loc[t.release_quarter==\"\",'release_quarter'].apply(\n",
    "        lambda x: float(x.replace('', '0')))\n",
    "    t.loc[t.mpaa_rating == \"\",'mpaa_rating']= t.loc[t.mpaa_rating==\"\",'mpaa_rating'].apply(lambda x: float(\n",
    "            x.replace('', '7')))\n",
    "    t.loc[t.holiday_season == \"\",'holiday_season']= t.loc[t.holiday_season==\"\",'holiday_season'].apply(\n",
    "        lambda x: float(x.replace('', '0')))\n",
    "    return t"
   ]
  },
  {
   "cell_type": "code",
   "execution_count": 74,
   "metadata": {
    "collapsed": true
   },
   "outputs": [],
   "source": [
    "def data_build_up(t):\n",
    "    t = t.reset_index(drop=True)\n",
    "    t['bom_budget'] = t['bom_budget'].astype(float)\n",
    "    t['bom_worldwide_revenue'] = t['bom_worldwide_revenue'].astype(float)\n",
    "    t['revenue'] = t['revenue'].astype(float)\n",
    "    if(t['budget_cluster'].all() == 0):\n",
    "        t = clean_up_low_budget(t)\n",
    "    t = lable_encode(t)\n",
    "    t = standardize_features(t)\n",
    "    return t"
   ]
  },
  {
   "cell_type": "code",
   "execution_count": 75,
   "metadata": {
    "collapsed": true
   },
   "outputs": [],
   "source": [
    "low_budget_df = data_build_up(low_budget_df)\n",
    "mid_budget_df = data_build_up(mid_budget_df)\n",
    "high_budget_df = data_build_up(high_budget_df)"
   ]
  },
  {
   "cell_type": "code",
   "execution_count": 76,
   "metadata": {
    "collapsed": false
   },
   "outputs": [
    {
     "output_type": "execute_result",
     "data": {
      "text/plain": [
       "level_0                        int64\n",
       "index                          int64\n",
       "key_bom                       object\n",
       "bom_title                     object\n",
       "bom_budget                   float64\n",
       "bom_worldwide_revenue        float64\n",
       "revenue                      float64\n",
       "bom_release_date              object\n",
       "release_month                  int64\n",
       "release_quarter                int64\n",
       "release_day_of_the_year        int64\n",
       "release_week_of_the_year       int64\n",
       "release_year                  object\n",
       "bom_runtime                   object\n",
       "runtime                      float64\n",
       "bom_awards                    object\n",
       "bom_awards_scr               float64\n",
       "holiday_season                 int64\n",
       "bom_rating                    object\n",
       "mpaa_rating                    int64\n",
       "genre_cluster                float64\n",
       "bom_genre                     object\n",
       "bom_actor_clean               object\n",
       "bom_director_clean            object\n",
       "bom_writer_clean              object\n",
       "bom_distributor_clean         object\n",
       "bom_composer_clean            object\n",
       "bom_cinematographer_clean     object\n",
       "bom_producer_clean            object\n",
       "revenue_norm                 float64\n",
       "bom_awards_scr_norm          float64\n",
       "actor_score                  float64\n",
       "director_score               float64\n",
       "writer_score                 float64\n",
       "distributor_score            float64\n",
       "composer_score               float64\n",
       "cinematographer_score        float64\n",
       "producer_score               float64\n",
       "budget_cluster                 int32\n",
       "dtype: object"
      ]
     },
     "metadata": {},
     "execution_count": 76
    }
   ],
   "source": [
    "low_budget_df.dtypes"
   ]
  },
  {
   "cell_type": "markdown",
   "metadata": {},
   "source": [
    "## Serializing Data"
   ]
  },
  {
   "cell_type": "code",
   "execution_count": 77,
   "metadata": {
    "collapsed": true
   },
   "outputs": [],
   "source": [
    "pickle.dump(final_genre_model, open('model/genre.mprophet','wb'), protocol=0)\n",
    "pickle.dump(omdb_genre_learning_table[0:0], open('data/genre_df.mprophetdata','wb'), protocol=0)"
   ]
  },
  {
   "cell_type": "code",
   "execution_count": 78,
   "metadata": {
    "collapsed": true
   },
   "outputs": [],
   "source": [
    "pickle.dump(low_budget_df, open('data/low_budget.mprophetdata','wb'), protocol=0)"
   ]
  },
  {
   "cell_type": "code",
   "execution_count": 79,
   "metadata": {
    "collapsed": true
   },
   "outputs": [],
   "source": [
    "pickle.dump(mid_budget_df, open('data/mid_budget.mprophetdata','wb'), protocol=0)"
   ]
  },
  {
   "cell_type": "code",
   "execution_count": 80,
   "metadata": {
    "collapsed": true
   },
   "outputs": [],
   "source": [
    "pickle.dump(high_budget_df, open('data/high_budget.mprophetdata','wb'), protocol=0)"
   ]
  }
 ],
 "metadata": {
  "kernelspec": {
   "name": "python373jvsc74a57bd0c8f19750b2200a6e4d43e1b45902b88ee96da27b74ef37b498b4a29abaf8dcfc",
   "display_name": "Python 3.7.3 64-bit ('py37_venv_mp')"
  },
  "language_info": {
   "codemirror_mode": {
    "name": "ipython",
    "version": 3
   },
   "file_extension": ".py",
   "mimetype": "text/x-python",
   "name": "python",
   "nbconvert_exporter": "python",
   "pygments_lexer": "ipython3",
   "version": "3.7.3"
  },
  "metadata": {
   "interpreter": {
    "hash": "c8f19750b2200a6e4d43e1b45902b88ee96da27b74ef37b498b4a29abaf8dcfc"
   }
  }
 },
 "nbformat": 4,
 "nbformat_minor": 1
}